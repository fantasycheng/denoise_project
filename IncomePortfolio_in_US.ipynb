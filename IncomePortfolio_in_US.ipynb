{
 "cells": [
  {
   "cell_type": "code",
   "execution_count": 1,
   "id": "f104b611-6b38-4e49-83b1-e8b9bcfd6d79",
   "metadata": {},
   "outputs": [],
   "source": [
    "import pandas as pd\n",
    "import numpy as np\n",
    "import plotly.express as px\n",
    "import matplotlib.pyplot as plt\n",
    "import yfinance as yf\n",
    "import plotly.express as px\n",
    "from pypfopt import risk_models, expected_returns, plotting, EfficientFrontier\n",
    "from dateutil.relativedelta import relativedelta\n",
    "import datetime as dt"
   ]
  },
  {
   "cell_type": "code",
   "execution_count": 2,
   "id": "f40ba66c",
   "metadata": {},
   "outputs": [],
   "source": [
    "frac_ticks_df = pd.read_csv('frac_ticks.csv')\n",
    "frac_ticks_df = frac_ticks_df[frac_ticks_df.ticker_type == 'etf']\n",
    "frac_ticks_df = frac_ticks_df[frac_ticks_df.symbol.notna()]\n",
    "frac_ticks = frac_ticks_df.symbol.to_list()"
   ]
  },
  {
   "cell_type": "code",
   "execution_count": 3,
   "id": "e7453d3a",
   "metadata": {},
   "outputs": [],
   "source": [
    "frac_ticks_info_df = pd.read_csv('frac_ticks_infos.csv')\n",
    "\n",
    "cols = ['symbol', 'name', 'FUND_TOTAL_ASSETS', 'FUND_LEVERAGE', 'FUND_ASSET_CLASS_FOCUS', 'FUND_MGR_STATED_FEE', 'INVERSE_FUND_INDICATOR']\n",
    "frac_ticks_info_df = frac_ticks_info_df[cols]\n",
    "frac_ticks_info_df = frac_ticks_info_df[frac_ticks_info_df.FUND_LEVERAGE == 'N']\n",
    "frac_ticks_info_df = frac_ticks_info_df[frac_ticks_info_df.INVERSE_FUND_INDICATOR == 'N']\n",
    "frac_ticks_info_df.drop(['FUND_LEVERAGE', 'INVERSE_FUND_INDICATOR'], axis=1, inplace=True)\n",
    "frac_ticks_info_df.set_index('symbol', inplace=True)\n",
    "\n",
    "bond_ticks = frac_ticks_info_df[frac_ticks_info_df.FUND_ASSET_CLASS_FOCUS == 'Fixed Income'].index.to_list()\n",
    "equity_ticks = frac_ticks_info_df[frac_ticks_info_df.FUND_ASSET_CLASS_FOCUS == 'Equity'].index.to_list()"
   ]
  },
  {
   "cell_type": "code",
   "execution_count": 9,
   "id": "d0d2f784",
   "metadata": {},
   "outputs": [],
   "source": [
    "aum_top200 = frac_ticks_info_df.sort_values('FUND_TOTAL_ASSETS', ascending=False).head(200).index"
   ]
  },
  {
   "cell_type": "code",
   "execution_count": 4,
   "id": "6f7bec3c",
   "metadata": {},
   "outputs": [
    {
     "name": "stdout",
     "output_type": "stream",
     "text": [
      "[*********************100%***********************]  897 of 897 completed\n"
     ]
    }
   ],
   "source": [
    "tickers = yf.Tickers(frac_ticks)\n",
    "tickers_data = tickers.download(period='30y')\n",
    "dvd_rate = tickers_data['Dividends'] / tickers_data['Close']\n",
    "dvd_rate = dvd_rate[(dvd_rate > 0).sum(axis=1) != 0]"
   ]
  },
  {
   "cell_type": "code",
   "execution_count": 7,
   "id": "eccc7dec",
   "metadata": {},
   "outputs": [],
   "source": []
  },
  {
   "cell_type": "code",
   "execution_count": 8,
   "id": "81df64af",
   "metadata": {},
   "outputs": [],
   "source": [
    "yearly_rates = []\n",
    "for symbol in dvd_rate.columns:\n",
    "    yearly_rates.append(dvd_rate[symbol].dropna().resample('m').sum().rolling(12).sum())\n",
    "yearly_rates = pd.concat(yearly_rates, axis=1)"
   ]
  },
  {
   "cell_type": "code",
   "execution_count": null,
   "id": "685f1a04",
   "metadata": {},
   "outputs": [],
   "source": []
  },
  {
   "cell_type": "code",
   "execution_count": 6,
   "id": "5b9132d9",
   "metadata": {},
   "outputs": [
    {
     "name": "stderr",
     "output_type": "stream",
     "text": [
      "/var/folders/df/58mn713n66n7_8qfjg_nl_qw0000gn/T/ipykernel_76372/468369057.py:5: RuntimeWarning: invalid value encountered in double_scalars\n",
      "  dvd_sharpe = mean / rate.std()\n"
     ]
    }
   ],
   "source": [
    "dvd_sharpes = pd.DataFrame(index=yearly_rates.columns, columns=['mean', 'sharpe'])\n",
    "for symbol in yearly_rates.columns:\n",
    "    rate = yearly_rates[symbol].dropna()\n",
    "    mean = rate.mean()\n",
    "    dvd_sharpe = mean / rate.std()\n",
    "    dvd_sharpes.loc[symbol, 'mean'] = mean\n",
    "    dvd_sharpes.loc[symbol, 'sharpe'] = dvd_sharpe"
   ]
  },
  {
   "cell_type": "code",
   "execution_count": 7,
   "id": "82aa230e",
   "metadata": {},
   "outputs": [
    {
     "data": {
      "text/plain": [
       "mean      0.024368\n",
       "sharpe      2.7358\n",
       "Name: BNDX, dtype: object"
      ]
     },
     "execution_count": 7,
     "metadata": {},
     "output_type": "execute_result"
    }
   ],
   "source": [
    "dvd_sharpes.loc['BNDX']"
   ]
  },
  {
   "cell_type": "code",
   "execution_count": 10,
   "id": "884b3433",
   "metadata": {},
   "outputs": [],
   "source": [
    "dvd_sharpe_top50 = set(dvd_sharpes.loc[aum_top200].sort_values('sharpe', ascending=False).dropna().head(50).index)\n",
    "dvd_mean_top50 = set(dvd_sharpes.loc[aum_top200].sort_values('mean', ascending=False).dropna().head(50).index)\n",
    "select_ticks = dvd_mean_top50.union(dvd_sharpe_top50)"
   ]
  },
  {
   "cell_type": "code",
   "execution_count": 11,
   "id": "daf4f5f3",
   "metadata": {},
   "outputs": [
    {
     "name": "stderr",
     "output_type": "stream",
     "text": [
      "/var/folders/df/58mn713n66n7_8qfjg_nl_qw0000gn/T/ipykernel_76372/2321399404.py:1: FutureWarning: Passing a set as an indexer is deprecated and will raise in a future version. Use a list instead.\n",
      "  frac_ticks_info_df = pd.concat([frac_ticks_info_df, dvd_sharpes.loc[select_ticks]], axis=1, join='inner')\n"
     ]
    }
   ],
   "source": [
    "frac_ticks_info_df = pd.concat([frac_ticks_info_df, dvd_sharpes.loc[select_ticks]], axis=1, join='inner')"
   ]
  },
  {
   "cell_type": "code",
   "execution_count": 13,
   "id": "7f5b914e",
   "metadata": {},
   "outputs": [
    {
     "data": {
      "text/html": [
       "<div>\n",
       "<style scoped>\n",
       "    .dataframe tbody tr th:only-of-type {\n",
       "        vertical-align: middle;\n",
       "    }\n",
       "\n",
       "    .dataframe tbody tr th {\n",
       "        vertical-align: top;\n",
       "    }\n",
       "\n",
       "    .dataframe thead th {\n",
       "        text-align: right;\n",
       "    }\n",
       "</style>\n",
       "<table border=\"1\" class=\"dataframe\">\n",
       "  <thead>\n",
       "    <tr style=\"text-align: right;\">\n",
       "      <th></th>\n",
       "      <th>name</th>\n",
       "      <th>FUND_TOTAL_ASSETS</th>\n",
       "      <th>FUND_ASSET_CLASS_FOCUS</th>\n",
       "      <th>FUND_MGR_STATED_FEE</th>\n",
       "      <th>mean</th>\n",
       "      <th>sharpe</th>\n",
       "    </tr>\n",
       "  </thead>\n",
       "  <tbody>\n",
       "    <tr>\n",
       "      <th>BND</th>\n",
       "      <td>先锋领航总体债券市场ETF</td>\n",
       "      <td>92509.203130</td>\n",
       "      <td>Fixed Income</td>\n",
       "      <td>0.03</td>\n",
       "      <td>0.038997</td>\n",
       "      <td>2.699961</td>\n",
       "    </tr>\n",
       "    <tr>\n",
       "      <th>AGG</th>\n",
       "      <td>iShares安硕核心美国综合债券ETF</td>\n",
       "      <td>91135.765630</td>\n",
       "      <td>Fixed Income</td>\n",
       "      <td>0.03</td>\n",
       "      <td>0.043243</td>\n",
       "      <td>2.201737</td>\n",
       "    </tr>\n",
       "    <tr>\n",
       "      <th>VCIT</th>\n",
       "      <td>领航长期公司债券ETF</td>\n",
       "      <td>39859.968750</td>\n",
       "      <td>Fixed Income</td>\n",
       "      <td>0.03</td>\n",
       "      <td>0.043611</td>\n",
       "      <td>3.893585</td>\n",
       "    </tr>\n",
       "    <tr>\n",
       "      <th>TLT</th>\n",
       "      <td>iShares安硕20年期以上美国国债</td>\n",
       "      <td>38589.863280</td>\n",
       "      <td>Fixed Income</td>\n",
       "      <td>0.15</td>\n",
       "      <td>0.047666</td>\n",
       "      <td>1.91342</td>\n",
       "    </tr>\n",
       "    <tr>\n",
       "      <th>VCSH</th>\n",
       "      <td>先锋领航短期公司债ETF</td>\n",
       "      <td>35520.644530</td>\n",
       "      <td>Fixed Income</td>\n",
       "      <td>0.05</td>\n",
       "      <td>0.026207</td>\n",
       "      <td>6.207261</td>\n",
       "    </tr>\n",
       "    <tr>\n",
       "      <th>LQD</th>\n",
       "      <td>iShares安硕iBoxx美元投资级公司</td>\n",
       "      <td>35345.113280</td>\n",
       "      <td>Fixed Income</td>\n",
       "      <td>0.14</td>\n",
       "      <td>0.06731</td>\n",
       "      <td>1.875944</td>\n",
       "    </tr>\n",
       "    <tr>\n",
       "      <th>MUB</th>\n",
       "      <td>iShares安硕国家地方债ETF</td>\n",
       "      <td>32281.121090</td>\n",
       "      <td>Fixed Income</td>\n",
       "      <td>0.07</td>\n",
       "      <td>0.033773</td>\n",
       "      <td>2.976492</td>\n",
       "    </tr>\n",
       "    <tr>\n",
       "      <th>IEF</th>\n",
       "      <td>iShares安硕7-10年国债ETF</td>\n",
       "      <td>28449.472660</td>\n",
       "      <td>Fixed Income</td>\n",
       "      <td>0.15</td>\n",
       "      <td>0.038468</td>\n",
       "      <td>1.497606</td>\n",
       "    </tr>\n",
       "    <tr>\n",
       "      <th>VTEB</th>\n",
       "      <td>领航免税债券指数ETF</td>\n",
       "      <td>27017.960000</td>\n",
       "      <td>Fixed Income</td>\n",
       "      <td>0.06</td>\n",
       "      <td>0.021597</td>\n",
       "      <td>6.986444</td>\n",
       "    </tr>\n",
       "    <tr>\n",
       "      <th>MBB</th>\n",
       "      <td>iShares安硕抵押担保证券ETF</td>\n",
       "      <td>26600.097660</td>\n",
       "      <td>Fixed Income</td>\n",
       "      <td>0.04</td>\n",
       "      <td>0.034776</td>\n",
       "      <td>1.820851</td>\n",
       "    </tr>\n",
       "    <tr>\n",
       "      <th>IUSB</th>\n",
       "      <td>安硕核心总美元债券市场ETF</td>\n",
       "      <td>22575.375000</td>\n",
       "      <td>Fixed Income</td>\n",
       "      <td>0.06</td>\n",
       "      <td>0.027924</td>\n",
       "      <td>5.407074</td>\n",
       "    </tr>\n",
       "    <tr>\n",
       "      <th>TIP</th>\n",
       "      <td>iShares安硕TIPS债券ETF</td>\n",
       "      <td>21821.558590</td>\n",
       "      <td>Fixed Income</td>\n",
       "      <td>0.19</td>\n",
       "      <td>0.043713</td>\n",
       "      <td>1.577728</td>\n",
       "    </tr>\n",
       "    <tr>\n",
       "      <th>HYG</th>\n",
       "      <td>iShares安硕iBoxx高收益公司债ET</td>\n",
       "      <td>15492.330000</td>\n",
       "      <td>Fixed Income</td>\n",
       "      <td>0.48</td>\n",
       "      <td>0.109055</td>\n",
       "      <td>1.768411</td>\n",
       "    </tr>\n",
       "    <tr>\n",
       "      <th>BIV</th>\n",
       "      <td>先锋领航中期债券ETF</td>\n",
       "      <td>15045.840000</td>\n",
       "      <td>Fixed Income</td>\n",
       "      <td>0.04</td>\n",
       "      <td>0.048314</td>\n",
       "      <td>2.549045</td>\n",
       "    </tr>\n",
       "    <tr>\n",
       "      <th>EMB</th>\n",
       "      <td>iShares安硕摩根大通美元新兴市</td>\n",
       "      <td>14336.957030</td>\n",
       "      <td>Fixed Income</td>\n",
       "      <td>0.39</td>\n",
       "      <td>0.071129</td>\n",
       "      <td>3.252868</td>\n",
       "    </tr>\n",
       "    <tr>\n",
       "      <th>PFF</th>\n",
       "      <td>iShares安硕优先股和收益证券ETF</td>\n",
       "      <td>12758.880000</td>\n",
       "      <td>Fixed Income</td>\n",
       "      <td>0.45</td>\n",
       "      <td>0.106956</td>\n",
       "      <td>2.009002</td>\n",
       "    </tr>\n",
       "    <tr>\n",
       "      <th>IGIB</th>\n",
       "      <td>iShares安硕5-10年投资级公司债E</td>\n",
       "      <td>11500.340000</td>\n",
       "      <td>Fixed Income</td>\n",
       "      <td>0.06</td>\n",
       "      <td>0.043928</td>\n",
       "      <td>2.462658</td>\n",
       "    </tr>\n",
       "    <tr>\n",
       "      <th>USIG</th>\n",
       "      <td>iShares安硕广泛美元投资级公司</td>\n",
       "      <td>8976.540000</td>\n",
       "      <td>Fixed Income</td>\n",
       "      <td>0.04</td>\n",
       "      <td>0.049653</td>\n",
       "      <td>2.485946</td>\n",
       "    </tr>\n",
       "    <tr>\n",
       "      <th>USHY</th>\n",
       "      <td>iShares Broad USD High Yield C</td>\n",
       "      <td>8782.674000</td>\n",
       "      <td>Fixed Income</td>\n",
       "      <td>0.22</td>\n",
       "      <td>0.068251</td>\n",
       "      <td>8.293841</td>\n",
       "    </tr>\n",
       "    <tr>\n",
       "      <th>JNK</th>\n",
       "      <td>SPDR彭博高收益债券ETF</td>\n",
       "      <td>8281.984375</td>\n",
       "      <td>Fixed Income</td>\n",
       "      <td>0.40</td>\n",
       "      <td>0.128719</td>\n",
       "      <td>1.436013</td>\n",
       "    </tr>\n",
       "    <tr>\n",
       "      <th>SCHZ</th>\n",
       "      <td>Schwab美国综合债券ETF</td>\n",
       "      <td>7046.143000</td>\n",
       "      <td>Fixed Income</td>\n",
       "      <td>0.03</td>\n",
       "      <td>0.026607</td>\n",
       "      <td>9.420849</td>\n",
       "    </tr>\n",
       "    <tr>\n",
       "      <th>SPAB</th>\n",
       "      <td>SPDR投资组合综合债券ETF</td>\n",
       "      <td>6763.212000</td>\n",
       "      <td>Fixed Income</td>\n",
       "      <td>0.03</td>\n",
       "      <td>0.039416</td>\n",
       "      <td>2.330193</td>\n",
       "    </tr>\n",
       "    <tr>\n",
       "      <th>SPTL</th>\n",
       "      <td>SPDR投资组合长期国债ETF</td>\n",
       "      <td>6739.417000</td>\n",
       "      <td>Fixed Income</td>\n",
       "      <td>0.06</td>\n",
       "      <td>0.036538</td>\n",
       "      <td>2.488507</td>\n",
       "    </tr>\n",
       "    <tr>\n",
       "      <th>SPIB</th>\n",
       "      <td>SPDR投资组合中期公司债券ETF</td>\n",
       "      <td>6171.519531</td>\n",
       "      <td>Fixed Income</td>\n",
       "      <td>0.04</td>\n",
       "      <td>0.037134</td>\n",
       "      <td>2.97514</td>\n",
       "    </tr>\n",
       "    <tr>\n",
       "      <th>VCLT</th>\n",
       "      <td>领航长期公司债ETF</td>\n",
       "      <td>5992.274000</td>\n",
       "      <td>Fixed Income</td>\n",
       "      <td>0.03</td>\n",
       "      <td>0.05834</td>\n",
       "      <td>3.444167</td>\n",
       "    </tr>\n",
       "  </tbody>\n",
       "</table>\n",
       "</div>"
      ],
      "text/plain": [
       "                                name  FUND_TOTAL_ASSETS  \\\n",
       "BND                    先锋领航总体债券市场ETF       92509.203130   \n",
       "AGG             iShares安硕核心美国综合债券ETF       91135.765630   \n",
       "VCIT                     领航长期公司债券ETF       39859.968750   \n",
       "TLT              iShares安硕20年期以上美国国债       38589.863280   \n",
       "VCSH                    先锋领航短期公司债ETF       35520.644530   \n",
       "LQD            iShares安硕iBoxx美元投资级公司       35345.113280   \n",
       "MUB                iShares安硕国家地方债ETF       32281.121090   \n",
       "IEF              iShares安硕7-10年国债ETF       28449.472660   \n",
       "VTEB                     领航免税债券指数ETF       27017.960000   \n",
       "MBB               iShares安硕抵押担保证券ETF       26600.097660   \n",
       "IUSB                  安硕核心总美元债券市场ETF       22575.375000   \n",
       "TIP               iShares安硕TIPS债券ETF       21821.558590   \n",
       "HYG           iShares安硕iBoxx高收益公司债ET       15492.330000   \n",
       "BIV                      先锋领航中期债券ETF       15045.840000   \n",
       "EMB               iShares安硕摩根大通美元新兴市       14336.957030   \n",
       "PFF             iShares安硕优先股和收益证券ETF       12758.880000   \n",
       "IGIB           iShares安硕5-10年投资级公司债E       11500.340000   \n",
       "USIG              iShares安硕广泛美元投资级公司        8976.540000   \n",
       "USHY  iShares Broad USD High Yield C        8782.674000   \n",
       "JNK                   SPDR彭博高收益债券ETF        8281.984375   \n",
       "SCHZ                 Schwab美国综合债券ETF        7046.143000   \n",
       "SPAB                 SPDR投资组合综合债券ETF        6763.212000   \n",
       "SPTL                 SPDR投资组合长期国债ETF        6739.417000   \n",
       "SPIB               SPDR投资组合中期公司债券ETF        6171.519531   \n",
       "VCLT                      领航长期公司债ETF        5992.274000   \n",
       "\n",
       "     FUND_ASSET_CLASS_FOCUS  FUND_MGR_STATED_FEE      mean    sharpe  \n",
       "BND            Fixed Income                 0.03  0.038997  2.699961  \n",
       "AGG            Fixed Income                 0.03  0.043243  2.201737  \n",
       "VCIT           Fixed Income                 0.03  0.043611  3.893585  \n",
       "TLT            Fixed Income                 0.15  0.047666   1.91342  \n",
       "VCSH           Fixed Income                 0.05  0.026207  6.207261  \n",
       "LQD            Fixed Income                 0.14   0.06731  1.875944  \n",
       "MUB            Fixed Income                 0.07  0.033773  2.976492  \n",
       "IEF            Fixed Income                 0.15  0.038468  1.497606  \n",
       "VTEB           Fixed Income                 0.06  0.021597  6.986444  \n",
       "MBB            Fixed Income                 0.04  0.034776  1.820851  \n",
       "IUSB           Fixed Income                 0.06  0.027924  5.407074  \n",
       "TIP            Fixed Income                 0.19  0.043713  1.577728  \n",
       "HYG            Fixed Income                 0.48  0.109055  1.768411  \n",
       "BIV            Fixed Income                 0.04  0.048314  2.549045  \n",
       "EMB            Fixed Income                 0.39  0.071129  3.252868  \n",
       "PFF            Fixed Income                 0.45  0.106956  2.009002  \n",
       "IGIB           Fixed Income                 0.06  0.043928  2.462658  \n",
       "USIG           Fixed Income                 0.04  0.049653  2.485946  \n",
       "USHY           Fixed Income                 0.22  0.068251  8.293841  \n",
       "JNK            Fixed Income                 0.40  0.128719  1.436013  \n",
       "SCHZ           Fixed Income                 0.03  0.026607  9.420849  \n",
       "SPAB           Fixed Income                 0.03  0.039416  2.330193  \n",
       "SPTL           Fixed Income                 0.06  0.036538  2.488507  \n",
       "SPIB           Fixed Income                 0.04  0.037134   2.97514  \n",
       "VCLT           Fixed Income                 0.03   0.05834  3.444167  "
      ]
     },
     "execution_count": 13,
     "metadata": {},
     "output_type": "execute_result"
    }
   ],
   "source": [
    "frac_ticks_info_df[frac_ticks_info_df.FUND_ASSET_CLASS_FOCUS == 'Fixed Income']"
   ]
  },
  {
   "cell_type": "code",
   "execution_count": null,
   "id": "fcfc3e18",
   "metadata": {},
   "outputs": [],
   "source": []
  },
  {
   "cell_type": "code",
   "execution_count": 14,
   "id": "f2d71b55",
   "metadata": {},
   "outputs": [],
   "source": [
    "start_date = tickers_data['Volume'].apply(lambda x: x.dropna().index.min(), axis=0)\n",
    "start_date.name = 'start_date'"
   ]
  },
  {
   "cell_type": "code",
   "execution_count": 15,
   "id": "7ce92e25",
   "metadata": {},
   "outputs": [],
   "source": [
    "mean_volume = tickers_data['Volume'].dropna(how='any').mean(axis=0)\n",
    "mean_volume.name = 'mean_volume'"
   ]
  },
  {
   "cell_type": "code",
   "execution_count": 15,
   "id": "ee7af2ce",
   "metadata": {},
   "outputs": [],
   "source": [
    "yearly_dvd_rate = dvd_rate.resample('Y').sum()"
   ]
  },
  {
   "cell_type": "code",
   "execution_count": 16,
   "id": "c256fb71",
   "metadata": {},
   "outputs": [
    {
     "name": "stderr",
     "output_type": "stream",
     "text": [
      "/var/folders/df/58mn713n66n7_8qfjg_nl_qw0000gn/T/ipykernel_76372/2900413593.py:1: FutureWarning: The default dtype for empty Series will be 'object' instead of 'float64' in a future version. Specify a dtype explicitly to silence this warning.\n",
      "  mean_dvd_rates = pd.Series(index=dvd_rate.columns, name='dvd_rate')\n"
     ]
    }
   ],
   "source": [
    "mean_dvd_rates = pd.Series(index=dvd_rate.columns, name='dvd_rate')\n",
    "for symbol in dvd_rate.columns:\n",
    "    mean_dvd_rate = dvd_rate[symbol].dropna().resample('Y').sum().mean()\n",
    "    mean_dvd_rates.loc[symbol] = mean_dvd_rate\n"
   ]
  },
  {
   "cell_type": "code",
   "execution_count": 17,
   "id": "146489e8",
   "metadata": {},
   "outputs": [],
   "source": [
    "frac_ticks_df.set_index('symbol', inplace=True)"
   ]
  },
  {
   "cell_type": "code",
   "execution_count": 18,
   "id": "b28b4502",
   "metadata": {},
   "outputs": [],
   "source": [
    "frac_ticks_df = pd.concat([frac_ticks_df, mean_dvd_rates], axis=1)"
   ]
  },
  {
   "cell_type": "code",
   "execution_count": 19,
   "id": "fa7c424a",
   "metadata": {},
   "outputs": [],
   "source": [
    "frac_ticks_df = pd.concat([frac_ticks_df, start_date], axis=1)\n",
    "# frac_ticks_df.sort_values('dvd_rate', ascending=False).head(20)"
   ]
  },
  {
   "cell_type": "code",
   "execution_count": 20,
   "id": "9e32ad1c",
   "metadata": {},
   "outputs": [
    {
     "data": {
      "text/html": [
       "<div>\n",
       "<style scoped>\n",
       "    .dataframe tbody tr th:only-of-type {\n",
       "        vertical-align: middle;\n",
       "    }\n",
       "\n",
       "    .dataframe tbody tr th {\n",
       "        vertical-align: top;\n",
       "    }\n",
       "\n",
       "    .dataframe thead th {\n",
       "        text-align: right;\n",
       "    }\n",
       "</style>\n",
       "<table border=\"1\" class=\"dataframe\">\n",
       "  <thead>\n",
       "    <tr style=\"text-align: right;\">\n",
       "      <th></th>\n",
       "      <th>ticker_type</th>\n",
       "      <th>ticker_id</th>\n",
       "      <th>name</th>\n",
       "      <th>dvd_rate</th>\n",
       "      <th>start_date</th>\n",
       "      <th>mean_volume</th>\n",
       "    </tr>\n",
       "  </thead>\n",
       "  <tbody>\n",
       "    <tr>\n",
       "      <th>XLG</th>\n",
       "      <td>etf</td>\n",
       "      <td>913243920</td>\n",
       "      <td>Invesco S&amp;P 500 Top 50 ETF</td>\n",
       "      <td>1.593061</td>\n",
       "      <td>2005-05-10</td>\n",
       "      <td>7.716266e+05</td>\n",
       "    </tr>\n",
       "    <tr>\n",
       "      <th>AMZA</th>\n",
       "      <td>etf</td>\n",
       "      <td>913243441</td>\n",
       "      <td>InfraCap MLP ETF</td>\n",
       "      <td>0.291252</td>\n",
       "      <td>2014-10-02</td>\n",
       "      <td>7.518506e+04</td>\n",
       "    </tr>\n",
       "    <tr>\n",
       "      <th>REM</th>\n",
       "      <td>etf</td>\n",
       "      <td>913244609</td>\n",
       "      <td>iShares Mortgage Real Estate ETF</td>\n",
       "      <td>0.279144</td>\n",
       "      <td>2007-05-04</td>\n",
       "      <td>1.078811e+06</td>\n",
       "    </tr>\n",
       "    <tr>\n",
       "      <th>PRF</th>\n",
       "      <td>etf</td>\n",
       "      <td>913244564</td>\n",
       "      <td>Invesco FTSE RAFI US 1000 ETF</td>\n",
       "      <td>0.217821</td>\n",
       "      <td>2005-12-20</td>\n",
       "      <td>7.764398e+05</td>\n",
       "    </tr>\n",
       "    <tr>\n",
       "      <th>KBWD</th>\n",
       "      <td>etf</td>\n",
       "      <td>913243184</td>\n",
       "      <td>Invesco KBW High Dividend Yield Financial ETF</td>\n",
       "      <td>0.160611</td>\n",
       "      <td>2010-12-02</td>\n",
       "      <td>1.185739e+05</td>\n",
       "    </tr>\n",
       "    <tr>\n",
       "      <th>YYY</th>\n",
       "      <td>etf</td>\n",
       "      <td>913246366</td>\n",
       "      <td>Amplify High Income ETF</td>\n",
       "      <td>0.157026</td>\n",
       "      <td>2012-06-12</td>\n",
       "      <td>1.510701e+05</td>\n",
       "    </tr>\n",
       "    <tr>\n",
       "      <th>QYLD</th>\n",
       "      <td>etf</td>\n",
       "      <td>913246309</td>\n",
       "      <td>Global X NASDAQ 100 Covered Call ETF</td>\n",
       "      <td>0.155992</td>\n",
       "      <td>2013-12-12</td>\n",
       "      <td>5.154497e+06</td>\n",
       "    </tr>\n",
       "    <tr>\n",
       "      <th>BIZD</th>\n",
       "      <td>etf</td>\n",
       "      <td>913243022</td>\n",
       "      <td>VanEck BDC Income ETF</td>\n",
       "      <td>0.138899</td>\n",
       "      <td>2013-02-12</td>\n",
       "      <td>2.901029e+05</td>\n",
       "    </tr>\n",
       "    <tr>\n",
       "      <th>PCEF</th>\n",
       "      <td>etf</td>\n",
       "      <td>913247160</td>\n",
       "      <td>Invesco CEF Income Composite ETF</td>\n",
       "      <td>0.135912</td>\n",
       "      <td>2010-02-19</td>\n",
       "      <td>1.617058e+05</td>\n",
       "    </tr>\n",
       "    <tr>\n",
       "      <th>RYLD</th>\n",
       "      <td>etf</td>\n",
       "      <td>950122535</td>\n",
       "      <td>Global X Russell 2000 Covered Call ETF</td>\n",
       "      <td>0.131385</td>\n",
       "      <td>2019-04-22</td>\n",
       "      <td>8.657983e+05</td>\n",
       "    </tr>\n",
       "    <tr>\n",
       "      <th>SDIV</th>\n",
       "      <td>etf</td>\n",
       "      <td>913246439</td>\n",
       "      <td>Global X Superdividend ETF</td>\n",
       "      <td>0.128506</td>\n",
       "      <td>2011-06-09</td>\n",
       "      <td>1.960704e+05</td>\n",
       "    </tr>\n",
       "    <tr>\n",
       "      <th>JNK</th>\n",
       "      <td>etf</td>\n",
       "      <td>913247556</td>\n",
       "      <td>SPDR Bloomberg High Yield Bond ETF</td>\n",
       "      <td>0.120774</td>\n",
       "      <td>2007-12-04</td>\n",
       "      <td>1.087163e+07</td>\n",
       "    </tr>\n",
       "    <tr>\n",
       "      <th>AMLP</th>\n",
       "      <td>etf</td>\n",
       "      <td>913245861</td>\n",
       "      <td>Alerian MLP ETF</td>\n",
       "      <td>0.119870</td>\n",
       "      <td>2010-08-25</td>\n",
       "      <td>2.722110e+06</td>\n",
       "    </tr>\n",
       "    <tr>\n",
       "      <th>MLPA</th>\n",
       "      <td>etf</td>\n",
       "      <td>913243038</td>\n",
       "      <td>Global X MLP ETF</td>\n",
       "      <td>0.114604</td>\n",
       "      <td>2012-04-19</td>\n",
       "      <td>2.278693e+05</td>\n",
       "    </tr>\n",
       "    <tr>\n",
       "      <th>HEDJ</th>\n",
       "      <td>etf</td>\n",
       "      <td>913244981</td>\n",
       "      <td>WisdomTree Europe Hedged Equity Fund</td>\n",
       "      <td>0.108685</td>\n",
       "      <td>2010-01-15</td>\n",
       "      <td>1.937220e+05</td>\n",
       "    </tr>\n",
       "    <tr>\n",
       "      <th>PFFA</th>\n",
       "      <td>etf</td>\n",
       "      <td>950055620</td>\n",
       "      <td>Virtus InfraCap U.S. Preferred Stock ETF</td>\n",
       "      <td>0.106665</td>\n",
       "      <td>2018-05-16</td>\n",
       "      <td>1.642519e+05</td>\n",
       "    </tr>\n",
       "    <tr>\n",
       "      <th>HYG</th>\n",
       "      <td>etf</td>\n",
       "      <td>913242920</td>\n",
       "      <td>iShares iBoxx $ High Yield Corporate Bond ETF</td>\n",
       "      <td>0.105661</td>\n",
       "      <td>2007-04-11</td>\n",
       "      <td>4.094820e+07</td>\n",
       "    </tr>\n",
       "    <tr>\n",
       "      <th>PGF</th>\n",
       "      <td>etf</td>\n",
       "      <td>913247043</td>\n",
       "      <td>Invesco Financial Preferred ETF</td>\n",
       "      <td>0.105511</td>\n",
       "      <td>2006-12-01</td>\n",
       "      <td>5.031461e+05</td>\n",
       "    </tr>\n",
       "    <tr>\n",
       "      <th>PFF</th>\n",
       "      <td>etf</td>\n",
       "      <td>950001535</td>\n",
       "      <td>iShares Preferred &amp; Income Securities ETF</td>\n",
       "      <td>0.103712</td>\n",
       "      <td>2007-03-30</td>\n",
       "      <td>4.490449e+06</td>\n",
       "    </tr>\n",
       "    <tr>\n",
       "      <th>SRET</th>\n",
       "      <td>etf</td>\n",
       "      <td>913246375</td>\n",
       "      <td>Global X SuperDividend REIT ETF</td>\n",
       "      <td>0.103708</td>\n",
       "      <td>2015-03-17</td>\n",
       "      <td>5.597454e+04</td>\n",
       "    </tr>\n",
       "  </tbody>\n",
       "</table>\n",
       "</div>"
      ],
      "text/plain": [
       "     ticker_type  ticker_id                                           name  \\\n",
       "XLG          etf  913243920                     Invesco S&P 500 Top 50 ETF   \n",
       "AMZA         etf  913243441                               InfraCap MLP ETF   \n",
       "REM          etf  913244609               iShares Mortgage Real Estate ETF   \n",
       "PRF          etf  913244564                  Invesco FTSE RAFI US 1000 ETF   \n",
       "KBWD         etf  913243184  Invesco KBW High Dividend Yield Financial ETF   \n",
       "YYY          etf  913246366                        Amplify High Income ETF   \n",
       "QYLD         etf  913246309           Global X NASDAQ 100 Covered Call ETF   \n",
       "BIZD         etf  913243022                          VanEck BDC Income ETF   \n",
       "PCEF         etf  913247160               Invesco CEF Income Composite ETF   \n",
       "RYLD         etf  950122535         Global X Russell 2000 Covered Call ETF   \n",
       "SDIV         etf  913246439                     Global X Superdividend ETF   \n",
       "JNK          etf  913247556             SPDR Bloomberg High Yield Bond ETF   \n",
       "AMLP         etf  913245861                                Alerian MLP ETF   \n",
       "MLPA         etf  913243038                               Global X MLP ETF   \n",
       "HEDJ         etf  913244981           WisdomTree Europe Hedged Equity Fund   \n",
       "PFFA         etf  950055620       Virtus InfraCap U.S. Preferred Stock ETF   \n",
       "HYG          etf  913242920  iShares iBoxx $ High Yield Corporate Bond ETF   \n",
       "PGF          etf  913247043                Invesco Financial Preferred ETF   \n",
       "PFF          etf  950001535      iShares Preferred & Income Securities ETF   \n",
       "SRET         etf  913246375                Global X SuperDividend REIT ETF   \n",
       "\n",
       "      dvd_rate start_date   mean_volume  \n",
       "XLG   1.593061 2005-05-10  7.716266e+05  \n",
       "AMZA  0.291252 2014-10-02  7.518506e+04  \n",
       "REM   0.279144 2007-05-04  1.078811e+06  \n",
       "PRF   0.217821 2005-12-20  7.764398e+05  \n",
       "KBWD  0.160611 2010-12-02  1.185739e+05  \n",
       "YYY   0.157026 2012-06-12  1.510701e+05  \n",
       "QYLD  0.155992 2013-12-12  5.154497e+06  \n",
       "BIZD  0.138899 2013-02-12  2.901029e+05  \n",
       "PCEF  0.135912 2010-02-19  1.617058e+05  \n",
       "RYLD  0.131385 2019-04-22  8.657983e+05  \n",
       "SDIV  0.128506 2011-06-09  1.960704e+05  \n",
       "JNK   0.120774 2007-12-04  1.087163e+07  \n",
       "AMLP  0.119870 2010-08-25  2.722110e+06  \n",
       "MLPA  0.114604 2012-04-19  2.278693e+05  \n",
       "HEDJ  0.108685 2010-01-15  1.937220e+05  \n",
       "PFFA  0.106665 2018-05-16  1.642519e+05  \n",
       "HYG   0.105661 2007-04-11  4.094820e+07  \n",
       "PGF   0.105511 2006-12-01  5.031461e+05  \n",
       "PFF   0.103712 2007-03-30  4.490449e+06  \n",
       "SRET  0.103708 2015-03-17  5.597454e+04  "
      ]
     },
     "execution_count": 20,
     "metadata": {},
     "output_type": "execute_result"
    }
   ],
   "source": [
    "frac_ticks_df = pd.concat([frac_ticks_df, mean_volume], axis=1)\n",
    "frac_ticks_df.sort_values('dvd_rate', ascending=False).head(20)"
   ]
  },
  {
   "cell_type": "code",
   "execution_count": 24,
   "id": "8acdb89d",
   "metadata": {},
   "outputs": [
    {
     "data": {
      "text/html": [
       "<div>\n",
       "<style scoped>\n",
       "    .dataframe tbody tr th:only-of-type {\n",
       "        vertical-align: middle;\n",
       "    }\n",
       "\n",
       "    .dataframe tbody tr th {\n",
       "        vertical-align: top;\n",
       "    }\n",
       "\n",
       "    .dataframe thead th {\n",
       "        text-align: right;\n",
       "    }\n",
       "</style>\n",
       "<table border=\"1\" class=\"dataframe\">\n",
       "  <thead>\n",
       "    <tr style=\"text-align: right;\">\n",
       "      <th></th>\n",
       "      <th>ticker_type</th>\n",
       "      <th>ticker_id</th>\n",
       "      <th>name</th>\n",
       "      <th>dvd_rate</th>\n",
       "      <th>start_date</th>\n",
       "      <th>mean_volume</th>\n",
       "    </tr>\n",
       "  </thead>\n",
       "  <tbody>\n",
       "    <tr>\n",
       "      <th>HYG</th>\n",
       "      <td>etf</td>\n",
       "      <td>913242920</td>\n",
       "      <td>iShares iBoxx $ High Yield Corporate Bond ETF</td>\n",
       "      <td>0.105661</td>\n",
       "      <td>2007-04-11</td>\n",
       "      <td>4.094820e+07</td>\n",
       "    </tr>\n",
       "    <tr>\n",
       "      <th>CIBR</th>\n",
       "      <td>etf</td>\n",
       "      <td>913242924</td>\n",
       "      <td>First Trust NASDAQ Cybersecurity ETF</td>\n",
       "      <td>0.004686</td>\n",
       "      <td>2015-07-07</td>\n",
       "      <td>9.435382e+05</td>\n",
       "    </tr>\n",
       "    <tr>\n",
       "      <th>SNLN</th>\n",
       "      <td>etf</td>\n",
       "      <td>913242927</td>\n",
       "      <td>Highland iBoxx Senior Loan ETF</td>\n",
       "      <td>0.000000</td>\n",
       "      <td>2012-11-07</td>\n",
       "      <td>1.808468e+04</td>\n",
       "    </tr>\n",
       "    <tr>\n",
       "      <th>IBUY</th>\n",
       "      <td>etf</td>\n",
       "      <td>913242930</td>\n",
       "      <td>Amplify Online Retail ETF</td>\n",
       "      <td>0.000364</td>\n",
       "      <td>2016-04-20</td>\n",
       "      <td>6.466017e+04</td>\n",
       "    </tr>\n",
       "    <tr>\n",
       "      <th>XSW</th>\n",
       "      <td>etf</td>\n",
       "      <td>913242937</td>\n",
       "      <td>SPDR S&amp;P Software &amp; Services ETF</td>\n",
       "      <td>0.007637</td>\n",
       "      <td>2011-09-29</td>\n",
       "      <td>2.509959e+04</td>\n",
       "    </tr>\n",
       "    <tr>\n",
       "      <th>...</th>\n",
       "      <td>...</td>\n",
       "      <td>...</td>\n",
       "      <td>...</td>\n",
       "      <td>...</td>\n",
       "      <td>...</td>\n",
       "      <td>...</td>\n",
       "    </tr>\n",
       "    <tr>\n",
       "      <th>BKCH</th>\n",
       "      <td>etf</td>\n",
       "      <td>950186773</td>\n",
       "      <td>Global X Blockchain ETF</td>\n",
       "      <td>0.019142</td>\n",
       "      <td>2021-07-14</td>\n",
       "      <td>4.018672e+04</td>\n",
       "    </tr>\n",
       "    <tr>\n",
       "      <th>CRPT</th>\n",
       "      <td>etf</td>\n",
       "      <td>950188242</td>\n",
       "      <td>First Trust SkyBridge Crypto Industry &amp; Digita...</td>\n",
       "      <td>0.003673</td>\n",
       "      <td>2021-09-21</td>\n",
       "      <td>6.331328e+04</td>\n",
       "    </tr>\n",
       "    <tr>\n",
       "      <th>PINK</th>\n",
       "      <td>etf</td>\n",
       "      <td>950188674</td>\n",
       "      <td>Simplify Health Care ETF</td>\n",
       "      <td>0.003934</td>\n",
       "      <td>2021-10-08</td>\n",
       "      <td>6.694191e+04</td>\n",
       "    </tr>\n",
       "    <tr>\n",
       "      <th>BITO</th>\n",
       "      <td>etf</td>\n",
       "      <td>950188842</td>\n",
       "      <td>ProShares Bitcoin Strategy ETF</td>\n",
       "      <td>0.025182</td>\n",
       "      <td>2021-10-20</td>\n",
       "      <td>7.800958e+06</td>\n",
       "    </tr>\n",
       "    <tr>\n",
       "      <th>URNM</th>\n",
       "      <td>etf</td>\n",
       "      <td>950979972</td>\n",
       "      <td>Sprott Uranium Miners ETF</td>\n",
       "      <td>0.018403</td>\n",
       "      <td>2019-12-04</td>\n",
       "      <td>6.806548e+05</td>\n",
       "    </tr>\n",
       "  </tbody>\n",
       "</table>\n",
       "<p>897 rows × 6 columns</p>\n",
       "</div>"
      ],
      "text/plain": [
       "     ticker_type  ticker_id  \\\n",
       "HYG          etf  913242920   \n",
       "CIBR         etf  913242924   \n",
       "SNLN         etf  913242927   \n",
       "IBUY         etf  913242930   \n",
       "XSW          etf  913242937   \n",
       "...          ...        ...   \n",
       "BKCH         etf  950186773   \n",
       "CRPT         etf  950188242   \n",
       "PINK         etf  950188674   \n",
       "BITO         etf  950188842   \n",
       "URNM         etf  950979972   \n",
       "\n",
       "                                                   name  dvd_rate start_date  \\\n",
       "HYG       iShares iBoxx $ High Yield Corporate Bond ETF  0.105661 2007-04-11   \n",
       "CIBR               First Trust NASDAQ Cybersecurity ETF  0.004686 2015-07-07   \n",
       "SNLN                     Highland iBoxx Senior Loan ETF  0.000000 2012-11-07   \n",
       "IBUY                          Amplify Online Retail ETF  0.000364 2016-04-20   \n",
       "XSW                    SPDR S&P Software & Services ETF  0.007637 2011-09-29   \n",
       "...                                                 ...       ...        ...   \n",
       "BKCH                            Global X Blockchain ETF  0.019142 2021-07-14   \n",
       "CRPT  First Trust SkyBridge Crypto Industry & Digita...  0.003673 2021-09-21   \n",
       "PINK                           Simplify Health Care ETF  0.003934 2021-10-08   \n",
       "BITO                     ProShares Bitcoin Strategy ETF  0.025182 2021-10-20   \n",
       "URNM                          Sprott Uranium Miners ETF  0.018403 2019-12-04   \n",
       "\n",
       "       mean_volume  \n",
       "HYG   4.094820e+07  \n",
       "CIBR  9.435382e+05  \n",
       "SNLN  1.808468e+04  \n",
       "IBUY  6.466017e+04  \n",
       "XSW   2.509959e+04  \n",
       "...            ...  \n",
       "BKCH  4.018672e+04  \n",
       "CRPT  6.331328e+04  \n",
       "PINK  6.694191e+04  \n",
       "BITO  7.800958e+06  \n",
       "URNM  6.806548e+05  \n",
       "\n",
       "[897 rows x 6 columns]"
      ]
     },
     "execution_count": 24,
     "metadata": {},
     "output_type": "execute_result"
    }
   ],
   "source": [
    "frac_ticks_df"
   ]
  },
  {
   "cell_type": "code",
   "execution_count": 23,
   "id": "6dc21e4c",
   "metadata": {},
   "outputs": [
    {
     "ename": "AttributeError",
     "evalue": "'DataFrame' object has no attribute 'FUND_TOTAL_ASSETS'",
     "output_type": "error",
     "traceback": [
      "\u001b[0;31m---------------------------------------------------------------------------\u001b[0m",
      "\u001b[0;31mAttributeError\u001b[0m                            Traceback (most recent call last)",
      "\u001b[0;32m/var/folders/df/58mn713n66n7_8qfjg_nl_qw0000gn/T/ipykernel_76372/1466906555.py\u001b[0m in \u001b[0;36m<module>\u001b[0;34m\u001b[0m\n\u001b[0;32m----> 1\u001b[0;31m \u001b[0mselected_ticks_df\u001b[0m \u001b[0;34m=\u001b[0m \u001b[0mfrac_ticks_df\u001b[0m\u001b[0;34m[\u001b[0m\u001b[0;34m(\u001b[0m\u001b[0mfrac_ticks_df\u001b[0m\u001b[0;34m.\u001b[0m\u001b[0mdvd_rate\u001b[0m \u001b[0;34m>\u001b[0m \u001b[0mfrac_ticks_df\u001b[0m\u001b[0;34m.\u001b[0m\u001b[0mdvd_rate\u001b[0m\u001b[0;34m.\u001b[0m\u001b[0mquantile\u001b[0m\u001b[0;34m(\u001b[0m\u001b[0;36m0.8\u001b[0m\u001b[0;34m)\u001b[0m\u001b[0;34m)\u001b[0m \u001b[0;34m&\u001b[0m \u001b[0;34m(\u001b[0m\u001b[0mfrac_ticks_df\u001b[0m\u001b[0;34m.\u001b[0m\u001b[0mFUND_TOTAL_ASSETS\u001b[0m \u001b[0;34m>\u001b[0m \u001b[0mfrac_ticks_df\u001b[0m\u001b[0;34m.\u001b[0m\u001b[0mFUND_TOTAL_ASSETS\u001b[0m\u001b[0;34m.\u001b[0m\u001b[0mquantile\u001b[0m\u001b[0;34m(\u001b[0m\u001b[0;36m0.8\u001b[0m\u001b[0;34m)\u001b[0m\u001b[0;34m)\u001b[0m\u001b[0;34m]\u001b[0m\u001b[0;34m\u001b[0m\u001b[0;34m\u001b[0m\u001b[0m\n\u001b[0m",
      "\u001b[0;32m~/miniforge3/envs/kaggle_env/lib/python3.8/site-packages/pandas/core/generic.py\u001b[0m in \u001b[0;36m__getattr__\u001b[0;34m(self, name)\u001b[0m\n\u001b[1;32m   5900\u001b[0m         ):\n\u001b[1;32m   5901\u001b[0m             \u001b[0;32mreturn\u001b[0m \u001b[0mself\u001b[0m\u001b[0;34m[\u001b[0m\u001b[0mname\u001b[0m\u001b[0;34m]\u001b[0m\u001b[0;34m\u001b[0m\u001b[0;34m\u001b[0m\u001b[0m\n\u001b[0;32m-> 5902\u001b[0;31m         \u001b[0;32mreturn\u001b[0m \u001b[0mobject\u001b[0m\u001b[0;34m.\u001b[0m\u001b[0m__getattribute__\u001b[0m\u001b[0;34m(\u001b[0m\u001b[0mself\u001b[0m\u001b[0;34m,\u001b[0m \u001b[0mname\u001b[0m\u001b[0;34m)\u001b[0m\u001b[0;34m\u001b[0m\u001b[0;34m\u001b[0m\u001b[0m\n\u001b[0m\u001b[1;32m   5903\u001b[0m \u001b[0;34m\u001b[0m\u001b[0m\n\u001b[1;32m   5904\u001b[0m     \u001b[0;32mdef\u001b[0m \u001b[0m__setattr__\u001b[0m\u001b[0;34m(\u001b[0m\u001b[0mself\u001b[0m\u001b[0;34m,\u001b[0m \u001b[0mname\u001b[0m\u001b[0;34m:\u001b[0m \u001b[0mstr\u001b[0m\u001b[0;34m,\u001b[0m \u001b[0mvalue\u001b[0m\u001b[0;34m)\u001b[0m \u001b[0;34m->\u001b[0m \u001b[0;32mNone\u001b[0m\u001b[0;34m:\u001b[0m\u001b[0;34m\u001b[0m\u001b[0;34m\u001b[0m\u001b[0m\n",
      "\u001b[0;31mAttributeError\u001b[0m: 'DataFrame' object has no attribute 'FUND_TOTAL_ASSETS'"
     ]
    }
   ],
   "source": [
    "selected_ticks_df = frac_ticks_df[(frac_ticks_df.dvd_rate > frac_ticks_df.dvd_rate.quantile(0.8)) & (frac_ticks_df.FUND_TOTAL_ASSETS > frac_ticks_df.FUND_TOTAL_ASSETS.quantile(0.8))]"
   ]
  },
  {
   "cell_type": "code",
   "execution_count": 21,
   "id": "957ead19",
   "metadata": {},
   "outputs": [
    {
     "ename": "AttributeError",
     "evalue": "'DataFrame' object has no attribute 'dvd_rate'",
     "output_type": "error",
     "traceback": [
      "\u001b[0;31m---------------------------------------------------------------------------\u001b[0m",
      "\u001b[0;31mAttributeError\u001b[0m                            Traceback (most recent call last)",
      "\u001b[0;32m/var/folders/df/58mn713n66n7_8qfjg_nl_qw0000gn/T/ipykernel_76372/3009720948.py\u001b[0m in \u001b[0;36m<module>\u001b[0;34m\u001b[0m\n\u001b[0;32m----> 1\u001b[0;31m \u001b[0mselected_ticks_df\u001b[0m \u001b[0;34m=\u001b[0m \u001b[0mfrac_ticks_info_df\u001b[0m\u001b[0;34m[\u001b[0m\u001b[0;34m(\u001b[0m\u001b[0mfrac_ticks_info_df\u001b[0m\u001b[0;34m.\u001b[0m\u001b[0mdvd_rate\u001b[0m \u001b[0;34m>\u001b[0m \u001b[0mfrac_ticks_info_df\u001b[0m\u001b[0;34m.\u001b[0m\u001b[0mdvd_rate\u001b[0m\u001b[0;34m.\u001b[0m\u001b[0mquantile\u001b[0m\u001b[0;34m(\u001b[0m\u001b[0;36m0.8\u001b[0m\u001b[0;34m)\u001b[0m\u001b[0;34m)\u001b[0m \u001b[0;34m&\u001b[0m \u001b[0;34m(\u001b[0m\u001b[0mfrac_ticks_info_df\u001b[0m\u001b[0;34m.\u001b[0m\u001b[0mFUND_TOTAL_ASSETS\u001b[0m \u001b[0;34m>\u001b[0m \u001b[0mfrac_ticks_info_df\u001b[0m\u001b[0;34m.\u001b[0m\u001b[0mFUND_TOTAL_ASSETS\u001b[0m\u001b[0;34m.\u001b[0m\u001b[0mquantile\u001b[0m\u001b[0;34m(\u001b[0m\u001b[0;36m0.8\u001b[0m\u001b[0;34m)\u001b[0m\u001b[0;34m)\u001b[0m\u001b[0;34m]\u001b[0m\u001b[0;34m\u001b[0m\u001b[0;34m\u001b[0m\u001b[0m\n\u001b[0m",
      "\u001b[0;32m~/miniforge3/envs/kaggle_env/lib/python3.8/site-packages/pandas/core/generic.py\u001b[0m in \u001b[0;36m__getattr__\u001b[0;34m(self, name)\u001b[0m\n\u001b[1;32m   5900\u001b[0m         ):\n\u001b[1;32m   5901\u001b[0m             \u001b[0;32mreturn\u001b[0m \u001b[0mself\u001b[0m\u001b[0;34m[\u001b[0m\u001b[0mname\u001b[0m\u001b[0;34m]\u001b[0m\u001b[0;34m\u001b[0m\u001b[0;34m\u001b[0m\u001b[0m\n\u001b[0;32m-> 5902\u001b[0;31m         \u001b[0;32mreturn\u001b[0m \u001b[0mobject\u001b[0m\u001b[0;34m.\u001b[0m\u001b[0m__getattribute__\u001b[0m\u001b[0;34m(\u001b[0m\u001b[0mself\u001b[0m\u001b[0;34m,\u001b[0m \u001b[0mname\u001b[0m\u001b[0;34m)\u001b[0m\u001b[0;34m\u001b[0m\u001b[0;34m\u001b[0m\u001b[0m\n\u001b[0m\u001b[1;32m   5903\u001b[0m \u001b[0;34m\u001b[0m\u001b[0m\n\u001b[1;32m   5904\u001b[0m     \u001b[0;32mdef\u001b[0m \u001b[0m__setattr__\u001b[0m\u001b[0;34m(\u001b[0m\u001b[0mself\u001b[0m\u001b[0;34m,\u001b[0m \u001b[0mname\u001b[0m\u001b[0;34m:\u001b[0m \u001b[0mstr\u001b[0m\u001b[0;34m,\u001b[0m \u001b[0mvalue\u001b[0m\u001b[0;34m)\u001b[0m \u001b[0;34m->\u001b[0m \u001b[0;32mNone\u001b[0m\u001b[0;34m:\u001b[0m\u001b[0;34m\u001b[0m\u001b[0;34m\u001b[0m\u001b[0m\n",
      "\u001b[0;31mAttributeError\u001b[0m: 'DataFrame' object has no attribute 'dvd_rate'"
     ]
    }
   ],
   "source": [
    "selected_ticks_df = frac_ticks_info_df[(frac_ticks_info_df.dvd_rate > frac_ticks_info_df.dvd_rate.quantile(0.8)) & (frac_ticks_info_df.FUND_TOTAL_ASSETS > frac_ticks_info_df.FUND_TOTAL_ASSETS.quantile(0.8))]"
   ]
  },
  {
   "cell_type": "code",
   "execution_count": 158,
   "id": "64c66f08",
   "metadata": {},
   "outputs": [
    {
     "data": {
      "image/png": "[encoded data removed]",
      "text/plain": [
       "<Figure size 432x288 with 1 Axes>"
      ]
     },
     "metadata": {
      "needs_background": "light"
     },
     "output_type": "display_data"
    }
   ],
   "source": [
    "from pypfopt import plotting\n",
    "\n",
    "plotting.plot_dendrogram(hrp); "
   ]
  },
  {
   "cell_type": "code",
   "execution_count": 138,
   "id": "b5a9ea9f",
   "metadata": {},
   "outputs": [
    {
     "data": {
      "text/html": [
       "<div>\n",
       "<style scoped>\n",
       "    .dataframe tbody tr th:only-of-type {\n",
       "        vertical-align: middle;\n",
       "    }\n",
       "\n",
       "    .dataframe tbody tr th {\n",
       "        vertical-align: top;\n",
       "    }\n",
       "\n",
       "    .dataframe thead th {\n",
       "        text-align: right;\n",
       "    }\n",
       "</style>\n",
       "<table border=\"1\" class=\"dataframe\">\n",
       "  <thead>\n",
       "    <tr style=\"text-align: right;\">\n",
       "      <th></th>\n",
       "      <th>name</th>\n",
       "      <th>name</th>\n",
       "      <th>dvd_rate</th>\n",
       "      <th>FUND_TOTAL_ASSETS</th>\n",
       "      <th>FUND_ASSET_CLASS_FOCUS</th>\n",
       "      <th>start_date</th>\n",
       "      <th>FUND_MGR_STATED_FEE</th>\n",
       "    </tr>\n",
       "  </thead>\n",
       "  <tbody>\n",
       "    <tr>\n",
       "      <th>QYLD</th>\n",
       "      <td>Global X NASDAQ 100 Covered Call ETF</td>\n",
       "      <td>Global X Nasdaq 100 Covered Ca</td>\n",
       "      <td>0.146285</td>\n",
       "      <td>7598.044000</td>\n",
       "      <td>Equity</td>\n",
       "      <td>2013-12-12</td>\n",
       "      <td>0.6000</td>\n",
       "    </tr>\n",
       "    <tr>\n",
       "      <th>JNK</th>\n",
       "      <td>SPDR Bloomberg High Yield Bond ETF</td>\n",
       "      <td>SPDR彭博高收益债券ETF</td>\n",
       "      <td>0.116806</td>\n",
       "      <td>8281.984375</td>\n",
       "      <td>Fixed Income</td>\n",
       "      <td>2007-12-04</td>\n",
       "      <td>0.4000</td>\n",
       "    </tr>\n",
       "    <tr>\n",
       "      <th>HYG</th>\n",
       "      <td>iShares iBoxx $ High Yield Corporate Bond ETF</td>\n",
       "      <td>iShares安硕iBoxx高收益公司债ET</td>\n",
       "      <td>0.102472</td>\n",
       "      <td>15492.330000</td>\n",
       "      <td>Fixed Income</td>\n",
       "      <td>2007-04-11</td>\n",
       "      <td>0.4800</td>\n",
       "    </tr>\n",
       "    <tr>\n",
       "      <th>PFF</th>\n",
       "      <td>iShares Preferred &amp; Income Securities ETF</td>\n",
       "      <td>iShares安硕优先股和收益证券ETF</td>\n",
       "      <td>0.100399</td>\n",
       "      <td>12758.880000</td>\n",
       "      <td>Fixed Income</td>\n",
       "      <td>2007-03-30</td>\n",
       "      <td>0.4500</td>\n",
       "    </tr>\n",
       "    <tr>\n",
       "      <th>JEPI</th>\n",
       "      <td>JPMorgan Equity Premium Income ETF</td>\n",
       "      <td>JPMorgan Equity Premium Income</td>\n",
       "      <td>0.076216</td>\n",
       "      <td>26208.652340</td>\n",
       "      <td>Equity</td>\n",
       "      <td>2020-05-21</td>\n",
       "      <td>0.3500</td>\n",
       "    </tr>\n",
       "    <tr>\n",
       "      <th>EMB</th>\n",
       "      <td>iShares JP Morgan USD Emerging Markets Bond ETF</td>\n",
       "      <td>iShares安硕摩根大通美元新兴市</td>\n",
       "      <td>0.063927</td>\n",
       "      <td>14336.957030</td>\n",
       "      <td>Fixed Income</td>\n",
       "      <td>2007-12-19</td>\n",
       "      <td>0.3900</td>\n",
       "    </tr>\n",
       "    <tr>\n",
       "      <th>LQD</th>\n",
       "      <td>iShares iBoxx $ Investment Grade Corporate Bon...</td>\n",
       "      <td>iShares安硕iBoxx美元投资级公司</td>\n",
       "      <td>0.063739</td>\n",
       "      <td>35345.113280</td>\n",
       "      <td>Fixed Income</td>\n",
       "      <td>2002-07-30</td>\n",
       "      <td>0.1400</td>\n",
       "    </tr>\n",
       "    <tr>\n",
       "      <th>VNQ</th>\n",
       "      <td>Vanguard Real Estate ETF</td>\n",
       "      <td>Vanguard房地产ETF</td>\n",
       "      <td>0.062110</td>\n",
       "      <td>30803.660000</td>\n",
       "      <td>Equity</td>\n",
       "      <td>2004-09-29</td>\n",
       "      <td>0.1200</td>\n",
       "    </tr>\n",
       "    <tr>\n",
       "      <th>FVD</th>\n",
       "      <td>First Trust Value Line Dividend Index Fund</td>\n",
       "      <td>第一信托超值系列红利指数基金</td>\n",
       "      <td>0.056934</td>\n",
       "      <td>11689.240000</td>\n",
       "      <td>Equity</td>\n",
       "      <td>2003-08-27</td>\n",
       "      <td>0.5000</td>\n",
       "    </tr>\n",
       "    <tr>\n",
       "      <th>USHY</th>\n",
       "      <td>iShares Broad USD High Yield Corporate Bond ETF</td>\n",
       "      <td>iShares Broad USD High Yield C</td>\n",
       "      <td>0.052826</td>\n",
       "      <td>8782.674000</td>\n",
       "      <td>Fixed Income</td>\n",
       "      <td>2017-10-26</td>\n",
       "      <td>0.2200</td>\n",
       "    </tr>\n",
       "    <tr>\n",
       "      <th>XLU</th>\n",
       "      <td>Utilities Select Sector SPDR Fund</td>\n",
       "      <td>公用事业精选行业SPDR基金</td>\n",
       "      <td>0.051205</td>\n",
       "      <td>15397.190000</td>\n",
       "      <td>Equity</td>\n",
       "      <td>1998-12-22</td>\n",
       "      <td>0.0300</td>\n",
       "    </tr>\n",
       "    <tr>\n",
       "      <th>VGK</th>\n",
       "      <td>Vanguard FTSE Europe ETF</td>\n",
       "      <td>领航富时欧洲指数ETF</td>\n",
       "      <td>0.049080</td>\n",
       "      <td>18757.280000</td>\n",
       "      <td>Equity</td>\n",
       "      <td>2005-03-10</td>\n",
       "      <td>0.0800</td>\n",
       "    </tr>\n",
       "    <tr>\n",
       "      <th>USIG</th>\n",
       "      <td>iShares Broad USD Investment Grade Corporate B...</td>\n",
       "      <td>iShares安硕广泛美元投资级公司</td>\n",
       "      <td>0.047855</td>\n",
       "      <td>8976.540000</td>\n",
       "      <td>Fixed Income</td>\n",
       "      <td>2007-01-11</td>\n",
       "      <td>0.0400</td>\n",
       "    </tr>\n",
       "    <tr>\n",
       "      <th>SDY</th>\n",
       "      <td>SPDR S&amp;P Dividend ETF</td>\n",
       "      <td>SPDR标普股利ETF</td>\n",
       "      <td>0.047571</td>\n",
       "      <td>21386.480470</td>\n",
       "      <td>Equity</td>\n",
       "      <td>2005-11-15</td>\n",
       "      <td>0.3500</td>\n",
       "    </tr>\n",
       "    <tr>\n",
       "      <th>DVY</th>\n",
       "      <td>iShares Select Dividend ETF</td>\n",
       "      <td>iShares安硕精选红利ETF</td>\n",
       "      <td>0.047188</td>\n",
       "      <td>19383.933590</td>\n",
       "      <td>Equity</td>\n",
       "      <td>2003-11-07</td>\n",
       "      <td>0.3799</td>\n",
       "    </tr>\n",
       "    <tr>\n",
       "      <th>EFV</th>\n",
       "      <td>iShares MSCI EAFE Value ETF</td>\n",
       "      <td>安硕MSCI EAFE价值ETF</td>\n",
       "      <td>0.046059</td>\n",
       "      <td>14664.530000</td>\n",
       "      <td>Equity</td>\n",
       "      <td>2005-08-05</td>\n",
       "      <td>0.3300</td>\n",
       "    </tr>\n",
       "    <tr>\n",
       "      <th>BIV</th>\n",
       "      <td>Vanguard Intermediate-Term Bond ETF</td>\n",
       "      <td>先锋领航中期债券ETF</td>\n",
       "      <td>0.045622</td>\n",
       "      <td>15045.840000</td>\n",
       "      <td>Fixed Income</td>\n",
       "      <td>2007-04-10</td>\n",
       "      <td>0.0400</td>\n",
       "    </tr>\n",
       "    <tr>\n",
       "      <th>TLT</th>\n",
       "      <td>iShares 20+ Year Treasury Bond ETF</td>\n",
       "      <td>iShares安硕20年期以上美国国债</td>\n",
       "      <td>0.045335</td>\n",
       "      <td>38589.863280</td>\n",
       "      <td>Fixed Income</td>\n",
       "      <td>2002-07-30</td>\n",
       "      <td>0.1500</td>\n",
       "    </tr>\n",
       "    <tr>\n",
       "      <th>IGIB</th>\n",
       "      <td>iShares 5-10 Year Investment Grade Corporate B...</td>\n",
       "      <td>iShares安硕5-10年投资级公司债E</td>\n",
       "      <td>0.042487</td>\n",
       "      <td>11500.340000</td>\n",
       "      <td>Fixed Income</td>\n",
       "      <td>2007-01-11</td>\n",
       "      <td>0.0600</td>\n",
       "    </tr>\n",
       "    <tr>\n",
       "      <th>HDV</th>\n",
       "      <td>iShares Core High Dividend ETF</td>\n",
       "      <td>iShares安硕核心高股息ETF</td>\n",
       "      <td>0.040540</td>\n",
       "      <td>10371.484380</td>\n",
       "      <td>Equity</td>\n",
       "      <td>2011-03-31</td>\n",
       "      <td>0.0800</td>\n",
       "    </tr>\n",
       "    <tr>\n",
       "      <th>AGG</th>\n",
       "      <td>iShares Core U.S. Aggregate Bond ETF</td>\n",
       "      <td>iShares安硕核心美国综合债券ETF</td>\n",
       "      <td>0.040165</td>\n",
       "      <td>91135.765630</td>\n",
       "      <td>Fixed Income</td>\n",
       "      <td>2003-09-29</td>\n",
       "      <td>0.0300</td>\n",
       "    </tr>\n",
       "    <tr>\n",
       "      <th>TIP</th>\n",
       "      <td>iShares TIPS Bond ETF</td>\n",
       "      <td>iShares安硕TIPS债券ETF</td>\n",
       "      <td>0.040060</td>\n",
       "      <td>21821.558590</td>\n",
       "      <td>Fixed Income</td>\n",
       "      <td>2003-12-05</td>\n",
       "      <td>0.1900</td>\n",
       "    </tr>\n",
       "    <tr>\n",
       "      <th>VCIT</th>\n",
       "      <td>Vanguard Intermediate-Term Corporate Bond ETF</td>\n",
       "      <td>领航长期公司债券ETF</td>\n",
       "      <td>0.039349</td>\n",
       "      <td>39859.968750</td>\n",
       "      <td>Fixed Income</td>\n",
       "      <td>2009-11-23</td>\n",
       "      <td>0.0300</td>\n",
       "    </tr>\n",
       "    <tr>\n",
       "      <th>BND</th>\n",
       "      <td>Vanguard Total Bond Market ETF</td>\n",
       "      <td>先锋领航总体债券市场ETF</td>\n",
       "      <td>0.037022</td>\n",
       "      <td>92509.203130</td>\n",
       "      <td>Fixed Income</td>\n",
       "      <td>2007-04-10</td>\n",
       "      <td>0.0300</td>\n",
       "    </tr>\n",
       "  </tbody>\n",
       "</table>\n",
       "</div>"
      ],
      "text/plain": [
       "                                                   name  \\\n",
       "QYLD               Global X NASDAQ 100 Covered Call ETF   \n",
       "JNK                  SPDR Bloomberg High Yield Bond ETF   \n",
       "HYG       iShares iBoxx $ High Yield Corporate Bond ETF   \n",
       "PFF           iShares Preferred & Income Securities ETF   \n",
       "JEPI                 JPMorgan Equity Premium Income ETF   \n",
       "EMB     iShares JP Morgan USD Emerging Markets Bond ETF   \n",
       "LQD   iShares iBoxx $ Investment Grade Corporate Bon...   \n",
       "VNQ                            Vanguard Real Estate ETF   \n",
       "FVD          First Trust Value Line Dividend Index Fund   \n",
       "USHY    iShares Broad USD High Yield Corporate Bond ETF   \n",
       "XLU                   Utilities Select Sector SPDR Fund   \n",
       "VGK                            Vanguard FTSE Europe ETF   \n",
       "USIG  iShares Broad USD Investment Grade Corporate B...   \n",
       "SDY                               SPDR S&P Dividend ETF   \n",
       "DVY                         iShares Select Dividend ETF   \n",
       "EFV                         iShares MSCI EAFE Value ETF   \n",
       "BIV                 Vanguard Intermediate-Term Bond ETF   \n",
       "TLT                  iShares 20+ Year Treasury Bond ETF   \n",
       "IGIB  iShares 5-10 Year Investment Grade Corporate B...   \n",
       "HDV                      iShares Core High Dividend ETF   \n",
       "AGG                iShares Core U.S. Aggregate Bond ETF   \n",
       "TIP                               iShares TIPS Bond ETF   \n",
       "VCIT      Vanguard Intermediate-Term Corporate Bond ETF   \n",
       "BND                      Vanguard Total Bond Market ETF   \n",
       "\n",
       "                                name  dvd_rate  FUND_TOTAL_ASSETS  \\\n",
       "QYLD  Global X Nasdaq 100 Covered Ca  0.146285        7598.044000   \n",
       "JNK                   SPDR彭博高收益债券ETF  0.116806        8281.984375   \n",
       "HYG           iShares安硕iBoxx高收益公司债ET  0.102472       15492.330000   \n",
       "PFF             iShares安硕优先股和收益证券ETF  0.100399       12758.880000   \n",
       "JEPI  JPMorgan Equity Premium Income  0.076216       26208.652340   \n",
       "EMB               iShares安硕摩根大通美元新兴市  0.063927       14336.957030   \n",
       "LQD            iShares安硕iBoxx美元投资级公司  0.063739       35345.113280   \n",
       "VNQ                   Vanguard房地产ETF  0.062110       30803.660000   \n",
       "FVD                   第一信托超值系列红利指数基金  0.056934       11689.240000   \n",
       "USHY  iShares Broad USD High Yield C  0.052826        8782.674000   \n",
       "XLU                   公用事业精选行业SPDR基金  0.051205       15397.190000   \n",
       "VGK                      领航富时欧洲指数ETF  0.049080       18757.280000   \n",
       "USIG              iShares安硕广泛美元投资级公司  0.047855        8976.540000   \n",
       "SDY                      SPDR标普股利ETF  0.047571       21386.480470   \n",
       "DVY                 iShares安硕精选红利ETF  0.047188       19383.933590   \n",
       "EFV                 安硕MSCI EAFE价值ETF  0.046059       14664.530000   \n",
       "BIV                      先锋领航中期债券ETF  0.045622       15045.840000   \n",
       "TLT              iShares安硕20年期以上美国国债  0.045335       38589.863280   \n",
       "IGIB           iShares安硕5-10年投资级公司债E  0.042487       11500.340000   \n",
       "HDV                iShares安硕核心高股息ETF  0.040540       10371.484380   \n",
       "AGG             iShares安硕核心美国综合债券ETF  0.040165       91135.765630   \n",
       "TIP               iShares安硕TIPS债券ETF  0.040060       21821.558590   \n",
       "VCIT                     领航长期公司债券ETF  0.039349       39859.968750   \n",
       "BND                    先锋领航总体债券市场ETF  0.037022       92509.203130   \n",
       "\n",
       "     FUND_ASSET_CLASS_FOCUS start_date  FUND_MGR_STATED_FEE  \n",
       "QYLD                 Equity 2013-12-12               0.6000  \n",
       "JNK            Fixed Income 2007-12-04               0.4000  \n",
       "HYG            Fixed Income 2007-04-11               0.4800  \n",
       "PFF            Fixed Income 2007-03-30               0.4500  \n",
       "JEPI                 Equity 2020-05-21               0.3500  \n",
       "EMB            Fixed Income 2007-12-19               0.3900  \n",
       "LQD            Fixed Income 2002-07-30               0.1400  \n",
       "VNQ                  Equity 2004-09-29               0.1200  \n",
       "FVD                  Equity 2003-08-27               0.5000  \n",
       "USHY           Fixed Income 2017-10-26               0.2200  \n",
       "XLU                  Equity 1998-12-22               0.0300  \n",
       "VGK                  Equity 2005-03-10               0.0800  \n",
       "USIG           Fixed Income 2007-01-11               0.0400  \n",
       "SDY                  Equity 2005-11-15               0.3500  \n",
       "DVY                  Equity 2003-11-07               0.3799  \n",
       "EFV                  Equity 2005-08-05               0.3300  \n",
       "BIV            Fixed Income 2007-04-10               0.0400  \n",
       "TLT            Fixed Income 2002-07-30               0.1500  \n",
       "IGIB           Fixed Income 2007-01-11               0.0600  \n",
       "HDV                  Equity 2011-03-31               0.0800  \n",
       "AGG            Fixed Income 2003-09-29               0.0300  \n",
       "TIP            Fixed Income 2003-12-05               0.1900  \n",
       "VCIT           Fixed Income 2009-11-23               0.0300  \n",
       "BND            Fixed Income 2007-04-10               0.0300  "
      ]
     },
     "execution_count": 138,
     "metadata": {},
     "output_type": "execute_result"
    }
   ],
   "source": [
    "selected_ticks_df[['name', 'dvd_rate', 'FUND_TOTAL_ASSETS', 'FUND_ASSET_CLASS_FOCUS', 'start_date', 'FUND_MGR_STATED_FEE']].sort_values(['dvd_rate'], ascending=False)"
   ]
  },
  {
   "cell_type": "code",
   "execution_count": 141,
   "id": "052f24ea",
   "metadata": {},
   "outputs": [
    {
     "name": "stdout",
     "output_type": "stream",
     "text": [
      "[*********************100%***********************]  24 of 24 completed\n"
     ]
    }
   ],
   "source": [
    "selected_ticks = list(selected_ticks_df.index)\n",
    "ohlc = yf.download(selected_ticks, period=\"30y\")\n",
    "prices = ohlc['Adj Close'].dropna(how='all')"
   ]
  },
  {
   "cell_type": "code",
   "execution_count": null,
   "id": "0772c10f",
   "metadata": {},
   "outputs": [],
   "source": []
  },
  {
   "cell_type": "code",
   "execution_count": 159,
   "id": "69727de3",
   "metadata": {},
   "outputs": [],
   "source": [
    "mu = expected_returns.mean_historical_return(prices)"
   ]
  },
  {
   "cell_type": "code",
   "execution_count": 161,
   "id": "9a3b6867",
   "metadata": {},
   "outputs": [
    {
     "data": {
      "text/plain": [
       "USHY    0.026108\n",
       "BND     0.028644\n",
       "AGG     0.029605\n",
       "PFF     0.032404\n",
       "EFV     0.033757\n",
       "IGIB    0.034461\n",
       "TIP     0.034950\n",
       "USIG    0.036667\n",
       "BIV     0.036832\n",
       "EMB     0.037202\n",
       "VCIT    0.039022\n",
       "JNK     0.042695\n",
       "HYG     0.042916\n",
       "TLT     0.045090\n",
       "LQD     0.046023\n",
       "VGK     0.047852\n",
       "QYLD    0.067128\n",
       "XLU     0.068976\n",
       "VNQ     0.072517\n",
       "DVY     0.078681\n",
       "SDY     0.086720\n",
       "FVD     0.093235\n",
       "HDV     0.094430\n",
       "JEPI    0.125737\n",
       "dtype: float64"
      ]
     },
     "execution_count": 161,
     "metadata": {},
     "output_type": "execute_result"
    }
   ],
   "source": [
    "mu.sort_values()"
   ]
  },
  {
   "cell_type": "code",
   "execution_count": 144,
   "id": "b968c889",
   "metadata": {},
   "outputs": [
    {
     "name": "stderr",
     "output_type": "stream",
     "text": [
      "/Users/fantasycheng/miniforge3/envs/kaggle_env/lib/python3.8/site-packages/pypfopt/risk_models.py:68: UserWarning:\n",
      "\n",
      "The covariance matrix is non positive semidefinite. Amending eigenvalues.\n",
      "\n"
     ]
    }
   ],
   "source": [
    "cov = risk_models.sample_cov(prices)"
   ]
  },
  {
   "cell_type": "code",
   "execution_count": 147,
   "id": "6df674dc",
   "metadata": {},
   "outputs": [],
   "source": [
    "sigma = np.sqrt(np.diag(cov))"
   ]
  },
  {
   "cell_type": "code",
   "execution_count": 152,
   "id": "d2ef84d4",
   "metadata": {},
   "outputs": [],
   "source": [
    "corr = cov / np.outer(sigma, sigma)"
   ]
  },
  {
   "cell_type": "code",
   "execution_count": 162,
   "id": "c81960da",
   "metadata": {},
   "outputs": [
    {
     "data": {
      "text/html": [
       "<div>\n",
       "<style scoped>\n",
       "    .dataframe tbody tr th:only-of-type {\n",
       "        vertical-align: middle;\n",
       "    }\n",
       "\n",
       "    .dataframe tbody tr th {\n",
       "        vertical-align: top;\n",
       "    }\n",
       "\n",
       "    .dataframe thead th {\n",
       "        text-align: right;\n",
       "    }\n",
       "</style>\n",
       "<table border=\"1\" class=\"dataframe\">\n",
       "  <thead>\n",
       "    <tr style=\"text-align: right;\">\n",
       "      <th></th>\n",
       "      <th>HDV</th>\n",
       "      <th>SDY</th>\n",
       "      <th>FVD</th>\n",
       "      <th>DVY</th>\n",
       "    </tr>\n",
       "  </thead>\n",
       "  <tbody>\n",
       "    <tr>\n",
       "      <th>HDV</th>\n",
       "      <td>1.000000</td>\n",
       "      <td>0.786325</td>\n",
       "      <td>0.839414</td>\n",
       "      <td>0.819751</td>\n",
       "    </tr>\n",
       "    <tr>\n",
       "      <th>SDY</th>\n",
       "      <td>0.786325</td>\n",
       "      <td>1.000000</td>\n",
       "      <td>0.955024</td>\n",
       "      <td>0.980709</td>\n",
       "    </tr>\n",
       "    <tr>\n",
       "      <th>FVD</th>\n",
       "      <td>0.839414</td>\n",
       "      <td>0.955024</td>\n",
       "      <td>1.000000</td>\n",
       "      <td>0.932064</td>\n",
       "    </tr>\n",
       "    <tr>\n",
       "      <th>DVY</th>\n",
       "      <td>0.819751</td>\n",
       "      <td>0.980709</td>\n",
       "      <td>0.932064</td>\n",
       "      <td>1.000000</td>\n",
       "    </tr>\n",
       "  </tbody>\n",
       "</table>\n",
       "</div>"
      ],
      "text/plain": [
       "          HDV       SDY       FVD       DVY\n",
       "HDV  1.000000  0.786325  0.839414  0.819751\n",
       "SDY  0.786325  1.000000  0.955024  0.980709\n",
       "FVD  0.839414  0.955024  1.000000  0.932064\n",
       "DVY  0.819751  0.980709  0.932064  1.000000"
      ]
     },
     "execution_count": 162,
     "metadata": {},
     "output_type": "execute_result"
    }
   ],
   "source": [
    "hd_ticks = ['HDV', 'SDY', 'FVD', 'DVY']\n",
    "corr.loc[hd_ticks, hd_ticks]"
   ]
  },
  {
   "cell_type": "code",
   "execution_count": 154,
   "id": "bc2dbd9a",
   "metadata": {},
   "outputs": [
    {
     "data": {
      "application/vnd.plotly.v1+json": {
       "config": {
        "plotlyServerURL": "https://plot.ly"
       },
       "data": [
        {
         "coloraxis": "coloraxis",
         "hovertemplate": "x: %{x}<br>y: %{y}<br>color: %{z}<extra></extra>",
         "name": "0",
         "type": "heatmap",
         "x": [
          "AGG",
          "BIV",
          "BND",
          "DVY",
          "EFV",
          "EMB",
          "FVD",
          "HDV",
          "HYG",
          "IGIB",
          "JEPI",
          "JNK",
          "LQD",
          "PFF",
          "QYLD",
          "SDY",
          "TIP",
          "TLT",
          "USHY",
          "USIG",
          "VCIT",
          "VGK",
          "VNQ",
          "XLU"
         ],
         "xaxis": "x",
         "y": [
          "AGG",
          "BIV",
          "BND",
          "DVY",
          "EFV",
          "EMB",
          "FVD",
          "HDV",
          "HYG",
          "IGIB",
          "JEPI",
          "JNK",
          "LQD",
          "PFF",
          "QYLD",
          "SDY",
          "TIP",
          "TLT",
          "USHY",
          "USIG",
          "VCIT",
          "VGK",
          "VNQ",
          "XLU"
         ],
         "yaxis": "y",
         "z": [
          [
           1.0000000000000002,
           0.8484023090999562,
           0.8876969016000296,
           -0.049477885676571416,
           -0.01889426559985589,
           0.3854754523703095,
           -0.024264793011676916,
           -0.013330760725039487,
           0.22214317654467108,
           0.7210018182871255,
           0.22350386360608504,
           0.28523478318273254,
           0.6843291223484314,
           0.21524620291811397,
           0.07685416616908843,
           -0.08023979467998273,
           0.6594083420078312,
           0.6820662811170367,
           0.3569973232845567,
           0.7689781182421525,
           0.729247314229704,
           -0.008361011993599553,
           -0.02277593142792301,
           0.09688993607082627
          ],
          [
           0.8484023090999562,
           1,
           0.8534161730203793,
           -0.13898580891006715,
           -0.14858585303613564,
           0.3064110753886622,
           -0.12607923540195562,
           -0.07487236142300044,
           0.09262232874077103,
           0.7384675717768059,
           0.19415526552598603,
           0.1580668860296354,
           0.7166289829707881,
           0.07732331137311121,
           0.005866566475852814,
           -0.1670078954906695,
           0.7687688835905895,
           0.8066211533413984,
           0.281946108747906,
           0.7698260323718907,
           0.7394628429483813,
           -0.13747278146379882,
           -0.10120302175804709,
           0.02737442161142031
          ],
          [
           0.8876969016000296,
           0.8534161730203792,
           1,
           -0.053512252928533476,
           -0.04579800378085686,
           0.38437255071157145,
           -0.015965115720060954,
           0.008728890969486335,
           0.16157060726455544,
           0.7204084407314018,
           0.21488645049356905,
           0.18941036401758155,
           0.7313489241582786,
           0.15732613269293813,
           0.10844030506453045,
           -0.07042904891070449,
           0.6965081712437292,
           0.7511534996752509,
           0.3897772224246004,
           0.7612428549278335,
           0.7349197109311366,
           -0.03430101261323193,
           -0.025688181476925438,
           0.1121854232410924
          ],
          [
           -0.049477885676571416,
           -0.13898580891006715,
           -0.053512252928533476,
           1,
           0.8274944461484876,
           0.3732576351545052,
           0.9320644290181875,
           0.8197511042576549,
           0.6552510938095263,
           0.08695544953173229,
           0.6986087600447577,
           0.5919811960972613,
           0.14519833450279462,
           0.6285394913854248,
           0.5721481610157837,
           0.9807087461965747,
           -0.10680991648160607,
           -0.33058494887759776,
           0.6974922799964076,
           0.0481374374374999,
           0.09654110404237967,
           0.8041637712462325,
           0.8012947750563196,
           0.6933049432610464
          ],
          [
           -0.01889426559985589,
           -0.14858585303613564,
           -0.045798003780856876,
           0.8274944461484876,
           1,
           0.38646982877616953,
           0.8426379368123847,
           0.659331507639431,
           0.6752990708063522,
           0.07648878757468675,
           0.5246353462628555,
           0.6086634372047484,
           0.1895444615981394,
           0.5837189608800595,
           0.49796442849259764,
           0.8157442047391738,
           -0.1050801825440317,
           -0.37019169020062487,
           0.5778470750109752,
           0.07145066179252398,
           0.05694397501135512,
           0.9717979961302932,
           0.69250706944831,
           0.5849138606013015
          ],
          [
           0.3854754523703095,
           0.3064110753886622,
           0.38437255071157145,
           0.3732576351545052,
           0.38646982877616953,
           1.0000000000000002,
           0.3949471729984931,
           0.39500322810494914,
           0.4759208418790006,
           0.4481180414337421,
           0.4728413203397296,
           0.466982525447365,
           0.4516778749022973,
           0.4026512120734729,
           0.428085653147127,
           0.33948178403375967,
           0.31237485970978146,
           0.11223045027629691,
           0.6483964364677344,
           0.39329462328719056,
           0.4415120738887657,
           0.3989592229805307,
           0.3066900743782397,
           0.31429138824840414
          ],
          [
           -0.024264793011676916,
           -0.12607923540195565,
           -0.01596511572006096,
           0.9320644290181875,
           0.8426379368123847,
           0.3949471729984931,
           1,
           0.8394143179936172,
           0.676759449093666,
           0.12562102936910255,
           0.7397180419588997,
           0.6081191771116112,
           0.1739197388120805,
           0.6169653227808354,
           0.6235868184567075,
           0.9550239174703822,
           -0.10790682683626947,
           -0.32053180534430425,
           0.7180717125516862,
           0.08446568012780621,
           0.12137505045592872,
           0.8314608818571931,
           0.7906732441183477,
           0.7048708768661587
          ],
          [
           -0.013330760725039494,
           -0.07487236142300044,
           0.008728890969486333,
           0.8197511042576546,
           0.659331507639431,
           0.39500322810494914,
           0.8394143179936172,
           0.9999999999999999,
           0.5257035398964005,
           0.18098729792354595,
           0.7678200374901869,
           0.48589021648763864,
           0.14808582393402628,
           0.33692960256252313,
           0.6794878746070934,
           0.7863247711986752,
           -0.06191412004924201,
           -0.3372124501851243,
           0.7595332693773356,
           0.1053958315867559,
           0.14500821189344862,
           0.6544011653918143,
           0.5105610578823415,
           0.6595163976815854
          ],
          [
           0.22214317654467108,
           0.092622328740771,
           0.16157060726455547,
           0.6552510938095263,
           0.6752990708063522,
           0.4759208418790006,
           0.676759449093666,
           0.5257035398964005,
           1.0000000000000002,
           0.30694968914379694,
           0.49039976791276085,
           0.8287790603725234,
           0.46272148680315545,
           0.6090708519950111,
           0.4536207945379964,
           0.6360263629198565,
           0.05635824227069846,
           -0.19719621913042953,
           0.7488695367665889,
           0.296508778322407,
           0.25967749904069426,
           0.6716704444758121,
           0.5493251776748971,
           0.5127496269031221
          ],
          [
           0.7210018182871254,
           0.7384675717768059,
           0.7204084407314018,
           0.08695544953173226,
           0.07648878757468675,
           0.4481180414337421,
           0.12562102936910252,
           0.18098729792354595,
           0.30694968914379694,
           1,
           0.36432001902060174,
           0.3485496920056371,
           0.7792139997349367,
           0.2445421225103764,
           0.24473119503036916,
           0.06464470933968994,
           0.5747905697894483,
           0.5111286702875651,
           0.5707006176470331,
           0.7610771135751813,
           0.8180969371098743,
           0.10997799847345076,
           0.08675922648234789,
           0.18834832774177485
          ],
          [
           0.22350386360608504,
           0.194155265525986,
           0.21488645049356905,
           0.6986087600447575,
           0.5246353462628555,
           0.4728413203397296,
           0.7397180419588997,
           0.7678200374901869,
           0.4903997679127608,
           0.36432001902060174,
           1.0000000000000002,
           0.4623630694329218,
           0.3421736237901104,
           0.35422515717399217,
           0.7522820992304008,
           0.6914232351886089,
           0.2058460121552323,
           0.005350204386414654,
           0.6212790567176523,
           0.2957520127039687,
           0.36060111768653486,
           0.573336201622716,
           0.522807126228914,
           0.6329297030769414
          ],
          [
           0.28523478318273254,
           0.1580668860296354,
           0.18941036401758155,
           0.5919811960972613,
           0.6086634372047484,
           0.466982525447365,
           0.6081191771116112,
           0.4858902164876387,
           0.8287790603725234,
           0.3485496920056371,
           0.4623630694329219,
           1,
           0.40085061091014007,
           0.5820932285120863,
           0.42743749428521505,
           0.5650233326529366,
           0.08907343858846803,
           -0.19406249103026468,
           0.7153891892347453,
           0.3768081561723862,
           0.23569734515208074,
           0.6127057452681609,
           0.4852416454327945,
           0.46451882999574406
          ],
          [
           0.6843291223484314,
           0.716628982970788,
           0.7313489241582786,
           0.14519833450279465,
           0.18954446159813942,
           0.4516778749022973,
           0.1739197388120805,
           0.14808582393402628,
           0.46272148680315545,
           0.7792139997349365,
           0.3421736237901104,
           0.40085061091014007,
           0.9999999999999999,
           0.3504610957461011,
           0.21941008781373714,
           0.13152014501866977,
           0.5191440888350213,
           0.5224886800900698,
           0.5698345577162774,
           0.8052259733246098,
           0.8200450470579537,
           0.18280567112292673,
           0.15685427655895484,
           0.21049239521126292
          ],
          [
           0.21524620291811394,
           0.07732331137311119,
           0.15732613269293813,
           0.6285394913854248,
           0.5837189608800595,
           0.4026512120734729,
           0.6169653227808354,
           0.3369296025625232,
           0.6090708519950112,
           0.2445421225103764,
           0.3542251571739922,
           0.5820932285120864,
           0.3504610957461012,
           1,
           0.31664198264912247,
           0.6030915288280824,
           0.039464964278967715,
           -0.12473052603725154,
           0.4928994916278271,
           0.2589229877288763,
           0.189691265536694,
           0.5729079911153542,
           0.5662616249301159,
           0.42915417405523104
          ],
          [
           0.07685416616908844,
           0.005866566475852803,
           0.10844030506453047,
           0.5721481610157837,
           0.4979644284925976,
           0.428085653147127,
           0.6235868184567075,
           0.6794878746070934,
           0.4536207945379963,
           0.24473119503036916,
           0.7522820992304009,
           0.427437494285215,
           0.21941008781373714,
           0.3166419826491224,
           0.9999999999999999,
           0.5593959349894825,
           0.01117115724887956,
           -0.19784098567433914,
           0.6473424787419003,
           0.1785332132548278,
           0.20560730899452206,
           0.5392160907953305,
           0.3907794582703653,
           0.40799678964393216
          ],
          [
           -0.08023979467998274,
           -0.1670078954906695,
           -0.0704290489107045,
           0.9807087461965746,
           0.8157442047391738,
           0.3394817840337596,
           0.9550239174703822,
           0.7863247711986752,
           0.6360263629198565,
           0.06464470933968992,
           0.6914232351886089,
           0.5650233326529365,
           0.13152014501866974,
           0.6030915288280823,
           0.5593959349894825,
           1,
           -0.1438831893215335,
           -0.34953074332540257,
           0.6712266367098128,
           0.02755421553662016,
           0.07809517672916667,
           0.7993148898367114,
           0.8380045037390983,
           0.6804501935036044
          ],
          [
           0.6594083420078312,
           0.7687688835905895,
           0.6965081712437293,
           -0.10680991648160607,
           -0.10508018254403172,
           0.3123748597097815,
           -0.10790682683626947,
           -0.06191412004924201,
           0.05635824227069846,
           0.5747905697894483,
           0.2058460121552323,
           0.08907343858846803,
           0.5191440888350213,
           0.03946496427896773,
           0.011171157248879569,
           -0.14388318932153346,
           1,
           0.6968563474902866,
           0.18632102082513666,
           0.5733771952641037,
           0.5967429593687938,
           -0.09013144566688051,
           -0.07289336802393788,
           0.011287872675246894
          ],
          [
           0.6820662811170367,
           0.8066211533413984,
           0.7511534996752509,
           -0.33058494887759776,
           -0.3701916902006248,
           0.11223045027629697,
           -0.32053180534430425,
           -0.3372124501851243,
           -0.19719621913042948,
           0.5111286702875651,
           0.005350204386414696,
           -0.19406249103026463,
           0.5224886800900699,
           -0.12473052603725156,
           -0.19784098567433914,
           -0.34953074332540257,
           0.6968563474902865,
           1,
           -0.01942860041052449,
           0.5699142563885374,
           0.661371883974168,
           -0.3565452828796573,
           -0.20408691705556165,
           -0.1348009589917153
          ],
          [
           0.3569973232845567,
           0.281946108747906,
           0.38977722242460044,
           0.6974922799964076,
           0.5778470750109752,
           0.6483964364677344,
           0.7180717125516861,
           0.7595332693773356,
           0.7488695367665889,
           0.5707006176470331,
           0.6212790567176523,
           0.7153891892347453,
           0.5698345577162774,
           0.4928994916278271,
           0.6473424787419003,
           0.6712266367098128,
           0.18632102082513666,
           -0.01942860041052449,
           1,
           0.48880838885978917,
           0.5468948158162468,
           0.5818123007338313,
           0.5370604622826624,
           0.5949117045145109
          ],
          [
           0.7689781182421525,
           0.7698260323718907,
           0.7612428549278335,
           0.04813743743749989,
           0.07145066179252396,
           0.3932946232871906,
           0.0844656801278062,
           0.1053958315867559,
           0.296508778322407,
           0.7610771135751813,
           0.2957520127039687,
           0.3768081561723862,
           0.8052259733246099,
           0.2589229877288763,
           0.1785332132548278,
           0.027554215536620172,
           0.5733771952641037,
           0.5699142563885374,
           0.48880838885978917,
           1,
           0.7245647871918485,
           0.07485443441964935,
           0.047073157617663806,
           0.1748488772502729
          ],
          [
           0.7292473142297039,
           0.7394628429483813,
           0.7349197109311366,
           0.09654110404237967,
           0.056943975011355126,
           0.4415120738887657,
           0.12137505045592872,
           0.14500821189344862,
           0.25967749904069426,
           0.8180969371098743,
           0.36060111768653486,
           0.2356973451520807,
           0.8200450470579537,
           0.18969126553669396,
           0.20560730899452204,
           0.07809517672916669,
           0.5967429593687937,
           0.6613718839741679,
           0.5468948158162467,
           0.7245647871918482,
           1.0000000000000002,
           0.09201328630810958,
           0.16639424716194,
           0.20116250488644333
          ],
          [
           -0.008361011993599543,
           -0.13747278146379882,
           -0.034301012613231936,
           0.8041637712462325,
           0.9717979961302932,
           0.3989592229805307,
           0.8314608818571931,
           0.6544011653918143,
           0.6716704444758121,
           0.10997799847345077,
           0.5733362016227161,
           0.6127057452681609,
           0.18280567112292673,
           0.5729079911153542,
           0.5392160907953306,
           0.7993148898367114,
           -0.0901314456668805,
           -0.3565452828796573,
           0.5818123007338314,
           0.07485443441964935,
           0.0920132863081096,
           0.9999999999999999,
           0.6792023988580607,
           0.5668440477069654
          ],
          [
           -0.022775931427923012,
           -0.1012030217580471,
           -0.02568818147692544,
           0.8012947750563196,
           0.69250706944831,
           0.30669007437823975,
           0.7906732441183477,
           0.5105610578823415,
           0.5493251776748971,
           0.0867592264823479,
           0.5228071262289141,
           0.48524164543279463,
           0.1568542765589549,
           0.5662616249301159,
           0.3907794582703653,
           0.8380045037390983,
           -0.07289336802393788,
           -0.20408691705556167,
           0.5370604622826624,
           0.047073157617663806,
           0.16639424716194,
           0.6792023988580607,
           1,
           0.5827949293141229
          ],
          [
           0.09688993607082627,
           0.027374421611420303,
           0.1121854232410924,
           0.6933049432610464,
           0.5849138606013015,
           0.31429138824840414,
           0.7048708768661587,
           0.6595163976815855,
           0.5127496269031221,
           0.18834832774177485,
           0.6329297030769414,
           0.46451882999574406,
           0.21049239521126292,
           0.42915417405523093,
           0.4079967896439322,
           0.6804501935036045,
           0.011287872675246885,
           -0.1348009589917153,
           0.5949117045145109,
           0.1748488772502729,
           0.20116250488644333,
           0.5668440477069654,
           0.5827949293141229,
           1
          ]
         ]
        }
       ],
       "layout": {
        "coloraxis": {
         "colorscale": [
          [
           0,
           "#0d0887"
          ],
          [
           0.1111111111111111,
           "#46039f"
          ],
          [
           0.2222222222222222,
           "#7201a8"
          ],
          [
           0.3333333333333333,
           "#9c179e"
          ],
          [
           0.4444444444444444,
           "#bd3786"
          ],
          [
           0.5555555555555556,
           "#d8576b"
          ],
          [
           0.6666666666666666,
           "#ed7953"
          ],
          [
           0.7777777777777778,
           "#fb9f3a"
          ],
          [
           0.8888888888888888,
           "#fdca26"
          ],
          [
           1,
           "#f0f921"
          ]
         ]
        },
        "margin": {
         "t": 60
        },
        "template": {
         "data": {
          "bar": [
           {
            "error_x": {
             "color": "#2a3f5f"
            },
            "error_y": {
             "color": "#2a3f5f"
            },
            "marker": {
             "line": {
              "color": "#E5ECF6",
              "width": 0.5
             },
             "pattern": {
              "fillmode": "overlay",
              "size": 10,
              "solidity": 0.2
             }
            },
            "type": "bar"
           }
          ],
          "barpolar": [
           {
            "marker": {
             "line": {
              "color": "#E5ECF6",
              "width": 0.5
             },
             "pattern": {
              "fillmode": "overlay",
              "size": 10,
              "solidity": 0.2
             }
            },
            "type": "barpolar"
           }
          ],
          "carpet": [
           {
            "aaxis": {
             "endlinecolor": "#2a3f5f",
             "gridcolor": "white",
             "linecolor": "white",
             "minorgridcolor": "white",
             "startlinecolor": "#2a3f5f"
            },
            "baxis": {
             "endlinecolor": "#2a3f5f",
             "gridcolor": "white",
             "linecolor": "white",
             "minorgridcolor": "white",
             "startlinecolor": "#2a3f5f"
            },
            "type": "carpet"
           }
          ],
          "choropleth": [
           {
            "colorbar": {
             "outlinewidth": 0,
             "ticks": ""
            },
            "type": "choropleth"
           }
          ],
          "contour": [
           {
            "colorbar": {
             "outlinewidth": 0,
             "ticks": ""
            },
            "colorscale": [
             [
              0,
              "#0d0887"
             ],
             [
              0.1111111111111111,
              "#46039f"
             ],
             [
              0.2222222222222222,
              "#7201a8"
             ],
             [
              0.3333333333333333,
              "#9c179e"
             ],
             [
              0.4444444444444444,
              "#bd3786"
             ],
             [
              0.5555555555555556,
              "#d8576b"
             ],
             [
              0.6666666666666666,
              "#ed7953"
             ],
             [
              0.7777777777777778,
              "#fb9f3a"
             ],
             [
              0.8888888888888888,
              "#fdca26"
             ],
             [
              1,
              "#f0f921"
             ]
            ],
            "type": "contour"
           }
          ],
          "contourcarpet": [
           {
            "colorbar": {
             "outlinewidth": 0,
             "ticks": ""
            },
            "type": "contourcarpet"
           }
          ],
          "heatmap": [
           {
            "colorbar": {
             "outlinewidth": 0,
             "ticks": ""
            },
            "colorscale": [
             [
              0,
              "#0d0887"
             ],
             [
              0.1111111111111111,
              "#46039f"
             ],
             [
              0.2222222222222222,
              "#7201a8"
             ],
             [
              0.3333333333333333,
              "#9c179e"
             ],
             [
              0.4444444444444444,
              "#bd3786"
             ],
             [
              0.5555555555555556,
              "#d8576b"
             ],
             [
              0.6666666666666666,
              "#ed7953"
             ],
             [
              0.7777777777777778,
              "#fb9f3a"
             ],
             [
              0.8888888888888888,
              "#fdca26"
             ],
             [
              1,
              "#f0f921"
             ]
            ],
            "type": "heatmap"
           }
          ],
          "heatmapgl": [
           {
            "colorbar": {
             "outlinewidth": 0,
             "ticks": ""
            },
            "colorscale": [
             [
              0,
              "#0d0887"
             ],
             [
              0.1111111111111111,
              "#46039f"
             ],
             [
              0.2222222222222222,
              "#7201a8"
             ],
             [
              0.3333333333333333,
              "#9c179e"
             ],
             [
              0.4444444444444444,
              "#bd3786"
             ],
             [
              0.5555555555555556,
              "#d8576b"
             ],
             [
              0.6666666666666666,
              "#ed7953"
             ],
             [
              0.7777777777777778,
              "#fb9f3a"
             ],
             [
              0.8888888888888888,
              "#fdca26"
             ],
             [
              1,
              "#f0f921"
             ]
            ],
            "type": "heatmapgl"
           }
          ],
          "histogram": [
           {
            "marker": {
             "pattern": {
              "fillmode": "overlay",
              "size": 10,
              "solidity": 0.2
             }
            },
            "type": "histogram"
           }
          ],
          "histogram2d": [
           {
            "colorbar": {
             "outlinewidth": 0,
             "ticks": ""
            },
            "colorscale": [
             [
              0,
              "#0d0887"
             ],
             [
              0.1111111111111111,
              "#46039f"
             ],
             [
              0.2222222222222222,
              "#7201a8"
             ],
             [
              0.3333333333333333,
              "#9c179e"
             ],
             [
              0.4444444444444444,
              "#bd3786"
             ],
             [
              0.5555555555555556,
              "#d8576b"
             ],
             [
              0.6666666666666666,
              "#ed7953"
             ],
             [
              0.7777777777777778,
              "#fb9f3a"
             ],
             [
              0.8888888888888888,
              "#fdca26"
             ],
             [
              1,
              "#f0f921"
             ]
            ],
            "type": "histogram2d"
           }
          ],
          "histogram2dcontour": [
           {
            "colorbar": {
             "outlinewidth": 0,
             "ticks": ""
            },
            "colorscale": [
             [
              0,
              "#0d0887"
             ],
             [
              0.1111111111111111,
              "#46039f"
             ],
             [
              0.2222222222222222,
              "#7201a8"
             ],
             [
              0.3333333333333333,
              "#9c179e"
             ],
             [
              0.4444444444444444,
              "#bd3786"
             ],
             [
              0.5555555555555556,
              "#d8576b"
             ],
             [
              0.6666666666666666,
              "#ed7953"
             ],
             [
              0.7777777777777778,
              "#fb9f3a"
             ],
             [
              0.8888888888888888,
              "#fdca26"
             ],
             [
              1,
              "#f0f921"
             ]
            ],
            "type": "histogram2dcontour"
           }
          ],
          "mesh3d": [
           {
            "colorbar": {
             "outlinewidth": 0,
             "ticks": ""
            },
            "type": "mesh3d"
           }
          ],
          "parcoords": [
           {
            "line": {
             "colorbar": {
              "outlinewidth": 0,
              "ticks": ""
             }
            },
            "type": "parcoords"
           }
          ],
          "pie": [
           {
            "automargin": true,
            "type": "pie"
           }
          ],
          "scatter": [
           {
            "marker": {
             "colorbar": {
              "outlinewidth": 0,
              "ticks": ""
             }
            },
            "type": "scatter"
           }
          ],
          "scatter3d": [
           {
            "line": {
             "colorbar": {
              "outlinewidth": 0,
              "ticks": ""
             }
            },
            "marker": {
             "colorbar": {
              "outlinewidth": 0,
              "ticks": ""
             }
            },
            "type": "scatter3d"
           }
          ],
          "scattercarpet": [
           {
            "marker": {
             "colorbar": {
              "outlinewidth": 0,
              "ticks": ""
             }
            },
            "type": "scattercarpet"
           }
          ],
          "scattergeo": [
           {
            "marker": {
             "colorbar": {
              "outlinewidth": 0,
              "ticks": ""
             }
            },
            "type": "scattergeo"
           }
          ],
          "scattergl": [
           {
            "marker": {
             "colorbar": {
              "outlinewidth": 0,
              "ticks": ""
             }
            },
            "type": "scattergl"
           }
          ],
          "scattermapbox": [
           {
            "marker": {
             "colorbar": {
              "outlinewidth": 0,
              "ticks": ""
             }
            },
            "type": "scattermapbox"
           }
          ],
          "scatterpolar": [
           {
            "marker": {
             "colorbar": {
              "outlinewidth": 0,
              "ticks": ""
             }
            },
            "type": "scatterpolar"
           }
          ],
          "scatterpolargl": [
           {
            "marker": {
             "colorbar": {
              "outlinewidth": 0,
              "ticks": ""
             }
            },
            "type": "scatterpolargl"
           }
          ],
          "scatterternary": [
           {
            "marker": {
             "colorbar": {
              "outlinewidth": 0,
              "ticks": ""
             }
            },
            "type": "scatterternary"
           }
          ],
          "surface": [
           {
            "colorbar": {
             "outlinewidth": 0,
             "ticks": ""
            },
            "colorscale": [
             [
              0,
              "#0d0887"
             ],
             [
              0.1111111111111111,
              "#46039f"
             ],
             [
              0.2222222222222222,
              "#7201a8"
             ],
             [
              0.3333333333333333,
              "#9c179e"
             ],
             [
              0.4444444444444444,
              "#bd3786"
             ],
             [
              0.5555555555555556,
              "#d8576b"
             ],
             [
              0.6666666666666666,
              "#ed7953"
             ],
             [
              0.7777777777777778,
              "#fb9f3a"
             ],
             [
              0.8888888888888888,
              "#fdca26"
             ],
             [
              1,
              "#f0f921"
             ]
            ],
            "type": "surface"
           }
          ],
          "table": [
           {
            "cells": {
             "fill": {
              "color": "#EBF0F8"
             },
             "line": {
              "color": "white"
             }
            },
            "header": {
             "fill": {
              "color": "#C8D4E3"
             },
             "line": {
              "color": "white"
             }
            },
            "type": "table"
           }
          ]
         },
         "layout": {
          "annotationdefaults": {
           "arrowcolor": "#2a3f5f",
           "arrowhead": 0,
           "arrowwidth": 1
          },
          "autotypenumbers": "strict",
          "coloraxis": {
           "colorbar": {
            "outlinewidth": 0,
            "ticks": ""
           }
          },
          "colorscale": {
           "diverging": [
            [
             0,
             "#8e0152"
            ],
            [
             0.1,
             "#c51b7d"
            ],
            [
             0.2,
             "#de77ae"
            ],
            [
             0.3,
             "#f1b6da"
            ],
            [
             0.4,
             "#fde0ef"
            ],
            [
             0.5,
             "#f7f7f7"
            ],
            [
             0.6,
             "#e6f5d0"
            ],
            [
             0.7,
             "#b8e186"
            ],
            [
             0.8,
             "#7fbc41"
            ],
            [
             0.9,
             "#4d9221"
            ],
            [
             1,
             "#276419"
            ]
           ],
           "sequential": [
            [
             0,
             "#0d0887"
            ],
            [
             0.1111111111111111,
             "#46039f"
            ],
            [
             0.2222222222222222,
             "#7201a8"
            ],
            [
             0.3333333333333333,
             "#9c179e"
            ],
            [
             0.4444444444444444,
             "#bd3786"
            ],
            [
             0.5555555555555556,
             "#d8576b"
            ],
            [
             0.6666666666666666,
             "#ed7953"
            ],
            [
             0.7777777777777778,
             "#fb9f3a"
            ],
            [
             0.8888888888888888,
             "#fdca26"
            ],
            [
             1,
             "#f0f921"
            ]
           ],
           "sequentialminus": [
            [
             0,
             "#0d0887"
            ],
            [
             0.1111111111111111,
             "#46039f"
            ],
            [
             0.2222222222222222,
             "#7201a8"
            ],
            [
             0.3333333333333333,
             "#9c179e"
            ],
            [
             0.4444444444444444,
             "#bd3786"
            ],
            [
             0.5555555555555556,
             "#d8576b"
            ],
            [
             0.6666666666666666,
             "#ed7953"
            ],
            [
             0.7777777777777778,
             "#fb9f3a"
            ],
            [
             0.8888888888888888,
             "#fdca26"
            ],
            [
             1,
             "#f0f921"
            ]
           ]
          },
          "colorway": [
           "#636efa",
           "#EF553B",
           "#00cc96",
           "#ab63fa",
           "#FFA15A",
           "#19d3f3",
           "#FF6692",
           "#B6E880",
           "#FF97FF",
           "#FECB52"
          ],
          "font": {
           "color": "#2a3f5f"
          },
          "geo": {
           "bgcolor": "white",
           "lakecolor": "white",
           "landcolor": "#E5ECF6",
           "showlakes": true,
           "showland": true,
           "subunitcolor": "white"
          },
          "hoverlabel": {
           "align": "left"
          },
          "hovermode": "closest",
          "mapbox": {
           "style": "light"
          },
          "paper_bgcolor": "white",
          "plot_bgcolor": "#E5ECF6",
          "polar": {
           "angularaxis": {
            "gridcolor": "white",
            "linecolor": "white",
            "ticks": ""
           },
           "bgcolor": "#E5ECF6",
           "radialaxis": {
            "gridcolor": "white",
            "linecolor": "white",
            "ticks": ""
           }
          },
          "scene": {
           "xaxis": {
            "backgroundcolor": "#E5ECF6",
            "gridcolor": "white",
            "gridwidth": 2,
            "linecolor": "white",
            "showbackground": true,
            "ticks": "",
            "zerolinecolor": "white"
           },
           "yaxis": {
            "backgroundcolor": "#E5ECF6",
            "gridcolor": "white",
            "gridwidth": 2,
            "linecolor": "white",
            "showbackground": true,
            "ticks": "",
            "zerolinecolor": "white"
           },
           "zaxis": {
            "backgroundcolor": "#E5ECF6",
            "gridcolor": "white",
            "gridwidth": 2,
            "linecolor": "white",
            "showbackground": true,
            "ticks": "",
            "zerolinecolor": "white"
           }
          },
          "shapedefaults": {
           "line": {
            "color": "#2a3f5f"
           }
          },
          "ternary": {
           "aaxis": {
            "gridcolor": "white",
            "linecolor": "white",
            "ticks": ""
           },
           "baxis": {
            "gridcolor": "white",
            "linecolor": "white",
            "ticks": ""
           },
           "bgcolor": "#E5ECF6",
           "caxis": {
            "gridcolor": "white",
            "linecolor": "white",
            "ticks": ""
           }
          },
          "title": {
           "x": 0.05
          },
          "xaxis": {
           "automargin": true,
           "gridcolor": "white",
           "linecolor": "white",
           "ticks": "",
           "title": {
            "standoff": 15
           },
           "zerolinecolor": "white",
           "zerolinewidth": 2
          },
          "yaxis": {
           "automargin": true,
           "gridcolor": "white",
           "linecolor": "white",
           "ticks": "",
           "title": {
            "standoff": 15
           },
           "zerolinecolor": "white",
           "zerolinewidth": 2
          }
         }
        },
        "xaxis": {
         "anchor": "y",
         "constrain": "domain",
         "domain": [
          0,
          1
         ],
         "scaleanchor": "y"
        },
        "yaxis": {
         "anchor": "x",
         "autorange": "reversed",
         "constrain": "domain",
         "domain": [
          0,
          1
         ]
        }
       }
      }
     },
     "metadata": {},
     "output_type": "display_data"
    }
   ],
   "source": [
    "px.imshow(corr)"
   ]
  },
  {
   "cell_type": "code",
   "execution_count": 164,
   "id": "a5cb7c8b",
   "metadata": {},
   "outputs": [],
   "source": [
    "bond_tickers = ['BND', 'EMB', 'HYG', 'TIP', 'TLT', 'LQD', 'BIV', 'PFF']\n",
    "equity_tickers = ['XLU', 'VNQ', 'SDY', 'HDV']"
   ]
  },
  {
   "cell_type": "code",
   "execution_count": 165,
   "id": "cf20040f",
   "metadata": {},
   "outputs": [],
   "source": [
    "stable_ticks = bond_tickers\n",
    "higher_ticks = bond_tickers + equity_tickers"
   ]
  },
  {
   "cell_type": "code",
   "execution_count": 166,
   "id": "3ef44689",
   "metadata": {},
   "outputs": [],
   "source": [
    "stable_prices = prices[stable_ticks]\n",
    "higher_prices = prices[higher_ticks]"
   ]
  },
  {
   "cell_type": "code",
   "execution_count": 167,
   "id": "5e80f416",
   "metadata": {},
   "outputs": [
    {
     "data": {
      "text/plain": [
       "OrderedDict([('BND', 0.23872),\n",
       "             ('EMB', 0.08677),\n",
       "             ('HYG', 0.06665),\n",
       "             ('TIP', 0.15832),\n",
       "             ('TLT', 0.03114),\n",
       "             ('LQD', 0.08834),\n",
       "             ('BIV', 0.30739),\n",
       "             ('PFF', 0.02266)])"
      ]
     },
     "execution_count": 167,
     "metadata": {},
     "output_type": "execute_result"
    }
   ],
   "source": [
    "from pypfopt import HRPOpt\n",
    "\n",
    "rets = expected_returns.returns_from_prices(stable_prices)\n",
    "hrp = HRPOpt(rets)\n",
    "hrp.optimize()\n",
    "weights = hrp.clean_weights()\n",
    "weights"
   ]
  },
  {
   "cell_type": "code",
   "execution_count": 168,
   "id": "af9c2808",
   "metadata": {},
   "outputs": [
    {
     "data": {
      "text/plain": [
       "OrderedDict([('BND', 0.29607),\n",
       "             ('EMB', 0.04986),\n",
       "             ('HYG', 0.05403),\n",
       "             ('TIP', 0.15858),\n",
       "             ('TLT', 0.03085),\n",
       "             ('LQD', 0.13414),\n",
       "             ('BIV', 0.17665),\n",
       "             ('PFF', 0.02665),\n",
       "             ('XLU', 0.01913),\n",
       "             ('VNQ', 0.01217),\n",
       "             ('SDY', 0.01546),\n",
       "             ('HDV', 0.02641)])"
      ]
     },
     "execution_count": 168,
     "metadata": {},
     "output_type": "execute_result"
    }
   ],
   "source": [
    "rets = expected_returns.returns_from_prices(higher_prices)\n",
    "hrp = HRPOpt(rets)\n",
    "hrp.optimize()\n",
    "weights = hrp.clean_weights()\n",
    "weights"
   ]
  },
  {
   "cell_type": "code",
   "execution_count": 156,
   "id": "6d2f0822",
   "metadata": {},
   "outputs": [
    {
     "name": "stdout",
     "output_type": "stream",
     "text": [
      "Expected annual return: 4.3%\n",
      "Annual volatility: 5.4%\n",
      "Sharpe Ratio: 0.42\n"
     ]
    }
   ],
   "source": [
    "hrp.portfolio_performance(verbose=True);\n"
   ]
  },
  {
   "cell_type": "code",
   "execution_count": 157,
   "id": "a22058f4",
   "metadata": {},
   "outputs": [
    {
     "data": {
      "image/png": "[encoded data removed]",
      "text/plain": [
       "<Figure size 432x288 with 1 Axes>"
      ]
     },
     "metadata": {
      "needs_background": "light"
     },
     "output_type": "display_data"
    }
   ],
   "source": []
  },
  {
   "cell_type": "code",
   "execution_count": null,
   "id": "f831ff8b",
   "metadata": {},
   "outputs": [],
   "source": []
  },
  {
   "cell_type": "code",
   "execution_count": 31,
   "id": "21612ee0",
   "metadata": {},
   "outputs": [
    {
     "data": {
      "text/html": [
       "<div>\n",
       "<style scoped>\n",
       "    .dataframe tbody tr th:only-of-type {\n",
       "        vertical-align: middle;\n",
       "    }\n",
       "\n",
       "    .dataframe tbody tr th {\n",
       "        vertical-align: top;\n",
       "    }\n",
       "\n",
       "    .dataframe thead th {\n",
       "        text-align: right;\n",
       "    }\n",
       "</style>\n",
       "<table border=\"1\" class=\"dataframe\">\n",
       "  <thead>\n",
       "    <tr style=\"text-align: right;\">\n",
       "      <th></th>\n",
       "      <th>ticker_type</th>\n",
       "      <th>ticker_id</th>\n",
       "      <th>name</th>\n",
       "      <th>dvd_rate</th>\n",
       "      <th>start_date</th>\n",
       "      <th>mean_volume</th>\n",
       "    </tr>\n",
       "  </thead>\n",
       "  <tbody>\n",
       "    <tr>\n",
       "      <th>IEF</th>\n",
       "      <td>etf</td>\n",
       "      <td>913243140</td>\n",
       "      <td>iShares 7-10 Year Treasury Bond ETF</td>\n",
       "      <td>0.037435</td>\n",
       "      <td>2002-07-30</td>\n",
       "      <td>7.789057e+06</td>\n",
       "    </tr>\n",
       "    <tr>\n",
       "      <th>BND</th>\n",
       "      <td>etf</td>\n",
       "      <td>913242959</td>\n",
       "      <td>Vanguard Total Bond Market ETF</td>\n",
       "      <td>0.038036</td>\n",
       "      <td>2007-04-10</td>\n",
       "      <td>7.145629e+06</td>\n",
       "    </tr>\n",
       "    <tr>\n",
       "      <th>SPAB</th>\n",
       "      <td>etf</td>\n",
       "      <td>913247161</td>\n",
       "      <td>SPDR Portfolio Aggregate Bond ETF</td>\n",
       "      <td>0.038405</td>\n",
       "      <td>2007-05-30</td>\n",
       "      <td>3.093268e+06</td>\n",
       "    </tr>\n",
       "    <tr>\n",
       "      <th>EWT</th>\n",
       "      <td>etf</td>\n",
       "      <td>913243136</td>\n",
       "      <td>iShares MSCI Taiwan ETF</td>\n",
       "      <td>0.040599</td>\n",
       "      <td>2000-06-23</td>\n",
       "      <td>4.081888e+06</td>\n",
       "    </tr>\n",
       "    <tr>\n",
       "      <th>VCIT</th>\n",
       "      <td>etf</td>\n",
       "      <td>913243285</td>\n",
       "      <td>Vanguard Intermediate-Term Corporate Bond ETF</td>\n",
       "      <td>0.040727</td>\n",
       "      <td>2009-11-23</td>\n",
       "      <td>6.864897e+06</td>\n",
       "    </tr>\n",
       "    <tr>\n",
       "      <th>AGG</th>\n",
       "      <td>etf</td>\n",
       "      <td>913243907</td>\n",
       "      <td>iShares Core U.S. Aggregate Bond ETF</td>\n",
       "      <td>0.041104</td>\n",
       "      <td>2003-09-29</td>\n",
       "      <td>8.396519e+06</td>\n",
       "    </tr>\n",
       "    <tr>\n",
       "      <th>TIP</th>\n",
       "      <td>etf</td>\n",
       "      <td>913243809</td>\n",
       "      <td>iShares TIPS Bond ETF</td>\n",
       "      <td>0.041182</td>\n",
       "      <td>2003-12-05</td>\n",
       "      <td>4.824881e+06</td>\n",
       "    </tr>\n",
       "    <tr>\n",
       "      <th>FEZ</th>\n",
       "      <td>etf</td>\n",
       "      <td>913243857</td>\n",
       "      <td>SPDR EURO STOXX 50 ETF</td>\n",
       "      <td>0.042707</td>\n",
       "      <td>2002-10-21</td>\n",
       "      <td>3.577760e+06</td>\n",
       "    </tr>\n",
       "    <tr>\n",
       "      <th>EWC</th>\n",
       "      <td>etf</td>\n",
       "      <td>913243131</td>\n",
       "      <td>iShares MSCI Canada ETF</td>\n",
       "      <td>0.044091</td>\n",
       "      <td>1996-03-18</td>\n",
       "      <td>5.586614e+06</td>\n",
       "    </tr>\n",
       "    <tr>\n",
       "      <th>EWH</th>\n",
       "      <td>etf</td>\n",
       "      <td>913243102</td>\n",
       "      <td>iShares MSCI Hong Kong ETF</td>\n",
       "      <td>0.044304</td>\n",
       "      <td>1996-03-18</td>\n",
       "      <td>4.038926e+06</td>\n",
       "    </tr>\n",
       "    <tr>\n",
       "      <th>TLT</th>\n",
       "      <td>etf</td>\n",
       "      <td>913243154</td>\n",
       "      <td>iShares 20+ Year Treasury Bond ETF</td>\n",
       "      <td>0.046353</td>\n",
       "      <td>2002-07-30</td>\n",
       "      <td>2.086052e+07</td>\n",
       "    </tr>\n",
       "    <tr>\n",
       "      <th>EFV</th>\n",
       "      <td>etf</td>\n",
       "      <td>913244198</td>\n",
       "      <td>iShares MSCI EAFE Value ETF</td>\n",
       "      <td>0.048775</td>\n",
       "      <td>2005-08-05</td>\n",
       "      <td>4.237917e+06</td>\n",
       "    </tr>\n",
       "    <tr>\n",
       "      <th>SPYD</th>\n",
       "      <td>etf</td>\n",
       "      <td>913247588</td>\n",
       "      <td>SPDR Portfolio S&amp;P 500 High Dividend ETF</td>\n",
       "      <td>0.048876</td>\n",
       "      <td>2015-10-22</td>\n",
       "      <td>2.472369e+06</td>\n",
       "    </tr>\n",
       "    <tr>\n",
       "      <th>EWZ</th>\n",
       "      <td>etf</td>\n",
       "      <td>913243122</td>\n",
       "      <td>iShares MSCI Brazil ETF</td>\n",
       "      <td>0.051259</td>\n",
       "      <td>2000-07-14</td>\n",
       "      <td>2.797599e+07</td>\n",
       "    </tr>\n",
       "    <tr>\n",
       "      <th>VGK</th>\n",
       "      <td>etf</td>\n",
       "      <td>913244075</td>\n",
       "      <td>Vanguard FTSE Europe ETF</td>\n",
       "      <td>0.051344</td>\n",
       "      <td>2005-03-10</td>\n",
       "      <td>6.803504e+06</td>\n",
       "    </tr>\n",
       "    <tr>\n",
       "      <th>XLU</th>\n",
       "      <td>etf</td>\n",
       "      <td>913243088</td>\n",
       "      <td>Utilities Select Sector SPDR Fund</td>\n",
       "      <td>0.052663</td>\n",
       "      <td>1998-12-22</td>\n",
       "      <td>1.608758e+07</td>\n",
       "    </tr>\n",
       "    <tr>\n",
       "      <th>HYLB</th>\n",
       "      <td>etf</td>\n",
       "      <td>925182758</td>\n",
       "      <td>Xtrackers USD High Yield Corporate Bond ETF</td>\n",
       "      <td>0.054541</td>\n",
       "      <td>2016-12-13</td>\n",
       "      <td>4.276497e+06</td>\n",
       "    </tr>\n",
       "    <tr>\n",
       "      <th>SRLN</th>\n",
       "      <td>etf</td>\n",
       "      <td>913247450</td>\n",
       "      <td>SPDR Blackstone Senior Loan ETF</td>\n",
       "      <td>0.056942</td>\n",
       "      <td>2013-04-04</td>\n",
       "      <td>4.387239e+06</td>\n",
       "    </tr>\n",
       "    <tr>\n",
       "      <th>USHY</th>\n",
       "      <td>etf</td>\n",
       "      <td>925381699</td>\n",
       "      <td>iShares Broad USD High Yield Corporate Bond ETF</td>\n",
       "      <td>0.057291</td>\n",
       "      <td>2017-10-26</td>\n",
       "      <td>5.939627e+06</td>\n",
       "    </tr>\n",
       "    <tr>\n",
       "      <th>BKLN</th>\n",
       "      <td>etf</td>\n",
       "      <td>913247485</td>\n",
       "      <td>Invesco Senior Loan ETF</td>\n",
       "      <td>0.057741</td>\n",
       "      <td>2011-03-03</td>\n",
       "      <td>1.143756e+07</td>\n",
       "    </tr>\n",
       "    <tr>\n",
       "      <th>VNQ</th>\n",
       "      <td>etf</td>\n",
       "      <td>913243989</td>\n",
       "      <td>Vanguard Real Estate ETF</td>\n",
       "      <td>0.063369</td>\n",
       "      <td>2004-09-29</td>\n",
       "      <td>5.647338e+06</td>\n",
       "    </tr>\n",
       "    <tr>\n",
       "      <th>EWU</th>\n",
       "      <td>etf</td>\n",
       "      <td>913243137</td>\n",
       "      <td>iShares MSCI United Kingdom ETF</td>\n",
       "      <td>0.063675</td>\n",
       "      <td>1996-03-18</td>\n",
       "      <td>4.266260e+06</td>\n",
       "    </tr>\n",
       "    <tr>\n",
       "      <th>LQD</th>\n",
       "      <td>etf</td>\n",
       "      <td>913243139</td>\n",
       "      <td>iShares iBoxx $ Investment Grade Corporate Bon...</td>\n",
       "      <td>0.065221</td>\n",
       "      <td>2002-07-30</td>\n",
       "      <td>2.011225e+07</td>\n",
       "    </tr>\n",
       "    <tr>\n",
       "      <th>IYR</th>\n",
       "      <td>etf</td>\n",
       "      <td>913243104</td>\n",
       "      <td>iShares U.S. Real Estate ETF</td>\n",
       "      <td>0.065498</td>\n",
       "      <td>2000-06-19</td>\n",
       "      <td>7.833371e+06</td>\n",
       "    </tr>\n",
       "    <tr>\n",
       "      <th>EMB</th>\n",
       "      <td>etf</td>\n",
       "      <td>913243405</td>\n",
       "      <td>iShares JP Morgan USD Emerging Markets Bond ETF</td>\n",
       "      <td>0.065951</td>\n",
       "      <td>2007-12-19</td>\n",
       "      <td>7.444670e+06</td>\n",
       "    </tr>\n",
       "    <tr>\n",
       "      <th>FPE</th>\n",
       "      <td>etf</td>\n",
       "      <td>913243254</td>\n",
       "      <td>First Trust Preferred Securities &amp; Income ETF</td>\n",
       "      <td>0.069810</td>\n",
       "      <td>2013-02-12</td>\n",
       "      <td>2.548393e+06</td>\n",
       "    </tr>\n",
       "    <tr>\n",
       "      <th>EWA</th>\n",
       "      <td>etf</td>\n",
       "      <td>913243113</td>\n",
       "      <td>iShares MSCI Australia ETF</td>\n",
       "      <td>0.072963</td>\n",
       "      <td>1996-03-18</td>\n",
       "      <td>5.337610e+06</td>\n",
       "    </tr>\n",
       "    <tr>\n",
       "      <th>SJNK</th>\n",
       "      <td>etf</td>\n",
       "      <td>913246720</td>\n",
       "      <td>SPDR Bloomberg Short Term High Yield Bond ETF</td>\n",
       "      <td>0.073867</td>\n",
       "      <td>2012-04-09</td>\n",
       "      <td>7.045282e+06</td>\n",
       "    </tr>\n",
       "    <tr>\n",
       "      <th>JEPI</th>\n",
       "      <td>etf</td>\n",
       "      <td>950165022</td>\n",
       "      <td>JPMorgan Equity Premium Income ETF</td>\n",
       "      <td>0.080433</td>\n",
       "      <td>2020-05-21</td>\n",
       "      <td>2.685233e+06</td>\n",
       "    </tr>\n",
       "    <tr>\n",
       "      <th>PDBC</th>\n",
       "      <td>etf</td>\n",
       "      <td>913247532</td>\n",
       "      <td>Invesco Optimum Yield Diversified Commodity St...</td>\n",
       "      <td>0.098250</td>\n",
       "      <td>2014-11-07</td>\n",
       "      <td>6.801316e+06</td>\n",
       "    </tr>\n",
       "    <tr>\n",
       "      <th>PGX</th>\n",
       "      <td>etf</td>\n",
       "      <td>913245125</td>\n",
       "      <td>Invesco Preferred ETF</td>\n",
       "      <td>0.102897</td>\n",
       "      <td>2008-01-31</td>\n",
       "      <td>4.888020e+06</td>\n",
       "    </tr>\n",
       "    <tr>\n",
       "      <th>PFF</th>\n",
       "      <td>etf</td>\n",
       "      <td>950001535</td>\n",
       "      <td>iShares Preferred &amp; Income Securities ETF</td>\n",
       "      <td>0.103712</td>\n",
       "      <td>2007-03-30</td>\n",
       "      <td>4.490449e+06</td>\n",
       "    </tr>\n",
       "    <tr>\n",
       "      <th>HYG</th>\n",
       "      <td>etf</td>\n",
       "      <td>913242920</td>\n",
       "      <td>iShares iBoxx $ High Yield Corporate Bond ETF</td>\n",
       "      <td>0.105661</td>\n",
       "      <td>2007-04-11</td>\n",
       "      <td>4.094820e+07</td>\n",
       "    </tr>\n",
       "    <tr>\n",
       "      <th>AMLP</th>\n",
       "      <td>etf</td>\n",
       "      <td>913245861</td>\n",
       "      <td>Alerian MLP ETF</td>\n",
       "      <td>0.119870</td>\n",
       "      <td>2010-08-25</td>\n",
       "      <td>2.722110e+06</td>\n",
       "    </tr>\n",
       "    <tr>\n",
       "      <th>JNK</th>\n",
       "      <td>etf</td>\n",
       "      <td>913247556</td>\n",
       "      <td>SPDR Bloomberg High Yield Bond ETF</td>\n",
       "      <td>0.120774</td>\n",
       "      <td>2007-12-04</td>\n",
       "      <td>1.087163e+07</td>\n",
       "    </tr>\n",
       "    <tr>\n",
       "      <th>QYLD</th>\n",
       "      <td>etf</td>\n",
       "      <td>913246309</td>\n",
       "      <td>Global X NASDAQ 100 Covered Call ETF</td>\n",
       "      <td>0.155992</td>\n",
       "      <td>2013-12-12</td>\n",
       "      <td>5.154497e+06</td>\n",
       "    </tr>\n",
       "  </tbody>\n",
       "</table>\n",
       "</div>"
      ],
      "text/plain": [
       "     ticker_type  ticker_id  \\\n",
       "IEF          etf  913243140   \n",
       "BND          etf  913242959   \n",
       "SPAB         etf  913247161   \n",
       "EWT          etf  913243136   \n",
       "VCIT         etf  913243285   \n",
       "AGG          etf  913243907   \n",
       "TIP          etf  913243809   \n",
       "FEZ          etf  913243857   \n",
       "EWC          etf  913243131   \n",
       "EWH          etf  913243102   \n",
       "TLT          etf  913243154   \n",
       "EFV          etf  913244198   \n",
       "SPYD         etf  913247588   \n",
       "EWZ          etf  913243122   \n",
       "VGK          etf  913244075   \n",
       "XLU          etf  913243088   \n",
       "HYLB         etf  925182758   \n",
       "SRLN         etf  913247450   \n",
       "USHY         etf  925381699   \n",
       "BKLN         etf  913247485   \n",
       "VNQ          etf  913243989   \n",
       "EWU          etf  913243137   \n",
       "LQD          etf  913243139   \n",
       "IYR          etf  913243104   \n",
       "EMB          etf  913243405   \n",
       "FPE          etf  913243254   \n",
       "EWA          etf  913243113   \n",
       "SJNK         etf  913246720   \n",
       "JEPI         etf  950165022   \n",
       "PDBC         etf  913247532   \n",
       "PGX          etf  913245125   \n",
       "PFF          etf  950001535   \n",
       "HYG          etf  913242920   \n",
       "AMLP         etf  913245861   \n",
       "JNK          etf  913247556   \n",
       "QYLD         etf  913246309   \n",
       "\n",
       "                                                   name  dvd_rate start_date  \\\n",
       "IEF                 iShares 7-10 Year Treasury Bond ETF  0.037435 2002-07-30   \n",
       "BND                      Vanguard Total Bond Market ETF  0.038036 2007-04-10   \n",
       "SPAB                  SPDR Portfolio Aggregate Bond ETF  0.038405 2007-05-30   \n",
       "EWT                             iShares MSCI Taiwan ETF  0.040599 2000-06-23   \n",
       "VCIT      Vanguard Intermediate-Term Corporate Bond ETF  0.040727 2009-11-23   \n",
       "AGG                iShares Core U.S. Aggregate Bond ETF  0.041104 2003-09-29   \n",
       "TIP                               iShares TIPS Bond ETF  0.041182 2003-12-05   \n",
       "FEZ                              SPDR EURO STOXX 50 ETF  0.042707 2002-10-21   \n",
       "EWC                             iShares MSCI Canada ETF  0.044091 1996-03-18   \n",
       "EWH                          iShares MSCI Hong Kong ETF  0.044304 1996-03-18   \n",
       "TLT                  iShares 20+ Year Treasury Bond ETF  0.046353 2002-07-30   \n",
       "EFV                         iShares MSCI EAFE Value ETF  0.048775 2005-08-05   \n",
       "SPYD           SPDR Portfolio S&P 500 High Dividend ETF  0.048876 2015-10-22   \n",
       "EWZ                             iShares MSCI Brazil ETF  0.051259 2000-07-14   \n",
       "VGK                            Vanguard FTSE Europe ETF  0.051344 2005-03-10   \n",
       "XLU                   Utilities Select Sector SPDR Fund  0.052663 1998-12-22   \n",
       "HYLB        Xtrackers USD High Yield Corporate Bond ETF  0.054541 2016-12-13   \n",
       "SRLN                    SPDR Blackstone Senior Loan ETF  0.056942 2013-04-04   \n",
       "USHY    iShares Broad USD High Yield Corporate Bond ETF  0.057291 2017-10-26   \n",
       "BKLN                            Invesco Senior Loan ETF  0.057741 2011-03-03   \n",
       "VNQ                            Vanguard Real Estate ETF  0.063369 2004-09-29   \n",
       "EWU                     iShares MSCI United Kingdom ETF  0.063675 1996-03-18   \n",
       "LQD   iShares iBoxx $ Investment Grade Corporate Bon...  0.065221 2002-07-30   \n",
       "IYR                        iShares U.S. Real Estate ETF  0.065498 2000-06-19   \n",
       "EMB     iShares JP Morgan USD Emerging Markets Bond ETF  0.065951 2007-12-19   \n",
       "FPE       First Trust Preferred Securities & Income ETF  0.069810 2013-02-12   \n",
       "EWA                          iShares MSCI Australia ETF  0.072963 1996-03-18   \n",
       "SJNK      SPDR Bloomberg Short Term High Yield Bond ETF  0.073867 2012-04-09   \n",
       "JEPI                 JPMorgan Equity Premium Income ETF  0.080433 2020-05-21   \n",
       "PDBC  Invesco Optimum Yield Diversified Commodity St...  0.098250 2014-11-07   \n",
       "PGX                               Invesco Preferred ETF  0.102897 2008-01-31   \n",
       "PFF           iShares Preferred & Income Securities ETF  0.103712 2007-03-30   \n",
       "HYG       iShares iBoxx $ High Yield Corporate Bond ETF  0.105661 2007-04-11   \n",
       "AMLP                                    Alerian MLP ETF  0.119870 2010-08-25   \n",
       "JNK                  SPDR Bloomberg High Yield Bond ETF  0.120774 2007-12-04   \n",
       "QYLD               Global X NASDAQ 100 Covered Call ETF  0.155992 2013-12-12   \n",
       "\n",
       "       mean_volume  \n",
       "IEF   7.789057e+06  \n",
       "BND   7.145629e+06  \n",
       "SPAB  3.093268e+06  \n",
       "EWT   4.081888e+06  \n",
       "VCIT  6.864897e+06  \n",
       "AGG   8.396519e+06  \n",
       "TIP   4.824881e+06  \n",
       "FEZ   3.577760e+06  \n",
       "EWC   5.586614e+06  \n",
       "EWH   4.038926e+06  \n",
       "TLT   2.086052e+07  \n",
       "EFV   4.237917e+06  \n",
       "SPYD  2.472369e+06  \n",
       "EWZ   2.797599e+07  \n",
       "VGK   6.803504e+06  \n",
       "XLU   1.608758e+07  \n",
       "HYLB  4.276497e+06  \n",
       "SRLN  4.387239e+06  \n",
       "USHY  5.939627e+06  \n",
       "BKLN  1.143756e+07  \n",
       "VNQ   5.647338e+06  \n",
       "EWU   4.266260e+06  \n",
       "LQD   2.011225e+07  \n",
       "IYR   7.833371e+06  \n",
       "EMB   7.444670e+06  \n",
       "FPE   2.548393e+06  \n",
       "EWA   5.337610e+06  \n",
       "SJNK  7.045282e+06  \n",
       "JEPI  2.685233e+06  \n",
       "PDBC  6.801316e+06  \n",
       "PGX   4.888020e+06  \n",
       "PFF   4.490449e+06  \n",
       "HYG   4.094820e+07  \n",
       "AMLP  2.722110e+06  \n",
       "JNK   1.087163e+07  \n",
       "QYLD  5.154497e+06  "
      ]
     },
     "execution_count": 31,
     "metadata": {},
     "output_type": "execute_result"
    }
   ],
   "source": [
    "frac_ticks_df[(frac_ticks_df.dvd_rate > frac_ticks_df.dvd_rate.quantile(0.8)) & (frac_ticks_df.mean_volume > frac_ticks_df.mean_volume.quantile(0.8))].sort_values(['dvd_rate', 'mean_volume'])"
   ]
  },
  {
   "cell_type": "code",
   "execution_count": 27,
   "id": "672e4de8",
   "metadata": {},
   "outputs": [
    {
     "data": {
      "application/vnd.plotly.v1+json": {
       "config": {
        "plotlyServerURL": "https://plot.ly"
       },
       "data": [
        {
         "hovertemplate": "variable=mean_volume<br>index=%{x}<br>value=%{y}<extra></extra>",
         "legendgroup": "mean_volume",
         "marker": {
          "color": "#636efa",
          "symbol": "circle"
         },
         "mode": "markers",
         "name": "mean_volume",
         "showlegend": true,
         "type": "scattergl",
         "x": [
          "HYG",
          "CIBR",
          "SNLN",
          "IBUY",
          "XSW",
          "SMDV",
          "REGL",
          "GSY",
          "GCC",
          "SILJ",
          "BND",
          "BLV",
          "BIV",
          "BSV",
          "QUS",
          "VRP",
          "IQLT",
          "SPHD",
          "ECH",
          "XLRE",
          "IMTM",
          "TUR",
          "THD",
          "BIZD",
          "BTAL",
          "BOND",
          "SKYY",
          "FLOT",
          "MLPA",
          "DGRW",
          "SCHZ",
          "GNR",
          "IWN",
          "IYZ",
          "IYW",
          "IWO",
          "IUSV",
          "IUSG",
          "IDU",
          "IYJ",
          "IYH",
          "IYF",
          "IYE",
          "IWD",
          "IWF",
          "IWB",
          "IWM",
          "IJK",
          "PPLT",
          "PALL",
          "MBB",
          "GVI",
          "IEI",
          "SHV",
          "IJR",
          "IJJ",
          "IJH",
          "IVE",
          "IVV",
          "XLU",
          "USIG",
          "IWV",
          "IYG",
          "IYM",
          "IYY",
          "IVW",
          "RDIV",
          "IGIB",
          "TLH",
          "IGSB",
          "EWH",
          "EWI",
          "IYR",
          "IYC",
          "IEV",
          "IJS",
          "IJT",
          "SLYV",
          "SPYG",
          "EZU",
          "EWM",
          "EWA",
          "EWJ",
          "EWW",
          "EWN",
          "EWS",
          "IHDG",
          "SLYG",
          "SPYV",
          "EWZ",
          "EWD",
          "SHYG",
          "SLQD",
          "ICSH",
          "ASHR",
          "EWC",
          "EWQ",
          "EWY",
          "EWP",
          "EWL",
          "EWT",
          "EWU",
          "LQD",
          "IEF",
          "SHY",
          "VXF",
          "EPP",
          "IGE",
          "EFA",
          "IWS",
          "EWG",
          "COMT",
          "DBA",
          "DBB",
          "TLT",
          "IBB",
          "ICF",
          "IOO",
          "OEF",
          "DBO",
          "IXJ",
          "IGV",
          "SPTM",
          "NOBL",
          "KBWY",
          "IXN",
          "IXG",
          "IWR",
          "IWP",
          "SOXX",
          "RWR",
          "DBE",
          "IXC",
          "ILF",
          "IGM",
          "KBWD",
          "VTI",
          "FREL",
          "AAXJ",
          "TAN",
          "EIS",
          "ACWI",
          "ACWX",
          "FVD",
          "BNDX",
          "XLE",
          "XLY",
          "XLB",
          "XLK",
          "XLI",
          "XLF",
          "XLP",
          "XLV",
          "MDY",
          "EELV",
          "TDTT",
          "QQQ",
          "DIA",
          "SPY",
          "FPE",
          "URTH",
          "SMIN",
          "DSI",
          "INDA",
          "SLVP",
          "PICK",
          "VMBS",
          "SHYD",
          "EMLC",
          "VCLT",
          "VGLT",
          "VGSH",
          "BSJN",
          "BSJM",
          "FLTR",
          "VCIT",
          "VGIT",
          "VEU",
          "VCSH",
          "TMF",
          "RWM",
          "TMV",
          "DIEM",
          "EPHE",
          "MGV",
          "MGC",
          "MGK",
          "MOO",
          "FTSD",
          "IBND",
          "PSK",
          "TWM",
          "VTIP",
          "INTF",
          "EMGF",
          "EMB",
          "CFA",
          "VTWO",
          "VONV",
          "VONE",
          "VONG",
          "VIOO",
          "IVOV",
          "VOOG",
          "VIOV",
          "VOOV",
          "VOO",
          "VNQI",
          "EWX",
          "OUSA",
          "AMZA",
          "SCHD",
          "CMF",
          "PRNT",
          "SCHP",
          "SCHO",
          "SCHR",
          "DGRO",
          "IEUR",
          "TBX",
          "IPAC",
          "SPGM",
          "VTEB",
          "IFV",
          "FM",
          "DVYE",
          "GLTR",
          "TBF",
          "FV",
          "AGZ",
          "BZQ",
          "RWO",
          "IMOM",
          "IVAL",
          "QVAL",
          "BWX",
          "HYS",
          "CORP",
          "BAB",
          "UGA",
          "JETS",
          "VSS",
          "ULST",
          "GREK",
          "USCI",
          "BNO",
          "SCHM",
          "TDIV",
          "MDIV",
          "MLPX",
          "SMH",
          "RTH",
          "PPH",
          "OIH",
          "TDTF",
          "KBWB",
          "EUFN",
          "SOCL",
          "FTSL",
          "DJP",
          "XME",
          "KRE",
          "XRT",
          "DLN",
          "DHS",
          "DXJ",
          "DLS",
          "DON",
          "DFE",
          "XPH",
          "XOP",
          "XES",
          "SPTS",
          "VOT",
          "VOE",
          "GSG",
          "XTN",
          "XHE",
          "DES",
          "FXC",
          "PSQ",
          "SH",
          "FBT",
          "XAR",
          "FXB",
          "FTCS",
          "DXD",
          "FDN",
          "QID",
          "SDS",
          "DOG",
          "SCO",
          "WOOD",
          "EDV",
          "XYLD",
          "TFI",
          "LGLV",
          "DPST",
          "DUST",
          "EUO",
          "VNM",
          "NUGT",
          "BRZU",
          "DWX",
          "FNY",
          "VFH",
          "TIP",
          "DVY",
          "FDT",
          "RWJ",
          "VBR",
          "VPU",
          "VOX",
          "VAW",
          "FEM",
          "VGT",
          "VIS",
          "VHT",
          "VV",
          "EZA",
          "FEZ",
          "FEP",
          "SCZ",
          "VDE",
          "VDC",
          "VCR",
          "VBK",
          "EEM",
          "ONEQ",
          "RSP",
          "VUG",
          "VTV",
          "VB",
          "VO",
          "IYT",
          "AGG",
          "QUAL",
          "PBE",
          "XLG",
          "VWO",
          "VNQ",
          "JPIN",
          "VPL",
          "VGK",
          "PWV",
          "GLD",
          "FXI",
          "ILCG",
          "ITOT",
          "HYZD",
          "XMMO",
          "PBW",
          "SUSA",
          "IAU",
          "ISCG",
          "KIE",
          "KBE",
          "PGJ",
          "PEY",
          "IMCG",
          "SLY",
          "SCHH",
          "SDY",
          "EFG",
          "EFV",
          "TBT",
          "PXE",
          "PSI",
          "PEJ",
          "PBJ",
          "MDYG",
          "MDYV",
          "SPMD",
          "SPLG",
          "PPA",
          "PID",
          "IEZ",
          "IEO",
          "SLV",
          "PUI",
          "IWC",
          "VXUS",
          "RYF",
          "RYE",
          "ITB",
          "ITA",
          "IAT",
          "CORN",
          "RCD",
          "GDX",
          "IHI",
          "IHF",
          "USO",
          "FDL",
          "XHB",
          "XBI",
          "RYT",
          "DBC",
          "FXE",
          "PRF",
          "PHO",
          "SPHQ",
          "QQEW",
          "VIG",
          "QTEC",
          "FPX",
          "RZV",
          "RPG",
          "RPV",
          "XSD",
          "USRT",
          "REM",
          "SPBO",
          "USMV",
          "EFAV",
          "MCHI",
          "HDV",
          "BIS",
          "UGL",
          "MJ",
          "DRIP",
          "GUSH",
          "LABD",
          "LABU",
          "SDOG",
          "ZSL",
          "AGQ",
          "FXH",
          "FXO",
          "FXD",
          "REMX",
          "FTA",
          "FXR",
          "FXN",
          "FXG",
          "AGGY",
          "SOXL",
          "SOXS",
          "FRI",
          "FTC",
          "FEX",
          "FXU",
          "FXL",
          "REZ",
          "MTUM",
          "SDOW",
          "SQQQ",
          "TOTL",
          "FENY",
          "FHLC",
          "FTEC",
          "DBEU",
          "CGW",
          "FCOM",
          "FMAT",
          "FIDU",
          "FNCL",
          "FSTA",
          "FDIS",
          "SRTY",
          "SPXU",
          "MUB",
          "FBND",
          "FUTY",
          "ICLN",
          "IGOV",
          "HEDJ",
          "SPYX",
          "VWOB",
          "DIV",
          "PHB",
          "FGD",
          "PGX",
          "EPI",
          "ICVT",
          "TPYP",
          "LIT",
          "CNYA",
          "URA",
          "MNA",
          "IGF",
          "ESGD",
          "HYXF",
          "BSCP",
          "BSCO",
          "BSCN",
          "BSCM",
          "BWZ",
          "RWX",
          "FALN",
          "AIA",
          "KSA",
          "ISTB",
          "IEFA",
          "IXUS",
          "CWI",
          "PTLC",
          "SPMB",
          "CWB",
          "SPLB",
          "SPIB",
          "PRFZ",
          "FLRN",
          "MILN",
          "EPU",
          "TFLO",
          "HEFA",
          "HEWJ",
          "VT",
          "SMLF",
          "LRGF",
          "INDY",
          "ITM",
          "HEZU",
          "REET",
          "HYD",
          "GUNR",
          "AMLP",
          "PIN",
          "EBND",
          "EWZS",
          "IQDF",
          "QDF",
          "FIW",
          "FCG",
          "NFRA",
          "VYMI",
          "BYLD",
          "FMB",
          "QYLD",
          "VIDI",
          "CXSE",
          "SPHY",
          "AMJ",
          "GAMR",
          "YYY",
          "SRET",
          "EDC",
          "HDEF",
          "FNDE",
          "SDIV",
          "YINN",
          "FNDC",
          "FNDF",
          "FNDA",
          "FNDX",
          "FAS",
          "ERX",
          "YANG",
          "EDZ",
          "RODM",
          "TECL",
          "TZA",
          "NAIL",
          "DRN",
          "TECS",
          "TNA",
          "SPXS",
          "SPXL",
          "FAZ",
          "FAN",
          "FTSM",
          "PHDG",
          "MOAT",
          "ANGL",
          "SJNK",
          "ARKW",
          "ARKK",
          "ARKQ",
          "ARKG",
          "LVHD",
          "SHM",
          "ISRA",
          "PBP",
          "LTPZ",
          "STPZ",
          "EUM",
          "PCY",
          "PZA",
          "IAGG",
          "IEMG",
          "COPX",
          "CQQQ",
          "IWX",
          "IWY",
          "IWL",
          "ITEQ",
          "PDP",
          "SLX",
          "PSP",
          "PGF",
          "EMQQ",
          "EPOL",
          "ENZL",
          "EIDO",
          "KWEB",
          "VYM",
          "IBDP",
          "IBDQ",
          "RDVY",
          "PFXF",
          "DGS",
          "SPIP",
          "SPTI",
          "IBDN",
          "IBDO",
          "PCEF",
          "SPAB",
          "SPSB",
          "SPTL",
          "XT",
          "QAI",
          "PIZ",
          "HACK",
          "DEM",
          "EES",
          "EZM",
          "EPS",
          "HYLS",
          "STIP",
          "SIVR",
          "BIL",
          "HFXI",
          "IPAY",
          "IVLU",
          "KBA",
          "PXH",
          "NEAR",
          "VEA",
          "JNUG",
          "JDST",
          "QQQE",
          "HDGE",
          "RING",
          "VEGI",
          "LEMB",
          "GTO",
          "EEMA",
          "QLTA",
          "GWX",
          "EMLP",
          "GOVT",
          "FXY",
          "IDLV",
          "VIXY",
          "SPHB",
          "XSLV",
          "XMLV",
          "SPLV",
          "DBEF",
          "CHAU",
          "LMBS",
          "DBJP",
          "ARGT",
          "GII",
          "QCLN",
          "UUP",
          "FFTY",
          "USFR",
          "IGLB",
          "PXF",
          "ILTB",
          "SUB",
          "CURE",
          "VLUE",
          "CHIX",
          "CHIQ",
          "SIZE",
          "SRLN",
          "RLY",
          "PBD",
          "IPO",
          "ACWV",
          "EEMV",
          "KOLD",
          "BOIL",
          "PTH",
          "BKLN",
          "PKW",
          "HYEM",
          "ERTH",
          "TIPX",
          "SCHX",
          "SCHA",
          "AOA",
          "AOK",
          "SGOL",
          "SCHV",
          "SCHG",
          "SCHB",
          "AOR",
          "AOM",
          "IDV",
          "PDBC",
          "GDXJ",
          "SPDW",
          "SPEM",
          "SPFF",
          "SCHC",
          "SCHF",
          "SCHE",
          "GXC",
          "SPGP",
          "JNK",
          "IFGL",
          "WEAT",
          "SOYB",
          "MINT",
          "SPYD",
          "JHMM",
          "JHML",
          "MXI",
          "KXI",
          "XSOE",
          "SPSM",
          "SIL",
          "ROBO",
          "GSIE",
          "GEM",
          "USL",
          "GSLC",
          "FTGC",
          "HYMB",
          "IUSB",
          "ESGE",
          "VIGI",
          "UNG",
          "SSO",
          "MVV",
          "SVXY",
          "UVXY",
          "TQQQ",
          "BIB",
          "QLD",
          "DDM",
          "UWM",
          "UYG",
          "DIG",
          "UDOW",
          "UPRO",
          "URTY",
          "UCO",
          "HYLB",
          "VRIG",
          "FLCO",
          "FTXG",
          "BSCQ",
          "FINX",
          "SNSR",
          "BOTZ",
          "SMMV",
          "FDVV",
          "FDLO",
          "FVAL",
          "GBIL",
          "NUAG",
          "CLTL",
          "IBDR",
          "DIVO",
          "PSC",
          "CWEB",
          "VNLA",
          "ESGU",
          "COWZ",
          "NUSC",
          "NULG",
          "NULV",
          "OUSM",
          "FIXD",
          "PAVE",
          "TAIL",
          "COM",
          "BCI",
          "IDEV",
          "FLQL",
          "DFEN",
          "CSML",
          "JPST",
          "SHAG",
          "AMLX",
          "NUDM",
          "GIGB",
          "GOAU",
          "USMF",
          "SUSB",
          "SUSC",
          "FPEI",
          "BAR",
          "IBDS",
          "SCHK",
          "DIAL",
          "NUBD",
          "USMC",
          "PFFD",
          "USHY",
          "VTC",
          "JQUA",
          "BLCN",
          "BLOK",
          "FNGD",
          "OMFL",
          "JO",
          "FNGU",
          "VXX",
          "PFF",
          "IZRL",
          "IFRA",
          "PULS",
          "ESML",
          "DRIV",
          "PFFA",
          "SRVR",
          "FLHY",
          "OGIG",
          "BATT",
          "BBEU",
          "BBRE",
          "BBJP",
          "XLC",
          "IRBO",
          "GLDM",
          "ACES",
          "ONLN",
          "AAAU",
          "BBCA",
          "BBAX",
          "DRSK",
          "BNDW",
          "DVOL",
          "VSGX",
          "ESGV",
          "POCT",
          "ESPO",
          "EAGG",
          "PAWZ",
          "KOMP",
          "SWAN",
          "ARKF",
          "FIVG",
          "USSG",
          "NRGU",
          "SFYX",
          "SFY",
          "CLOU",
          "YOLO",
          "RYLD",
          "DBMF",
          "BYOB",
          "SFYF",
          "SUSL",
          "IVOL",
          "IHAK",
          "SNPE",
          "CNBS",
          "WCLD",
          "FLCB",
          "AVDE",
          "AVDV",
          "AVUS",
          "AVUV",
          "NUHY",
          "SCHI",
          "SCHJ",
          "BUG",
          "HERO",
          "HIBS",
          "BBIN",
          "RPAR",
          "LDEM",
          "JEPI",
          "SGOV",
          "BETZ",
          "FLGV",
          "DMXF",
          "EUSB",
          "EDOC",
          "KRBN",
          "MSOS",
          "XJH",
          "TGIF",
          "QQQJ",
          "QQQM",
          "BUZZ",
          "HDRO",
          "ARKX",
          "LCTD",
          "SCHY",
          "WKLY",
          "BITQ",
          "DFAT",
          "DFAC",
          "METV",
          "BKCH",
          "CRPT",
          "PINK",
          "BITO",
          "URNM"
         ],
         "xaxis": "x",
         "y": [
          40948202.48962656,
          943538.1742738589,
          18084.68049792531,
          64660.16597510374,
          25099.585062240665,
          53667.634854771786,
          77097.92531120332,
          493217.42738589214,
          130302.90456431535,
          1594961.825726141,
          7145629.045643154,
          495182.9875518672,
          1250304.1493775933,
          4179029.875518672,
          46530.705394190874,
          534051.867219917,
          1322095.020746888,
          1463621.5767634856,
          570639.0041493776,
          6877529.460580912,
          168268.8796680498,
          296804.5643153527,
          101328.21576763486,
          290102.90456431534,
          337135.6846473029,
          300539.83402489626,
          525793.3609958506,
          1845132.7800829876,
          227869.29460580912,
          643322.8215767635,
          1124429.0456431536,
          447036.9294605809,
          1505967.634854772,
          976449.7925311204,
          674075.1037344398,
          748466.8049792531,
          749275.5186721992,
          797862.6556016598,
          98001.65975103734,
          104273.02904564315,
          61611.20331950208,
          364220.7468879668,
          2334529.0456431536,
          3175070.124481328,
          2382638.174273859,
          1156139.8340248964,
          30353125.72614108,
          351725.3112033195,
          125441.49377593362,
          45595.85062240664,
          2242790.871369295,
          171211.20331950206,
          1667924.0663900415,
          3862910.3734439835,
          4630285.477178424,
          664423.2365145228,
          1487568.0497925312,
          1238338.5892116183,
          6240831.535269709,
          16087583.817427386,
          1333412.0331950206,
          275341.908713693,
          109901.65975103734,
          151827.38589211617,
          64692.946058091286,
          3132573.0290456433,
          88336.92946058091,
          1803629.0456431536,
          399752.6970954357,
          4105936.0995850624,
          4038926.141078838,
          1476267.2199170124,
          7833370.954356846,
          158268.04979253112,
          537301.244813278,
          788957.6763485477,
          193765.14522821576,
          244303.73443983402,
          2928147.7178423237,
          5354038.174273859,
          451855.60165975103,
          5337610.3734439835,
          5679262.2406639,
          2310184.6473029046,
          182760.99585062242,
          805508.713692946,
          172789.6265560166,
          131597.92531120332,
          3549068.87966805,
          27975994.60580913,
          534826.1410788381,
          2234529.875518672,
          577985.8921161826,
          1263053.9419087137,
          5711746.058091287,
          5586613.692946058,
          947192.531120332,
          3829750.20746888,
          876304.5643153527,
          1390343.5684647304,
          4081887.55186722,
          4266260.165975104,
          20112248.9626556,
          7789057.261410789,
          6009009.543568465,
          475735.26970954356,
          567897.0954356847,
          645323.6514522822,
          28997169.29460581,
          625925.7261410789,
          5626887.55186722,
          806034.4398340249,
          2190759.7510373443,
          364474.27385892114,
          20860519.50207469,
          2327446.887966805,
          248412.03319502075,
          194406.22406639004,
          370607.46887966804,
          1485681.32780083,
          198528.21576763486,
          1403943.9834024897,
          761225.3112033195,
          658751.4522821577,
          142834.85477178424,
          479285.47717842326,
          234228.6307053942,
          1932285.062240664,
          1199245.643153527,
          1302104.979253112,
          279811.6182572614,
          172749.79253112033,
          968084.2323651452,
          2196449.79253112,
          75446.05809128631,
          118573.85892116182,
          4518283.402489627,
          456872.1991701245,
          1326775.5186721992,
          1341532.7800829876,
          23605.394190871368,
          4761895.850622406,
          3120514.1078838175,
          1394194.6058091286,
          2990722.8215767634,
          32630624.481327802,
          7844998.340248963,
          7339784.232365145,
          9821797.095435685,
          11334023.651452282,
          56969883.81742739,
          15141643.56846473,
          11079841.078838175,
          1075904.1493775933,
          484955.60165975103,
          630028.2157676348,
          68815285.06224066,
          5014699.170124481,
          95501644.813278,
          2548392.9460580912,
          304140.66390041495,
          52268.04979253112,
          299451.45228215767,
          3647948.132780083,
          149822.8215767635,
          415189.2116182573,
          2255212.0331950206,
          212514.10788381743,
          1767286.307053942,
          1324224.89626556,
          1851409.1286307054,
          3383479.6680497928,
          263419.91701244813,
          202990.41493775934,
          488058.9211618257,
          6864897.095435685,
          2395144.8132780083,
          5262867.219917012,
          6138132.365145228,
          6079881.74273859,
          3381134.854771784,
          2264275.518672199,
          1550.207468879668,
          130843.56846473028,
          342319.08713692945,
          154855.1867219917,
          392774.27385892114,
          199270.1244813278,
          24586.30705394191,
          36929.46058091286,
          215395.4356846473,
          3243237.34439834,
          3832451.867219917,
          241400,
          111571.36929460581,
          7444669.709543568,
          21168.464730290456,
          1728995.8506224067,
          621701.244813278,
          132609.95850622407,
          937054.7717842323,
          130824.0663900415,
          30785.0622406639,
          229003.73443983402,
          75857.26141078839,
          172755.1867219917,
          5790604.979253112,
          392275.51867219916,
          67239.83402489626,
          73352.28215767635,
          75185.0622406639,
          3263759.7510373443,
          473507.46887966804,
          47061.825726141076,
          4005124.481327801,
          2012545.643153527,
          1621761.4107883817,
          2110990.871369295,
          1600568.8796680497,
          207818.2572614108,
          170117.4273858921,
          71295.43568464731,
          6926195.435684647,
          44264.730290456435,
          161203.31950207468,
          201911.6182572614,
          67244.8132780083,
          2247699.1701244814,
          229275.51867219916,
          36302.90456431535,
          83675.3112033195,
          162142.73858921163,
          11856.43153526971,
          29111.618257261413,
          28824.896265560164,
          462710.3734439834,
          469625.3112033195,
          111940.2489626556,
          622046.887966805,
          77111.6182572614,
          7059346.887966805,
          431246.4730290456,
          133897.09543568463,
          31506.639004149376,
          57794.60580912863,
          1285221.161825726,
          534786.3070539419,
          132502.90456431537,
          139732.36514522822,
          177272.61410788383,
          11609326.970954357,
          10397.510373443984,
          148816.59751037345,
          990016.5975103735,
          203422.8215767635,
          1115244.398340249,
          2036367.634854772,
          33549.79253112033,
          774469.7095435684,
          274401.244813278,
          5495720.331950207,
          9268774.68879668,
          5476161.825726141,
          275917.42738589214,
          88651.86721991701,
          518968.0497925311,
          73557.26141078839,
          227021.9917012448,
          21150.207468879667,
          63665.97510373444,
          7353418.67219917,
          190472.61410788383,
          2615707.468879668,
          241394.1908713693,
          515179.2531120332,
          2273843.5684647304,
          71933.60995850622,
          35345.64315352697,
          192490.45643153528,
          41095.4356846473,
          27063817.84232365,
          36627490.871369295,
          46268.87966804979,
          135424.0663900415,
          29439.41908713693,
          413695.02074688795,
          1020628.0497925311,
          592017.8423236514,
          14894563.48547718,
          11208263.402489627,
          1486805.3941908714,
          3405952.9460580912,
          20411.203319502074,
          303080.08298755187,
          508820.3319502075,
          2184712.863070539,
          31287.13692946058,
          53665.4356846473,
          3283943.153526971,
          126856.01659751037,
          354979.6680497925,
          3439427.8008298757,
          123227.80082987552,
          92970.95435684647,
          27764.73029045643,
          850871.7842323652,
          4824880.91286307,
          1070234.0248962655,
          52097.51037344398,
          163439.00414937758,
          623797.9253112033,
          297955.1867219917,
          325436.5145228216,
          138465.14522821576,
          110941.07883817428,
          820548.5477178423,
          128899.17012448133,
          289527.3858921162,
          515016.59751037345,
          329642.7385892116,
          3577759.7510373443,
          70095.02074688797,
          1996007.0539419088,
          1264578.4232365144,
          209234.02489626556,
          135557.26141078837,
          333305.3941908714,
          47662174.688796684,
          416914.52282157674,
          3067948.5477178423,
          1364937.7593360995,
          3237967.6348547717,
          865919.5020746888,
          887082.1576763486,
          235224.0663900415,
          8396518.672199171,
          1428168.0497925312,
          11395.435684647304,
          771626.5560165975,
          16352487.55186722,
          5647337.7593361,
          89733.60995850622,
          1011052.6970954357,
          6803503.734439834,
          57723.65145228216,
          8415049.79253112,
          40257648.13278008,
          98359.33609958507,
          2907987.9668049794,
          102077.17842323652,
          69272.19917012448,
          526799.5850622407,
          215684.23236514523,
          9637657.261410788,
          53805.39419087137,
          1161752.2821576763,
          2722662.2406639005,
          134836.51452282158,
          381956.84647302906,
          131810.78838174275,
          117764.69294605809,
          2581495.020746888,
          632410.3734439834,
          1265095.4356846474,
          4237917.012448133,
          6770289.211618258,
          236457.6763485477,
          120954.77178423236,
          296253.11203319504,
          109102.48962655602,
          322833.1950207469,
          397371.3692946058,
          1109030.705394191,
          5009005.809128631,
          177508.29875518673,
          288085.8921161826,
          583775.5186721992,
          268470.1244813278,
          26048180.49792531,
          18464.73029045643,
          42802.07468879668,
          5246137.34439834,
          64738.53941908714,
          194645.03734439833,
          3806984.6473029046,
          511197.09543568466,
          210563.07053941907,
          309591.28630705393,
          59085.730290456435,
          25392328.630705394,
          1112579.2531120332,
          53094.1908713693,
          5488439.004149377,
          1013500.8298755187,
          4001148.132780083,
          12691819.08713693,
          74069.57676348547,
          4389576.763485477,
          158428.6307053942,
          776439.8340248963,
          116902.90456431535,
          1052663.4854771784,
          89393.77593360996,
          1720230.2904564315,
          168741.90871369294,
          75882.57261410788,
          21836.514522821577,
          658062.2406639004,
          642189.2116182572,
          90307.46887966806,
          292549.377593361,
          1078810.7883817428,
          163211.20331950206,
          3715543.153526971,
          1089116.5975103735,
          6331660.580912863,
          1286020.3319502075,
          24402.07468879668,
          185557.26141078837,
          1231042.7385892116,
          3590664.398340249,
          4965463.900414938,
          8232604.564315353,
          43979576.76348548,
          65282.98755186722,
          248775.51867219916,
          1049615.767634855,
          58891.28630705394,
          201853.112033195,
          212620.74688796682,
          145090.45643153528,
          84846.47302904565,
          206414.52282157677,
          1642675.10373444,
          124940.66390041493,
          227476.34854771785,
          74614068.04979253,
          13707778.132780083,
          92265.97510373444,
          47373.858921161824,
          43590.45643153527,
          151994.60580912864,
          63823.236514522825,
          136884.64730290457,
          1203233.6099585062,
          8430656.846473029,
          116243910.78838174,
          413403.734439834,
          1508117.427385892,
          174426.97095435686,
          278936.5145228216,
          111789.62655601659,
          73118.25726141079,
          131902.90456431537,
          87357.67634854771,
          87396.6804979253,
          172037.75933609958,
          150961.82572614108,
          121585.0622406639,
          1408199.0041493776,
          29422163.07053942,
          5467619.08713693,
          486658.9211618257,
          364564.3153526971,
          6759061.825726141,
          220474.6887966805,
          193721.9917012448,
          159392.11618257262,
          540175.1037344398,
          181295.85062240664,
          357887.96680497925,
          150001.65975103734,
          4888020.331950207,
          559631.1203319503,
          464627.3858921162,
          86347.30290456432,
          650661.8257261411,
          191795.4356846473,
          2450941.078838174,
          109667.21991701245,
          510331.9502074689,
          774133.6099585062,
          27099.585062240665,
          498068.46473029046,
          1006565.1452282157,
          706609.9585062241,
          561480.887966805,
          35712.03319502075,
          211517.01244813277,
          1627662.2406639005,
          104398.34024896266,
          633414.5228215768,
          1116355.601659751,
          14316977.178423237,
          3322380.4979253113,
          694998.755186722,
          277009.1286307054,
          1199266.804979253,
          845349.7925311204,
          1679490.8713692946,
          5055948.547717842,
          383132.78008298756,
          933328.6307053942,
          18045.64315352697,
          103716.59751037344,
          756014.1078838174,
          885575.5186721992,
          255624.89626556018,
          3016204.1493775933,
          75366.39004149378,
          179247.3029045643,
          50132.78008298755,
          511696.265560166,
          289152.6970954357,
          787138.5892116183,
          1246803.3195020747,
          1576118.67219917,
          2722110.3734439835,
          24089.626556016596,
          876233.1950207469,
          65597.51037344398,
          105939.41908713694,
          70928.63070539419,
          67858.92116182572,
          1599497.0954356845,
          164835.6846473029,
          575769.7095435684,
          24611.203319502074,
          390430.70539419085,
          5154497.095435685,
          42858.50622406639,
          165174.27385892117,
          338683.8174273859,
          619352.2821576763,
          4442.738589211618,
          151070.1244813278,
          55974.53941908714,
          89271.36929460581,
          324228.21576763486,
          1382583.4024896265,
          196070.40248962655,
          1223863.112033195,
          385571.3692946058,
          1455870.539419087,
          417883.8174273859,
          943331.1203319503,
          1573059.7510373443,
          4183012.0331950206,
          4709851.037344398,
          530470.5394190871,
          340529.04564315354,
          4145232.3651452283,
          12677717.427385893,
          609319.5020746888,
          375451.867219917,
          2483602.489626556,
          11066843.153526971,
          22950586.307053942,
          11482710.373443983,
          3419269.7095435685,
          105329.8755186722,
          1218169.7095435685,
          96879.2531120332,
          632470.9543568465,
          2127080.082987552,
          7045281.74273859,
          1198558.9211618258,
          26904535.684647303,
          225485.0622406639,
          3059594.190871369,
          144694.60580912864,
          972701.244813278,
          2086.721991701245,
          61773.029045643154,
          145118.2572614108,
          292653.11203319504,
          223582.5726141079,
          1341532.365145228,
          955657.2614107884,
          388225.72614107886,
          17315114.10788382,
          629230.7053941909,
          290625.72614107886,
          183023.65145228215,
          381068.8796680498,
          125897.51037344398,
          53697.51037344398,
          74431.12033195021,
          48392.53112033195,
          35188.96265560166,
          503146.0580912863,
          211891.28630705393,
          299892.53112033196,
          19850.207468879667,
          735235.2697095436,
          22332329.045643155,
          2134988.796680498,
          484547.3029045643,
          363702.489626556,
          1284864.3153526972,
          270274.27385892114,
          206550.622406639,
          1650824.0663900415,
          3856551.4522821577,
          336855.1244813278,
          433107.46887966804,
          161705.8091286307,
          3093268.049792531,
          3196556.0165975103,
          4604743.56846473,
          207013.27800829874,
          193477.1784232365,
          37289.6265560166,
          172397.09543568463,
          420817.0124481328,
          89517.42738589212,
          42532.365145228214,
          73782.15767634855,
          356466.8049792531,
          1520520.7468879668,
          789613.6929460581,
          5626820.331950207,
          45801.24481327801,
          105705.8091286307,
          783435.684647303,
          222495.4356846473,
          996381.3278008299,
          801113.6929460581,
          19774487.966804978,
          1624941.908713693,
          4504280.497925311,
          149027.80082987552,
          192465.97510373444,
          144344.8132780083,
          102090.45643153528,
          138243.15352697094,
          177328.6307053942,
          87055.1867219917,
          199504.5643153527,
          139166.80497925312,
          456867.6348547718,
          12362273.443983402,
          71225.72614107883,
          156417.84232365145,
          2001912.8630705394,
          602670.1244813278,
          99176.76348547717,
          88283.81742738589,
          4650733.609958506,
          830646.0580912863,
          60869.294605809126,
          727026.9709543568,
          18004.564315352698,
          6751.867219917012,
          50694.60580912863,
          293515.76763485477,
          3422358.921161826,
          55014.10788381743,
          2529997.7178423237,
          535331.9502074689,
          239236.51452282158,
          53720.74688796681,
          1039121.1618257262,
          91288.3817427386,
          1466073.4439834026,
          79523.65145228215,
          178170.9543568465,
          16075.103734439834,
          4387239.004149377,
          169706.22406639004,
          52919.08713692946,
          108127.80082987552,
          251788.79668049794,
          1050877.1784232366,
          7360472.385892116,
          178096.867219917,
          32612.86307053942,
          11437560.995850623,
          126965.97510373444,
          452229.8755186722,
          23282.572614107885,
          739914.1078838174,
          3054094.605809129,
          1456860.5809128631,
          175421.57676348547,
          395139.83402489626,
          2008821.9917012448,
          560503.3195020747,
          1328412.4481327801,
          2215205.394190871,
          486450.20746887964,
          264717.8423236515,
          1237269.294605809,
          6801315.767634855,
          7927751.8672199175,
          6199714.522821576,
          3041631.12033195,
          79026.14107883818,
          616664.315352697,
          7515073.858921162,
          3018726.5560165974,
          182092.9460580913,
          167258.92116182574,
          10871631.53526971,
          35929.04564315353,
          2910451.4522821577,
          86073.85892116182,
          1420056.0165975103,
          2472369.2946058093,
          230770.9543568465,
          52719.08713692946,
          56705.8091286307,
          118560.16597510374,
          757414.5228215768,
          742279.2531120332,
          430130.70539419085,
          94330.29045643154,
          773432.7800829875,
          225692.11618257262,
          60700,
          540823.2365145228,
          1515462.6556016598,
          1717437.3443983402,
          2354218.257261411,
          2192422.406639004,
          331630.2904564315,
          7720485.8921161825,
          6061480.082987552,
          24925.311203319503,
          3860694.190871369,
          6677868.091286307,
          169883638.5892116,
          38617.84232365145,
          6735323.236514523,
          615377.1784232365,
          693915.3526970955,
          45570.1244813278,
          257211.20331950206,
          5260210.3734439835,
          12020849.79253112,
          757193.7759336099,
          2787768.87966805,
          4276497.095435685,
          181145.22821576762,
          165031.1203319502,
          268779.2531120332,
          485780.91286307055,
          277487.13692946057,
          51148.547717842324,
          595731.1203319503,
          69758.09128630706,
          187988.3817427386,
          64782.98755186722,
          86727.38589211619,
          526719.0871369295,
          90234.02489626556,
          89260.09543568465,
          355222.82157676347,
          421350.20746887964,
          83159.7510373444,
          817930.4149377593,
          344692.53112033196,
          1399017.427385892,
          1551570.539419087,
          138568.04979253112,
          88723.23651452283,
          243875.51867219916,
          17229.045643153528,
          719331.1203319503,
          950891.286307054,
          466344.39834024897,
          104847.71784232365,
          332114.1078838174,
          1050172.1991701245,
          118311.6182572614,
          921721.9917012448,
          21307.46887966805,
          4517121.161825726,
          15948.96265560166,
          1001306.6390041494,
          115389.62655601659,
          78328.63070539419,
          32658.091286307055,
          25867.219917012448,
          268947.71784232365,
          311009.9585062241,
          389735.6846473029,
          733715.7676348548,
          214000,
          315799.1701244813,
          330884.6473029046,
          55812.03319502075,
          100918.67219917012,
          1054626.1410788381,
          5939626.556016598,
          53825.72614107884,
          131926.97095435686,
          36733.19502074689,
          337935.26970954356,
          887500,
          230797.09543568463,
          30900.0622406639,
          1454961.6597510374,
          4432620.020746888,
          4490448.547717842,
          31019.087136929462,
          328292.9460580913,
          752522.8215767635,
          204449.79253112033,
          263363.90041493776,
          164251.867219917,
          182156.01659751037,
          93129.8755186722,
          63027.38589211618,
          95588.3817427386,
          2006489.6265560165,
          83848.54771784232,
          593496.265560166,
          6530766.804979254,
          47830.705394190874,
          2264928.008298755,
          101500.41493775934,
          88927.80082987552,
          1271802.0746887967,
          252860.58091286308,
          296556.0165975104,
          165373.85892116182,
          60510.3734439834,
          24054.771784232365,
          264875.51867219916,
          374758.091286307,
          129865.14522821577,
          54439.83402489626,
          274695.02074688795,
          19294.605809128632,
          156283.40248962655,
          132061.41078838173,
          1426647.3029045644,
          95397.51037344398,
          91102.48962655602,
          190537.34439834024,
          14002.904564315353,
          144969.29460580912,
          630179.2531120332,
          72489.21161825726,
          865798.3402489626,
          358814.1078838174,
          4585.892116182573,
          3046.8879668049794,
          133864.3153526971,
          602578.0082987552,
          114678.83817427386,
          293490.45643153525,
          40531.95020746888,
          530400.4149377593,
          238856.84647302906,
          279146.88796680496,
          273941.0788381743,
          308163.4854771784,
          777763.9004149378,
          17587.966804979253,
          75612.44813278009,
          76309.95850622407,
          349444.39834024897,
          104400.82987551867,
          141173.27800829874,
          142324.0663900415,
          390706.63900414936,
          17777.593360995852,
          2685233.195020747,
          845317.8423236514,
          79573.02904564315,
          114936.09958506224,
          38563.07053941909,
          100990.45643153528,
          54723.236514522825,
          390039.4190871369,
          1862285.062240664,
          17812.033195020747,
          2416.597510373444,
          266829.8755186722,
          946291.286307054,
          25338.17427385892,
          50080.08298755187,
          148255.60165975103,
          26165.560165975105,
          231840.66390041495,
          2039.8340248962656,
          144292.53112033196,
          386626.97095435683,
          1760870.539419087,
          559178.0082987552,
          40186.72199170125,
          63313.27800829875,
          66941.90871369294,
          7800957.676348547,
          680654.7717842323
         ],
         "yaxis": "y"
        },
        {
         "hovertemplate": "variable=dvd_rate<br>index=%{x}<br>value=%{y}<extra></extra>",
         "legendgroup": "dvd_rate",
         "marker": {
          "color": "#EF553B",
          "symbol": "circle"
         },
         "mode": "markers",
         "name": "dvd_rate",
         "showlegend": true,
         "type": "scattergl",
         "x": [
          "HYG",
          "CIBR",
          "SNLN",
          "IBUY",
          "XSW",
          "SMDV",
          "REGL",
          "GSY",
          "GCC",
          "SILJ",
          "BND",
          "BLV",
          "BIV",
          "BSV",
          "QUS",
          "VRP",
          "IQLT",
          "SPHD",
          "ECH",
          "XLRE",
          "IMTM",
          "TUR",
          "THD",
          "BIZD",
          "BTAL",
          "BOND",
          "SKYY",
          "FLOT",
          "MLPA",
          "DGRW",
          "SCHZ",
          "GNR",
          "IWN",
          "IYZ",
          "IYW",
          "IWO",
          "IUSV",
          "IUSG",
          "IDU",
          "IYJ",
          "IYH",
          "IYF",
          "IYE",
          "IWD",
          "IWF",
          "IWB",
          "IWM",
          "IJK",
          "PPLT",
          "PALL",
          "MBB",
          "GVI",
          "IEI",
          "SHV",
          "IJR",
          "IJJ",
          "IJH",
          "IVE",
          "IVV",
          "XLU",
          "USIG",
          "IWV",
          "IYG",
          "IYM",
          "IYY",
          "IVW",
          "RDIV",
          "IGIB",
          "TLH",
          "IGSB",
          "EWH",
          "EWI",
          "IYR",
          "IYC",
          "IEV",
          "IJS",
          "IJT",
          "SLYV",
          "SPYG",
          "EZU",
          "EWM",
          "EWA",
          "EWJ",
          "EWW",
          "EWN",
          "EWS",
          "IHDG",
          "SLYG",
          "SPYV",
          "EWZ",
          "EWD",
          "SHYG",
          "SLQD",
          "ICSH",
          "ASHR",
          "EWC",
          "EWQ",
          "EWY",
          "EWP",
          "EWL",
          "EWT",
          "EWU",
          "LQD",
          "IEF",
          "SHY",
          "VXF",
          "EPP",
          "IGE",
          "EFA",
          "IWS",
          "EWG",
          "COMT",
          "DBA",
          "DBB",
          "TLT",
          "IBB",
          "ICF",
          "IOO",
          "OEF",
          "DBO",
          "IXJ",
          "IGV",
          "SPTM",
          "NOBL",
          "KBWY",
          "IXN",
          "IXG",
          "IWR",
          "IWP",
          "SOXX",
          "RWR",
          "DBE",
          "IXC",
          "ILF",
          "IGM",
          "KBWD",
          "VTI",
          "FREL",
          "AAXJ",
          "TAN",
          "EIS",
          "ACWI",
          "ACWX",
          "FVD",
          "BNDX",
          "XLE",
          "XLY",
          "XLB",
          "XLK",
          "XLI",
          "XLF",
          "XLP",
          "XLV",
          "MDY",
          "EELV",
          "TDTT",
          "QQQ",
          "DIA",
          "SPY",
          "FPE",
          "URTH",
          "SMIN",
          "DSI",
          "INDA",
          "SLVP",
          "PICK",
          "VMBS",
          "SHYD",
          "EMLC",
          "VCLT",
          "VGLT",
          "VGSH",
          "BSJN",
          "BSJM",
          "FLTR",
          "VCIT",
          "VGIT",
          "VEU",
          "VCSH",
          "TMF",
          "RWM",
          "TMV",
          "DIEM",
          "EPHE",
          "MGV",
          "MGC",
          "MGK",
          "MOO",
          "FTSD",
          "IBND",
          "PSK",
          "TWM",
          "VTIP",
          "INTF",
          "EMGF",
          "EMB",
          "CFA",
          "VTWO",
          "VONV",
          "VONE",
          "VONG",
          "VIOO",
          "IVOV",
          "VOOG",
          "VIOV",
          "VOOV",
          "VOO",
          "VNQI",
          "EWX",
          "OUSA",
          "AMZA",
          "SCHD",
          "CMF",
          "PRNT",
          "SCHP",
          "SCHO",
          "SCHR",
          "DGRO",
          "IEUR",
          "TBX",
          "IPAC",
          "SPGM",
          "VTEB",
          "IFV",
          "FM",
          "DVYE",
          "GLTR",
          "TBF",
          "FV",
          "AGZ",
          "BZQ",
          "RWO",
          "IMOM",
          "IVAL",
          "QVAL",
          "BWX",
          "HYS",
          "CORP",
          "BAB",
          "UGA",
          "JETS",
          "VSS",
          "ULST",
          "GREK",
          "USCI",
          "BNO",
          "SCHM",
          "TDIV",
          "MDIV",
          "MLPX",
          "SMH",
          "RTH",
          "PPH",
          "OIH",
          "TDTF",
          "KBWB",
          "EUFN",
          "SOCL",
          "FTSL",
          "DJP",
          "XME",
          "KRE",
          "XRT",
          "DLN",
          "DHS",
          "DXJ",
          "DLS",
          "DON",
          "DFE",
          "XPH",
          "XOP",
          "XES",
          "SPTS",
          "VOT",
          "VOE",
          "GSG",
          "XTN",
          "XHE",
          "DES",
          "FXC",
          "PSQ",
          "SH",
          "FBT",
          "XAR",
          "FXB",
          "FTCS",
          "DXD",
          "FDN",
          "QID",
          "SDS",
          "DOG",
          "SCO",
          "WOOD",
          "EDV",
          "XYLD",
          "TFI",
          "LGLV",
          "DPST",
          "DUST",
          "EUO",
          "VNM",
          "NUGT",
          "BRZU",
          "DWX",
          "FNY",
          "VFH",
          "TIP",
          "DVY",
          "FDT",
          "RWJ",
          "VBR",
          "VPU",
          "VOX",
          "VAW",
          "FEM",
          "VGT",
          "VIS",
          "VHT",
          "VV",
          "EZA",
          "FEZ",
          "FEP",
          "SCZ",
          "VDE",
          "VDC",
          "VCR",
          "VBK",
          "EEM",
          "ONEQ",
          "RSP",
          "VUG",
          "VTV",
          "VB",
          "VO",
          "IYT",
          "AGG",
          "QUAL",
          "PBE",
          "XLG",
          "VWO",
          "VNQ",
          "JPIN",
          "VPL",
          "VGK",
          "PWV",
          "GLD",
          "FXI",
          "ILCG",
          "ITOT",
          "HYZD",
          "XMMO",
          "PBW",
          "SUSA",
          "IAU",
          "ISCG",
          "KIE",
          "KBE",
          "PGJ",
          "PEY",
          "IMCG",
          "SLY",
          "SCHH",
          "SDY",
          "EFG",
          "EFV",
          "TBT",
          "PXE",
          "PSI",
          "PEJ",
          "PBJ",
          "MDYG",
          "MDYV",
          "SPMD",
          "SPLG",
          "PPA",
          "PID",
          "IEZ",
          "IEO",
          "SLV",
          "PUI",
          "IWC",
          "VXUS",
          "RYF",
          "RYE",
          "ITB",
          "ITA",
          "IAT",
          "CORN",
          "RCD",
          "GDX",
          "IHI",
          "IHF",
          "USO",
          "FDL",
          "XHB",
          "XBI",
          "RYT",
          "DBC",
          "FXE",
          "PRF",
          "PHO",
          "SPHQ",
          "QQEW",
          "VIG",
          "QTEC",
          "FPX",
          "RZV",
          "RPG",
          "RPV",
          "XSD",
          "USRT",
          "REM",
          "SPBO",
          "USMV",
          "EFAV",
          "MCHI",
          "HDV",
          "BIS",
          "UGL",
          "MJ",
          "DRIP",
          "GUSH",
          "LABD",
          "LABU",
          "SDOG",
          "ZSL",
          "AGQ",
          "FXH",
          "FXO",
          "FXD",
          "REMX",
          "FTA",
          "FXR",
          "FXN",
          "FXG",
          "AGGY",
          "SOXL",
          "SOXS",
          "FRI",
          "FTC",
          "FEX",
          "FXU",
          "FXL",
          "REZ",
          "MTUM",
          "SDOW",
          "SQQQ",
          "TOTL",
          "FENY",
          "FHLC",
          "FTEC",
          "DBEU",
          "CGW",
          "FCOM",
          "FMAT",
          "FIDU",
          "FNCL",
          "FSTA",
          "FDIS",
          "SRTY",
          "SPXU",
          "MUB",
          "FBND",
          "FUTY",
          "ICLN",
          "IGOV",
          "HEDJ",
          "SPYX",
          "VWOB",
          "DIV",
          "PHB",
          "FGD",
          "PGX",
          "EPI",
          "ICVT",
          "TPYP",
          "LIT",
          "CNYA",
          "URA",
          "MNA",
          "IGF",
          "ESGD",
          "HYXF",
          "BSCP",
          "BSCO",
          "BSCN",
          "BSCM",
          "BWZ",
          "RWX",
          "FALN",
          "AIA",
          "KSA",
          "ISTB",
          "IEFA",
          "IXUS",
          "CWI",
          "PTLC",
          "SPMB",
          "CWB",
          "SPLB",
          "SPIB",
          "PRFZ",
          "FLRN",
          "MILN",
          "EPU",
          "TFLO",
          "HEFA",
          "HEWJ",
          "VT",
          "SMLF",
          "LRGF",
          "INDY",
          "ITM",
          "HEZU",
          "REET",
          "HYD",
          "GUNR",
          "AMLP",
          "PIN",
          "EBND",
          "EWZS",
          "IQDF",
          "QDF",
          "FIW",
          "FCG",
          "NFRA",
          "VYMI",
          "BYLD",
          "FMB",
          "QYLD",
          "VIDI",
          "CXSE",
          "SPHY",
          "AMJ",
          "GAMR",
          "YYY",
          "SRET",
          "EDC",
          "HDEF",
          "FNDE",
          "SDIV",
          "YINN",
          "FNDC",
          "FNDF",
          "FNDA",
          "FNDX",
          "FAS",
          "ERX",
          "YANG",
          "EDZ",
          "RODM",
          "TECL",
          "TZA",
          "NAIL",
          "DRN",
          "TECS",
          "TNA",
          "SPXS",
          "SPXL",
          "FAZ",
          "FAN",
          "FTSM",
          "PHDG",
          "MOAT",
          "ANGL",
          "SJNK",
          "ARKW",
          "ARKK",
          "ARKQ",
          "ARKG",
          "LVHD",
          "SHM",
          "ISRA",
          "PBP",
          "LTPZ",
          "STPZ",
          "EUM",
          "PCY",
          "PZA",
          "IAGG",
          "IEMG",
          "COPX",
          "CQQQ",
          "IWX",
          "IWY",
          "IWL",
          "ITEQ",
          "PDP",
          "SLX",
          "PSP",
          "PGF",
          "EMQQ",
          "EPOL",
          "ENZL",
          "EIDO",
          "KWEB",
          "VYM",
          "IBDP",
          "IBDQ",
          "RDVY",
          "PFXF",
          "DGS",
          "SPIP",
          "SPTI",
          "IBDN",
          "IBDO",
          "PCEF",
          "SPAB",
          "SPSB",
          "SPTL",
          "XT",
          "QAI",
          "PIZ",
          "HACK",
          "DEM",
          "EES",
          "EZM",
          "EPS",
          "HYLS",
          "STIP",
          "SIVR",
          "BIL",
          "HFXI",
          "IPAY",
          "IVLU",
          "KBA",
          "PXH",
          "NEAR",
          "VEA",
          "JNUG",
          "JDST",
          "QQQE",
          "HDGE",
          "RING",
          "VEGI",
          "LEMB",
          "GTO",
          "EEMA",
          "QLTA",
          "GWX",
          "EMLP",
          "GOVT",
          "FXY",
          "IDLV",
          "VIXY",
          "SPHB",
          "XSLV",
          "XMLV",
          "SPLV",
          "DBEF",
          "CHAU",
          "LMBS",
          "DBJP",
          "ARGT",
          "GII",
          "QCLN",
          "UUP",
          "FFTY",
          "USFR",
          "IGLB",
          "PXF",
          "ILTB",
          "SUB",
          "CURE",
          "VLUE",
          "CHIX",
          "CHIQ",
          "SIZE",
          "SRLN",
          "RLY",
          "PBD",
          "IPO",
          "ACWV",
          "EEMV",
          "KOLD",
          "BOIL",
          "PTH",
          "BKLN",
          "PKW",
          "HYEM",
          "ERTH",
          "TIPX",
          "SCHX",
          "SCHA",
          "AOA",
          "AOK",
          "SGOL",
          "SCHV",
          "SCHG",
          "SCHB",
          "AOR",
          "AOM",
          "IDV",
          "PDBC",
          "GDXJ",
          "SPDW",
          "SPEM",
          "SPFF",
          "SCHC",
          "SCHF",
          "SCHE",
          "GXC",
          "SPGP",
          "JNK",
          "IFGL",
          "WEAT",
          "SOYB",
          "MINT",
          "SPYD",
          "JHMM",
          "JHML",
          "MXI",
          "KXI",
          "XSOE",
          "SPSM",
          "SIL",
          "ROBO",
          "GSIE",
          "GEM",
          "USL",
          "GSLC",
          "FTGC",
          "HYMB",
          "IUSB",
          "ESGE",
          "VIGI",
          "UNG",
          "SSO",
          "MVV",
          "SVXY",
          "UVXY",
          "TQQQ",
          "BIB",
          "QLD",
          "DDM",
          "UWM",
          "UYG",
          "DIG",
          "UDOW",
          "UPRO",
          "URTY",
          "UCO",
          "HYLB",
          "VRIG",
          "FLCO",
          "FTXG",
          "BSCQ",
          "FINX",
          "SNSR",
          "BOTZ",
          "SMMV",
          "FDVV",
          "FDLO",
          "FVAL",
          "GBIL",
          "NUAG",
          "CLTL",
          "IBDR",
          "DIVO",
          "PSC",
          "CWEB",
          "VNLA",
          "ESGU",
          "COWZ",
          "NUSC",
          "NULG",
          "NULV",
          "OUSM",
          "FIXD",
          "PAVE",
          "TAIL",
          "COM",
          "BCI",
          "IDEV",
          "FLQL",
          "DFEN",
          "CSML",
          "JPST",
          "SHAG",
          "AMLX",
          "NUDM",
          "GIGB",
          "GOAU",
          "USMF",
          "SUSB",
          "SUSC",
          "FPEI",
          "BAR",
          "IBDS",
          "SCHK",
          "DIAL",
          "NUBD",
          "USMC",
          "PFFD",
          "USHY",
          "VTC",
          "JQUA",
          "BLCN",
          "BLOK",
          "FNGD",
          "OMFL",
          "JO",
          "FNGU",
          "VXX",
          "PFF",
          "IZRL",
          "IFRA",
          "PULS",
          "ESML",
          "DRIV",
          "PFFA",
          "SRVR",
          "FLHY",
          "OGIG",
          "BATT",
          "BBEU",
          "BBRE",
          "BBJP",
          "XLC",
          "IRBO",
          "GLDM",
          "ACES",
          "ONLN",
          "AAAU",
          "BBCA",
          "BBAX",
          "DRSK",
          "BNDW",
          "DVOL",
          "VSGX",
          "ESGV",
          "POCT",
          "ESPO",
          "EAGG",
          "PAWZ",
          "KOMP",
          "SWAN",
          "ARKF",
          "FIVG",
          "USSG",
          "NRGU",
          "SFYX",
          "SFY",
          "CLOU",
          "YOLO",
          "RYLD",
          "DBMF",
          "BYOB",
          "SFYF",
          "SUSL",
          "IVOL",
          "IHAK",
          "SNPE",
          "CNBS",
          "WCLD",
          "FLCB",
          "AVDE",
          "AVDV",
          "AVUS",
          "AVUV",
          "NUHY",
          "SCHI",
          "SCHJ",
          "BUG",
          "HERO",
          "HIBS",
          "BBIN",
          "RPAR",
          "LDEM",
          "JEPI",
          "SGOV",
          "BETZ",
          "FLGV",
          "DMXF",
          "EUSB",
          "EDOC",
          "KRBN",
          "MSOS",
          "XJH",
          "TGIF",
          "QQQJ",
          "QQQM",
          "BUZZ",
          "HDRO",
          "ARKX",
          "LCTD",
          "SCHY",
          "WKLY",
          "BITQ",
          "DFAT",
          "DFAC",
          "METV",
          "BKCH",
          "CRPT",
          "PINK",
          "BITO",
          "URNM"
         ],
         "xaxis": "x",
         "y": [
          0.10566136129733729,
          0.004686115522427209,
          0,
          0.0003642818142762856,
          0.007636690387236462,
          0.01938119708226649,
          0.019639995156505826,
          0.01567275636767151,
          0.021822859548728445,
          0.006893006782371872,
          0.038035646245972686,
          0.06460799168470331,
          0.046736483021930536,
          0.023578074719436265,
          0.018365053071648506,
          0.05814050085600273,
          0.026390738045565007,
          0.04393498841718033,
          0.026276413743954802,
          0.035396583013680503,
          0.025898724859209764,
          0.0300120877238303,
          0.03164534302372654,
          0.1388989055455584,
          0.003161452742699495,
          0.036127562405702134,
          0.003135269221904412,
          0.01495459036085024,
          0.11460405095249038,
          0.021096677262208062,
          0.024703067778414925,
          0.03241742021767029,
          0.023376265852890765,
          0.03466428953514553,
          0.0064810092266551515,
          0.006815226566368501,
          0.02859912943069524,
          0.012462161428405512,
          0.04561702786287797,
          0.014744616173345555,
          0.013804705250076474,
          0.022857748896729393,
          0.028537299311567368,
          0.02898770604447541,
          0.012253759171297859,
          0.02099861356590162,
          0.015058994375964127,
          0.008283262256524558,
          0,
          0,
          0.034611147633352435,
          0.02878989997653683,
          0.020356974381600428,
          0.010679128569868315,
          0.013486711021433978,
          0.021261003166520746,
          0.01524804720246938,
          0.028534685373009776,
          0.022357084606917193,
          0.0526628914979195,
          0.04932286068595879,
          0.020161449370268543,
          0.020407740980277266,
          0.021976149538829218,
          0.019725429570649294,
          0.014705245939402261,
          0.04264842921277813,
          0.0438261744590739,
          0.033344969246781354,
          0.027405285341357406,
          0.0443036978164908,
          0.07474710775243143,
          0.06549779513146041,
          0.008291649317535553,
          0.034882166095649675,
          0.016283365643264863,
          0.008015323367930823,
          0.04336864546929985,
          0.01219625182297835,
          0.03242730782710263,
          0.07754361431157546,
          0.07296307881708672,
          0.015499950520203464,
          0.02675490120710353,
          0.03961145683567775,
          0.053209271423522456,
          0.03729366216542636,
          0.013331908970120555,
          0.03232343837416617,
          0.051259204402729804,
          0.06994696686485077,
          0.060433952184858634,
          0.019847172047710054,
          0.013636851204274453,
          0.03548028658947113,
          0.04409098697421786,
          0.04299970071072854,
          0.012325924070100752,
          0.06125132886080366,
          0.028107146349812696,
          0.04059945996010595,
          0.06367469008614898,
          0.06522143432123315,
          0.03743495352607957,
          0.019226377386221214,
          0.014412890266426311,
          0.0533884268345611,
          0.024355532089828703,
          0.03403891887368047,
          0.025300605559963423,
          0.03299614851166127,
          0.09033114199100031,
          0.0038993113455198197,
          0.006885357966788735,
          0.046353395681007575,
          0.0015400241902230286,
          0.057686434875882486,
          0.027087959798257316,
          0.022051813651607115,
          0.005122313260292501,
          0.017508935640218194,
          0.0017137976261815471,
          0.020661120990066777,
          0.01913685799661344,
          0.09466715703414885,
          0.007705624378082852,
          0.03053102490378341,
          0.017442680997867423,
          0.007519467928672011,
          0.008654017171202897,
          0.06042915580979007,
          0.005504623363991653,
          0.03705855849065291,
          0.037370764363746194,
          0.004972807776383419,
          0.16061072643117585,
          0.02173790716751585,
          0.04044738814309205,
          0.018590640231196727,
          0.021715325453216194,
          0.022017421518161766,
          0.021565664314821216,
          0.028733950294453307,
          0.058137494526227185,
          0.022296787988139253,
          0.0334767702209,
          0.01270726583348007,
          0.02819994123822381,
          0.012390517359814628,
          0.02135230909865294,
          0.024234567117626067,
          0.029642712594402234,
          0.016534948224464822,
          0.015678779704904396,
          0.03395931796003211,
          0.020757113794029662,
          0.0067283295964293876,
          0.028181113165113573,
          0.023577200215137626,
          0.0698101003864874,
          0.02149249570709025,
          0.009900027599601765,
          0.014964654225250543,
          0.01202271837183506,
          0.01624981517996445,
          0.052609830127171055,
          0.02377162287306323,
          0.03190990384307025,
          0.0724121072582941,
          0.054710284653163126,
          0.03295372386717648,
          0.010939986701999927,
          0.04951537965295492,
          0,
          0.017484092926136494,
          0.04072692211212147,
          0.021233267079983704,
          0.03373448116303577,
          0.0244270161051556,
          0.023387769460621887,
          0.027877039975091774,
          0.05428569738434772,
          0.04303798345868134,
          0.009008374898549098,
          0.030108448658439705,
          0.020497688037158623,
          0.011561138810161282,
          0.016063731867124485,
          0.01916480084840239,
          0.009861536203477286,
          0.08996560103459048,
          0.026769510363326213,
          0.019275734624303025,
          0.030585065841813308,
          0.023353795377327315,
          0.06595119828979537,
          0.012503830283818138,
          0.012640271776170397,
          0.023416064214568592,
          0.017575469573655616,
          0.01172506869585002,
          0.011090829990912618,
          0.015840575162893035,
          0.013147224269329266,
          0.014412991814837442,
          0.02362792001514124,
          0.019698847218453386,
          0.04482802067204946,
          0.03223087090065024,
          0.022512114381763478,
          0.2912515445076823,
          0.03397481786565482,
          0.030972298602240652,
          0.003847404890421841,
          0.02384388746277644,
          0.010322576067194595,
          0.01673168600646687,
          0.02377063840948061,
          0.030183820166727937,
          0.0033299924374706608,
          0.028660933491185835,
          0.024158071169215273,
          0.01951965617621511,
          0.019201794687383283,
          0.03719376931844894,
          0.08071475904186577,
          0,
          0.0043111842226872706,
          0.004850624273862329,
          0.017746597231373014,
          0.0030184016088122207,
          0.05201088489836715,
          0.013738682266741622,
          0.02982037063801682,
          0.014617147044994453,
          0.013880867474076658,
          0.06285754187422708,
          0.04032874150066651,
          0.051696208856681296,
          0,
          0.005494706647493682,
          0.03205836006988947,
          0.0137365279234677,
          0.017064689495354904,
          0,
          0,
          0.015971893873567802,
          0.025467988920712104,
          0.07715028057896077,
          0.05983037573643393,
          0.0067098181243428175,
          0.006299114605510139,
          0.011137778322210445,
          0.019024013156693255,
          0.022980869195243378,
          0.02386410619889545,
          0.04403520573890737,
          0.002684693151649105,
          0.048785988895005135,
          0,
          0.014764691855092112,
          0.028222064802263677,
          0.014306243996309373,
          0.032865202368013734,
          0.04995015679784273,
          0.035921470319980074,
          0.046144494369636996,
          0.03491700908763207,
          0.060734550910947385,
          0.019304191795086658,
          0.013188423380224662,
          0.010234710890079022,
          0.010862253639668033,
          0.006705271489298684,
          0.023998464599765627,
          0,
          0.008540396419926924,
          0.010045031803447976,
          0.04259128021246686,
          0.00671499920840587,
          0.011752904447610409,
          0.017720654831500263,
          0.0015157635305858596,
          0.012096053183273283,
          0.0076136594402924735,
          0.01569259491605807,
          0.02843900930297727,
          0.00023975470571119945,
          0.017818552264265757,
          0.020468451431459145,
          0.014664406728117573,
          0,
          0.01942593650668266,
          0.0709129852519298,
          0.06106918175586163,
          0.03227324290137775,
          0.033250459492327994,
          0.0026141381515416414,
          0.008128959889201433,
          0,
          0.01572239683696481,
          0.005236980973880707,
          0.016582403614310886,
          0.0786445177427528,
          0.0032885868027600243,
          0.025938070205171342,
          0.04118249928139922,
          0.049161476310337265,
          0.025158559580312715,
          0.02989628209360057,
          0.025437944986535354,
          0.044369860097296064,
          0.027188900974606068,
          0.0213353517912562,
          0.040013224449422444,
          0.00885624011725602,
          0.01646809377903632,
          0.014844909606392235,
          0.0223418163851758,
          0.04782226050636373,
          0.042706583825546304,
          0.028357380093830223,
          0.029875893094500137,
          0.026951705208653493,
          0.027834459960700976,
          0.01233100610370799,
          0.006883483708784099,
          0.021406778542928013,
          0.00957537077698456,
          0.017481337295170908,
          0.012206232348049888,
          0.03427683773643311,
          0.01630024776509817,
          0.016205582930617843,
          0.012218301746769349,
          0.04110446496745642,
          0.015715668693675047,
          0.001738134180633234,
          1.5930613533317404,
          0.032245913301543395,
          0.06336945914240164,
          0.03050062462682309,
          0.033547962682141455,
          0.05134370356845566,
          0.02628626467591628,
          0,
          0.024278201669545748,
          0.008430754591176525,
          0.021902813372909606,
          0.05248318862322165,
          0.005616137217144233,
          0.017143834445612238,
          0.017105253666854867,
          0,
          0.004941614061107747,
          0.019858149609022165,
          0.027713900337294126,
          0.010512695459837391,
          0.059254004282180806,
          0.004171243169566298,
          0,
          0.030226252826030236,
          0.049568466692736755,
          0.01969582486938179,
          0.04877521087614455,
          0.004659688846926715,
          0.02196236852480894,
          0.015226985977026037,
          0.007858011640482634,
          0.015180288973768613,
          0.01277183500239806,
          0.028904271637611813,
          0.011940648603598135,
          0.021326937199015735,
          0.010365115986011355,
          0.04445721471092379,
          0.012819464572786887,
          0.016025813462308684,
          0,
          0.033201181116776245,
          0.011684324721568906,
          0.034841025754736236,
          0,
          0,
          0.0071600948562762345,
          0.011975867144644298,
          0.02910463241515057,
          0,
          0,
          0.0076297641117965935,
          0.003716670351851239,
          0.006828983742310165,
          0,
          0.05543474959438774,
          0.010626111759089573,
          0.0028425430485454236,
          0,
          0.005858295562628912,
          0.005650313116586536,
          0.2178211267462307,
          0.005601503834419615,
          0.01383024968224704,
          0.005103624716742519,
          0.023146639725668064,
          0.0055614954157873885,
          0.007845122857751565,
          0.012211960200360437,
          0.037300575720641084,
          0.024788352185725355,
          0.0061556312502293285,
          0.054413026232031536,
          0.2791436713902702,
          0.039223548557648855,
          0.02005969417505221,
          0.030223032366639816,
          0.02039168028030936,
          0.042759211751456756,
          0.0020899711732605395,
          0,
          0.02500094690453156,
          0.005972128382140972,
          0.03368367545848669,
          0.006585794662069001,
          0.0012247514777096184,
          0.04408553899047551,
          0,
          0,
          0.0005859030784293113,
          0.02251287659304576,
          0.008117956870464139,
          0.03592657130784828,
          0.02087380806757591,
          0.008498940700057103,
          0.01678443790649925,
          0.01594278365246572,
          0.030260081611436437,
          0.005696147834905359,
          0.008807031119144266,
          0.032207302960301734,
          0.006126754394482339,
          0.013411542021416019,
          0.03729424965858136,
          0.0027801106687292934,
          0.050958256917272904,
          0.013052389290339845,
          0.004788843702998402,
          0.005948874996195887,
          0.03736204075267317,
          0.03787302641324944,
          0.01362014524934057,
          0.009797967814005038,
          0.043275275940318644,
          0.02298300792328891,
          0.022143510502335276,
          0.01752184218658747,
          0.015620494673699836,
          0.02117437425048583,
          0.025063646819222404,
          0.009997862932476526,
          0.0037199617202531535,
          0.0051596227392149314,
          0.03202340935380823,
          0.030099822794968267,
          0.033127349906674104,
          0.023315825319115125,
          0.010920806994753948,
          0.10868467141274575,
          0.014767481289149679,
          0.05359338155528457,
          0.08894019253308225,
          0.07586925207927826,
          0.07535972917226126,
          0.10289722327716337,
          0.013461234278642336,
          0.03600935640059441,
          0.04909523704124532,
          0.013417448642403894,
          0.01643605584763184,
          0.025375654459307263,
          0.004024046961437631,
          0.038545642458834684,
          0.023165664874302452,
          0.060142621998695134,
          0.027488208251525537,
          0.028421696835887987,
          0.033018482430785465,
          0,
          0.0067298369931626904,
          0.07270611029119083,
          0.05995725240998417,
          0.022412096341257088,
          0.02015199883593619,
          0.018442258925216688,
          0.029273581903417212,
          0.027121576825566453,
          0.03270185851653667,
          0.0077119244079075005,
          0.03752038236409998,
          0.05693360824575977,
          0.06357821049913673,
          0.03700300454942161,
          0.0920490529833413,
          0.01577805666220292,
          0.0034199103079560183,
          0.028470612615837155,
          0.010752556891352636,
          0.06388959202943831,
          0.07171209634713922,
          0.024238775513478403,
          0.011953403309392608,
          0.017520035336343595,
          0.011617254179506684,
          0.029595875640765136,
          0.05624344739878525,
          0.043338576659944936,
          0.06825990434498766,
          0.03082446506398836,
          0.11987007525665756,
          0.021985075882336173,
          0.03366904254747754,
          0.03359977706922831,
          0.05061733170617695,
          0.028896083227628044,
          0.00782428544653809,
          0.018045809789413694,
          0.026908722432206152,
          0.04444212600437902,
          0.03658315915434148,
          0.02683489207251235,
          0.15599198950100737,
          0.030949639776980974,
          0.012408204338758293,
          0.06122232432696942,
          0.10236038039367991,
          0.011661874242267316,
          0.15702622829883703,
          0.10370791006858643,
          0.021252763121392446,
          0.05555719555698689,
          0.02863648024217488,
          0.1285059920285304,
          0.0077347808018869485,
          0.020013257703253053,
          0.026650320031647756,
          0.0129777839762839,
          0.020654278780641258,
          0.004844520932449031,
          0.01958122668883898,
          0.0035182389186586976,
          0.003693401323499587,
          0.03362599568550237,
          0.018903972006044743,
          0.003490964097894984,
          0.002764986738712281,
          0.027285328790503872,
          0.004079275965623795,
          0.012159383702621124,
          0.003495583046261337,
          0.01675417049198413,
          0.003137425628779644,
          0.022585230077626698,
          0.014745557705307066,
          0.017968094597325554,
          0.012545671748706548,
          0.07189022734448745,
          0.07386674129162289,
          0.0229690131902816,
          0.01086344855689031,
          0.00723524674453232,
          0.008106406569121394,
          0.030408616515035958,
          0.014668327983308528,
          0.012061761417731014,
          0.06422576068686102,
          0.029843594873919948,
          0.019301252398140935,
          0.00907608267905688,
          0.07911336613144464,
          0.04582347332135543,
          0.01705831824419756,
          0.024622735872804807,
          0.023732277431760325,
          0.00971091540374712,
          0.02597338461491201,
          0.013342409817739868,
          0.020245839764644877,
          0.0017430136858861878,
          0.003424399420038731,
          0.03622410979728486,
          0.014233998556050724,
          0.10551147975891052,
          0.003277991479161118,
          0.027161531503990224,
          0.04573773063246401,
          0.017014690609480417,
          0.013961279681618982,
          0.038298688476948006,
          0.028702651273662918,
          0.03029764416764104,
          0.018370035630064025,
          0.07394784476859127,
          0.04772740748693572,
          0.0362715264828979,
          0.020186779359387366,
          0,
          0.028211819986195916,
          0.135912094494092,
          0.0384046758458956,
          0.021101350062555656,
          0.03558065233852997,
          0.011168476321140736,
          0.011477367436422244,
          0.018198220936721295,
          0.004055435142836147,
          0.06686500780375867,
          0.014159710591571761,
          0.015539658104777943,
          0.022025546098463515,
          0.0737741471551498,
          0.020038634822197064,
          0,
          0.008428503738239192,
          0.03203742061708452,
          0.001423695456978077,
          0.030373760676268544,
          0.09614679507597494,
          0.033839905119225945,
          0.01571823650969534,
          0.03700608196819028,
          0.006356205051158566,
          0.011874352884043293,
          0.011641229223914815,
          0.00017094017094017094,
          0.01236121092406465,
          0.019350087904005275,
          0.022927050466512208,
          0.03622206681459833,
          0.019456515921368694,
          0.02858680757771334,
          0.04631834025307087,
          0.044233020053329304,
          0.015672131793292066,
          0,
          0.04093742270335832,
          0,
          0.012609722492907559,
          0.023970729927412924,
          0.020237053209330162,
          0.02608194796972271,
          0.06806803503602844,
          0.006392398341006603,
          0.0259003435628057,
          0.03901064475996235,
          0.01126854682223735,
          0.04465246536334013,
          0.005114837979317222,
          0.00334690962928184,
          0.003494506088880903,
          0.011083859913663618,
          0.051939564642386554,
          0.035276991503997254,
          0.047742970169607005,
          0.010854568503443848,
          0.006056238612101659,
          0.026063057996840687,
          0.03173896158286361,
          0.012227855071270145,
          0.017964492610432935,
          0.05694229298412592,
          0.039269407744596155,
          0.013333095610387561,
          0.00448024502751718,
          0.022735881347696833,
          0.025365560467119016,
          0,
          0,
          0.003069710988536333,
          0.05774066736738277,
          0.011151253583807823,
          0.08034608193062003,
          0.015383809262525638,
          0.025080224267343406,
          0.0188712355114018,
          0.01428628017956488,
          0.025346661976361207,
          0.023836189899801363,
          0,
          0.029061694924320796,
          0.009726450920640391,
          0.018530853301816717,
          0.02520605775934264,
          0.023849774002284555,
          0.08576491233668301,
          0.09824979312446486,
          0.022493511189834534,
          0.03239088930469154,
          0.02767436833663275,
          0.0911670699919494,
          0.02899683163411401,
          0.02817521558088304,
          0.027179958102331727,
          0.02070914817269388,
          0.012361020293020374,
          0.12077414859275892,
          0.07249776924770984,
          0,
          0,
          0.014862878416432145,
          0.04887577582731385,
          0.009797877280216074,
          0.013703316025594593,
          0.025952196683143636,
          0.025279164134167358,
          0.015737137040548174,
          0.01672678671089203,
          0.010215355092090785,
          0.0017622137460388168,
          0.023471958448659614,
          0.022949245436111664,
          0,
          0.01378918670277169,
          0.02254630231448309,
          0.052998563678324784,
          0.02607671102128959,
          0.019319605807693437,
          0.0257047099212881,
          0,
          0.011014045491204596,
          0.009799564541183517,
          0,
          0,
          0.001507216556374779,
          0.00014584757131978619,
          0.007756739536684171,
          0.016430486604105968,
          0.003386232025536701,
          0.012032468124356639,
          0.021811618174702924,
          0.004556631211834842,
          0.002584082109261788,
          0.0009094512790328614,
          0,
          0.054540897051439885,
          0.024640148048022247,
          0.03234167755570097,
          0.01663035313562459,
          0.027280495811671697,
          0.007698939166017595,
          0.007327101415027763,
          0.004095396543823678,
          0.015443143664742125,
          0.03734920766825224,
          0.014424747511959147,
          0.016945487536905265,
          0.012408109273573675,
          0.030688710656067805,
          0,
          0.028168460200358895,
          0.05391842017804221,
          0.011884734845465966,
          0.007618049277308868,
          0.024672283589856184,
          0.013971587657256918,
          0.017544246853789185,
          0.019498582638016505,
          0.018219802193447866,
          0.022099579803661146,
          0.02151111962535465,
          0.028280213615685557,
          0.005752610679399162,
          0.01306123015052141,
          0.03947811581198734,
          0.08070369360174522,
          0.027253004639038216,
          0.018060887621084817,
          0.010560971666503632,
          0.010318971684408445,
          0.017716589371780885,
          0.019136468782096037,
          0,
          0.021364939776339166,
          0.027325089722689794,
          0.006334562393588163,
          0.0129882597541781,
          0.021198486370990456,
          0.02812354159840501,
          0.05286293420263075,
          0,
          0.028620232123054368,
          0.014639033922375397,
          0.027425934175784282,
          0.02231085867066603,
          0.014686849712010258,
          0.05623993587235624,
          0.0572907478616194,
          0.028322319185913165,
          0.014677255576560064,
          0.009474730807419292,
          0.03393334027183702,
          0,
          0.01300443968875252,
          0,
          0,
          0,
          0.10371183519903746,
          0.008109234012576379,
          0.02106241496906196,
          0.022629714412752147,
          0.011159653419606555,
          0.011556005904968155,
          0.10666487045714486,
          0.021466892196418595,
          0.05324862339398325,
          0,
          0.018955817371387882,
          0.029455275791430573,
          0.02507422492448264,
          0.014638569564622853,
          0.008028938191346945,
          0.008804959986820769,
          0,
          0.009171164069289623,
          0.0022349637586241665,
          0,
          0.0219214217172494,
          0.039531169951389215,
          0.03053989405797815,
          0.02193204352089088,
          0.00918684490248131,
          0.02055223325080274,
          0.010718403301081347,
          0.003736440429109774,
          0.008067106256711627,
          0.019044410742083687,
          0.0023834847042482564,
          0.009512555265366216,
          0.026387674436783786,
          0.003246999072132184,
          0.012324642655409262,
          0.014278199454956531,
          0,
          0.011517853011420161,
          0.011638014780797375,
          0.0036771672853744795,
          0.02658167539112351,
          0.13138520820019517,
          0.06188788873395755,
          0.006449772502587721,
          0.007896095632220752,
          0.013855947629534108,
          0.03324137683592922,
          0.0035844341900529613,
          0.014232801821960465,
          0.002398637470611272,
          0,
          0.020816418337047223,
          0.019220588689716617,
          0.02057935844803147,
          0.011715388607449298,
          0.012359538977696354,
          0.04373126849650756,
          0.019458231293957955,
          0.013327728764356991,
          0.006213214928212633,
          0.0036409615161885787,
          0.0024453677075761517,
          0.019956969790561996,
          0.019143848233938117,
          0.023926063138181713,
          0.08043335153671675,
          0.010817486154332962,
          0.002185245695841863,
          0.014510410416062224,
          0.015505008083519779,
          0.014989339345414939,
          0.0000775995864418199,
          0.07055985178521317,
          0,
          0.010116984807081203,
          0.030812628879680493,
          0.005841366392936253,
          0.004746983499674662,
          0.001334422682905102,
          0.00007023458486378038,
          0,
          0.025298054193378786,
          0.02266596743073863,
          0.020539051406304937,
          0.00995138231625897,
          0.012467572998462224,
          0.011424657701838042,
          0.00025510203585134164,
          0.019142002118938257,
          0.003672889901569132,
          0.0039340367233081965,
          0.025181970229219575,
          0.018403495587201463
         ],
         "yaxis": "y"
        }
       ],
       "layout": {
        "legend": {
         "title": {
          "text": "variable"
         },
         "tracegroupgap": 0
        },
        "margin": {
         "t": 60
        },
        "template": {
         "data": {
          "bar": [
           {
            "error_x": {
             "color": "#2a3f5f"
            },
            "error_y": {
             "color": "#2a3f5f"
            },
            "marker": {
             "line": {
              "color": "#E5ECF6",
              "width": 0.5
             },
             "pattern": {
              "fillmode": "overlay",
              "size": 10,
              "solidity": 0.2
             }
            },
            "type": "bar"
           }
          ],
          "barpolar": [
           {
            "marker": {
             "line": {
              "color": "#E5ECF6",
              "width": 0.5
             },
             "pattern": {
              "fillmode": "overlay",
              "size": 10,
              "solidity": 0.2
             }
            },
            "type": "barpolar"
           }
          ],
          "carpet": [
           {
            "aaxis": {
             "endlinecolor": "#2a3f5f",
             "gridcolor": "white",
             "linecolor": "white",
             "minorgridcolor": "white",
             "startlinecolor": "#2a3f5f"
            },
            "baxis": {
             "endlinecolor": "#2a3f5f",
             "gridcolor": "white",
             "linecolor": "white",
             "minorgridcolor": "white",
             "startlinecolor": "#2a3f5f"
            },
            "type": "carpet"
           }
          ],
          "choropleth": [
           {
            "colorbar": {
             "outlinewidth": 0,
             "ticks": ""
            },
            "type": "choropleth"
           }
          ],
          "contour": [
           {
            "colorbar": {
             "outlinewidth": 0,
             "ticks": ""
            },
            "colorscale": [
             [
              0,
              "#0d0887"
             ],
             [
              0.1111111111111111,
              "#46039f"
             ],
             [
              0.2222222222222222,
              "#7201a8"
             ],
             [
              0.3333333333333333,
              "#9c179e"
             ],
             [
              0.4444444444444444,
              "#bd3786"
             ],
             [
              0.5555555555555556,
              "#d8576b"
             ],
             [
              0.6666666666666666,
              "#ed7953"
             ],
             [
              0.7777777777777778,
              "#fb9f3a"
             ],
             [
              0.8888888888888888,
              "#fdca26"
             ],
             [
              1,
              "#f0f921"
             ]
            ],
            "type": "contour"
           }
          ],
          "contourcarpet": [
           {
            "colorbar": {
             "outlinewidth": 0,
             "ticks": ""
            },
            "type": "contourcarpet"
           }
          ],
          "heatmap": [
           {
            "colorbar": {
             "outlinewidth": 0,
             "ticks": ""
            },
            "colorscale": [
             [
              0,
              "#0d0887"
             ],
             [
              0.1111111111111111,
              "#46039f"
             ],
             [
              0.2222222222222222,
              "#7201a8"
             ],
             [
              0.3333333333333333,
              "#9c179e"
             ],
             [
              0.4444444444444444,
              "#bd3786"
             ],
             [
              0.5555555555555556,
              "#d8576b"
             ],
             [
              0.6666666666666666,
              "#ed7953"
             ],
             [
              0.7777777777777778,
              "#fb9f3a"
             ],
             [
              0.8888888888888888,
              "#fdca26"
             ],
             [
              1,
              "#f0f921"
             ]
            ],
            "type": "heatmap"
           }
          ],
          "heatmapgl": [
           {
            "colorbar": {
             "outlinewidth": 0,
             "ticks": ""
            },
            "colorscale": [
             [
              0,
              "#0d0887"
             ],
             [
              0.1111111111111111,
              "#46039f"
             ],
             [
              0.2222222222222222,
              "#7201a8"
             ],
             [
              0.3333333333333333,
              "#9c179e"
             ],
             [
              0.4444444444444444,
              "#bd3786"
             ],
             [
              0.5555555555555556,
              "#d8576b"
             ],
             [
              0.6666666666666666,
              "#ed7953"
             ],
             [
              0.7777777777777778,
              "#fb9f3a"
             ],
             [
              0.8888888888888888,
              "#fdca26"
             ],
             [
              1,
              "#f0f921"
             ]
            ],
            "type": "heatmapgl"
           }
          ],
          "histogram": [
           {
            "marker": {
             "pattern": {
              "fillmode": "overlay",
              "size": 10,
              "solidity": 0.2
             }
            },
            "type": "histogram"
           }
          ],
          "histogram2d": [
           {
            "colorbar": {
             "outlinewidth": 0,
             "ticks": ""
            },
            "colorscale": [
             [
              0,
              "#0d0887"
             ],
             [
              0.1111111111111111,
              "#46039f"
             ],
             [
              0.2222222222222222,
              "#7201a8"
             ],
             [
              0.3333333333333333,
              "#9c179e"
             ],
             [
              0.4444444444444444,
              "#bd3786"
             ],
             [
              0.5555555555555556,
              "#d8576b"
             ],
             [
              0.6666666666666666,
              "#ed7953"
             ],
             [
              0.7777777777777778,
              "#fb9f3a"
             ],
             [
              0.8888888888888888,
              "#fdca26"
             ],
             [
              1,
              "#f0f921"
             ]
            ],
            "type": "histogram2d"
           }
          ],
          "histogram2dcontour": [
           {
            "colorbar": {
             "outlinewidth": 0,
             "ticks": ""
            },
            "colorscale": [
             [
              0,
              "#0d0887"
             ],
             [
              0.1111111111111111,
              "#46039f"
             ],
             [
              0.2222222222222222,
              "#7201a8"
             ],
             [
              0.3333333333333333,
              "#9c179e"
             ],
             [
              0.4444444444444444,
              "#bd3786"
             ],
             [
              0.5555555555555556,
              "#d8576b"
             ],
             [
              0.6666666666666666,
              "#ed7953"
             ],
             [
              0.7777777777777778,
              "#fb9f3a"
             ],
             [
              0.8888888888888888,
              "#fdca26"
             ],
             [
              1,
              "#f0f921"
             ]
            ],
            "type": "histogram2dcontour"
           }
          ],
          "mesh3d": [
           {
            "colorbar": {
             "outlinewidth": 0,
             "ticks": ""
            },
            "type": "mesh3d"
           }
          ],
          "parcoords": [
           {
            "line": {
             "colorbar": {
              "outlinewidth": 0,
              "ticks": ""
             }
            },
            "type": "parcoords"
           }
          ],
          "pie": [
           {
            "automargin": true,
            "type": "pie"
           }
          ],
          "scatter": [
           {
            "marker": {
             "colorbar": {
              "outlinewidth": 0,
              "ticks": ""
             }
            },
            "type": "scatter"
           }
          ],
          "scatter3d": [
           {
            "line": {
             "colorbar": {
              "outlinewidth": 0,
              "ticks": ""
             }
            },
            "marker": {
             "colorbar": {
              "outlinewidth": 0,
              "ticks": ""
             }
            },
            "type": "scatter3d"
           }
          ],
          "scattercarpet": [
           {
            "marker": {
             "colorbar": {
              "outlinewidth": 0,
              "ticks": ""
             }
            },
            "type": "scattercarpet"
           }
          ],
          "scattergeo": [
           {
            "marker": {
             "colorbar": {
              "outlinewidth": 0,
              "ticks": ""
             }
            },
            "type": "scattergeo"
           }
          ],
          "scattergl": [
           {
            "marker": {
             "colorbar": {
              "outlinewidth": 0,
              "ticks": ""
             }
            },
            "type": "scattergl"
           }
          ],
          "scattermapbox": [
           {
            "marker": {
             "colorbar": {
              "outlinewidth": 0,
              "ticks": ""
             }
            },
            "type": "scattermapbox"
           }
          ],
          "scatterpolar": [
           {
            "marker": {
             "colorbar": {
              "outlinewidth": 0,
              "ticks": ""
             }
            },
            "type": "scatterpolar"
           }
          ],
          "scatterpolargl": [
           {
            "marker": {
             "colorbar": {
              "outlinewidth": 0,
              "ticks": ""
             }
            },
            "type": "scatterpolargl"
           }
          ],
          "scatterternary": [
           {
            "marker": {
             "colorbar": {
              "outlinewidth": 0,
              "ticks": ""
             }
            },
            "type": "scatterternary"
           }
          ],
          "surface": [
           {
            "colorbar": {
             "outlinewidth": 0,
             "ticks": ""
            },
            "colorscale": [
             [
              0,
              "#0d0887"
             ],
             [
              0.1111111111111111,
              "#46039f"
             ],
             [
              0.2222222222222222,
              "#7201a8"
             ],
             [
              0.3333333333333333,
              "#9c179e"
             ],
             [
              0.4444444444444444,
              "#bd3786"
             ],
             [
              0.5555555555555556,
              "#d8576b"
             ],
             [
              0.6666666666666666,
              "#ed7953"
             ],
             [
              0.7777777777777778,
              "#fb9f3a"
             ],
             [
              0.8888888888888888,
              "#fdca26"
             ],
             [
              1,
              "#f0f921"
             ]
            ],
            "type": "surface"
           }
          ],
          "table": [
           {
            "cells": {
             "fill": {
              "color": "#EBF0F8"
             },
             "line": {
              "color": "white"
             }
            },
            "header": {
             "fill": {
              "color": "#C8D4E3"
             },
             "line": {
              "color": "white"
             }
            },
            "type": "table"
           }
          ]
         },
         "layout": {
          "annotationdefaults": {
           "arrowcolor": "#2a3f5f",
           "arrowhead": 0,
           "arrowwidth": 1
          },
          "autotypenumbers": "strict",
          "coloraxis": {
           "colorbar": {
            "outlinewidth": 0,
            "ticks": ""
           }
          },
          "colorscale": {
           "diverging": [
            [
             0,
             "#8e0152"
            ],
            [
             0.1,
             "#c51b7d"
            ],
            [
             0.2,
             "#de77ae"
            ],
            [
             0.3,
             "#f1b6da"
            ],
            [
             0.4,
             "#fde0ef"
            ],
            [
             0.5,
             "#f7f7f7"
            ],
            [
             0.6,
             "#e6f5d0"
            ],
            [
             0.7,
             "#b8e186"
            ],
            [
             0.8,
             "#7fbc41"
            ],
            [
             0.9,
             "#4d9221"
            ],
            [
             1,
             "#276419"
            ]
           ],
           "sequential": [
            [
             0,
             "#0d0887"
            ],
            [
             0.1111111111111111,
             "#46039f"
            ],
            [
             0.2222222222222222,
             "#7201a8"
            ],
            [
             0.3333333333333333,
             "#9c179e"
            ],
            [
             0.4444444444444444,
             "#bd3786"
            ],
            [
             0.5555555555555556,
             "#d8576b"
            ],
            [
             0.6666666666666666,
             "#ed7953"
            ],
            [
             0.7777777777777778,
             "#fb9f3a"
            ],
            [
             0.8888888888888888,
             "#fdca26"
            ],
            [
             1,
             "#f0f921"
            ]
           ],
           "sequentialminus": [
            [
             0,
             "#0d0887"
            ],
            [
             0.1111111111111111,
             "#46039f"
            ],
            [
             0.2222222222222222,
             "#7201a8"
            ],
            [
             0.3333333333333333,
             "#9c179e"
            ],
            [
             0.4444444444444444,
             "#bd3786"
            ],
            [
             0.5555555555555556,
             "#d8576b"
            ],
            [
             0.6666666666666666,
             "#ed7953"
            ],
            [
             0.7777777777777778,
             "#fb9f3a"
            ],
            [
             0.8888888888888888,
             "#fdca26"
            ],
            [
             1,
             "#f0f921"
            ]
           ]
          },
          "colorway": [
           "#636efa",
           "#EF553B",
           "#00cc96",
           "#ab63fa",
           "#FFA15A",
           "#19d3f3",
           "#FF6692",
           "#B6E880",
           "#FF97FF",
           "#FECB52"
          ],
          "font": {
           "color": "#2a3f5f"
          },
          "geo": {
           "bgcolor": "white",
           "lakecolor": "white",
           "landcolor": "#E5ECF6",
           "showlakes": true,
           "showland": true,
           "subunitcolor": "white"
          },
          "hoverlabel": {
           "align": "left"
          },
          "hovermode": "closest",
          "mapbox": {
           "style": "light"
          },
          "paper_bgcolor": "white",
          "plot_bgcolor": "#E5ECF6",
          "polar": {
           "angularaxis": {
            "gridcolor": "white",
            "linecolor": "white",
            "ticks": ""
           },
           "bgcolor": "#E5ECF6",
           "radialaxis": {
            "gridcolor": "white",
            "linecolor": "white",
            "ticks": ""
           }
          },
          "scene": {
           "xaxis": {
            "backgroundcolor": "#E5ECF6",
            "gridcolor": "white",
            "gridwidth": 2,
            "linecolor": "white",
            "showbackground": true,
            "ticks": "",
            "zerolinecolor": "white"
           },
           "yaxis": {
            "backgroundcolor": "#E5ECF6",
            "gridcolor": "white",
            "gridwidth": 2,
            "linecolor": "white",
            "showbackground": true,
            "ticks": "",
            "zerolinecolor": "white"
           },
           "zaxis": {
            "backgroundcolor": "#E5ECF6",
            "gridcolor": "white",
            "gridwidth": 2,
            "linecolor": "white",
            "showbackground": true,
            "ticks": "",
            "zerolinecolor": "white"
           }
          },
          "shapedefaults": {
           "line": {
            "color": "#2a3f5f"
           }
          },
          "ternary": {
           "aaxis": {
            "gridcolor": "white",
            "linecolor": "white",
            "ticks": ""
           },
           "baxis": {
            "gridcolor": "white",
            "linecolor": "white",
            "ticks": ""
           },
           "bgcolor": "#E5ECF6",
           "caxis": {
            "gridcolor": "white",
            "linecolor": "white",
            "ticks": ""
           }
          },
          "title": {
           "x": 0.05
          },
          "xaxis": {
           "automargin": true,
           "gridcolor": "white",
           "linecolor": "white",
           "ticks": "",
           "title": {
            "standoff": 15
           },
           "zerolinecolor": "white",
           "zerolinewidth": 2
          },
          "yaxis": {
           "automargin": true,
           "gridcolor": "white",
           "linecolor": "white",
           "ticks": "",
           "title": {
            "standoff": 15
           },
           "zerolinecolor": "white",
           "zerolinewidth": 2
          }
         }
        },
        "xaxis": {
         "anchor": "y",
         "domain": [
          0,
          1
         ],
         "title": {
          "text": "index"
         },
         "type": "log"
        },
        "yaxis": {
         "anchor": "x",
         "domain": [
          0,
          1
         ],
         "title": {
          "text": "value"
         }
        }
       }
      }
     },
     "metadata": {},
     "output_type": "display_data"
    }
   ],
   "source": [
    "px.scatter(frac_ticks_df[['mean_volume', 'dvd_rate']], log_x=True)"
   ]
  },
  {
   "cell_type": "code",
   "execution_count": null,
   "id": "70db9efe",
   "metadata": {},
   "outputs": [],
   "source": [
    "p"
   ]
  },
  {
   "cell_type": "code",
   "execution_count": null,
   "id": "435fd39c",
   "metadata": {},
   "outputs": [],
   "source": [
    "frac_ticks_df"
   ]
  },
  {
   "cell_type": "code",
   "execution_count": 54,
   "id": "fb174bf1",
   "metadata": {},
   "outputs": [
    {
     "data": {
      "text/plain": [
       "AMZA    0.277650\n",
       "REM     0.263033\n",
       "KBWD    0.151428\n",
       "YYY     0.147250\n",
       "QYLD    0.146285\n",
       "BIZD    0.138899\n",
       "PCEF    0.129016\n",
       "SDIV    0.122793\n",
       "JNK     0.116806\n",
       "AMLP    0.116001\n",
       "RYLD    0.115548\n",
       "MLPA    0.110802\n",
       "HYG     0.102472\n",
       "PGF     0.102421\n",
       "PFF     0.100399\n",
       "AMJ     0.099475\n",
       "PGX     0.099398\n",
       "SRET    0.098518\n",
       "PDBC    0.098250\n",
       "PFFA    0.097536\n",
       "KBA     0.096147\n",
       "PSP     0.091140\n",
       "COMT    0.090331\n",
       "KBWY    0.090230\n",
       "SPFF    0.088380\n",
       "PSK     0.085803\n",
       "DIV     0.085586\n",
       "BCI     0.080704\n",
       "IDV     0.079140\n",
       "HYEM    0.077499\n",
       "JEPI    0.076216\n",
       "PCY     0.075941\n",
       "EWM     0.075531\n",
       "DWX     0.074675\n",
       "MDIV    0.073842\n",
       "PHB     0.073609\n",
       "EWI     0.072109\n",
       "PFXF    0.071360\n",
       "EWA     0.070960\n",
       "HEWJ    0.070748\n",
       "DVYE    0.070543\n",
       "HYLS    0.070353\n",
       "SJNK    0.070088\n",
       "FGD     0.070080\n",
       "EWD     0.069947\n",
       "IFGL    0.069897\n",
       "EDV     0.069797\n",
       "EMLC    0.069432\n",
       "RWX     0.069099\n",
       "ANGL    0.068990\n",
       "dtype: float64"
      ]
     },
     "execution_count": 54,
     "metadata": {},
     "output_type": "execute_result"
    }
   ],
   "source": [
    "mean_dvd_rates.sort_values(ascending=False).head(50)"
   ]
  },
  {
   "cell_type": "code",
   "execution_count": 49,
   "id": "ffc71e28",
   "metadata": {},
   "outputs": [
    {
     "data": {
      "text/html": [
       "<div>\n",
       "<style scoped>\n",
       "    .dataframe tbody tr th:only-of-type {\n",
       "        vertical-align: middle;\n",
       "    }\n",
       "\n",
       "    .dataframe tbody tr th {\n",
       "        vertical-align: top;\n",
       "    }\n",
       "\n",
       "    .dataframe thead th {\n",
       "        text-align: right;\n",
       "    }\n",
       "</style>\n",
       "<table border=\"1\" class=\"dataframe\">\n",
       "  <thead>\n",
       "    <tr style=\"text-align: right;\">\n",
       "      <th></th>\n",
       "      <th>AAAU</th>\n",
       "      <th>AAXJ</th>\n",
       "      <th>ACES</th>\n",
       "      <th>ACWI</th>\n",
       "      <th>ACWV</th>\n",
       "      <th>ACWX</th>\n",
       "      <th>AGG</th>\n",
       "      <th>AGGY</th>\n",
       "      <th>AGQ</th>\n",
       "      <th>AGZ</th>\n",
       "      <th>...</th>\n",
       "      <th>XSOE</th>\n",
       "      <th>XSW</th>\n",
       "      <th>XT</th>\n",
       "      <th>XTN</th>\n",
       "      <th>XYLD</th>\n",
       "      <th>YANG</th>\n",
       "      <th>YINN</th>\n",
       "      <th>YOLO</th>\n",
       "      <th>YYY</th>\n",
       "      <th>ZSL</th>\n",
       "    </tr>\n",
       "    <tr>\n",
       "      <th>Date</th>\n",
       "      <th></th>\n",
       "      <th></th>\n",
       "      <th></th>\n",
       "      <th></th>\n",
       "      <th></th>\n",
       "      <th></th>\n",
       "      <th></th>\n",
       "      <th></th>\n",
       "      <th></th>\n",
       "      <th></th>\n",
       "      <th></th>\n",
       "      <th></th>\n",
       "      <th></th>\n",
       "      <th></th>\n",
       "      <th></th>\n",
       "      <th></th>\n",
       "      <th></th>\n",
       "      <th></th>\n",
       "      <th></th>\n",
       "      <th></th>\n",
       "      <th></th>\n",
       "    </tr>\n",
       "  </thead>\n",
       "  <tbody>\n",
       "    <tr>\n",
       "      <th>1993-06-18</th>\n",
       "      <td>NaN</td>\n",
       "      <td>NaN</td>\n",
       "      <td>NaN</td>\n",
       "      <td>NaN</td>\n",
       "      <td>NaN</td>\n",
       "      <td>NaN</td>\n",
       "      <td>NaN</td>\n",
       "      <td>NaN</td>\n",
       "      <td>NaN</td>\n",
       "      <td>NaN</td>\n",
       "      <td>...</td>\n",
       "      <td>NaN</td>\n",
       "      <td>NaN</td>\n",
       "      <td>NaN</td>\n",
       "      <td>NaN</td>\n",
       "      <td>NaN</td>\n",
       "      <td>NaN</td>\n",
       "      <td>NaN</td>\n",
       "      <td>NaN</td>\n",
       "      <td>NaN</td>\n",
       "      <td>NaN</td>\n",
       "    </tr>\n",
       "    <tr>\n",
       "      <th>1993-09-17</th>\n",
       "      <td>NaN</td>\n",
       "      <td>NaN</td>\n",
       "      <td>NaN</td>\n",
       "      <td>NaN</td>\n",
       "      <td>NaN</td>\n",
       "      <td>NaN</td>\n",
       "      <td>NaN</td>\n",
       "      <td>NaN</td>\n",
       "      <td>NaN</td>\n",
       "      <td>NaN</td>\n",
       "      <td>...</td>\n",
       "      <td>NaN</td>\n",
       "      <td>NaN</td>\n",
       "      <td>NaN</td>\n",
       "      <td>NaN</td>\n",
       "      <td>NaN</td>\n",
       "      <td>NaN</td>\n",
       "      <td>NaN</td>\n",
       "      <td>NaN</td>\n",
       "      <td>NaN</td>\n",
       "      <td>NaN</td>\n",
       "    </tr>\n",
       "    <tr>\n",
       "      <th>1993-12-17</th>\n",
       "      <td>NaN</td>\n",
       "      <td>NaN</td>\n",
       "      <td>NaN</td>\n",
       "      <td>NaN</td>\n",
       "      <td>NaN</td>\n",
       "      <td>NaN</td>\n",
       "      <td>NaN</td>\n",
       "      <td>NaN</td>\n",
       "      <td>NaN</td>\n",
       "      <td>NaN</td>\n",
       "      <td>...</td>\n",
       "      <td>NaN</td>\n",
       "      <td>NaN</td>\n",
       "      <td>NaN</td>\n",
       "      <td>NaN</td>\n",
       "      <td>NaN</td>\n",
       "      <td>NaN</td>\n",
       "      <td>NaN</td>\n",
       "      <td>NaN</td>\n",
       "      <td>NaN</td>\n",
       "      <td>NaN</td>\n",
       "    </tr>\n",
       "    <tr>\n",
       "      <th>1994-03-18</th>\n",
       "      <td>NaN</td>\n",
       "      <td>NaN</td>\n",
       "      <td>NaN</td>\n",
       "      <td>NaN</td>\n",
       "      <td>NaN</td>\n",
       "      <td>NaN</td>\n",
       "      <td>NaN</td>\n",
       "      <td>NaN</td>\n",
       "      <td>NaN</td>\n",
       "      <td>NaN</td>\n",
       "      <td>...</td>\n",
       "      <td>NaN</td>\n",
       "      <td>NaN</td>\n",
       "      <td>NaN</td>\n",
       "      <td>NaN</td>\n",
       "      <td>NaN</td>\n",
       "      <td>NaN</td>\n",
       "      <td>NaN</td>\n",
       "      <td>NaN</td>\n",
       "      <td>NaN</td>\n",
       "      <td>NaN</td>\n",
       "    </tr>\n",
       "    <tr>\n",
       "      <th>1994-06-17</th>\n",
       "      <td>NaN</td>\n",
       "      <td>NaN</td>\n",
       "      <td>NaN</td>\n",
       "      <td>NaN</td>\n",
       "      <td>NaN</td>\n",
       "      <td>NaN</td>\n",
       "      <td>NaN</td>\n",
       "      <td>NaN</td>\n",
       "      <td>NaN</td>\n",
       "      <td>NaN</td>\n",
       "      <td>...</td>\n",
       "      <td>NaN</td>\n",
       "      <td>NaN</td>\n",
       "      <td>NaN</td>\n",
       "      <td>NaN</td>\n",
       "      <td>NaN</td>\n",
       "      <td>NaN</td>\n",
       "      <td>NaN</td>\n",
       "      <td>NaN</td>\n",
       "      <td>NaN</td>\n",
       "      <td>NaN</td>\n",
       "    </tr>\n",
       "    <tr>\n",
       "      <th>...</th>\n",
       "      <td>...</td>\n",
       "      <td>...</td>\n",
       "      <td>...</td>\n",
       "      <td>...</td>\n",
       "      <td>...</td>\n",
       "      <td>...</td>\n",
       "      <td>...</td>\n",
       "      <td>...</td>\n",
       "      <td>...</td>\n",
       "      <td>...</td>\n",
       "      <td>...</td>\n",
       "      <td>...</td>\n",
       "      <td>...</td>\n",
       "      <td>...</td>\n",
       "      <td>...</td>\n",
       "      <td>...</td>\n",
       "      <td>...</td>\n",
       "      <td>...</td>\n",
       "      <td>...</td>\n",
       "      <td>...</td>\n",
       "      <td>...</td>\n",
       "    </tr>\n",
       "    <tr>\n",
       "      <th>2023-05-24</th>\n",
       "      <td>0.0</td>\n",
       "      <td>0.0</td>\n",
       "      <td>0.0</td>\n",
       "      <td>0.0</td>\n",
       "      <td>0.0</td>\n",
       "      <td>0.0</td>\n",
       "      <td>0.0</td>\n",
       "      <td>0.003029</td>\n",
       "      <td>0.0</td>\n",
       "      <td>0.0</td>\n",
       "      <td>...</td>\n",
       "      <td>0.0</td>\n",
       "      <td>0.0</td>\n",
       "      <td>0.0</td>\n",
       "      <td>0.0</td>\n",
       "      <td>0.0</td>\n",
       "      <td>0.0</td>\n",
       "      <td>0.0</td>\n",
       "      <td>0.0</td>\n",
       "      <td>0.000000</td>\n",
       "      <td>0.0</td>\n",
       "    </tr>\n",
       "    <tr>\n",
       "      <th>2023-05-25</th>\n",
       "      <td>0.0</td>\n",
       "      <td>0.0</td>\n",
       "      <td>0.0</td>\n",
       "      <td>0.0</td>\n",
       "      <td>0.0</td>\n",
       "      <td>0.0</td>\n",
       "      <td>0.0</td>\n",
       "      <td>0.000000</td>\n",
       "      <td>0.0</td>\n",
       "      <td>0.0</td>\n",
       "      <td>...</td>\n",
       "      <td>0.0</td>\n",
       "      <td>0.0</td>\n",
       "      <td>0.0</td>\n",
       "      <td>0.0</td>\n",
       "      <td>0.0</td>\n",
       "      <td>0.0</td>\n",
       "      <td>0.0</td>\n",
       "      <td>0.0</td>\n",
       "      <td>0.000000</td>\n",
       "      <td>0.0</td>\n",
       "    </tr>\n",
       "    <tr>\n",
       "      <th>2023-05-26</th>\n",
       "      <td>0.0</td>\n",
       "      <td>0.0</td>\n",
       "      <td>0.0</td>\n",
       "      <td>0.0</td>\n",
       "      <td>0.0</td>\n",
       "      <td>0.0</td>\n",
       "      <td>0.0</td>\n",
       "      <td>0.000000</td>\n",
       "      <td>0.0</td>\n",
       "      <td>0.0</td>\n",
       "      <td>...</td>\n",
       "      <td>0.0</td>\n",
       "      <td>0.0</td>\n",
       "      <td>0.0</td>\n",
       "      <td>0.0</td>\n",
       "      <td>0.0</td>\n",
       "      <td>0.0</td>\n",
       "      <td>0.0</td>\n",
       "      <td>0.0</td>\n",
       "      <td>0.010667</td>\n",
       "      <td>0.0</td>\n",
       "    </tr>\n",
       "    <tr>\n",
       "      <th>2023-05-30</th>\n",
       "      <td>0.0</td>\n",
       "      <td>0.0</td>\n",
       "      <td>0.0</td>\n",
       "      <td>0.0</td>\n",
       "      <td>0.0</td>\n",
       "      <td>0.0</td>\n",
       "      <td>0.0</td>\n",
       "      <td>0.000000</td>\n",
       "      <td>0.0</td>\n",
       "      <td>0.0</td>\n",
       "      <td>...</td>\n",
       "      <td>0.0</td>\n",
       "      <td>0.0</td>\n",
       "      <td>0.0</td>\n",
       "      <td>0.0</td>\n",
       "      <td>0.0</td>\n",
       "      <td>0.0</td>\n",
       "      <td>0.0</td>\n",
       "      <td>0.0</td>\n",
       "      <td>0.000000</td>\n",
       "      <td>0.0</td>\n",
       "    </tr>\n",
       "    <tr>\n",
       "      <th>2023-05-31</th>\n",
       "      <td>0.0</td>\n",
       "      <td>0.0</td>\n",
       "      <td>0.0</td>\n",
       "      <td>0.0</td>\n",
       "      <td>0.0</td>\n",
       "      <td>0.0</td>\n",
       "      <td>0.0</td>\n",
       "      <td>0.000000</td>\n",
       "      <td>0.0</td>\n",
       "      <td>0.0</td>\n",
       "      <td>...</td>\n",
       "      <td>0.0</td>\n",
       "      <td>0.0</td>\n",
       "      <td>0.0</td>\n",
       "      <td>0.0</td>\n",
       "      <td>0.0</td>\n",
       "      <td>0.0</td>\n",
       "      <td>0.0</td>\n",
       "      <td>0.0</td>\n",
       "      <td>0.000000</td>\n",
       "      <td>0.0</td>\n",
       "    </tr>\n",
       "  </tbody>\n",
       "</table>\n",
       "<p>2672 rows × 897 columns</p>\n",
       "</div>"
      ],
      "text/plain": [
       "            AAAU  AAXJ  ACES  ACWI  ACWV  ACWX  AGG      AGGY  AGQ  AGZ  ...  \\\n",
       "Date                                                                     ...   \n",
       "1993-06-18   NaN   NaN   NaN   NaN   NaN   NaN  NaN       NaN  NaN  NaN  ...   \n",
       "1993-09-17   NaN   NaN   NaN   NaN   NaN   NaN  NaN       NaN  NaN  NaN  ...   \n",
       "1993-12-17   NaN   NaN   NaN   NaN   NaN   NaN  NaN       NaN  NaN  NaN  ...   \n",
       "1994-03-18   NaN   NaN   NaN   NaN   NaN   NaN  NaN       NaN  NaN  NaN  ...   \n",
       "1994-06-17   NaN   NaN   NaN   NaN   NaN   NaN  NaN       NaN  NaN  NaN  ...   \n",
       "...          ...   ...   ...   ...   ...   ...  ...       ...  ...  ...  ...   \n",
       "2023-05-24   0.0   0.0   0.0   0.0   0.0   0.0  0.0  0.003029  0.0  0.0  ...   \n",
       "2023-05-25   0.0   0.0   0.0   0.0   0.0   0.0  0.0  0.000000  0.0  0.0  ...   \n",
       "2023-05-26   0.0   0.0   0.0   0.0   0.0   0.0  0.0  0.000000  0.0  0.0  ...   \n",
       "2023-05-30   0.0   0.0   0.0   0.0   0.0   0.0  0.0  0.000000  0.0  0.0  ...   \n",
       "2023-05-31   0.0   0.0   0.0   0.0   0.0   0.0  0.0  0.000000  0.0  0.0  ...   \n",
       "\n",
       "            XSOE  XSW   XT  XTN  XYLD  YANG  YINN  YOLO       YYY  ZSL  \n",
       "Date                                                                    \n",
       "1993-06-18   NaN  NaN  NaN  NaN   NaN   NaN   NaN   NaN       NaN  NaN  \n",
       "1993-09-17   NaN  NaN  NaN  NaN   NaN   NaN   NaN   NaN       NaN  NaN  \n",
       "1993-12-17   NaN  NaN  NaN  NaN   NaN   NaN   NaN   NaN       NaN  NaN  \n",
       "1994-03-18   NaN  NaN  NaN  NaN   NaN   NaN   NaN   NaN       NaN  NaN  \n",
       "1994-06-17   NaN  NaN  NaN  NaN   NaN   NaN   NaN   NaN       NaN  NaN  \n",
       "...          ...  ...  ...  ...   ...   ...   ...   ...       ...  ...  \n",
       "2023-05-24   0.0  0.0  0.0  0.0   0.0   0.0   0.0   0.0  0.000000  0.0  \n",
       "2023-05-25   0.0  0.0  0.0  0.0   0.0   0.0   0.0   0.0  0.000000  0.0  \n",
       "2023-05-26   0.0  0.0  0.0  0.0   0.0   0.0   0.0   0.0  0.010667  0.0  \n",
       "2023-05-30   0.0  0.0  0.0  0.0   0.0   0.0   0.0   0.0  0.000000  0.0  \n",
       "2023-05-31   0.0  0.0  0.0  0.0   0.0   0.0   0.0   0.0  0.000000  0.0  \n",
       "\n",
       "[2672 rows x 897 columns]"
      ]
     },
     "execution_count": 49,
     "metadata": {},
     "output_type": "execute_result"
    }
   ],
   "source": [
    "dvd_rate"
   ]
  },
  {
   "cell_type": "code",
   "execution_count": 2,
   "id": "47454c1b",
   "metadata": {},
   "outputs": [],
   "source": [
    "import pymongo\n",
    "\n",
    "class MONGOCONFIG():\n",
    "    servers = \"docdb-test.cluster-ckohxl2wcnzb.docdb.cn-northwest-1.amazonaws.com.cn\"\n",
    "    USERNAME = \"dev\"\n",
    "    PASSWORD = \"dev\"\n",
    "    client = pymongo.MongoClient(f\"mongodb://{USERNAME}:{PASSWORD}@{servers}\")\n",
    "\n",
    "def read_table(db, table, limit=None, filter=None, sort_col='date'):\n",
    "    if filter is None:\n",
    "        filter = {}\n",
    "    if limit is None:\n",
    "        df = pd.DataFrame(list(db[table].find(filter, {'_id': 0})))\n",
    "    else:\n",
    "        df = pd.DataFrame(list(db[table].find(filter, {'_id': 0}).sort(sort_col, pymongo.DESCENDING).limit(limit)))\n",
    "    if len(df) == 0:\n",
    "        raise ValueError(f'Load table error: no data in table \"{table}\"')\n",
    "    return df\n",
    "\n",
    "client = MONGOCONFIG().client\n",
    "db = client['wm_data_provider']"
   ]
  },
  {
   "cell_type": "code",
   "execution_count": 3,
   "id": "67726ab2",
   "metadata": {},
   "outputs": [],
   "source": [
    "fract_etf_df = read_table(db, 't_etf_fractional')"
   ]
  },
  {
   "cell_type": "code",
   "execution_count": 20,
   "id": "9c06f1b1",
   "metadata": {},
   "outputs": [],
   "source": [
    "frac_etf_tick_ids = fract_etf_df[fract_etf_df.date == fract_etf_df.date.max()].ticker_id.to_list()"
   ]
  },
  {
   "cell_type": "code",
   "execution_count": 15,
   "id": "8209e594",
   "metadata": {},
   "outputs": [],
   "source": [
    "latest_date = read_table(db, 't_bd_etf_basic_daily', limit=1).date[0]\n",
    "etf_basic_df = read_table(db, 't_bd_etf_basic_daily', filter={'date': latest_date})"
   ]
  },
  {
   "cell_type": "code",
   "execution_count": 24,
   "id": "2d31dcdb",
   "metadata": {},
   "outputs": [],
   "source": [
    "etf_basic_df.set_index('ticker_id', inplace=True)"
   ]
  },
  {
   "cell_type": "code",
   "execution_count": 26,
   "id": "847f3ae5",
   "metadata": {},
   "outputs": [
    {
     "data": {
      "text/plain": [
       "950160803"
      ]
     },
     "execution_count": 26,
     "metadata": {},
     "output_type": "execute_result"
    }
   ],
   "source": [
    "frac_etf_tick_ids[0]"
   ]
  },
  {
   "cell_type": "code",
   "execution_count": 30,
   "id": "abeaf396",
   "metadata": {},
   "outputs": [],
   "source": [
    "frac_etf_basic_df = etf_basic_df.reindex(frac_etf_tick_ids)"
   ]
  },
  {
   "cell_type": "code",
   "execution_count": 2,
   "id": "874753b5",
   "metadata": {},
   "outputs": [],
   "source": [
    "income_tickers = ['BND', 'BNDX', 'EMB', 'SPLB', 'HYG', 'TLT', 'TIP', 'PFF', 'VNQ']"
   ]
  },
  {
   "cell_type": "code",
   "execution_count": 3,
   "id": "f8dd403f-9d39-4be2-aabd-391c70d800c0",
   "metadata": {},
   "outputs": [
    {
     "name": "stdout",
     "output_type": "stream",
     "text": [
      "[*********************100%***********************]  9 of 9 completed\n"
     ]
    }
   ],
   "source": [
    "# hyg = yf.Ticker(\"HYG\")\n",
    "ohlc = yf.download(income_tickers, period=\"30y\")\n",
    "prices = ohlc['Adj Close'].dropna(how='all')"
   ]
  },
  {
   "cell_type": "code",
   "execution_count": 5,
   "id": "7ddf12d6",
   "metadata": {},
   "outputs": [],
   "source": [
    "def get_income_weights_over_threshold(mu, cov, threshold=0.05, min_value=0.01):\n",
    "    tickers = mu.index\n",
    "    no_constraint_tickers = list(tickers)\n",
    "    min_constraint_tickers = []\n",
    "    max_constraint_tickers = ['VNQ', 'PFF']\n",
    "    \n",
    "    train_cov = mu.copy()\n",
    "    train_cov = cov.copy()\n",
    "    while True:\n",
    "        # try:\n",
    "        train_mu = mu.loc[no_constraint_tickers]\n",
    "        train_cov = cov.loc[no_constraint_tickers, no_constraint_tickers]\n",
    "        ef = EfficientFrontier(train_mu, train_cov)\n",
    "        for ticker in min_constraint_tickers:\n",
    "            ticker_idx = ef.tickers.index(ticker)\n",
    "            ef.add_constraint(lambda w: w[ticker_idx] >= threshold)\n",
    "        \n",
    "        for ticker in max_constraint_tickers:\n",
    "            if ticker in no_constraint_tickers:\n",
    "                ticker_idx = ef.tickers.index(ticker)\n",
    "                ef.add_constraint(lambda w: w[ticker_idx] <= 0.15)\n",
    "\n",
    "        ef.max_sharpe()\n",
    "        weight = pd.Series(ef.weights, index=no_constraint_tickers)\n",
    "\n",
    "        if (weight < min_value).sum() != 0:\n",
    "            for ticker in weight[weight < min_value].index:\n",
    "                no_constraint_tickers.remove(ticker)\n",
    "\n",
    "        elif (weight < threshold).sum() > 1:\n",
    "            ticker = weight.index[weight.argmin()]\n",
    "            no_constraint_tickers.remove(ticker)\n",
    "\n",
    "        elif (weight < threshold).sum() == 1:\n",
    "            ticker = weight.index[weight.argmin()]\n",
    "            min_constraint_tickers.append(ticker)\n",
    "        else:\n",
    "            break\n",
    "    \n",
    "    return np.array(weight.reindex(tickers).fillna(0))\n",
    "\n",
    "def get_round_weights(weights, digits=4):\n",
    "    round_weights = weights.apply(lambda x: round(x, digits))\n",
    "    diff = 1 - round_weights.sum(axis=1)\n",
    "    argmax_idx = round_weights.apply(lambda x: x.argmax(), axis=1)\n",
    "    for date in round_weights.index:\n",
    "        round_weights.loc[date].iloc[argmax_idx.loc[date]] += diff.loc[date]\n",
    "    return round_weights\n"
   ]
  },
  {
   "cell_type": "code",
   "execution_count": 43,
   "id": "95e8119e",
   "metadata": {},
   "outputs": [],
   "source": [
    "latest_date = prices.index.max()\n",
    "idx = pd.IndexSlice\n",
    "\n",
    "return_method = \"capm_return\"\n",
    "risk_method = \"sample_cov\"\n",
    "\n",
    "all_weights = {}\n",
    "\n",
    "stable_tickers = ['BND', 'BNDX', 'EMB', 'SPLB', 'HYG', 'TIP']\n",
    "higher_tickers = stable_tickers + ['PFF', 'VNQ']\n",
    "\n",
    "tickers_dict = {'stable': stable_tickers, 'higher': higher_tickers}\n",
    "\n",
    "for income_name, tickers in tickers_dict.items():\n",
    "    train_end_time = pd.Timestamp(\"2015-01-01\")\n",
    "    all_train_end_time = []\n",
    "    weights = []\n",
    "\n",
    "    while train_end_time < latest_date:\n",
    "        train_datasets = prices.loc[idx[:train_end_time], tickers]\n",
    "        train_mu = expected_returns.return_model(train_datasets, method=return_method)\n",
    "        train_cov = risk_models.risk_matrix(train_datasets, method=risk_method)\n",
    "\n",
    "        train_weight = get_income_weights_over_threshold(train_mu, train_cov)\n",
    "        weights.append(train_weight)\n",
    "\n",
    "        all_train_end_time.append(train_end_time)\n",
    "        train_end_time += relativedelta(months=1)\n",
    "    \n",
    "    weights = pd.DataFrame(weights, index=all_train_end_time, columns=tickers)\n",
    "    weights = get_round_weights(weights)\n",
    "    weights.index.name = 'Date'\n",
    "    all_weights[income_name] = weights"
   ]
  },
  {
   "cell_type": "code",
   "execution_count": null,
   "id": "97bd0932",
   "metadata": {},
   "outputs": [],
   "source": [
    "ticker_id_dict = {}\n",
    "ticker_name_dict = {}\n",
    "asset_type_dict = {}\n",
    "\n",
    "for ticker in prices.columns:\n",
    "    ticker_id, ticker_name, asset_type = get_ticker_info(db, ticker)\n",
    "    ticker_id_dict[ticker] = ticker_id\n",
    "    ticker_name_dict[ticker] = ticker_name\n",
    "    asset_type_dict[ticker] = asset_type"
   ]
  },
  {
   "cell_type": "code",
   "execution_count": null,
   "id": "38b9e25c",
   "metadata": {},
   "outputs": [],
   "source": []
  },
  {
   "cell_type": "code",
   "execution_count": 46,
   "id": "a4a04c15",
   "metadata": {},
   "outputs": [
    {
     "name": "stderr",
     "output_type": "stream",
     "text": [
      "/var/folders/df/58mn713n66n7_8qfjg_nl_qw0000gn/T/ipykernel_8905/3100803926.py:1: FutureWarning: The frame.append method is deprecated and will be removed from pandas in a future version. Use pandas.concat instead.\n",
      "  test_select_prices = prices.iloc[prices.index.searchsorted(all_train_end_time)].append(prices.iloc[-1])\n"
     ]
    }
   ],
   "source": [
    "test_select_prices = prices.iloc[prices.index.searchsorted(all_train_end_time)].append(prices.iloc[-1])\n",
    "test_select_rets = test_select_prices.pct_change().dropna()\n",
    "\n",
    "net_values = []\n",
    "for key, weight in all_weights.items():\n",
    "    weight.index = test_select_rets.index\n",
    "    net_value = ((test_select_rets[weight.columns] * weight).sum(axis=1) + 1).cumprod()\n",
    "    net_values.append(net_value)\n",
    "net_values = pd.concat(net_values, axis=1)\n",
    "net_values.columns = all_weights.keys()\n",
    "\n",
    "start_df = pd.DataFrame(1, index=[pd.Timestamp(\"2015-01-01\")], columns=net_values.columns)\n",
    "net_values = pd.concat([start_df, net_values])"
   ]
  },
  {
   "cell_type": "code",
   "execution_count": 54,
   "id": "1473c33b",
   "metadata": {},
   "outputs": [
    {
     "data": {
      "application/vnd.plotly.v1+json": {
       "config": {
        "plotlyServerURL": "https://plot.ly"
       },
       "data": [
        {
         "hovertemplate": "variable=stable<br>index=%{x}<br>value=%{y}<extra></extra>",
         "legendgroup": "stable",
         "line": {
          "color": "#636efa",
          "dash": "solid"
         },
         "marker": {
          "symbol": "circle"
         },
         "mode": "lines",
         "name": "stable",
         "orientation": "v",
         "showlegend": true,
         "type": "scatter",
         "x": [
          "2015-01-01T00:00:00",
          "2015-02-02T00:00:00",
          "2015-03-02T00:00:00",
          "2015-04-01T00:00:00",
          "2015-05-01T00:00:00",
          "2015-06-01T00:00:00",
          "2015-07-01T00:00:00",
          "2015-08-03T00:00:00",
          "2015-09-01T00:00:00",
          "2015-10-01T00:00:00",
          "2015-11-02T00:00:00",
          "2015-12-01T00:00:00",
          "2016-01-04T00:00:00",
          "2016-02-01T00:00:00",
          "2016-03-01T00:00:00",
          "2016-04-01T00:00:00",
          "2016-05-02T00:00:00",
          "2016-06-01T00:00:00",
          "2016-07-01T00:00:00",
          "2016-08-01T00:00:00",
          "2016-09-01T00:00:00",
          "2016-10-03T00:00:00",
          "2016-11-01T00:00:00",
          "2016-12-01T00:00:00",
          "2017-01-03T00:00:00",
          "2017-02-01T00:00:00",
          "2017-03-01T00:00:00",
          "2017-04-03T00:00:00",
          "2017-05-01T00:00:00",
          "2017-06-01T00:00:00",
          "2017-07-03T00:00:00",
          "2017-08-01T00:00:00",
          "2017-09-01T00:00:00",
          "2017-10-02T00:00:00",
          "2017-11-01T00:00:00",
          "2017-12-01T00:00:00",
          "2018-01-02T00:00:00",
          "2018-02-01T00:00:00",
          "2018-03-01T00:00:00",
          "2018-04-02T00:00:00",
          "2018-05-01T00:00:00",
          "2018-06-01T00:00:00",
          "2018-07-02T00:00:00",
          "2018-08-01T00:00:00",
          "2018-09-04T00:00:00",
          "2018-10-01T00:00:00",
          "2018-11-01T00:00:00",
          "2018-12-03T00:00:00",
          "2019-01-02T00:00:00",
          "2019-02-01T00:00:00",
          "2019-03-01T00:00:00",
          "2019-04-01T00:00:00",
          "2019-05-01T00:00:00",
          "2019-06-03T00:00:00",
          "2019-07-01T00:00:00",
          "2019-08-01T00:00:00",
          "2019-09-03T00:00:00",
          "2019-10-01T00:00:00",
          "2019-11-01T00:00:00",
          "2019-12-02T00:00:00",
          "2020-01-02T00:00:00",
          "2020-02-03T00:00:00",
          "2020-03-02T00:00:00",
          "2020-04-01T00:00:00",
          "2020-05-01T00:00:00",
          "2020-06-01T00:00:00",
          "2020-07-01T00:00:00",
          "2020-08-03T00:00:00",
          "2020-09-01T00:00:00",
          "2020-10-01T00:00:00",
          "2020-11-02T00:00:00",
          "2020-12-01T00:00:00",
          "2021-01-04T00:00:00",
          "2021-02-01T00:00:00",
          "2021-03-01T00:00:00",
          "2021-04-01T00:00:00",
          "2021-05-03T00:00:00",
          "2021-06-01T00:00:00",
          "2021-07-01T00:00:00",
          "2021-08-02T00:00:00",
          "2021-09-01T00:00:00",
          "2021-10-01T00:00:00",
          "2021-11-01T00:00:00",
          "2021-12-01T00:00:00",
          "2022-01-03T00:00:00",
          "2022-02-01T00:00:00",
          "2022-03-01T00:00:00",
          "2022-04-01T00:00:00",
          "2022-05-02T00:00:00",
          "2022-06-01T00:00:00",
          "2022-07-01T00:00:00",
          "2022-08-01T00:00:00",
          "2022-09-01T00:00:00",
          "2022-10-03T00:00:00",
          "2022-11-01T00:00:00",
          "2022-12-01T00:00:00",
          "2023-01-03T00:00:00",
          "2023-02-01T00:00:00",
          "2023-03-01T00:00:00",
          "2023-04-03T00:00:00",
          "2023-05-01T00:00:00",
          "2023-05-17T00:00:00"
         ],
         "xaxis": "x",
         "y": [
          1,
          1.0246297519558796,
          1.0160453320502647,
          1.0242278547927615,
          1.0176416881313608,
          1.0077708905491918,
          0.9930009412625497,
          0.999194339755423,
          0.9887068126368777,
          0.9813300657047185,
          0.9967870537145752,
          0.9947487526763721,
          0.9776780339909165,
          0.9776140962727872,
          0.9979288624955722,
          1.0226693223031387,
          1.0333637981234431,
          1.035031442683119,
          1.0691216632217593,
          1.0703220362388715,
          1.0835572856241773,
          1.0862896146207768,
          1.0720947892340318,
          1.0415852424790106,
          1.058655275890372,
          1.064514019474938,
          1.074161025577921,
          1.0801790271321434,
          1.0850606453766776,
          1.097562999496113,
          1.0926882450822306,
          1.1056066731211538,
          1.112760714613436,
          1.1117082437922212,
          1.1157550366124063,
          1.1184238814906715,
          1.1233919815601432,
          1.1134767241485053,
          1.0982978409863768,
          1.1056649837017534,
          1.0957621255394325,
          1.0975718261040062,
          1.0968655984188864,
          1.1045445558221383,
          1.1039234358787486,
          1.1064681045382916,
          1.0885464743026505,
          1.0905909642902565,
          1.095478453510748,
          1.1261134420524612,
          1.1284620956959284,
          1.1507619878441184,
          1.1565713780167794,
          1.16942525026485,
          1.1962626772965634,
          1.2060443510010994,
          1.2290860106895394,
          1.2201213278261498,
          1.224835869513035,
          1.220153963623074,
          1.2412027799766054,
          1.2559476313899547,
          1.2644278321640086,
          1.1602655583471277,
          1.213543615126876,
          1.2506979327527459,
          1.2663861781823371,
          1.3080463278260364,
          1.3078752325663214,
          1.2957354614493903,
          1.2924566946147935,
          1.3235224939147974,
          1.3366812657806417,
          1.32981679655947,
          1.306319579268331,
          1.303289911472413,
          1.314606059242752,
          1.3228823381959651,
          1.338718877155853,
          1.358008793419659,
          1.3597007396372525,
          1.3459313499783836,
          1.3443189865326606,
          1.3453170389201903,
          1.3455420604408062,
          1.316722008855397,
          1.2956870769782727,
          1.269972746019485,
          1.2007151659417554,
          1.21122242262177,
          1.1768472826630838,
          1.2179694391777112,
          1.1669307967708766,
          1.120604584698695,
          1.1192587858631229,
          1.1826011033168047,
          1.1560862290711842,
          1.2053656909779988,
          1.1569076349718461,
          1.19670525169771,
          1.185331060028022,
          1.1813451504214858
         ],
         "yaxis": "y"
        },
        {
         "hovertemplate": "variable=higher<br>index=%{x}<br>value=%{y}<extra></extra>",
         "legendgroup": "higher",
         "line": {
          "color": "#EF553B",
          "dash": "solid"
         },
         "marker": {
          "symbol": "circle"
         },
         "mode": "lines",
         "name": "higher",
         "orientation": "v",
         "showlegend": true,
         "type": "scatter",
         "x": [
          "2015-01-01T00:00:00",
          "2015-02-02T00:00:00",
          "2015-03-02T00:00:00",
          "2015-04-01T00:00:00",
          "2015-05-01T00:00:00",
          "2015-06-01T00:00:00",
          "2015-07-01T00:00:00",
          "2015-08-03T00:00:00",
          "2015-09-01T00:00:00",
          "2015-10-01T00:00:00",
          "2015-11-02T00:00:00",
          "2015-12-01T00:00:00",
          "2016-01-04T00:00:00",
          "2016-02-01T00:00:00",
          "2016-03-01T00:00:00",
          "2016-04-01T00:00:00",
          "2016-05-02T00:00:00",
          "2016-06-01T00:00:00",
          "2016-07-01T00:00:00",
          "2016-08-01T00:00:00",
          "2016-09-01T00:00:00",
          "2016-10-03T00:00:00",
          "2016-11-01T00:00:00",
          "2016-12-01T00:00:00",
          "2017-01-03T00:00:00",
          "2017-02-01T00:00:00",
          "2017-03-01T00:00:00",
          "2017-04-03T00:00:00",
          "2017-05-01T00:00:00",
          "2017-06-01T00:00:00",
          "2017-07-03T00:00:00",
          "2017-08-01T00:00:00",
          "2017-09-01T00:00:00",
          "2017-10-02T00:00:00",
          "2017-11-01T00:00:00",
          "2017-12-01T00:00:00",
          "2018-01-02T00:00:00",
          "2018-02-01T00:00:00",
          "2018-03-01T00:00:00",
          "2018-04-02T00:00:00",
          "2018-05-01T00:00:00",
          "2018-06-01T00:00:00",
          "2018-07-02T00:00:00",
          "2018-08-01T00:00:00",
          "2018-09-04T00:00:00",
          "2018-10-01T00:00:00",
          "2018-11-01T00:00:00",
          "2018-12-03T00:00:00",
          "2019-01-02T00:00:00",
          "2019-02-01T00:00:00",
          "2019-03-01T00:00:00",
          "2019-04-01T00:00:00",
          "2019-05-01T00:00:00",
          "2019-06-03T00:00:00",
          "2019-07-01T00:00:00",
          "2019-08-01T00:00:00",
          "2019-09-03T00:00:00",
          "2019-10-01T00:00:00",
          "2019-11-01T00:00:00",
          "2019-12-02T00:00:00",
          "2020-01-02T00:00:00",
          "2020-02-03T00:00:00",
          "2020-03-02T00:00:00",
          "2020-04-01T00:00:00",
          "2020-05-01T00:00:00",
          "2020-06-01T00:00:00",
          "2020-07-01T00:00:00",
          "2020-08-03T00:00:00",
          "2020-09-01T00:00:00",
          "2020-10-01T00:00:00",
          "2020-11-02T00:00:00",
          "2020-12-01T00:00:00",
          "2021-01-04T00:00:00",
          "2021-02-01T00:00:00",
          "2021-03-01T00:00:00",
          "2021-04-01T00:00:00",
          "2021-05-03T00:00:00",
          "2021-06-01T00:00:00",
          "2021-07-01T00:00:00",
          "2021-08-02T00:00:00",
          "2021-09-01T00:00:00",
          "2021-10-01T00:00:00",
          "2021-11-01T00:00:00",
          "2021-12-01T00:00:00",
          "2022-01-03T00:00:00",
          "2022-02-01T00:00:00",
          "2022-03-01T00:00:00",
          "2022-04-01T00:00:00",
          "2022-05-02T00:00:00",
          "2022-06-01T00:00:00",
          "2022-07-01T00:00:00",
          "2022-08-01T00:00:00",
          "2022-09-01T00:00:00",
          "2022-10-03T00:00:00",
          "2022-11-01T00:00:00",
          "2022-12-01T00:00:00",
          "2023-01-03T00:00:00",
          "2023-02-01T00:00:00",
          "2023-03-01T00:00:00",
          "2023-04-03T00:00:00",
          "2023-05-01T00:00:00",
          "2023-05-17T00:00:00"
         ],
         "xaxis": "x",
         "y": [
          1,
          1.0256276281259904,
          1.016744842040503,
          1.0242017134858656,
          1.012283105747389,
          1.005499182081367,
          0.9879680954488081,
          1.0008132563143257,
          0.9802169865242479,
          0.9814192028091935,
          1.0058943265721252,
          1.003662724219582,
          0.9907668938774635,
          0.9866292856065063,
          1.0041890939898925,
          1.0334005795910093,
          1.0423238250576352,
          1.0473229599458826,
          1.0826037082016067,
          1.092123515585587,
          1.0954474581589984,
          1.0908996583819337,
          1.0703068566388638,
          1.0418635722921783,
          1.0657275122498822,
          1.0695103985221976,
          1.0856492585762256,
          1.0896128758124193,
          1.094952437723432,
          1.1032606937712313,
          1.1049364068360483,
          1.1165423847946434,
          1.1201790169925043,
          1.1178216681748865,
          1.1202134897443636,
          1.127687986351615,
          1.127640378346345,
          1.1097574619800283,
          1.0925811457696057,
          1.1022125447045046,
          1.0996948954319123,
          1.1073209241901145,
          1.1153820760199877,
          1.1223314079411284,
          1.1245905881189158,
          1.119188418573846,
          1.1021243458722068,
          1.107069444676489,
          1.0938290318550588,
          1.142108912654161,
          1.1483260581313657,
          1.1738276546007538,
          1.1786060863622965,
          1.1887597798478413,
          1.2123266891915578,
          1.2260379223817315,
          1.2521714316349246,
          1.2466013319455318,
          1.2538974673775192,
          1.243813236288128,
          1.266209312213065,
          1.2831180993289972,
          1.2774763766103752,
          1.1230465629783546,
          1.2017667885310632,
          1.2459055460045392,
          1.2592908698836944,
          1.2972958411514186,
          1.3039567999278148,
          1.2955815986094075,
          1.2885288841813307,
          1.3327701290414953,
          1.341720341354948,
          1.3470691521954403,
          1.331315112552188,
          1.34768811832783,
          1.368236841705685,
          1.3809583580202385,
          1.3984044487493101,
          1.4216985499531585,
          1.431599429957477,
          1.4069550786499152,
          1.4220145436030638,
          1.4106298222862261,
          1.4363997318837962,
          1.390636635364506,
          1.3620060615308256,
          1.3601988370608906,
          1.2773119250607845,
          1.2865619374975577,
          1.24504114749625,
          1.2971004420347856,
          1.2390218842462049,
          1.1806623702297099,
          1.174339865926098,
          1.2417906488147834,
          1.205037710201432,
          1.2771810172386135,
          1.222141517438984,
          1.2434526791556537,
          1.2357321192814024,
          1.2237731105059466
         ],
         "yaxis": "y"
        }
       ],
       "layout": {
        "legend": {
         "title": {
          "text": "variable"
         },
         "tracegroupgap": 0
        },
        "margin": {
         "t": 60
        },
        "template": {
         "data": {
          "bar": [
           {
            "error_x": {
             "color": "#2a3f5f"
            },
            "error_y": {
             "color": "#2a3f5f"
            },
            "marker": {
             "line": {
              "color": "#E5ECF6",
              "width": 0.5
             },
             "pattern": {
              "fillmode": "overlay",
              "size": 10,
              "solidity": 0.2
             }
            },
            "type": "bar"
           }
          ],
          "barpolar": [
           {
            "marker": {
             "line": {
              "color": "#E5ECF6",
              "width": 0.5
             },
             "pattern": {
              "fillmode": "overlay",
              "size": 10,
              "solidity": 0.2
             }
            },
            "type": "barpolar"
           }
          ],
          "carpet": [
           {
            "aaxis": {
             "endlinecolor": "#2a3f5f",
             "gridcolor": "white",
             "linecolor": "white",
             "minorgridcolor": "white",
             "startlinecolor": "#2a3f5f"
            },
            "baxis": {
             "endlinecolor": "#2a3f5f",
             "gridcolor": "white",
             "linecolor": "white",
             "minorgridcolor": "white",
             "startlinecolor": "#2a3f5f"
            },
            "type": "carpet"
           }
          ],
          "choropleth": [
           {
            "colorbar": {
             "outlinewidth": 0,
             "ticks": ""
            },
            "type": "choropleth"
           }
          ],
          "contour": [
           {
            "colorbar": {
             "outlinewidth": 0,
             "ticks": ""
            },
            "colorscale": [
             [
              0,
              "#0d0887"
             ],
             [
              0.1111111111111111,
              "#46039f"
             ],
             [
              0.2222222222222222,
              "#7201a8"
             ],
             [
              0.3333333333333333,
              "#9c179e"
             ],
             [
              0.4444444444444444,
              "#bd3786"
             ],
             [
              0.5555555555555556,
              "#d8576b"
             ],
             [
              0.6666666666666666,
              "#ed7953"
             ],
             [
              0.7777777777777778,
              "#fb9f3a"
             ],
             [
              0.8888888888888888,
              "#fdca26"
             ],
             [
              1,
              "#f0f921"
             ]
            ],
            "type": "contour"
           }
          ],
          "contourcarpet": [
           {
            "colorbar": {
             "outlinewidth": 0,
             "ticks": ""
            },
            "type": "contourcarpet"
           }
          ],
          "heatmap": [
           {
            "colorbar": {
             "outlinewidth": 0,
             "ticks": ""
            },
            "colorscale": [
             [
              0,
              "#0d0887"
             ],
             [
              0.1111111111111111,
              "#46039f"
             ],
             [
              0.2222222222222222,
              "#7201a8"
             ],
             [
              0.3333333333333333,
              "#9c179e"
             ],
             [
              0.4444444444444444,
              "#bd3786"
             ],
             [
              0.5555555555555556,
              "#d8576b"
             ],
             [
              0.6666666666666666,
              "#ed7953"
             ],
             [
              0.7777777777777778,
              "#fb9f3a"
             ],
             [
              0.8888888888888888,
              "#fdca26"
             ],
             [
              1,
              "#f0f921"
             ]
            ],
            "type": "heatmap"
           }
          ],
          "heatmapgl": [
           {
            "colorbar": {
             "outlinewidth": 0,
             "ticks": ""
            },
            "colorscale": [
             [
              0,
              "#0d0887"
             ],
             [
              0.1111111111111111,
              "#46039f"
             ],
             [
              0.2222222222222222,
              "#7201a8"
             ],
             [
              0.3333333333333333,
              "#9c179e"
             ],
             [
              0.4444444444444444,
              "#bd3786"
             ],
             [
              0.5555555555555556,
              "#d8576b"
             ],
             [
              0.6666666666666666,
              "#ed7953"
             ],
             [
              0.7777777777777778,
              "#fb9f3a"
             ],
             [
              0.8888888888888888,
              "#fdca26"
             ],
             [
              1,
              "#f0f921"
             ]
            ],
            "type": "heatmapgl"
           }
          ],
          "histogram": [
           {
            "marker": {
             "pattern": {
              "fillmode": "overlay",
              "size": 10,
              "solidity": 0.2
             }
            },
            "type": "histogram"
           }
          ],
          "histogram2d": [
           {
            "colorbar": {
             "outlinewidth": 0,
             "ticks": ""
            },
            "colorscale": [
             [
              0,
              "#0d0887"
             ],
             [
              0.1111111111111111,
              "#46039f"
             ],
             [
              0.2222222222222222,
              "#7201a8"
             ],
             [
              0.3333333333333333,
              "#9c179e"
             ],
             [
              0.4444444444444444,
              "#bd3786"
             ],
             [
              0.5555555555555556,
              "#d8576b"
             ],
             [
              0.6666666666666666,
              "#ed7953"
             ],
             [
              0.7777777777777778,
              "#fb9f3a"
             ],
             [
              0.8888888888888888,
              "#fdca26"
             ],
             [
              1,
              "#f0f921"
             ]
            ],
            "type": "histogram2d"
           }
          ],
          "histogram2dcontour": [
           {
            "colorbar": {
             "outlinewidth": 0,
             "ticks": ""
            },
            "colorscale": [
             [
              0,
              "#0d0887"
             ],
             [
              0.1111111111111111,
              "#46039f"
             ],
             [
              0.2222222222222222,
              "#7201a8"
             ],
             [
              0.3333333333333333,
              "#9c179e"
             ],
             [
              0.4444444444444444,
              "#bd3786"
             ],
             [
              0.5555555555555556,
              "#d8576b"
             ],
             [
              0.6666666666666666,
              "#ed7953"
             ],
             [
              0.7777777777777778,
              "#fb9f3a"
             ],
             [
              0.8888888888888888,
              "#fdca26"
             ],
             [
              1,
              "#f0f921"
             ]
            ],
            "type": "histogram2dcontour"
           }
          ],
          "mesh3d": [
           {
            "colorbar": {
             "outlinewidth": 0,
             "ticks": ""
            },
            "type": "mesh3d"
           }
          ],
          "parcoords": [
           {
            "line": {
             "colorbar": {
              "outlinewidth": 0,
              "ticks": ""
             }
            },
            "type": "parcoords"
           }
          ],
          "pie": [
           {
            "automargin": true,
            "type": "pie"
           }
          ],
          "scatter": [
           {
            "marker": {
             "colorbar": {
              "outlinewidth": 0,
              "ticks": ""
             }
            },
            "type": "scatter"
           }
          ],
          "scatter3d": [
           {
            "line": {
             "colorbar": {
              "outlinewidth": 0,
              "ticks": ""
             }
            },
            "marker": {
             "colorbar": {
              "outlinewidth": 0,
              "ticks": ""
             }
            },
            "type": "scatter3d"
           }
          ],
          "scattercarpet": [
           {
            "marker": {
             "colorbar": {
              "outlinewidth": 0,
              "ticks": ""
             }
            },
            "type": "scattercarpet"
           }
          ],
          "scattergeo": [
           {
            "marker": {
             "colorbar": {
              "outlinewidth": 0,
              "ticks": ""
             }
            },
            "type": "scattergeo"
           }
          ],
          "scattergl": [
           {
            "marker": {
             "colorbar": {
              "outlinewidth": 0,
              "ticks": ""
             }
            },
            "type": "scattergl"
           }
          ],
          "scattermapbox": [
           {
            "marker": {
             "colorbar": {
              "outlinewidth": 0,
              "ticks": ""
             }
            },
            "type": "scattermapbox"
           }
          ],
          "scatterpolar": [
           {
            "marker": {
             "colorbar": {
              "outlinewidth": 0,
              "ticks": ""
             }
            },
            "type": "scatterpolar"
           }
          ],
          "scatterpolargl": [
           {
            "marker": {
             "colorbar": {
              "outlinewidth": 0,
              "ticks": ""
             }
            },
            "type": "scatterpolargl"
           }
          ],
          "scatterternary": [
           {
            "marker": {
             "colorbar": {
              "outlinewidth": 0,
              "ticks": ""
             }
            },
            "type": "scatterternary"
           }
          ],
          "surface": [
           {
            "colorbar": {
             "outlinewidth": 0,
             "ticks": ""
            },
            "colorscale": [
             [
              0,
              "#0d0887"
             ],
             [
              0.1111111111111111,
              "#46039f"
             ],
             [
              0.2222222222222222,
              "#7201a8"
             ],
             [
              0.3333333333333333,
              "#9c179e"
             ],
             [
              0.4444444444444444,
              "#bd3786"
             ],
             [
              0.5555555555555556,
              "#d8576b"
             ],
             [
              0.6666666666666666,
              "#ed7953"
             ],
             [
              0.7777777777777778,
              "#fb9f3a"
             ],
             [
              0.8888888888888888,
              "#fdca26"
             ],
             [
              1,
              "#f0f921"
             ]
            ],
            "type": "surface"
           }
          ],
          "table": [
           {
            "cells": {
             "fill": {
              "color": "#EBF0F8"
             },
             "line": {
              "color": "white"
             }
            },
            "header": {
             "fill": {
              "color": "#C8D4E3"
             },
             "line": {
              "color": "white"
             }
            },
            "type": "table"
           }
          ]
         },
         "layout": {
          "annotationdefaults": {
           "arrowcolor": "#2a3f5f",
           "arrowhead": 0,
           "arrowwidth": 1
          },
          "autotypenumbers": "strict",
          "coloraxis": {
           "colorbar": {
            "outlinewidth": 0,
            "ticks": ""
           }
          },
          "colorscale": {
           "diverging": [
            [
             0,
             "#8e0152"
            ],
            [
             0.1,
             "#c51b7d"
            ],
            [
             0.2,
             "#de77ae"
            ],
            [
             0.3,
             "#f1b6da"
            ],
            [
             0.4,
             "#fde0ef"
            ],
            [
             0.5,
             "#f7f7f7"
            ],
            [
             0.6,
             "#e6f5d0"
            ],
            [
             0.7,
             "#b8e186"
            ],
            [
             0.8,
             "#7fbc41"
            ],
            [
             0.9,
             "#4d9221"
            ],
            [
             1,
             "#276419"
            ]
           ],
           "sequential": [
            [
             0,
             "#0d0887"
            ],
            [
             0.1111111111111111,
             "#46039f"
            ],
            [
             0.2222222222222222,
             "#7201a8"
            ],
            [
             0.3333333333333333,
             "#9c179e"
            ],
            [
             0.4444444444444444,
             "#bd3786"
            ],
            [
             0.5555555555555556,
             "#d8576b"
            ],
            [
             0.6666666666666666,
             "#ed7953"
            ],
            [
             0.7777777777777778,
             "#fb9f3a"
            ],
            [
             0.8888888888888888,
             "#fdca26"
            ],
            [
             1,
             "#f0f921"
            ]
           ],
           "sequentialminus": [
            [
             0,
             "#0d0887"
            ],
            [
             0.1111111111111111,
             "#46039f"
            ],
            [
             0.2222222222222222,
             "#7201a8"
            ],
            [
             0.3333333333333333,
             "#9c179e"
            ],
            [
             0.4444444444444444,
             "#bd3786"
            ],
            [
             0.5555555555555556,
             "#d8576b"
            ],
            [
             0.6666666666666666,
             "#ed7953"
            ],
            [
             0.7777777777777778,
             "#fb9f3a"
            ],
            [
             0.8888888888888888,
             "#fdca26"
            ],
            [
             1,
             "#f0f921"
            ]
           ]
          },
          "colorway": [
           "#636efa",
           "#EF553B",
           "#00cc96",
           "#ab63fa",
           "#FFA15A",
           "#19d3f3",
           "#FF6692",
           "#B6E880",
           "#FF97FF",
           "#FECB52"
          ],
          "font": {
           "color": "#2a3f5f"
          },
          "geo": {
           "bgcolor": "white",
           "lakecolor": "white",
           "landcolor": "#E5ECF6",
           "showlakes": true,
           "showland": true,
           "subunitcolor": "white"
          },
          "hoverlabel": {
           "align": "left"
          },
          "hovermode": "closest",
          "mapbox": {
           "style": "light"
          },
          "paper_bgcolor": "white",
          "plot_bgcolor": "#E5ECF6",
          "polar": {
           "angularaxis": {
            "gridcolor": "white",
            "linecolor": "white",
            "ticks": ""
           },
           "bgcolor": "#E5ECF6",
           "radialaxis": {
            "gridcolor": "white",
            "linecolor": "white",
            "ticks": ""
           }
          },
          "scene": {
           "xaxis": {
            "backgroundcolor": "#E5ECF6",
            "gridcolor": "white",
            "gridwidth": 2,
            "linecolor": "white",
            "showbackground": true,
            "ticks": "",
            "zerolinecolor": "white"
           },
           "yaxis": {
            "backgroundcolor": "#E5ECF6",
            "gridcolor": "white",
            "gridwidth": 2,
            "linecolor": "white",
            "showbackground": true,
            "ticks": "",
            "zerolinecolor": "white"
           },
           "zaxis": {
            "backgroundcolor": "#E5ECF6",
            "gridcolor": "white",
            "gridwidth": 2,
            "linecolor": "white",
            "showbackground": true,
            "ticks": "",
            "zerolinecolor": "white"
           }
          },
          "shapedefaults": {
           "line": {
            "color": "#2a3f5f"
           }
          },
          "ternary": {
           "aaxis": {
            "gridcolor": "white",
            "linecolor": "white",
            "ticks": ""
           },
           "baxis": {
            "gridcolor": "white",
            "linecolor": "white",
            "ticks": ""
           },
           "bgcolor": "#E5ECF6",
           "caxis": {
            "gridcolor": "white",
            "linecolor": "white",
            "ticks": ""
           }
          },
          "title": {
           "x": 0.05
          },
          "xaxis": {
           "automargin": true,
           "gridcolor": "white",
           "linecolor": "white",
           "ticks": "",
           "title": {
            "standoff": 15
           },
           "zerolinecolor": "white",
           "zerolinewidth": 2
          },
          "yaxis": {
           "automargin": true,
           "gridcolor": "white",
           "linecolor": "white",
           "ticks": "",
           "title": {
            "standoff": 15
           },
           "zerolinecolor": "white",
           "zerolinewidth": 2
          }
         }
        },
        "xaxis": {
         "anchor": "y",
         "domain": [
          0,
          1
         ],
         "title": {
          "text": "index"
         }
        },
        "yaxis": {
         "anchor": "x",
         "domain": [
          0,
          1
         ],
         "title": {
          "text": "value"
         }
        }
       }
      }
     },
     "metadata": {},
     "output_type": "display_data"
    }
   ],
   "source": [
    "import plotly.express as px\n",
    "px.line(net_values)"
   ]
  },
  {
   "cell_type": "code",
   "execution_count": 57,
   "id": "acf27942",
   "metadata": {},
   "outputs": [
    {
     "data": {
      "text/plain": [
       "(stable    0.019800\n",
       " higher    0.024042\n",
       " dtype: float64,\n",
       " stable    0.287312\n",
       " higher    0.285962\n",
       " dtype: float64,\n",
       " stable   -0.176834\n",
       " higher   -0.182442\n",
       " dtype: float64,\n",
       " stable    0.111968\n",
       " higher    0.131779\n",
       " dtype: float64)"
      ]
     },
     "execution_count": 57,
     "metadata": {},
     "output_type": "execute_result"
    }
   ],
   "source": [
    "evaluate_strategy_returns(net_values, no_risk_rate=0.00)"
   ]
  },
  {
   "cell_type": "code",
   "execution_count": 49,
   "id": "50f4a624",
   "metadata": {},
   "outputs": [],
   "source": [
    "def evaluate_strategy_returns(df, no_risk_rate=0.02):\n",
    "    # 计算年化收益率\n",
    "    total_return = (df.iloc[-1] / df.iloc[0]) ** (12/len(df)) - 1\n",
    "    \n",
    "    # 计算年化波动率\n",
    "    annualized_volatility = np.std(df.pct_change()) * np.sqrt(12)\n",
    "    \n",
    "    # 计算夏普比率\n",
    "    sharpe_ratio = (total_return - no_risk_rate) / annualized_volatility  # 假设无风险利率为2%\n",
    "    \n",
    "    # 计算最大回撤\n",
    "    cummax = df.cummax()\n",
    "    drawdown = (df - cummax) / cummax\n",
    "    max_drawdown = drawdown.min()\n",
    "\n",
    "    carmar_ratio = total_return / (-max_drawdown)\n",
    "    \n",
    "    return total_return, sharpe_ratio, max_drawdown, carmar_ratio"
   ]
  },
  {
   "cell_type": "code",
   "execution_count": null,
   "id": "cf69f73c",
   "metadata": {},
   "outputs": [],
   "source": []
  },
  {
   "cell_type": "code",
   "execution_count": null,
   "id": "b79ae7b4",
   "metadata": {},
   "outputs": [],
   "source": []
  },
  {
   "cell_type": "code",
   "execution_count": 184,
   "id": "f3a07bdf",
   "metadata": {},
   "outputs": [
    {
     "name": "stdout",
     "output_type": "stream",
     "text": [
      "BND 2007-04-10 00:00:00\n",
      "EMB 2007-12-19 00:00:00\n",
      "HYG 2007-04-11 00:00:00\n",
      "PFF 2007-03-30 00:00:00\n",
      "SPLB 2009-03-11 00:00:00\n",
      "TIP 2003-12-05 00:00:00\n",
      "TLT 2002-07-30 00:00:00\n",
      "VNQ 2004-09-29 00:00:00\n"
     ]
    }
   ],
   "source": [
    "for col in ohlc['Close'].columns:\n",
    "    close = ohlc['Close'][col]\n",
    "    print(col, close.dropna().index.min())"
   ]
  },
  {
   "cell_type": "code",
   "execution_count": 185,
   "id": "fe6b9d2a",
   "metadata": {},
   "outputs": [],
   "source": [
    "tickers = yf.Tickers(income_tickers)\n",
    "tickers_data = tickers.download(period='30y')\n",
    "dvd_rate = tickers_data['Dividends'] / tickers_data['Close']\n",
    "dvd_rate = dvd_rate[(dvd_rate > 0).sum(axis=1) != 0]"
   ]
  },
  {
   "cell_type": "code",
   "execution_count": 189,
   "id": "1c1f3b8f",
   "metadata": {},
   "outputs": [
    {
     "data": {
      "application/vnd.plotly.v1+json": {
       "config": {
        "plotlyServerURL": "https://plot.ly"
       },
       "data": [
        {
         "hovertemplate": "variable=BND<br>Date=%{x}<br>value=%{y}<extra></extra>",
         "legendgroup": "BND",
         "line": {
          "color": "#636efa",
          "dash": "solid"
         },
         "marker": {
          "symbol": "circle"
         },
         "mode": "lines",
         "name": "BND",
         "orientation": "v",
         "showlegend": true,
         "type": "scatter",
         "x": [
          "2002-09-30T00:00:00",
          "2002-12-31T00:00:00",
          "2003-03-31T00:00:00",
          "2003-06-30T00:00:00",
          "2003-09-30T00:00:00",
          "2003-12-31T00:00:00",
          "2004-03-31T00:00:00",
          "2004-06-30T00:00:00",
          "2004-09-30T00:00:00",
          "2004-12-31T00:00:00",
          "2005-03-31T00:00:00",
          "2005-06-30T00:00:00",
          "2005-09-30T00:00:00",
          "2005-12-31T00:00:00",
          "2006-03-31T00:00:00",
          "2006-06-30T00:00:00",
          "2006-09-30T00:00:00",
          "2006-12-31T00:00:00",
          "2007-03-31T00:00:00",
          "2007-06-30T00:00:00",
          "2007-09-30T00:00:00",
          "2007-12-31T00:00:00",
          "2008-03-31T00:00:00",
          "2008-06-30T00:00:00",
          "2008-09-30T00:00:00",
          "2008-12-31T00:00:00",
          "2009-03-31T00:00:00",
          "2009-06-30T00:00:00",
          "2009-09-30T00:00:00",
          "2009-12-31T00:00:00",
          "2010-03-31T00:00:00",
          "2010-06-30T00:00:00",
          "2010-09-30T00:00:00",
          "2010-12-31T00:00:00",
          "2011-03-31T00:00:00",
          "2011-06-30T00:00:00",
          "2011-09-30T00:00:00",
          "2011-12-31T00:00:00",
          "2012-03-31T00:00:00",
          "2012-06-30T00:00:00",
          "2012-09-30T00:00:00",
          "2012-12-31T00:00:00",
          "2013-03-31T00:00:00",
          "2013-06-30T00:00:00",
          "2013-09-30T00:00:00",
          "2013-12-31T00:00:00",
          "2014-03-31T00:00:00",
          "2014-06-30T00:00:00",
          "2014-09-30T00:00:00",
          "2014-12-31T00:00:00",
          "2015-03-31T00:00:00",
          "2015-06-30T00:00:00",
          "2015-09-30T00:00:00",
          "2015-12-31T00:00:00",
          "2016-03-31T00:00:00",
          "2016-06-30T00:00:00",
          "2016-09-30T00:00:00",
          "2016-12-31T00:00:00",
          "2017-03-31T00:00:00",
          "2017-06-30T00:00:00",
          "2017-09-30T00:00:00",
          "2017-12-31T00:00:00",
          "2018-03-31T00:00:00",
          "2018-06-30T00:00:00",
          "2018-09-30T00:00:00",
          "2018-12-31T00:00:00",
          "2019-03-31T00:00:00",
          "2019-06-30T00:00:00",
          "2019-09-30T00:00:00",
          "2019-12-31T00:00:00",
          "2020-03-31T00:00:00",
          "2020-06-30T00:00:00",
          "2020-09-30T00:00:00",
          "2020-12-31T00:00:00",
          "2021-03-31T00:00:00",
          "2021-06-30T00:00:00",
          "2021-09-30T00:00:00",
          "2021-12-31T00:00:00",
          "2022-03-31T00:00:00",
          "2022-06-30T00:00:00",
          "2022-09-30T00:00:00",
          "2022-12-31T00:00:00",
          "2023-03-31T00:00:00",
          "2023-06-30T00:00:00"
         ],
         "xaxis": "x",
         "y": [
          null,
          null,
          null,
          0,
          0,
          0,
          0,
          0,
          0,
          0,
          0,
          0,
          0,
          0,
          0,
          0,
          0,
          0,
          0,
          0.008369281344560007,
          0.026288129310016943,
          0.04992815453493232,
          0.06183162895244983,
          0.07134923603107876,
          0.07140220780959261,
          0.07103593617400017,
          0.07013810195161649,
          0.06800027854032453,
          0.06483543903301246,
          0.05993913329237546,
          0.05768932914325521,
          0.05499678788710841,
          0.05211634940325585,
          0.055398729220908494,
          0.05421918055909481,
          0.05267001140585871,
          0.05156115252679201,
          0.04967139808557085,
          0.04847784647877276,
          0.04733888131701282,
          0.04521763962034821,
          0.03072241831657313,
          0.029397539252216026,
          0.02891764909341772,
          0.028325473135838282,
          0.03529556441591586,
          0.03560062551962828,
          0.0342117980073736,
          0.03413419725252814,
          0.03525817061232622,
          0.03482667237858666,
          0.034016719962538675,
          0.03351124379057257,
          0.031052482088970896,
          0.031137184644040507,
          0.030798300105991407,
          0.03029291554581185,
          0.02937353518578058,
          0.029116673587298005,
          0.029165554945151863,
          0.03428299235564358,
          0.03445684302922321,
          0.03459562298143351,
          0.03790437667544533,
          0.033707918270242554,
          0.03448909757119686,
          0.03491650863243044,
          0.032187028395118,
          0.03176615196480438,
          0.03030555303952392,
          0.029453810805701454,
          0.028066937519135565,
          0.02625807761066052,
          0.025636579660926383,
          0.024428409693657276,
          0.023480745372608136,
          0.022651470412661107,
          0.021953327200670336,
          0.022015075278320296,
          0.022849301017231326,
          0.02415836448600603,
          0.02523111578879099,
          0.02658831049302148,
          0.02505100365833579
         ],
         "yaxis": "y"
        },
        {
         "hovertemplate": "variable=EMB<br>Date=%{x}<br>value=%{y}<extra></extra>",
         "legendgroup": "EMB",
         "line": {
          "color": "#EF553B",
          "dash": "solid"
         },
         "marker": {
          "symbol": "circle"
         },
         "mode": "lines",
         "name": "EMB",
         "orientation": "v",
         "showlegend": true,
         "type": "scatter",
         "x": [
          "2002-09-30T00:00:00",
          "2002-12-31T00:00:00",
          "2003-03-31T00:00:00",
          "2003-06-30T00:00:00",
          "2003-09-30T00:00:00",
          "2003-12-31T00:00:00",
          "2004-03-31T00:00:00",
          "2004-06-30T00:00:00",
          "2004-09-30T00:00:00",
          "2004-12-31T00:00:00",
          "2005-03-31T00:00:00",
          "2005-06-30T00:00:00",
          "2005-09-30T00:00:00",
          "2005-12-31T00:00:00",
          "2006-03-31T00:00:00",
          "2006-06-30T00:00:00",
          "2006-09-30T00:00:00",
          "2006-12-31T00:00:00",
          "2007-03-31T00:00:00",
          "2007-06-30T00:00:00",
          "2007-09-30T00:00:00",
          "2007-12-31T00:00:00",
          "2008-03-31T00:00:00",
          "2008-06-30T00:00:00",
          "2008-09-30T00:00:00",
          "2008-12-31T00:00:00",
          "2009-03-31T00:00:00",
          "2009-06-30T00:00:00",
          "2009-09-30T00:00:00",
          "2009-12-31T00:00:00",
          "2010-03-31T00:00:00",
          "2010-06-30T00:00:00",
          "2010-09-30T00:00:00",
          "2010-12-31T00:00:00",
          "2011-03-31T00:00:00",
          "2011-06-30T00:00:00",
          "2011-09-30T00:00:00",
          "2011-12-31T00:00:00",
          "2012-03-31T00:00:00",
          "2012-06-30T00:00:00",
          "2012-09-30T00:00:00",
          "2012-12-31T00:00:00",
          "2013-03-31T00:00:00",
          "2013-06-30T00:00:00",
          "2013-09-30T00:00:00",
          "2013-12-31T00:00:00",
          "2014-03-31T00:00:00",
          "2014-06-30T00:00:00",
          "2014-09-30T00:00:00",
          "2014-12-31T00:00:00",
          "2015-03-31T00:00:00",
          "2015-06-30T00:00:00",
          "2015-09-30T00:00:00",
          "2015-12-31T00:00:00",
          "2016-03-31T00:00:00",
          "2016-06-30T00:00:00",
          "2016-09-30T00:00:00",
          "2016-12-31T00:00:00",
          "2017-03-31T00:00:00",
          "2017-06-30T00:00:00",
          "2017-09-30T00:00:00",
          "2017-12-31T00:00:00",
          "2018-03-31T00:00:00",
          "2018-06-30T00:00:00",
          "2018-09-30T00:00:00",
          "2018-12-31T00:00:00",
          "2019-03-31T00:00:00",
          "2019-06-30T00:00:00",
          "2019-09-30T00:00:00",
          "2019-12-31T00:00:00",
          "2020-03-31T00:00:00",
          "2020-06-30T00:00:00",
          "2020-09-30T00:00:00",
          "2020-12-31T00:00:00",
          "2021-03-31T00:00:00",
          "2021-06-30T00:00:00",
          "2021-09-30T00:00:00",
          "2021-12-31T00:00:00",
          "2022-03-31T00:00:00",
          "2022-06-30T00:00:00",
          "2022-09-30T00:00:00",
          "2022-12-31T00:00:00",
          "2023-03-31T00:00:00",
          "2023-06-30T00:00:00"
         ],
         "xaxis": "x",
         "y": [
          null,
          null,
          null,
          0,
          0,
          0,
          0,
          0,
          0,
          0,
          0,
          0,
          0,
          0,
          0,
          0,
          0,
          0,
          0,
          0,
          0,
          0.0033162312251293563,
          0.02168109638033757,
          0.04930984111230836,
          0.07499194290325104,
          0.11353780285894985,
          0.11825548206589973,
          0.12476131154418114,
          0.12698914874192616,
          0.11704685267918163,
          0.11159519621591228,
          0.10214237746878611,
          0.09677445201035688,
          0.09401619564868607,
          0.09137501473693153,
          0.08849768978984718,
          0.08611782391256236,
          0.08412673397598461,
          0.08232337183853612,
          0.08005407073155839,
          0.07820673746510422,
          0.06668663638161361,
          0.06511989883769699,
          0.06218781924199985,
          0.06359960954401972,
          0.07199472198324773,
          0.07243425327398353,
          0.07259511409661754,
          0.0671735307796628,
          0.06690120866070054,
          0.06447246183544895,
          0.06320772913706298,
          0.06606254954020775,
          0.06715493112043845,
          0.06875607645649155,
          0.06924510302158568,
          0.07002986444492129,
          0.06501766928381228,
          0.06422733000147009,
          0.06347329413703574,
          0.06078327404322259,
          0.06000216274273269,
          0.05685732031092193,
          0.055829036742303016,
          0.056032703383841934,
          0.0679562966439013,
          0.07048068581639363,
          0.07107130372619533,
          0.06870288891036172,
          0.05473847092577753,
          0.053180486471918406,
          0.051265542592970136,
          0.04813981172215479,
          0.0464854053738613,
          0.045232745340742085,
          0.04278099046270079,
          0.04295429207796981,
          0.04163616235809151,
          0.04226386527016093,
          0.04407787962118717,
          0.04619160839111492,
          0.04972604050850747,
          0.0501616381795739,
          0.046252601596420764
         ],
         "yaxis": "y"
        },
        {
         "hovertemplate": "variable=HYG<br>Date=%{x}<br>value=%{y}<extra></extra>",
         "legendgroup": "HYG",
         "line": {
          "color": "#00cc96",
          "dash": "solid"
         },
         "marker": {
          "symbol": "circle"
         },
         "mode": "lines",
         "name": "HYG",
         "orientation": "v",
         "showlegend": true,
         "type": "scatter",
         "x": [
          "2002-09-30T00:00:00",
          "2002-12-31T00:00:00",
          "2003-03-31T00:00:00",
          "2003-06-30T00:00:00",
          "2003-09-30T00:00:00",
          "2003-12-31T00:00:00",
          "2004-03-31T00:00:00",
          "2004-06-30T00:00:00",
          "2004-09-30T00:00:00",
          "2004-12-31T00:00:00",
          "2005-03-31T00:00:00",
          "2005-06-30T00:00:00",
          "2005-09-30T00:00:00",
          "2005-12-31T00:00:00",
          "2006-03-31T00:00:00",
          "2006-06-30T00:00:00",
          "2006-09-30T00:00:00",
          "2006-12-31T00:00:00",
          "2007-03-31T00:00:00",
          "2007-06-30T00:00:00",
          "2007-09-30T00:00:00",
          "2007-12-31T00:00:00",
          "2008-03-31T00:00:00",
          "2008-06-30T00:00:00",
          "2008-09-30T00:00:00",
          "2008-12-31T00:00:00",
          "2009-03-31T00:00:00",
          "2009-06-30T00:00:00",
          "2009-09-30T00:00:00",
          "2009-12-31T00:00:00",
          "2010-03-31T00:00:00",
          "2010-06-30T00:00:00",
          "2010-09-30T00:00:00",
          "2010-12-31T00:00:00",
          "2011-03-31T00:00:00",
          "2011-06-30T00:00:00",
          "2011-09-30T00:00:00",
          "2011-12-31T00:00:00",
          "2012-03-31T00:00:00",
          "2012-06-30T00:00:00",
          "2012-09-30T00:00:00",
          "2012-12-31T00:00:00",
          "2013-03-31T00:00:00",
          "2013-06-30T00:00:00",
          "2013-09-30T00:00:00",
          "2013-12-31T00:00:00",
          "2014-03-31T00:00:00",
          "2014-06-30T00:00:00",
          "2014-09-30T00:00:00",
          "2014-12-31T00:00:00",
          "2015-03-31T00:00:00",
          "2015-06-30T00:00:00",
          "2015-09-30T00:00:00",
          "2015-12-31T00:00:00",
          "2016-03-31T00:00:00",
          "2016-06-30T00:00:00",
          "2016-09-30T00:00:00",
          "2016-12-31T00:00:00",
          "2017-03-31T00:00:00",
          "2017-06-30T00:00:00",
          "2017-09-30T00:00:00",
          "2017-12-31T00:00:00",
          "2018-03-31T00:00:00",
          "2018-06-30T00:00:00",
          "2018-09-30T00:00:00",
          "2018-12-31T00:00:00",
          "2019-03-31T00:00:00",
          "2019-06-30T00:00:00",
          "2019-09-30T00:00:00",
          "2019-12-31T00:00:00",
          "2020-03-31T00:00:00",
          "2020-06-30T00:00:00",
          "2020-09-30T00:00:00",
          "2020-12-31T00:00:00",
          "2021-03-31T00:00:00",
          "2021-06-30T00:00:00",
          "2021-09-30T00:00:00",
          "2021-12-31T00:00:00",
          "2022-03-31T00:00:00",
          "2022-06-30T00:00:00",
          "2022-09-30T00:00:00",
          "2022-12-31T00:00:00",
          "2023-03-31T00:00:00",
          "2023-06-30T00:00:00"
         ],
         "xaxis": "x",
         "y": [
          null,
          null,
          null,
          0,
          0,
          0,
          0,
          0,
          0,
          0,
          0,
          0,
          0,
          0,
          0,
          0,
          0,
          0,
          0,
          0.02277219351080009,
          0.07265025066659873,
          0.13755667515625214,
          0.17156988309304622,
          0.19662539673949864,
          0.1986913547404054,
          0.21969547866852845,
          0.2358340136348134,
          0.25417419741830066,
          0.2608638981173252,
          0.2413348456600248,
          0.22334167333629634,
          0.2038304873437765,
          0.18850855733792982,
          0.17438934561401637,
          0.1671081427670615,
          0.15627839085273587,
          0.14857979222219647,
          0.14241503476598327,
          0.13829789307627088,
          0.1344362120391029,
          0.1281961872707287,
          0.1096813450359125,
          0.1072109010308099,
          0.1009617923368491,
          0.09731282957206616,
          0.10160244055854362,
          0.09918890293652385,
          0.09532404247033704,
          0.0909255483048908,
          0.08609332041045528,
          0.08289871184316806,
          0.08112356810801245,
          0.07978393988114914,
          0.08118336825104848,
          0.0831096962259926,
          0.08299735845013871,
          0.08195110994460877,
          0.07665644378240305,
          0.07394309002773142,
          0.07123523646577144,
          0.06910419131197904,
          0.06786761079468434,
          0.0666200796476796,
          0.06585932405553874,
          0.06562052031478396,
          0.06697589119119332,
          0.0674524196495507,
          0.06699910043924331,
          0.06598766366801563,
          0.06130238480066497,
          0.06022492202365101,
          0.060042858398640715,
          0.05841955015402318,
          0.05855221677154081,
          0.05648555337594645,
          0.05173738672370579,
          0.0483715120798016,
          0.043929726589416934,
          0.04373210094279629,
          0.045159518014655405,
          0.0484359194284472,
          0.05283602074949069,
          0.05606650727307806,
          0.05246280549575805
         ],
         "yaxis": "y"
        },
        {
         "hovertemplate": "variable=PFF<br>Date=%{x}<br>value=%{y}<extra></extra>",
         "legendgroup": "PFF",
         "line": {
          "color": "#ab63fa",
          "dash": "solid"
         },
         "marker": {
          "symbol": "circle"
         },
         "mode": "lines",
         "name": "PFF",
         "orientation": "v",
         "showlegend": true,
         "type": "scatter",
         "x": [
          "2002-09-30T00:00:00",
          "2002-12-31T00:00:00",
          "2003-03-31T00:00:00",
          "2003-06-30T00:00:00",
          "2003-09-30T00:00:00",
          "2003-12-31T00:00:00",
          "2004-03-31T00:00:00",
          "2004-06-30T00:00:00",
          "2004-09-30T00:00:00",
          "2004-12-31T00:00:00",
          "2005-03-31T00:00:00",
          "2005-06-30T00:00:00",
          "2005-09-30T00:00:00",
          "2005-12-31T00:00:00",
          "2006-03-31T00:00:00",
          "2006-06-30T00:00:00",
          "2006-09-30T00:00:00",
          "2006-12-31T00:00:00",
          "2007-03-31T00:00:00",
          "2007-06-30T00:00:00",
          "2007-09-30T00:00:00",
          "2007-12-31T00:00:00",
          "2008-03-31T00:00:00",
          "2008-06-30T00:00:00",
          "2008-09-30T00:00:00",
          "2008-12-31T00:00:00",
          "2009-03-31T00:00:00",
          "2009-06-30T00:00:00",
          "2009-09-30T00:00:00",
          "2009-12-31T00:00:00",
          "2010-03-31T00:00:00",
          "2010-06-30T00:00:00",
          "2010-09-30T00:00:00",
          "2010-12-31T00:00:00",
          "2011-03-31T00:00:00",
          "2011-06-30T00:00:00",
          "2011-09-30T00:00:00",
          "2011-12-31T00:00:00",
          "2012-03-31T00:00:00",
          "2012-06-30T00:00:00",
          "2012-09-30T00:00:00",
          "2012-12-31T00:00:00",
          "2013-03-31T00:00:00",
          "2013-06-30T00:00:00",
          "2013-09-30T00:00:00",
          "2013-12-31T00:00:00",
          "2014-03-31T00:00:00",
          "2014-06-30T00:00:00",
          "2014-09-30T00:00:00",
          "2014-12-31T00:00:00",
          "2015-03-31T00:00:00",
          "2015-06-30T00:00:00",
          "2015-09-30T00:00:00",
          "2015-12-31T00:00:00",
          "2016-03-31T00:00:00",
          "2016-06-30T00:00:00",
          "2016-09-30T00:00:00",
          "2016-12-31T00:00:00",
          "2017-03-31T00:00:00",
          "2017-06-30T00:00:00",
          "2017-09-30T00:00:00",
          "2017-12-31T00:00:00",
          "2018-03-31T00:00:00",
          "2018-06-30T00:00:00",
          "2018-09-30T00:00:00",
          "2018-12-31T00:00:00",
          "2019-03-31T00:00:00",
          "2019-06-30T00:00:00",
          "2019-09-30T00:00:00",
          "2019-12-31T00:00:00",
          "2020-03-31T00:00:00",
          "2020-06-30T00:00:00",
          "2020-09-30T00:00:00",
          "2020-12-31T00:00:00",
          "2021-03-31T00:00:00",
          "2021-06-30T00:00:00",
          "2021-09-30T00:00:00",
          "2021-12-31T00:00:00",
          "2022-03-31T00:00:00",
          "2022-06-30T00:00:00",
          "2022-09-30T00:00:00",
          "2022-12-31T00:00:00",
          "2023-03-31T00:00:00",
          "2023-06-30T00:00:00"
         ],
         "xaxis": "x",
         "y": [
          null,
          null,
          null,
          0,
          0,
          0,
          0,
          0,
          0,
          0,
          0,
          0,
          0,
          0,
          0,
          0,
          0,
          0,
          0,
          0.028125660427421338,
          0.06374480873449809,
          0.14312359440945385,
          0.16502874998177897,
          0.17895904627869402,
          0.18359779089615222,
          0.19094353031876038,
          0.2162424554736637,
          0.24240075044442197,
          0.2523796544491729,
          0.2228577846643958,
          0.1971632058702673,
          0.1679873210868174,
          0.1637204739816678,
          0.15277741574855364,
          0.15401335302091387,
          0.1461066602715383,
          0.1317447897146583,
          0.12626558757562534,
          0.11919936394708186,
          0.11507369808133511,
          0.11228574973196459,
          0.10103195008949076,
          0.0981805223244379,
          0.0933303634600994,
          0.08586842536908679,
          0.10825167372123026,
          0.11363299165333562,
          0.11497816267728941,
          0.11660421449557659,
          0.10218951052161211,
          0.09786133242053446,
          0.09521925932822707,
          0.09311971384319158,
          0.08623154426382847,
          0.08654349727207446,
          0.08608796222155612,
          0.08394465575708226,
          0.08033304512671038,
          0.07998107508610489,
          0.07916126331242136,
          0.07882577492668756,
          0.07453282174917249,
          0.0733658092430716,
          0.07257784824725597,
          0.0721862717119959,
          0.07541218619617249,
          0.07460672183971818,
          0.07316249423348535,
          0.07089813534489989,
          0.0654753485922973,
          0.05871810160352852,
          0.05944726413327529,
          0.05941872211428251,
          0.054726559818978976,
          0.058509969333218566,
          0.053682702051070244,
          0.05066046950847916,
          0.04972602164984922,
          0.04763028395278176,
          0.046739077351794736,
          0.047980732731396795,
          0.049837225605647864,
          0.05460914432986539,
          0.053739939478244195
         ],
         "yaxis": "y"
        },
        {
         "hovertemplate": "variable=SPLB<br>Date=%{x}<br>value=%{y}<extra></extra>",
         "legendgroup": "SPLB",
         "line": {
          "color": "#FFA15A",
          "dash": "solid"
         },
         "marker": {
          "symbol": "circle"
         },
         "mode": "lines",
         "name": "SPLB",
         "orientation": "v",
         "showlegend": true,
         "type": "scatter",
         "x": [
          "2002-09-30T00:00:00",
          "2002-12-31T00:00:00",
          "2003-03-31T00:00:00",
          "2003-06-30T00:00:00",
          "2003-09-30T00:00:00",
          "2003-12-31T00:00:00",
          "2004-03-31T00:00:00",
          "2004-06-30T00:00:00",
          "2004-09-30T00:00:00",
          "2004-12-31T00:00:00",
          "2005-03-31T00:00:00",
          "2005-06-30T00:00:00",
          "2005-09-30T00:00:00",
          "2005-12-31T00:00:00",
          "2006-03-31T00:00:00",
          "2006-06-30T00:00:00",
          "2006-09-30T00:00:00",
          "2006-12-31T00:00:00",
          "2007-03-31T00:00:00",
          "2007-06-30T00:00:00",
          "2007-09-30T00:00:00",
          "2007-12-31T00:00:00",
          "2008-03-31T00:00:00",
          "2008-06-30T00:00:00",
          "2008-09-30T00:00:00",
          "2008-12-31T00:00:00",
          "2009-03-31T00:00:00",
          "2009-06-30T00:00:00",
          "2009-09-30T00:00:00",
          "2009-12-31T00:00:00",
          "2010-03-31T00:00:00",
          "2010-06-30T00:00:00",
          "2010-09-30T00:00:00",
          "2010-12-31T00:00:00",
          "2011-03-31T00:00:00",
          "2011-06-30T00:00:00",
          "2011-09-30T00:00:00",
          "2011-12-31T00:00:00",
          "2012-03-31T00:00:00",
          "2012-06-30T00:00:00",
          "2012-09-30T00:00:00",
          "2012-12-31T00:00:00",
          "2013-03-31T00:00:00",
          "2013-06-30T00:00:00",
          "2013-09-30T00:00:00",
          "2013-12-31T00:00:00",
          "2014-03-31T00:00:00",
          "2014-06-30T00:00:00",
          "2014-09-30T00:00:00",
          "2014-12-31T00:00:00",
          "2015-03-31T00:00:00",
          "2015-06-30T00:00:00",
          "2015-09-30T00:00:00",
          "2015-12-31T00:00:00",
          "2016-03-31T00:00:00",
          "2016-06-30T00:00:00",
          "2016-09-30T00:00:00",
          "2016-12-31T00:00:00",
          "2017-03-31T00:00:00",
          "2017-06-30T00:00:00",
          "2017-09-30T00:00:00",
          "2017-12-31T00:00:00",
          "2018-03-31T00:00:00",
          "2018-06-30T00:00:00",
          "2018-09-30T00:00:00",
          "2018-12-31T00:00:00",
          "2019-03-31T00:00:00",
          "2019-06-30T00:00:00",
          "2019-09-30T00:00:00",
          "2019-12-31T00:00:00",
          "2020-03-31T00:00:00",
          "2020-06-30T00:00:00",
          "2020-09-30T00:00:00",
          "2020-12-31T00:00:00",
          "2021-03-31T00:00:00",
          "2021-06-30T00:00:00",
          "2021-09-30T00:00:00",
          "2021-12-31T00:00:00",
          "2022-03-31T00:00:00",
          "2022-06-30T00:00:00",
          "2022-09-30T00:00:00",
          "2022-12-31T00:00:00",
          "2023-03-31T00:00:00",
          "2023-06-30T00:00:00"
         ],
         "xaxis": "x",
         "y": [
          null,
          null,
          null,
          0,
          0,
          0,
          0,
          0,
          0,
          0,
          0,
          0,
          0,
          0,
          0,
          0,
          0,
          0,
          0,
          0,
          0,
          0,
          0,
          0,
          0,
          0,
          0,
          0.028494991367697863,
          0.057450189714029806,
          0.09695602625528013,
          0.11436842587313148,
          0.11143164911084542,
          0.10642272782357166,
          0.13827652646856903,
          0.13645963120911628,
          0.13380593844408767,
          0.13154948894067164,
          0.08660175551159019,
          0.08380923112001383,
          0.08010785644852622,
          0.0756781522598132,
          0.07092387012329468,
          0.06945592399079512,
          0.06697119410320485,
          0.06788862020716085,
          0.07026265633063938,
          0.06994644184107758,
          0.06920321671655263,
          0.06642253948838543,
          0.0622519322558288,
          0.06055547406661631,
          0.05939380273182922,
          0.05996974811709495,
          0.060916760967507796,
          0.06214359049430628,
          0.06607679322247695,
          0.063201745096521,
          0.06037858836034567,
          0.05885319361121913,
          0.053598439095581846,
          0.053397489988031406,
          0.05261413592337514,
          0.051766944901186544,
          0.0510255338568716,
          0.051311770351075356,
          0.052063275809374275,
          0.052477295542809034,
          0.05211640783418015,
          0.0500726235785722,
          0.0460207505631803,
          0.04378850169480532,
          0.04105676356003203,
          0.03829542374423778,
          0.03507112362314512,
          0.03426269660408619,
          0.033122776640982794,
          0.032620198792425295,
          0.03221832158996829,
          0.03262597340501629,
          0.03403341055213566,
          0.036942951530208316,
          0.04251948307031256,
          0.044469681185230814,
          0.04158983460161833
         ],
         "yaxis": "y"
        },
        {
         "hovertemplate": "variable=TIP<br>Date=%{x}<br>value=%{y}<extra></extra>",
         "legendgroup": "TIP",
         "line": {
          "color": "#19d3f3",
          "dash": "solid"
         },
         "marker": {
          "symbol": "circle"
         },
         "mode": "lines",
         "name": "TIP",
         "orientation": "v",
         "showlegend": true,
         "type": "scatter",
         "x": [
          "2002-09-30T00:00:00",
          "2002-12-31T00:00:00",
          "2003-03-31T00:00:00",
          "2003-06-30T00:00:00",
          "2003-09-30T00:00:00",
          "2003-12-31T00:00:00",
          "2004-03-31T00:00:00",
          "2004-06-30T00:00:00",
          "2004-09-30T00:00:00",
          "2004-12-31T00:00:00",
          "2005-03-31T00:00:00",
          "2005-06-30T00:00:00",
          "2005-09-30T00:00:00",
          "2005-12-31T00:00:00",
          "2006-03-31T00:00:00",
          "2006-06-30T00:00:00",
          "2006-09-30T00:00:00",
          "2006-12-31T00:00:00",
          "2007-03-31T00:00:00",
          "2007-06-30T00:00:00",
          "2007-09-30T00:00:00",
          "2007-12-31T00:00:00",
          "2008-03-31T00:00:00",
          "2008-06-30T00:00:00",
          "2008-09-30T00:00:00",
          "2008-12-31T00:00:00",
          "2009-03-31T00:00:00",
          "2009-06-30T00:00:00",
          "2009-09-30T00:00:00",
          "2009-12-31T00:00:00",
          "2010-03-31T00:00:00",
          "2010-06-30T00:00:00",
          "2010-09-30T00:00:00",
          "2010-12-31T00:00:00",
          "2011-03-31T00:00:00",
          "2011-06-30T00:00:00",
          "2011-09-30T00:00:00",
          "2011-12-31T00:00:00",
          "2012-03-31T00:00:00",
          "2012-06-30T00:00:00",
          "2012-09-30T00:00:00",
          "2012-12-31T00:00:00",
          "2013-03-31T00:00:00",
          "2013-06-30T00:00:00",
          "2013-09-30T00:00:00",
          "2013-12-31T00:00:00",
          "2014-03-31T00:00:00",
          "2014-06-30T00:00:00",
          "2014-09-30T00:00:00",
          "2014-12-31T00:00:00",
          "2015-03-31T00:00:00",
          "2015-06-30T00:00:00",
          "2015-09-30T00:00:00",
          "2015-12-31T00:00:00",
          "2016-03-31T00:00:00",
          "2016-06-30T00:00:00",
          "2016-09-30T00:00:00",
          "2016-12-31T00:00:00",
          "2017-03-31T00:00:00",
          "2017-06-30T00:00:00",
          "2017-09-30T00:00:00",
          "2017-12-31T00:00:00",
          "2018-03-31T00:00:00",
          "2018-06-30T00:00:00",
          "2018-09-30T00:00:00",
          "2018-12-31T00:00:00",
          "2019-03-31T00:00:00",
          "2019-06-30T00:00:00",
          "2019-09-30T00:00:00",
          "2019-12-31T00:00:00",
          "2020-03-31T00:00:00",
          "2020-06-30T00:00:00",
          "2020-09-30T00:00:00",
          "2020-12-31T00:00:00",
          "2021-03-31T00:00:00",
          "2021-06-30T00:00:00",
          "2021-09-30T00:00:00",
          "2021-12-31T00:00:00",
          "2022-03-31T00:00:00",
          "2022-06-30T00:00:00",
          "2022-09-30T00:00:00",
          "2022-12-31T00:00:00",
          "2023-03-31T00:00:00",
          "2023-06-30T00:00:00"
         ],
         "xaxis": "x",
         "y": [
          null,
          null,
          null,
          0,
          0,
          0.002115862445011173,
          0.002115862445011173,
          0.033038128449825954,
          0.05710782283007349,
          0.07209903197930284,
          0.07480900132479418,
          0.06564883843617944,
          0.07080844919433675,
          0.09173044159890334,
          0.089020472253412,
          0.09333997393942811,
          0.09168172167111655,
          0.06996018449612597,
          0.0743734339279376,
          0.06736854716562221,
          0.0605587352641709,
          0.06934513937078993,
          0.07992648218005112,
          0.09623035609531079,
          0.10959125382677763,
          0.09581106924014131,
          0.08081647699906847,
          0.06626689252150589,
          0.05631654347808123,
          0.056118690932564885,
          0.05890203745061704,
          0.05308162333093768,
          0.03535560388103614,
          0.03458909121341193,
          0.03726002036849235,
          0.04902254276574636,
          0.05830712904245827,
          0.05655102226981071,
          0.05109674659667813,
          0.04094174972951153,
          0.028977348553211584,
          0.02850683787075614,
          0.02850683787075614,
          0.019105702046756486,
          0.018966463183667147,
          0.013699413462199645,
          0.013699413462199645,
          0.016411720518835146,
          0.022403601316330773,
          0.02020158191195358,
          0.02020158191195358,
          0.010272291791311835,
          0.0040561030769844155,
          0.004087171821337795,
          0.004087171821337795,
          0.00447453349523956,
          0.015627708505534486,
          0.017555456419067514,
          0.017555456419067514,
          0.02449919794259493,
          0.017806552036863085,
          0.024842782552676485,
          0.025063709549484635,
          0.029549454225655594,
          0.035065228351756746,
          0.031023763069880656,
          0.030802836073072506,
          0.025714624064513168,
          0.021654428201091435,
          0.020228527007102565,
          0.02143956582948772,
          0.01916464094314336,
          0.00984612504862743,
          0.013606083458263332,
          0.012395044635878179,
          0.021033051333970605,
          0.042305453436393685,
          0.04718743791859023,
          0.052839385384438955,
          0.06707255582521471,
          0.07398056008466837,
          0.06561369873763723,
          0.059961751271788495,
          0.039028626420276595
         ],
         "yaxis": "y"
        },
        {
         "hovertemplate": "variable=TLT<br>Date=%{x}<br>value=%{y}<extra></extra>",
         "legendgroup": "TLT",
         "line": {
          "color": "#FF6692",
          "dash": "solid"
         },
         "marker": {
          "symbol": "circle"
         },
         "mode": "lines",
         "name": "TLT",
         "orientation": "v",
         "showlegend": true,
         "type": "scatter",
         "x": [
          "2002-09-30T00:00:00",
          "2002-12-31T00:00:00",
          "2003-03-31T00:00:00",
          "2003-06-30T00:00:00",
          "2003-09-30T00:00:00",
          "2003-12-31T00:00:00",
          "2004-03-31T00:00:00",
          "2004-06-30T00:00:00",
          "2004-09-30T00:00:00",
          "2004-12-31T00:00:00",
          "2005-03-31T00:00:00",
          "2005-06-30T00:00:00",
          "2005-09-30T00:00:00",
          "2005-12-31T00:00:00",
          "2006-03-31T00:00:00",
          "2006-06-30T00:00:00",
          "2006-09-30T00:00:00",
          "2006-12-31T00:00:00",
          "2007-03-31T00:00:00",
          "2007-06-30T00:00:00",
          "2007-09-30T00:00:00",
          "2007-12-31T00:00:00",
          "2008-03-31T00:00:00",
          "2008-06-30T00:00:00",
          "2008-09-30T00:00:00",
          "2008-12-31T00:00:00",
          "2009-03-31T00:00:00",
          "2009-06-30T00:00:00",
          "2009-09-30T00:00:00",
          "2009-12-31T00:00:00",
          "2010-03-31T00:00:00",
          "2010-06-30T00:00:00",
          "2010-09-30T00:00:00",
          "2010-12-31T00:00:00",
          "2011-03-31T00:00:00",
          "2011-06-30T00:00:00",
          "2011-09-30T00:00:00",
          "2011-12-31T00:00:00",
          "2012-03-31T00:00:00",
          "2012-06-30T00:00:00",
          "2012-09-30T00:00:00",
          "2012-12-31T00:00:00",
          "2013-03-31T00:00:00",
          "2013-06-30T00:00:00",
          "2013-09-30T00:00:00",
          "2013-12-31T00:00:00",
          "2014-03-31T00:00:00",
          "2014-06-30T00:00:00",
          "2014-09-30T00:00:00",
          "2014-12-31T00:00:00",
          "2015-03-31T00:00:00",
          "2015-06-30T00:00:00",
          "2015-09-30T00:00:00",
          "2015-12-31T00:00:00",
          "2016-03-31T00:00:00",
          "2016-06-30T00:00:00",
          "2016-09-30T00:00:00",
          "2016-12-31T00:00:00",
          "2017-03-31T00:00:00",
          "2017-06-30T00:00:00",
          "2017-09-30T00:00:00",
          "2017-12-31T00:00:00",
          "2018-03-31T00:00:00",
          "2018-06-30T00:00:00",
          "2018-09-30T00:00:00",
          "2018-12-31T00:00:00",
          "2019-03-31T00:00:00",
          "2019-06-30T00:00:00",
          "2019-09-30T00:00:00",
          "2019-12-31T00:00:00",
          "2020-03-31T00:00:00",
          "2020-06-30T00:00:00",
          "2020-09-30T00:00:00",
          "2020-12-31T00:00:00",
          "2021-03-31T00:00:00",
          "2021-06-30T00:00:00",
          "2021-09-30T00:00:00",
          "2021-12-31T00:00:00",
          "2022-03-31T00:00:00",
          "2022-06-30T00:00:00",
          "2022-09-30T00:00:00",
          "2022-12-31T00:00:00",
          "2023-03-31T00:00:00",
          "2023-06-30T00:00:00"
         ],
         "xaxis": "x",
         "y": [
          null,
          null,
          null,
          0.08451869251526047,
          0.10067691309196114,
          0.09885196306013347,
          0.09978846141527419,
          0.094597684460664,
          0.09154691017857644,
          0.08674897488643626,
          0.08386643871101902,
          0.08148160883492732,
          0.07845909251041225,
          0.07854141682963584,
          0.07829631007847568,
          0.0787718975874419,
          0.07981949813180514,
          0.07528637151515519,
          0.07602571408021896,
          0.07449392344487019,
          0.07351612747691108,
          0.07428357149311042,
          0.0725916351626397,
          0.0721576530605181,
          0.06985464033678956,
          0.06499176707215382,
          0.06198950703068923,
          0.057918878761841944,
          0.05584081840164958,
          0.05433517430751578,
          0.05588024770610596,
          0.05723838058488194,
          0.05604092215300497,
          0.05654138288186685,
          0.056181986721293785,
          0.057563796810436656,
          0.057425432072580704,
          0.05228475357025925,
          0.04929399790198351,
          0.042205642163430784,
          0.03758827648518068,
          0.03156314640581813,
          0.030983443051280667,
          0.030297996355000183,
          0.031528369442894597,
          0.03801122868590566,
          0.038524159396175775,
          0.039426580526812416,
          0.039155390392933656,
          0.03587592997569193,
          0.034595881649293544,
          0.032819399723121985,
          0.03139891812005251,
          0.030132479712616303,
          0.02979904381170633,
          0.029403720010606822,
          0.027975208517564756,
          0.027682081355635105,
          0.02791875914415747,
          0.027944317969958672,
          0.028727124448252827,
          0.02834336143219418,
          0.02820698689112114,
          0.028429122802932083,
          0.028778086263148588,
          0.029718269568480407,
          0.029910717102246354,
          0.02937070559585446,
          0.027993256846337668,
          0.02507982897516807,
          0.023639875952898803,
          0.021001190287534464,
          0.018490781351163353,
          0.015586097478618846,
          0.014728767609705037,
          0.014925875365708205,
          0.015260821115834688,
          0.015916168821961105,
          0.01621732500894486,
          0.01695673231684216,
          0.019039621310837564,
          0.023624371067095366,
          0.025896512930894247,
          0.025846181701034174
         ],
         "yaxis": "y"
        },
        {
         "hovertemplate": "variable=VNQ<br>Date=%{x}<br>value=%{y}<extra></extra>",
         "legendgroup": "VNQ",
         "line": {
          "color": "#B6E880",
          "dash": "solid"
         },
         "marker": {
          "symbol": "circle"
         },
         "mode": "lines",
         "name": "VNQ",
         "orientation": "v",
         "showlegend": true,
         "type": "scatter",
         "x": [
          "2002-09-30T00:00:00",
          "2002-12-31T00:00:00",
          "2003-03-31T00:00:00",
          "2003-06-30T00:00:00",
          "2003-09-30T00:00:00",
          "2003-12-31T00:00:00",
          "2004-03-31T00:00:00",
          "2004-06-30T00:00:00",
          "2004-09-30T00:00:00",
          "2004-12-31T00:00:00",
          "2005-03-31T00:00:00",
          "2005-06-30T00:00:00",
          "2005-09-30T00:00:00",
          "2005-12-31T00:00:00",
          "2006-03-31T00:00:00",
          "2006-06-30T00:00:00",
          "2006-09-30T00:00:00",
          "2006-12-31T00:00:00",
          "2007-03-31T00:00:00",
          "2007-06-30T00:00:00",
          "2007-09-30T00:00:00",
          "2007-12-31T00:00:00",
          "2008-03-31T00:00:00",
          "2008-06-30T00:00:00",
          "2008-09-30T00:00:00",
          "2008-12-31T00:00:00",
          "2009-03-31T00:00:00",
          "2009-06-30T00:00:00",
          "2009-09-30T00:00:00",
          "2009-12-31T00:00:00",
          "2010-03-31T00:00:00",
          "2010-06-30T00:00:00",
          "2010-09-30T00:00:00",
          "2010-12-31T00:00:00",
          "2011-03-31T00:00:00",
          "2011-06-30T00:00:00",
          "2011-09-30T00:00:00",
          "2011-12-31T00:00:00",
          "2012-03-31T00:00:00",
          "2012-06-30T00:00:00",
          "2012-09-30T00:00:00",
          "2012-12-31T00:00:00",
          "2013-03-31T00:00:00",
          "2013-06-30T00:00:00",
          "2013-09-30T00:00:00",
          "2013-12-31T00:00:00",
          "2014-03-31T00:00:00",
          "2014-06-30T00:00:00",
          "2014-09-30T00:00:00",
          "2014-12-31T00:00:00",
          "2015-03-31T00:00:00",
          "2015-06-30T00:00:00",
          "2015-09-30T00:00:00",
          "2015-12-31T00:00:00",
          "2016-03-31T00:00:00",
          "2016-06-30T00:00:00",
          "2016-09-30T00:00:00",
          "2016-12-31T00:00:00",
          "2017-03-31T00:00:00",
          "2017-06-30T00:00:00",
          "2017-09-30T00:00:00",
          "2017-12-31T00:00:00",
          "2018-03-31T00:00:00",
          "2018-06-30T00:00:00",
          "2018-09-30T00:00:00",
          "2018-12-31T00:00:00",
          "2019-03-31T00:00:00",
          "2019-06-30T00:00:00",
          "2019-09-30T00:00:00",
          "2019-12-31T00:00:00",
          "2020-03-31T00:00:00",
          "2020-06-30T00:00:00",
          "2020-09-30T00:00:00",
          "2020-12-31T00:00:00",
          "2021-03-31T00:00:00",
          "2021-06-30T00:00:00",
          "2021-09-30T00:00:00",
          "2021-12-31T00:00:00",
          "2022-03-31T00:00:00",
          "2022-06-30T00:00:00",
          "2022-09-30T00:00:00",
          "2022-12-31T00:00:00",
          "2023-03-31T00:00:00",
          "2023-06-30T00:00:00"
         ],
         "xaxis": "x",
         "y": [
          null,
          null,
          null,
          0,
          0,
          0,
          0,
          0,
          0,
          0.04913613715257279,
          0.07500436631907205,
          0.09874659897084229,
          0.12300131978628352,
          0.1297831174153931,
          0.11609793060395145,
          0.11380111226506477,
          0.10856746274438162,
          0.09186834787861836,
          0.09122349789876141,
          0.09445799097624165,
          0.09498230260625724,
          0.08705920270236596,
          0.0898636807101858,
          0.08983145487019553,
          0.094272306140003,
          0.1107063012370163,
          0.13024035838557527,
          0.13312626497473748,
          0.126519974215949,
          0.10009930564695985,
          0.07867448159155951,
          0.06704877368878215,
          0.063961094031021,
          0.06012442031454926,
          0.05926008217600907,
          0.056895138458205916,
          0.05778065707120436,
          0.05749288733515898,
          0.05817849738605024,
          0.057329111320307706,
          0.054286000848856764,
          0.05534599150344084,
          0.05451610323662733,
          0.05600559132569688,
          0.05736247819777114,
          0.06155926882417166,
          0.05938242648656585,
          0.05839644088625305,
          0.05799847984585802,
          0.054136076610034736,
          0.05324805114438143,
          0.05374393232784365,
          0.05406517778234525,
          0.053898664059030224,
          0.06039705509167133,
          0.05839269659518967,
          0.05416953633012832,
          0.062455510886012755,
          0.0567958226614419,
          0.056992064611422394,
          0.06059504870621127,
          0.05282494446337575,
          0.05519623888342919,
          0.05437967635055187,
          0.05839067130718946,
          0.053288796685295,
          0.049883147128193264,
          0.04968213733110268,
          0.04199435274291716,
          0.04007754685351852,
          0.04024143858774536,
          0.04016583773611464,
          0.039364708917926976,
          0.04464947715245941,
          0.04250544359144588,
          0.039302546484187156,
          0.03761366532185159,
          0.030096601771884376,
          0.02966059904873103,
          0.028544483675575088,
          0.03316131484134959,
          0.03781961041087654,
          0.04182580166663752,
          0.03535316974972032
         ],
         "yaxis": "y"
        }
       ],
       "layout": {
        "legend": {
         "title": {
          "text": "variable"
         },
         "tracegroupgap": 0
        },
        "margin": {
         "t": 60
        },
        "template": {
         "data": {
          "bar": [
           {
            "error_x": {
             "color": "#2a3f5f"
            },
            "error_y": {
             "color": "#2a3f5f"
            },
            "marker": {
             "line": {
              "color": "#E5ECF6",
              "width": 0.5
             },
             "pattern": {
              "fillmode": "overlay",
              "size": 10,
              "solidity": 0.2
             }
            },
            "type": "bar"
           }
          ],
          "barpolar": [
           {
            "marker": {
             "line": {
              "color": "#E5ECF6",
              "width": 0.5
             },
             "pattern": {
              "fillmode": "overlay",
              "size": 10,
              "solidity": 0.2
             }
            },
            "type": "barpolar"
           }
          ],
          "carpet": [
           {
            "aaxis": {
             "endlinecolor": "#2a3f5f",
             "gridcolor": "white",
             "linecolor": "white",
             "minorgridcolor": "white",
             "startlinecolor": "#2a3f5f"
            },
            "baxis": {
             "endlinecolor": "#2a3f5f",
             "gridcolor": "white",
             "linecolor": "white",
             "minorgridcolor": "white",
             "startlinecolor": "#2a3f5f"
            },
            "type": "carpet"
           }
          ],
          "choropleth": [
           {
            "colorbar": {
             "outlinewidth": 0,
             "ticks": ""
            },
            "type": "choropleth"
           }
          ],
          "contour": [
           {
            "colorbar": {
             "outlinewidth": 0,
             "ticks": ""
            },
            "colorscale": [
             [
              0,
              "#0d0887"
             ],
             [
              0.1111111111111111,
              "#46039f"
             ],
             [
              0.2222222222222222,
              "#7201a8"
             ],
             [
              0.3333333333333333,
              "#9c179e"
             ],
             [
              0.4444444444444444,
              "#bd3786"
             ],
             [
              0.5555555555555556,
              "#d8576b"
             ],
             [
              0.6666666666666666,
              "#ed7953"
             ],
             [
              0.7777777777777778,
              "#fb9f3a"
             ],
             [
              0.8888888888888888,
              "#fdca26"
             ],
             [
              1,
              "#f0f921"
             ]
            ],
            "type": "contour"
           }
          ],
          "contourcarpet": [
           {
            "colorbar": {
             "outlinewidth": 0,
             "ticks": ""
            },
            "type": "contourcarpet"
           }
          ],
          "heatmap": [
           {
            "colorbar": {
             "outlinewidth": 0,
             "ticks": ""
            },
            "colorscale": [
             [
              0,
              "#0d0887"
             ],
             [
              0.1111111111111111,
              "#46039f"
             ],
             [
              0.2222222222222222,
              "#7201a8"
             ],
             [
              0.3333333333333333,
              "#9c179e"
             ],
             [
              0.4444444444444444,
              "#bd3786"
             ],
             [
              0.5555555555555556,
              "#d8576b"
             ],
             [
              0.6666666666666666,
              "#ed7953"
             ],
             [
              0.7777777777777778,
              "#fb9f3a"
             ],
             [
              0.8888888888888888,
              "#fdca26"
             ],
             [
              1,
              "#f0f921"
             ]
            ],
            "type": "heatmap"
           }
          ],
          "heatmapgl": [
           {
            "colorbar": {
             "outlinewidth": 0,
             "ticks": ""
            },
            "colorscale": [
             [
              0,
              "#0d0887"
             ],
             [
              0.1111111111111111,
              "#46039f"
             ],
             [
              0.2222222222222222,
              "#7201a8"
             ],
             [
              0.3333333333333333,
              "#9c179e"
             ],
             [
              0.4444444444444444,
              "#bd3786"
             ],
             [
              0.5555555555555556,
              "#d8576b"
             ],
             [
              0.6666666666666666,
              "#ed7953"
             ],
             [
              0.7777777777777778,
              "#fb9f3a"
             ],
             [
              0.8888888888888888,
              "#fdca26"
             ],
             [
              1,
              "#f0f921"
             ]
            ],
            "type": "heatmapgl"
           }
          ],
          "histogram": [
           {
            "marker": {
             "pattern": {
              "fillmode": "overlay",
              "size": 10,
              "solidity": 0.2
             }
            },
            "type": "histogram"
           }
          ],
          "histogram2d": [
           {
            "colorbar": {
             "outlinewidth": 0,
             "ticks": ""
            },
            "colorscale": [
             [
              0,
              "#0d0887"
             ],
             [
              0.1111111111111111,
              "#46039f"
             ],
             [
              0.2222222222222222,
              "#7201a8"
             ],
             [
              0.3333333333333333,
              "#9c179e"
             ],
             [
              0.4444444444444444,
              "#bd3786"
             ],
             [
              0.5555555555555556,
              "#d8576b"
             ],
             [
              0.6666666666666666,
              "#ed7953"
             ],
             [
              0.7777777777777778,
              "#fb9f3a"
             ],
             [
              0.8888888888888888,
              "#fdca26"
             ],
             [
              1,
              "#f0f921"
             ]
            ],
            "type": "histogram2d"
           }
          ],
          "histogram2dcontour": [
           {
            "colorbar": {
             "outlinewidth": 0,
             "ticks": ""
            },
            "colorscale": [
             [
              0,
              "#0d0887"
             ],
             [
              0.1111111111111111,
              "#46039f"
             ],
             [
              0.2222222222222222,
              "#7201a8"
             ],
             [
              0.3333333333333333,
              "#9c179e"
             ],
             [
              0.4444444444444444,
              "#bd3786"
             ],
             [
              0.5555555555555556,
              "#d8576b"
             ],
             [
              0.6666666666666666,
              "#ed7953"
             ],
             [
              0.7777777777777778,
              "#fb9f3a"
             ],
             [
              0.8888888888888888,
              "#fdca26"
             ],
             [
              1,
              "#f0f921"
             ]
            ],
            "type": "histogram2dcontour"
           }
          ],
          "mesh3d": [
           {
            "colorbar": {
             "outlinewidth": 0,
             "ticks": ""
            },
            "type": "mesh3d"
           }
          ],
          "parcoords": [
           {
            "line": {
             "colorbar": {
              "outlinewidth": 0,
              "ticks": ""
             }
            },
            "type": "parcoords"
           }
          ],
          "pie": [
           {
            "automargin": true,
            "type": "pie"
           }
          ],
          "scatter": [
           {
            "marker": {
             "colorbar": {
              "outlinewidth": 0,
              "ticks": ""
             }
            },
            "type": "scatter"
           }
          ],
          "scatter3d": [
           {
            "line": {
             "colorbar": {
              "outlinewidth": 0,
              "ticks": ""
             }
            },
            "marker": {
             "colorbar": {
              "outlinewidth": 0,
              "ticks": ""
             }
            },
            "type": "scatter3d"
           }
          ],
          "scattercarpet": [
           {
            "marker": {
             "colorbar": {
              "outlinewidth": 0,
              "ticks": ""
             }
            },
            "type": "scattercarpet"
           }
          ],
          "scattergeo": [
           {
            "marker": {
             "colorbar": {
              "outlinewidth": 0,
              "ticks": ""
             }
            },
            "type": "scattergeo"
           }
          ],
          "scattergl": [
           {
            "marker": {
             "colorbar": {
              "outlinewidth": 0,
              "ticks": ""
             }
            },
            "type": "scattergl"
           }
          ],
          "scattermapbox": [
           {
            "marker": {
             "colorbar": {
              "outlinewidth": 0,
              "ticks": ""
             }
            },
            "type": "scattermapbox"
           }
          ],
          "scatterpolar": [
           {
            "marker": {
             "colorbar": {
              "outlinewidth": 0,
              "ticks": ""
             }
            },
            "type": "scatterpolar"
           }
          ],
          "scatterpolargl": [
           {
            "marker": {
             "colorbar": {
              "outlinewidth": 0,
              "ticks": ""
             }
            },
            "type": "scatterpolargl"
           }
          ],
          "scatterternary": [
           {
            "marker": {
             "colorbar": {
              "outlinewidth": 0,
              "ticks": ""
             }
            },
            "type": "scatterternary"
           }
          ],
          "surface": [
           {
            "colorbar": {
             "outlinewidth": 0,
             "ticks": ""
            },
            "colorscale": [
             [
              0,
              "#0d0887"
             ],
             [
              0.1111111111111111,
              "#46039f"
             ],
             [
              0.2222222222222222,
              "#7201a8"
             ],
             [
              0.3333333333333333,
              "#9c179e"
             ],
             [
              0.4444444444444444,
              "#bd3786"
             ],
             [
              0.5555555555555556,
              "#d8576b"
             ],
             [
              0.6666666666666666,
              "#ed7953"
             ],
             [
              0.7777777777777778,
              "#fb9f3a"
             ],
             [
              0.8888888888888888,
              "#fdca26"
             ],
             [
              1,
              "#f0f921"
             ]
            ],
            "type": "surface"
           }
          ],
          "table": [
           {
            "cells": {
             "fill": {
              "color": "#EBF0F8"
             },
             "line": {
              "color": "white"
             }
            },
            "header": {
             "fill": {
              "color": "#C8D4E3"
             },
             "line": {
              "color": "white"
             }
            },
            "type": "table"
           }
          ]
         },
         "layout": {
          "annotationdefaults": {
           "arrowcolor": "#2a3f5f",
           "arrowhead": 0,
           "arrowwidth": 1
          },
          "autotypenumbers": "strict",
          "coloraxis": {
           "colorbar": {
            "outlinewidth": 0,
            "ticks": ""
           }
          },
          "colorscale": {
           "diverging": [
            [
             0,
             "#8e0152"
            ],
            [
             0.1,
             "#c51b7d"
            ],
            [
             0.2,
             "#de77ae"
            ],
            [
             0.3,
             "#f1b6da"
            ],
            [
             0.4,
             "#fde0ef"
            ],
            [
             0.5,
             "#f7f7f7"
            ],
            [
             0.6,
             "#e6f5d0"
            ],
            [
             0.7,
             "#b8e186"
            ],
            [
             0.8,
             "#7fbc41"
            ],
            [
             0.9,
             "#4d9221"
            ],
            [
             1,
             "#276419"
            ]
           ],
           "sequential": [
            [
             0,
             "#0d0887"
            ],
            [
             0.1111111111111111,
             "#46039f"
            ],
            [
             0.2222222222222222,
             "#7201a8"
            ],
            [
             0.3333333333333333,
             "#9c179e"
            ],
            [
             0.4444444444444444,
             "#bd3786"
            ],
            [
             0.5555555555555556,
             "#d8576b"
            ],
            [
             0.6666666666666666,
             "#ed7953"
            ],
            [
             0.7777777777777778,
             "#fb9f3a"
            ],
            [
             0.8888888888888888,
             "#fdca26"
            ],
            [
             1,
             "#f0f921"
            ]
           ],
           "sequentialminus": [
            [
             0,
             "#0d0887"
            ],
            [
             0.1111111111111111,
             "#46039f"
            ],
            [
             0.2222222222222222,
             "#7201a8"
            ],
            [
             0.3333333333333333,
             "#9c179e"
            ],
            [
             0.4444444444444444,
             "#bd3786"
            ],
            [
             0.5555555555555556,
             "#d8576b"
            ],
            [
             0.6666666666666666,
             "#ed7953"
            ],
            [
             0.7777777777777778,
             "#fb9f3a"
            ],
            [
             0.8888888888888888,
             "#fdca26"
            ],
            [
             1,
             "#f0f921"
            ]
           ]
          },
          "colorway": [
           "#636efa",
           "#EF553B",
           "#00cc96",
           "#ab63fa",
           "#FFA15A",
           "#19d3f3",
           "#FF6692",
           "#B6E880",
           "#FF97FF",
           "#FECB52"
          ],
          "font": {
           "color": "#2a3f5f"
          },
          "geo": {
           "bgcolor": "white",
           "lakecolor": "white",
           "landcolor": "#E5ECF6",
           "showlakes": true,
           "showland": true,
           "subunitcolor": "white"
          },
          "hoverlabel": {
           "align": "left"
          },
          "hovermode": "closest",
          "mapbox": {
           "style": "light"
          },
          "paper_bgcolor": "white",
          "plot_bgcolor": "#E5ECF6",
          "polar": {
           "angularaxis": {
            "gridcolor": "white",
            "linecolor": "white",
            "ticks": ""
           },
           "bgcolor": "#E5ECF6",
           "radialaxis": {
            "gridcolor": "white",
            "linecolor": "white",
            "ticks": ""
           }
          },
          "scene": {
           "xaxis": {
            "backgroundcolor": "#E5ECF6",
            "gridcolor": "white",
            "gridwidth": 2,
            "linecolor": "white",
            "showbackground": true,
            "ticks": "",
            "zerolinecolor": "white"
           },
           "yaxis": {
            "backgroundcolor": "#E5ECF6",
            "gridcolor": "white",
            "gridwidth": 2,
            "linecolor": "white",
            "showbackground": true,
            "ticks": "",
            "zerolinecolor": "white"
           },
           "zaxis": {
            "backgroundcolor": "#E5ECF6",
            "gridcolor": "white",
            "gridwidth": 2,
            "linecolor": "white",
            "showbackground": true,
            "ticks": "",
            "zerolinecolor": "white"
           }
          },
          "shapedefaults": {
           "line": {
            "color": "#2a3f5f"
           }
          },
          "ternary": {
           "aaxis": {
            "gridcolor": "white",
            "linecolor": "white",
            "ticks": ""
           },
           "baxis": {
            "gridcolor": "white",
            "linecolor": "white",
            "ticks": ""
           },
           "bgcolor": "#E5ECF6",
           "caxis": {
            "gridcolor": "white",
            "linecolor": "white",
            "ticks": ""
           }
          },
          "title": {
           "x": 0.05
          },
          "xaxis": {
           "automargin": true,
           "gridcolor": "white",
           "linecolor": "white",
           "ticks": "",
           "title": {
            "standoff": 15
           },
           "zerolinecolor": "white",
           "zerolinewidth": 2
          },
          "yaxis": {
           "automargin": true,
           "gridcolor": "white",
           "linecolor": "white",
           "ticks": "",
           "title": {
            "standoff": 15
           },
           "zerolinecolor": "white",
           "zerolinewidth": 2
          }
         }
        },
        "xaxis": {
         "anchor": "y",
         "domain": [
          0,
          1
         ],
         "title": {
          "text": "Date"
         }
        },
        "yaxis": {
         "anchor": "x",
         "domain": [
          0,
          1
         ],
         "title": {
          "text": "value"
         }
        }
       }
      }
     },
     "metadata": {},
     "output_type": "display_data"
    }
   ],
   "source": [
    "px.line(dvd_rate.resample('Q').sum().rolling(4).sum())"
   ]
  },
  {
   "cell_type": "code",
   "execution_count": 191,
   "id": "e8e9c0d9",
   "metadata": {},
   "outputs": [
    {
     "data": {
      "text/html": [
       "<div>\n",
       "<style scoped>\n",
       "    .dataframe tbody tr th:only-of-type {\n",
       "        vertical-align: middle;\n",
       "    }\n",
       "\n",
       "    .dataframe tbody tr th {\n",
       "        vertical-align: top;\n",
       "    }\n",
       "\n",
       "    .dataframe thead th {\n",
       "        text-align: right;\n",
       "    }\n",
       "</style>\n",
       "<table border=\"1\" class=\"dataframe\">\n",
       "  <thead>\n",
       "    <tr style=\"text-align: right;\">\n",
       "      <th></th>\n",
       "      <th>BND</th>\n",
       "      <th>EMB</th>\n",
       "      <th>HYG</th>\n",
       "      <th>PFF</th>\n",
       "      <th>SPLB</th>\n",
       "      <th>TIP</th>\n",
       "      <th>TLT</th>\n",
       "      <th>VNQ</th>\n",
       "    </tr>\n",
       "    <tr>\n",
       "      <th>Date</th>\n",
       "      <th></th>\n",
       "      <th></th>\n",
       "      <th></th>\n",
       "      <th></th>\n",
       "      <th></th>\n",
       "      <th></th>\n",
       "      <th></th>\n",
       "      <th></th>\n",
       "    </tr>\n",
       "  </thead>\n",
       "  <tbody>\n",
       "    <tr>\n",
       "      <th>2002-09-30</th>\n",
       "      <td>NaN</td>\n",
       "      <td>NaN</td>\n",
       "      <td>NaN</td>\n",
       "      <td>NaN</td>\n",
       "      <td>NaN</td>\n",
       "      <td>NaN</td>\n",
       "      <td>NaN</td>\n",
       "      <td>NaN</td>\n",
       "    </tr>\n",
       "    <tr>\n",
       "      <th>2002-12-31</th>\n",
       "      <td>NaN</td>\n",
       "      <td>NaN</td>\n",
       "      <td>NaN</td>\n",
       "      <td>NaN</td>\n",
       "      <td>NaN</td>\n",
       "      <td>NaN</td>\n",
       "      <td>NaN</td>\n",
       "      <td>NaN</td>\n",
       "    </tr>\n",
       "    <tr>\n",
       "      <th>2003-03-31</th>\n",
       "      <td>NaN</td>\n",
       "      <td>NaN</td>\n",
       "      <td>NaN</td>\n",
       "      <td>NaN</td>\n",
       "      <td>NaN</td>\n",
       "      <td>NaN</td>\n",
       "      <td>NaN</td>\n",
       "      <td>NaN</td>\n",
       "    </tr>\n",
       "    <tr>\n",
       "      <th>2003-06-30</th>\n",
       "      <td>0.000000</td>\n",
       "      <td>0.000000</td>\n",
       "      <td>0.000000</td>\n",
       "      <td>0.000000</td>\n",
       "      <td>0.000000</td>\n",
       "      <td>0.000000</td>\n",
       "      <td>0.084519</td>\n",
       "      <td>0.000000</td>\n",
       "    </tr>\n",
       "    <tr>\n",
       "      <th>2003-09-30</th>\n",
       "      <td>0.000000</td>\n",
       "      <td>0.000000</td>\n",
       "      <td>0.000000</td>\n",
       "      <td>0.000000</td>\n",
       "      <td>0.000000</td>\n",
       "      <td>0.000000</td>\n",
       "      <td>0.100677</td>\n",
       "      <td>0.000000</td>\n",
       "    </tr>\n",
       "    <tr>\n",
       "      <th>...</th>\n",
       "      <td>...</td>\n",
       "      <td>...</td>\n",
       "      <td>...</td>\n",
       "      <td>...</td>\n",
       "      <td>...</td>\n",
       "      <td>...</td>\n",
       "      <td>...</td>\n",
       "      <td>...</td>\n",
       "    </tr>\n",
       "    <tr>\n",
       "      <th>2022-06-30</th>\n",
       "      <td>0.022849</td>\n",
       "      <td>0.044078</td>\n",
       "      <td>0.045160</td>\n",
       "      <td>0.046739</td>\n",
       "      <td>0.034033</td>\n",
       "      <td>0.067073</td>\n",
       "      <td>0.016957</td>\n",
       "      <td>0.028544</td>\n",
       "    </tr>\n",
       "    <tr>\n",
       "      <th>2022-09-30</th>\n",
       "      <td>0.024158</td>\n",
       "      <td>0.046192</td>\n",
       "      <td>0.048436</td>\n",
       "      <td>0.047981</td>\n",
       "      <td>0.036943</td>\n",
       "      <td>0.073981</td>\n",
       "      <td>0.019040</td>\n",
       "      <td>0.033161</td>\n",
       "    </tr>\n",
       "    <tr>\n",
       "      <th>2022-12-31</th>\n",
       "      <td>0.025231</td>\n",
       "      <td>0.049726</td>\n",
       "      <td>0.052836</td>\n",
       "      <td>0.049837</td>\n",
       "      <td>0.042519</td>\n",
       "      <td>0.065614</td>\n",
       "      <td>0.023624</td>\n",
       "      <td>0.037820</td>\n",
       "    </tr>\n",
       "    <tr>\n",
       "      <th>2023-03-31</th>\n",
       "      <td>0.026588</td>\n",
       "      <td>0.050162</td>\n",
       "      <td>0.056067</td>\n",
       "      <td>0.054609</td>\n",
       "      <td>0.044470</td>\n",
       "      <td>0.059962</td>\n",
       "      <td>0.025897</td>\n",
       "      <td>0.041826</td>\n",
       "    </tr>\n",
       "    <tr>\n",
       "      <th>2023-06-30</th>\n",
       "      <td>0.025051</td>\n",
       "      <td>0.046253</td>\n",
       "      <td>0.052463</td>\n",
       "      <td>0.053740</td>\n",
       "      <td>0.041590</td>\n",
       "      <td>0.039029</td>\n",
       "      <td>0.025846</td>\n",
       "      <td>0.035353</td>\n",
       "    </tr>\n",
       "  </tbody>\n",
       "</table>\n",
       "<p>84 rows × 8 columns</p>\n",
       "</div>"
      ],
      "text/plain": [
       "                 BND       EMB       HYG       PFF      SPLB       TIP  \\\n",
       "Date                                                                     \n",
       "2002-09-30       NaN       NaN       NaN       NaN       NaN       NaN   \n",
       "2002-12-31       NaN       NaN       NaN       NaN       NaN       NaN   \n",
       "2003-03-31       NaN       NaN       NaN       NaN       NaN       NaN   \n",
       "2003-06-30  0.000000  0.000000  0.000000  0.000000  0.000000  0.000000   \n",
       "2003-09-30  0.000000  0.000000  0.000000  0.000000  0.000000  0.000000   \n",
       "...              ...       ...       ...       ...       ...       ...   \n",
       "2022-06-30  0.022849  0.044078  0.045160  0.046739  0.034033  0.067073   \n",
       "2022-09-30  0.024158  0.046192  0.048436  0.047981  0.036943  0.073981   \n",
       "2022-12-31  0.025231  0.049726  0.052836  0.049837  0.042519  0.065614   \n",
       "2023-03-31  0.026588  0.050162  0.056067  0.054609  0.044470  0.059962   \n",
       "2023-06-30  0.025051  0.046253  0.052463  0.053740  0.041590  0.039029   \n",
       "\n",
       "                 TLT       VNQ  \n",
       "Date                            \n",
       "2002-09-30       NaN       NaN  \n",
       "2002-12-31       NaN       NaN  \n",
       "2003-03-31       NaN       NaN  \n",
       "2003-06-30  0.084519  0.000000  \n",
       "2003-09-30  0.100677  0.000000  \n",
       "...              ...       ...  \n",
       "2022-06-30  0.016957  0.028544  \n",
       "2022-09-30  0.019040  0.033161  \n",
       "2022-12-31  0.023624  0.037820  \n",
       "2023-03-31  0.025897  0.041826  \n",
       "2023-06-30  0.025846  0.035353  \n",
       "\n",
       "[84 rows x 8 columns]"
      ]
     },
     "execution_count": 191,
     "metadata": {},
     "output_type": "execute_result"
    }
   ],
   "source": [
    "dvd_rate.resample('Q').sum().rolling(4).sum()"
   ]
  },
  {
   "cell_type": "code",
   "execution_count": null,
   "id": "e958b1d1",
   "metadata": {},
   "outputs": [],
   "source": [
    "for ticker in income_tickers:\n",
    "    ticker_data = yf.Ticker"
   ]
  },
  {
   "cell_type": "code",
   "execution_count": 111,
   "id": "f8994409",
   "metadata": {},
   "outputs": [],
   "source": [
    "dvd = hyg.dividends\n",
    "dvd.resample('Q').sum().rolling(4).sum()"
   ]
  },
  {
   "cell_type": "code",
   "execution_count": 112,
   "id": "371cba1e",
   "metadata": {},
   "outputs": [],
   "source": [
    "dvd.index = dvd.index.tz_localize(None)"
   ]
  },
  {
   "cell_type": "code",
   "execution_count": 113,
   "id": "af07496a",
   "metadata": {},
   "outputs": [],
   "source": [
    "idx = ohlc.index.searchsorted(dvd.index)\n",
    "# ohlc.iloc[idx]"
   ]
  },
  {
   "cell_type": "code",
   "execution_count": 114,
   "id": "a9dcb962",
   "metadata": {},
   "outputs": [
    {
     "data": {
      "text/plain": [
       "Date\n",
       "2007-05-01    105.610001\n",
       "2007-06-01    105.709999\n",
       "2007-07-02    101.809998\n",
       "2007-08-01     97.279999\n",
       "2007-09-04    101.669998\n",
       "                 ...    \n",
       "2022-12-15     75.680000\n",
       "2023-02-01     76.330002\n",
       "2023-03-01     74.529999\n",
       "2023-04-03     75.550003\n",
       "2023-05-01     75.360001\n",
       "Name: Close, Length: 192, dtype: float64"
      ]
     },
     "execution_count": 114,
     "metadata": {},
     "output_type": "execute_result"
    }
   ],
   "source": [
    "ohlc.shift(1).loc[dvd.index, 'Close']"
   ]
  },
  {
   "cell_type": "code",
   "execution_count": 120,
   "id": "1b6785f6",
   "metadata": {},
   "outputs": [
    {
     "data": {
      "application/vnd.plotly.v1+json": {
       "config": {
        "plotlyServerURL": "https://plot.ly"
       },
       "data": [
        {
         "hovertemplate": "variable=0<br>Date=%{x}<br>value=%{y}<extra></extra>",
         "legendgroup": "0",
         "line": {
          "color": "#636efa",
          "dash": "solid"
         },
         "marker": {
          "symbol": "circle"
         },
         "mode": "lines",
         "name": "0",
         "orientation": "v",
         "showlegend": true,
         "type": "scatter",
         "x": [
          "2007-06-30T00:00:00",
          "2007-09-30T00:00:00",
          "2007-12-31T00:00:00",
          "2008-03-31T00:00:00",
          "2008-06-30T00:00:00",
          "2008-09-30T00:00:00",
          "2008-12-31T00:00:00",
          "2009-03-31T00:00:00",
          "2009-06-30T00:00:00",
          "2009-09-30T00:00:00",
          "2009-12-31T00:00:00",
          "2010-03-31T00:00:00",
          "2010-06-30T00:00:00",
          "2010-09-30T00:00:00",
          "2010-12-31T00:00:00",
          "2011-03-31T00:00:00",
          "2011-06-30T00:00:00",
          "2011-09-30T00:00:00",
          "2011-12-31T00:00:00",
          "2012-03-31T00:00:00",
          "2012-06-30T00:00:00",
          "2012-09-30T00:00:00",
          "2012-12-31T00:00:00",
          "2013-03-31T00:00:00",
          "2013-06-30T00:00:00",
          "2013-09-30T00:00:00",
          "2013-12-31T00:00:00",
          "2014-03-31T00:00:00",
          "2014-06-30T00:00:00",
          "2014-09-30T00:00:00",
          "2014-12-31T00:00:00",
          "2015-03-31T00:00:00",
          "2015-06-30T00:00:00",
          "2015-09-30T00:00:00",
          "2015-12-31T00:00:00",
          "2016-03-31T00:00:00",
          "2016-06-30T00:00:00",
          "2016-09-30T00:00:00",
          "2016-12-31T00:00:00",
          "2017-03-31T00:00:00",
          "2017-06-30T00:00:00",
          "2017-09-30T00:00:00",
          "2017-12-31T00:00:00",
          "2018-03-31T00:00:00",
          "2018-06-30T00:00:00",
          "2018-09-30T00:00:00",
          "2018-12-31T00:00:00",
          "2019-03-31T00:00:00",
          "2019-06-30T00:00:00",
          "2019-09-30T00:00:00",
          "2019-12-31T00:00:00",
          "2020-03-31T00:00:00",
          "2020-06-30T00:00:00",
          "2020-09-30T00:00:00",
          "2020-12-31T00:00:00",
          "2021-03-31T00:00:00",
          "2021-06-30T00:00:00",
          "2021-09-30T00:00:00",
          "2021-12-31T00:00:00",
          "2022-03-31T00:00:00",
          "2022-06-30T00:00:00",
          "2022-09-30T00:00:00",
          "2022-12-31T00:00:00",
          "2023-03-31T00:00:00",
          "2023-06-30T00:00:00"
         ],
         "xaxis": "x",
         "y": [
          null,
          null,
          null,
          0.0645668927058485,
          0.07506573005053395,
          0.07723530436283961,
          0.08811115742512901,
          0.09570400377677876,
          0.10570954171496258,
          0.11104416676771084,
          0.10577354955496754,
          0.10017367071933131,
          0.09355584556176488,
          0.08879381341166034,
          0.08474162714679259,
          0.08231906110420659,
          0.07860981671650659,
          0.07616209069714355,
          0.07470046549268584,
          0.07343959893297546,
          0.07270833369664279,
          0.07057059256713252,
          0.061786368010795414,
          0.06107815654374145,
          0.058524121987749006,
          0.05724902625815744,
          0.06083298676342792,
          0.05995678665960652,
          0.05845863279863711,
          0.05663294073542273,
          0.05459347322150504,
          0.05308477297375271,
          0.052693859625660665,
          0.05250215771660237,
          0.0544605637140314,
          0.05630109492301705,
          0.05698361199381126,
          0.057043291688724976,
          0.05428137849891226,
          0.05284086146709907,
          0.05159507820076824,
          0.05072484869808806,
          0.05068825061357329,
          0.050114509347377115,
          0.05016545549601972,
          0.050620781881573956,
          0.0526436488211252,
          0.05351974080100598,
          0.05385064355033609,
          0.05372098779310844,
          0.050726244673039766,
          0.05029885242372246,
          0.05063748936267284,
          0.04993773367592116,
          0.050901597473846275,
          0.04951165309325617,
          0.04610622832562826,
          0.04356028442520743,
          0.04013314419929319,
          0.04019523586187708,
          0.04192699340760375,
          0.045534985593849955,
          0.0505212784732586,
          0.05411016555234688,
          0.05115855345645233
         ],
         "yaxis": "y"
        }
       ],
       "layout": {
        "legend": {
         "title": {
          "text": "variable"
         },
         "tracegroupgap": 0
        },
        "margin": {
         "t": 60
        },
        "template": {
         "data": {
          "bar": [
           {
            "error_x": {
             "color": "#2a3f5f"
            },
            "error_y": {
             "color": "#2a3f5f"
            },
            "marker": {
             "line": {
              "color": "#E5ECF6",
              "width": 0.5
             },
             "pattern": {
              "fillmode": "overlay",
              "size": 10,
              "solidity": 0.2
             }
            },
            "type": "bar"
           }
          ],
          "barpolar": [
           {
            "marker": {
             "line": {
              "color": "#E5ECF6",
              "width": 0.5
             },
             "pattern": {
              "fillmode": "overlay",
              "size": 10,
              "solidity": 0.2
             }
            },
            "type": "barpolar"
           }
          ],
          "carpet": [
           {
            "aaxis": {
             "endlinecolor": "#2a3f5f",
             "gridcolor": "white",
             "linecolor": "white",
             "minorgridcolor": "white",
             "startlinecolor": "#2a3f5f"
            },
            "baxis": {
             "endlinecolor": "#2a3f5f",
             "gridcolor": "white",
             "linecolor": "white",
             "minorgridcolor": "white",
             "startlinecolor": "#2a3f5f"
            },
            "type": "carpet"
           }
          ],
          "choropleth": [
           {
            "colorbar": {
             "outlinewidth": 0,
             "ticks": ""
            },
            "type": "choropleth"
           }
          ],
          "contour": [
           {
            "colorbar": {
             "outlinewidth": 0,
             "ticks": ""
            },
            "colorscale": [
             [
              0,
              "#0d0887"
             ],
             [
              0.1111111111111111,
              "#46039f"
             ],
             [
              0.2222222222222222,
              "#7201a8"
             ],
             [
              0.3333333333333333,
              "#9c179e"
             ],
             [
              0.4444444444444444,
              "#bd3786"
             ],
             [
              0.5555555555555556,
              "#d8576b"
             ],
             [
              0.6666666666666666,
              "#ed7953"
             ],
             [
              0.7777777777777778,
              "#fb9f3a"
             ],
             [
              0.8888888888888888,
              "#fdca26"
             ],
             [
              1,
              "#f0f921"
             ]
            ],
            "type": "contour"
           }
          ],
          "contourcarpet": [
           {
            "colorbar": {
             "outlinewidth": 0,
             "ticks": ""
            },
            "type": "contourcarpet"
           }
          ],
          "heatmap": [
           {
            "colorbar": {
             "outlinewidth": 0,
             "ticks": ""
            },
            "colorscale": [
             [
              0,
              "#0d0887"
             ],
             [
              0.1111111111111111,
              "#46039f"
             ],
             [
              0.2222222222222222,
              "#7201a8"
             ],
             [
              0.3333333333333333,
              "#9c179e"
             ],
             [
              0.4444444444444444,
              "#bd3786"
             ],
             [
              0.5555555555555556,
              "#d8576b"
             ],
             [
              0.6666666666666666,
              "#ed7953"
             ],
             [
              0.7777777777777778,
              "#fb9f3a"
             ],
             [
              0.8888888888888888,
              "#fdca26"
             ],
             [
              1,
              "#f0f921"
             ]
            ],
            "type": "heatmap"
           }
          ],
          "heatmapgl": [
           {
            "colorbar": {
             "outlinewidth": 0,
             "ticks": ""
            },
            "colorscale": [
             [
              0,
              "#0d0887"
             ],
             [
              0.1111111111111111,
              "#46039f"
             ],
             [
              0.2222222222222222,
              "#7201a8"
             ],
             [
              0.3333333333333333,
              "#9c179e"
             ],
             [
              0.4444444444444444,
              "#bd3786"
             ],
             [
              0.5555555555555556,
              "#d8576b"
             ],
             [
              0.6666666666666666,
              "#ed7953"
             ],
             [
              0.7777777777777778,
              "#fb9f3a"
             ],
             [
              0.8888888888888888,
              "#fdca26"
             ],
             [
              1,
              "#f0f921"
             ]
            ],
            "type": "heatmapgl"
           }
          ],
          "histogram": [
           {
            "marker": {
             "pattern": {
              "fillmode": "overlay",
              "size": 10,
              "solidity": 0.2
             }
            },
            "type": "histogram"
           }
          ],
          "histogram2d": [
           {
            "colorbar": {
             "outlinewidth": 0,
             "ticks": ""
            },
            "colorscale": [
             [
              0,
              "#0d0887"
             ],
             [
              0.1111111111111111,
              "#46039f"
             ],
             [
              0.2222222222222222,
              "#7201a8"
             ],
             [
              0.3333333333333333,
              "#9c179e"
             ],
             [
              0.4444444444444444,
              "#bd3786"
             ],
             [
              0.5555555555555556,
              "#d8576b"
             ],
             [
              0.6666666666666666,
              "#ed7953"
             ],
             [
              0.7777777777777778,
              "#fb9f3a"
             ],
             [
              0.8888888888888888,
              "#fdca26"
             ],
             [
              1,
              "#f0f921"
             ]
            ],
            "type": "histogram2d"
           }
          ],
          "histogram2dcontour": [
           {
            "colorbar": {
             "outlinewidth": 0,
             "ticks": ""
            },
            "colorscale": [
             [
              0,
              "#0d0887"
             ],
             [
              0.1111111111111111,
              "#46039f"
             ],
             [
              0.2222222222222222,
              "#7201a8"
             ],
             [
              0.3333333333333333,
              "#9c179e"
             ],
             [
              0.4444444444444444,
              "#bd3786"
             ],
             [
              0.5555555555555556,
              "#d8576b"
             ],
             [
              0.6666666666666666,
              "#ed7953"
             ],
             [
              0.7777777777777778,
              "#fb9f3a"
             ],
             [
              0.8888888888888888,
              "#fdca26"
             ],
             [
              1,
              "#f0f921"
             ]
            ],
            "type": "histogram2dcontour"
           }
          ],
          "mesh3d": [
           {
            "colorbar": {
             "outlinewidth": 0,
             "ticks": ""
            },
            "type": "mesh3d"
           }
          ],
          "parcoords": [
           {
            "line": {
             "colorbar": {
              "outlinewidth": 0,
              "ticks": ""
             }
            },
            "type": "parcoords"
           }
          ],
          "pie": [
           {
            "automargin": true,
            "type": "pie"
           }
          ],
          "scatter": [
           {
            "marker": {
             "colorbar": {
              "outlinewidth": 0,
              "ticks": ""
             }
            },
            "type": "scatter"
           }
          ],
          "scatter3d": [
           {
            "line": {
             "colorbar": {
              "outlinewidth": 0,
              "ticks": ""
             }
            },
            "marker": {
             "colorbar": {
              "outlinewidth": 0,
              "ticks": ""
             }
            },
            "type": "scatter3d"
           }
          ],
          "scattercarpet": [
           {
            "marker": {
             "colorbar": {
              "outlinewidth": 0,
              "ticks": ""
             }
            },
            "type": "scattercarpet"
           }
          ],
          "scattergeo": [
           {
            "marker": {
             "colorbar": {
              "outlinewidth": 0,
              "ticks": ""
             }
            },
            "type": "scattergeo"
           }
          ],
          "scattergl": [
           {
            "marker": {
             "colorbar": {
              "outlinewidth": 0,
              "ticks": ""
             }
            },
            "type": "scattergl"
           }
          ],
          "scattermapbox": [
           {
            "marker": {
             "colorbar": {
              "outlinewidth": 0,
              "ticks": ""
             }
            },
            "type": "scattermapbox"
           }
          ],
          "scatterpolar": [
           {
            "marker": {
             "colorbar": {
              "outlinewidth": 0,
              "ticks": ""
             }
            },
            "type": "scatterpolar"
           }
          ],
          "scatterpolargl": [
           {
            "marker": {
             "colorbar": {
              "outlinewidth": 0,
              "ticks": ""
             }
            },
            "type": "scatterpolargl"
           }
          ],
          "scatterternary": [
           {
            "marker": {
             "colorbar": {
              "outlinewidth": 0,
              "ticks": ""
             }
            },
            "type": "scatterternary"
           }
          ],
          "surface": [
           {
            "colorbar": {
             "outlinewidth": 0,
             "ticks": ""
            },
            "colorscale": [
             [
              0,
              "#0d0887"
             ],
             [
              0.1111111111111111,
              "#46039f"
             ],
             [
              0.2222222222222222,
              "#7201a8"
             ],
             [
              0.3333333333333333,
              "#9c179e"
             ],
             [
              0.4444444444444444,
              "#bd3786"
             ],
             [
              0.5555555555555556,
              "#d8576b"
             ],
             [
              0.6666666666666666,
              "#ed7953"
             ],
             [
              0.7777777777777778,
              "#fb9f3a"
             ],
             [
              0.8888888888888888,
              "#fdca26"
             ],
             [
              1,
              "#f0f921"
             ]
            ],
            "type": "surface"
           }
          ],
          "table": [
           {
            "cells": {
             "fill": {
              "color": "#EBF0F8"
             },
             "line": {
              "color": "white"
             }
            },
            "header": {
             "fill": {
              "color": "#C8D4E3"
             },
             "line": {
              "color": "white"
             }
            },
            "type": "table"
           }
          ]
         },
         "layout": {
          "annotationdefaults": {
           "arrowcolor": "#2a3f5f",
           "arrowhead": 0,
           "arrowwidth": 1
          },
          "autotypenumbers": "strict",
          "coloraxis": {
           "colorbar": {
            "outlinewidth": 0,
            "ticks": ""
           }
          },
          "colorscale": {
           "diverging": [
            [
             0,
             "#8e0152"
            ],
            [
             0.1,
             "#c51b7d"
            ],
            [
             0.2,
             "#de77ae"
            ],
            [
             0.3,
             "#f1b6da"
            ],
            [
             0.4,
             "#fde0ef"
            ],
            [
             0.5,
             "#f7f7f7"
            ],
            [
             0.6,
             "#e6f5d0"
            ],
            [
             0.7,
             "#b8e186"
            ],
            [
             0.8,
             "#7fbc41"
            ],
            [
             0.9,
             "#4d9221"
            ],
            [
             1,
             "#276419"
            ]
           ],
           "sequential": [
            [
             0,
             "#0d0887"
            ],
            [
             0.1111111111111111,
             "#46039f"
            ],
            [
             0.2222222222222222,
             "#7201a8"
            ],
            [
             0.3333333333333333,
             "#9c179e"
            ],
            [
             0.4444444444444444,
             "#bd3786"
            ],
            [
             0.5555555555555556,
             "#d8576b"
            ],
            [
             0.6666666666666666,
             "#ed7953"
            ],
            [
             0.7777777777777778,
             "#fb9f3a"
            ],
            [
             0.8888888888888888,
             "#fdca26"
            ],
            [
             1,
             "#f0f921"
            ]
           ],
           "sequentialminus": [
            [
             0,
             "#0d0887"
            ],
            [
             0.1111111111111111,
             "#46039f"
            ],
            [
             0.2222222222222222,
             "#7201a8"
            ],
            [
             0.3333333333333333,
             "#9c179e"
            ],
            [
             0.4444444444444444,
             "#bd3786"
            ],
            [
             0.5555555555555556,
             "#d8576b"
            ],
            [
             0.6666666666666666,
             "#ed7953"
            ],
            [
             0.7777777777777778,
             "#fb9f3a"
            ],
            [
             0.8888888888888888,
             "#fdca26"
            ],
            [
             1,
             "#f0f921"
            ]
           ]
          },
          "colorway": [
           "#636efa",
           "#EF553B",
           "#00cc96",
           "#ab63fa",
           "#FFA15A",
           "#19d3f3",
           "#FF6692",
           "#B6E880",
           "#FF97FF",
           "#FECB52"
          ],
          "font": {
           "color": "#2a3f5f"
          },
          "geo": {
           "bgcolor": "white",
           "lakecolor": "white",
           "landcolor": "#E5ECF6",
           "showlakes": true,
           "showland": true,
           "subunitcolor": "white"
          },
          "hoverlabel": {
           "align": "left"
          },
          "hovermode": "closest",
          "mapbox": {
           "style": "light"
          },
          "paper_bgcolor": "white",
          "plot_bgcolor": "#E5ECF6",
          "polar": {
           "angularaxis": {
            "gridcolor": "white",
            "linecolor": "white",
            "ticks": ""
           },
           "bgcolor": "#E5ECF6",
           "radialaxis": {
            "gridcolor": "white",
            "linecolor": "white",
            "ticks": ""
           }
          },
          "scene": {
           "xaxis": {
            "backgroundcolor": "#E5ECF6",
            "gridcolor": "white",
            "gridwidth": 2,
            "linecolor": "white",
            "showbackground": true,
            "ticks": "",
            "zerolinecolor": "white"
           },
           "yaxis": {
            "backgroundcolor": "#E5ECF6",
            "gridcolor": "white",
            "gridwidth": 2,
            "linecolor": "white",
            "showbackground": true,
            "ticks": "",
            "zerolinecolor": "white"
           },
           "zaxis": {
            "backgroundcolor": "#E5ECF6",
            "gridcolor": "white",
            "gridwidth": 2,
            "linecolor": "white",
            "showbackground": true,
            "ticks": "",
            "zerolinecolor": "white"
           }
          },
          "shapedefaults": {
           "line": {
            "color": "#2a3f5f"
           }
          },
          "ternary": {
           "aaxis": {
            "gridcolor": "white",
            "linecolor": "white",
            "ticks": ""
           },
           "baxis": {
            "gridcolor": "white",
            "linecolor": "white",
            "ticks": ""
           },
           "bgcolor": "#E5ECF6",
           "caxis": {
            "gridcolor": "white",
            "linecolor": "white",
            "ticks": ""
           }
          },
          "title": {
           "x": 0.05
          },
          "xaxis": {
           "automargin": true,
           "gridcolor": "white",
           "linecolor": "white",
           "ticks": "",
           "title": {
            "standoff": 15
           },
           "zerolinecolor": "white",
           "zerolinewidth": 2
          },
          "yaxis": {
           "automargin": true,
           "gridcolor": "white",
           "linecolor": "white",
           "ticks": "",
           "title": {
            "standoff": 15
           },
           "zerolinecolor": "white",
           "zerolinewidth": 2
          }
         }
        },
        "xaxis": {
         "anchor": "y",
         "domain": [
          0,
          1
         ],
         "title": {
          "text": "Date"
         }
        },
        "yaxis": {
         "anchor": "x",
         "domain": [
          0,
          1
         ],
         "title": {
          "text": "value"
         }
        }
       }
      }
     },
     "metadata": {},
     "output_type": "display_data"
    }
   ],
   "source": [
    "px.line((dvd / ohlc.shift(1).loc[dvd.index, 'Close']).resample('Q').sum().rolling(4).sum())"
   ]
  },
  {
   "cell_type": "code",
   "execution_count": 124,
   "id": "683c773c",
   "metadata": {},
   "outputs": [],
   "source": [
    "yearly_dvd = dvd.resample('Y').sum()"
   ]
  },
  {
   "cell_type": "code",
   "execution_count": 129,
   "id": "f408db41",
   "metadata": {},
   "outputs": [],
   "source": [
    "yearly_dvd = yearly_dvd.shift(-1).dropna()"
   ]
  },
  {
   "cell_type": "code",
   "execution_count": 140,
   "id": "3988d483",
   "metadata": {},
   "outputs": [],
   "source": [
    "idx = ohlc.index.searchsorted(yearly_dvd.index, side='right')"
   ]
  },
  {
   "cell_type": "code",
   "execution_count": 144,
   "id": "04e3dcec",
   "metadata": {},
   "outputs": [],
   "source": [
    "target_close = ohlc.iloc[idx - 1]['Close']"
   ]
  },
  {
   "cell_type": "code",
   "execution_count": 147,
   "id": "6c589ec3",
   "metadata": {},
   "outputs": [
    {
     "data": {
      "text/plain": [
       "array([ 0,  1,  2,  3,  4,  5,  6,  7,  8,  9, 10, 11, 12, 13, 14, 15])"
      ]
     },
     "execution_count": 147,
     "metadata": {},
     "output_type": "execute_result"
    }
   ],
   "source": [
    "yearly_dvd.index.searchsorted(target_close.index)"
   ]
  },
  {
   "cell_type": "code",
   "execution_count": 149,
   "id": "13be443a",
   "metadata": {},
   "outputs": [
    {
     "data": {
      "text/plain": [
       "Date\n",
       "2007-12-31    0.076052\n",
       "2008-12-31    0.109604\n",
       "2009-12-31    0.084813\n",
       "2010-12-31    0.074438\n",
       "2011-12-31    0.063178\n",
       "2012-12-31    0.060686\n",
       "2013-12-31    0.054866\n",
       "2014-12-31    0.053080\n",
       "2015-12-31    0.056627\n",
       "2016-12-31    0.051646\n",
       "2017-12-31    0.051490\n",
       "2018-12-31    0.054155\n",
       "2019-12-31    0.048465\n",
       "2020-12-31    0.040069\n",
       "2021-12-31    0.044857\n",
       "2022-12-31    0.020182\n",
       "Freq: A-DEC, dtype: float64"
      ]
     },
     "execution_count": 149,
     "metadata": {},
     "output_type": "execute_result"
    }
   ],
   "source": [
    "pd.Series(yearly_dvd.values / ohlc.iloc[idx - 1]['Close'].values, index=yearly_dvd.index)"
   ]
  },
  {
   "cell_type": "code",
   "execution_count": 125,
   "id": "18b6c9e3",
   "metadata": {},
   "outputs": [
    {
     "data": {
      "text/html": [
       "<div>\n",
       "<style scoped>\n",
       "    .dataframe tbody tr th:only-of-type {\n",
       "        vertical-align: middle;\n",
       "    }\n",
       "\n",
       "    .dataframe tbody tr th {\n",
       "        vertical-align: top;\n",
       "    }\n",
       "\n",
       "    .dataframe thead th {\n",
       "        text-align: right;\n",
       "    }\n",
       "</style>\n",
       "<table border=\"1\" class=\"dataframe\">\n",
       "  <thead>\n",
       "    <tr style=\"text-align: right;\">\n",
       "      <th></th>\n",
       "      <th>Open</th>\n",
       "      <th>High</th>\n",
       "      <th>Low</th>\n",
       "      <th>Close</th>\n",
       "      <th>Adj Close</th>\n",
       "      <th>Volume</th>\n",
       "    </tr>\n",
       "    <tr>\n",
       "      <th>Date</th>\n",
       "      <th></th>\n",
       "      <th></th>\n",
       "      <th></th>\n",
       "      <th></th>\n",
       "      <th></th>\n",
       "      <th></th>\n",
       "    </tr>\n",
       "  </thead>\n",
       "  <tbody>\n",
       "    <tr>\n",
       "      <th>2007-04-11</th>\n",
       "      <td>104.349998</td>\n",
       "      <td>104.389999</td>\n",
       "      <td>104.349998</td>\n",
       "      <td>104.349998</td>\n",
       "      <td>38.046440</td>\n",
       "      <td>1900</td>\n",
       "    </tr>\n",
       "    <tr>\n",
       "      <th>2007-04-12</th>\n",
       "      <td>104.419998</td>\n",
       "      <td>104.419998</td>\n",
       "      <td>104.349998</td>\n",
       "      <td>104.419998</td>\n",
       "      <td>38.071983</td>\n",
       "      <td>6100</td>\n",
       "    </tr>\n",
       "    <tr>\n",
       "      <th>2007-04-13</th>\n",
       "      <td>104.389999</td>\n",
       "      <td>104.489998</td>\n",
       "      <td>104.230003</td>\n",
       "      <td>104.230003</td>\n",
       "      <td>38.002689</td>\n",
       "      <td>3400</td>\n",
       "    </tr>\n",
       "    <tr>\n",
       "      <th>2007-04-16</th>\n",
       "      <td>104.269997</td>\n",
       "      <td>104.269997</td>\n",
       "      <td>104.150002</td>\n",
       "      <td>104.190002</td>\n",
       "      <td>37.988136</td>\n",
       "      <td>7600</td>\n",
       "    </tr>\n",
       "    <tr>\n",
       "      <th>2007-04-17</th>\n",
       "      <td>104.150002</td>\n",
       "      <td>104.400002</td>\n",
       "      <td>104.139999</td>\n",
       "      <td>104.139999</td>\n",
       "      <td>37.969894</td>\n",
       "      <td>28100</td>\n",
       "    </tr>\n",
       "    <tr>\n",
       "      <th>...</th>\n",
       "      <td>...</td>\n",
       "      <td>...</td>\n",
       "      <td>...</td>\n",
       "      <td>...</td>\n",
       "      <td>...</td>\n",
       "      <td>...</td>\n",
       "    </tr>\n",
       "    <tr>\n",
       "      <th>2023-05-04</th>\n",
       "      <td>74.379997</td>\n",
       "      <td>74.410004</td>\n",
       "      <td>74.089996</td>\n",
       "      <td>74.360001</td>\n",
       "      <td>74.360001</td>\n",
       "      <td>45207600</td>\n",
       "    </tr>\n",
       "    <tr>\n",
       "      <th>2023-05-05</th>\n",
       "      <td>74.580002</td>\n",
       "      <td>74.860001</td>\n",
       "      <td>74.480003</td>\n",
       "      <td>74.760002</td>\n",
       "      <td>74.760002</td>\n",
       "      <td>31591500</td>\n",
       "    </tr>\n",
       "    <tr>\n",
       "      <th>2023-05-08</th>\n",
       "      <td>74.699997</td>\n",
       "      <td>74.699997</td>\n",
       "      <td>74.379997</td>\n",
       "      <td>74.550003</td>\n",
       "      <td>74.550003</td>\n",
       "      <td>18367400</td>\n",
       "    </tr>\n",
       "    <tr>\n",
       "      <th>2023-05-09</th>\n",
       "      <td>74.349998</td>\n",
       "      <td>74.480003</td>\n",
       "      <td>74.269997</td>\n",
       "      <td>74.360001</td>\n",
       "      <td>74.360001</td>\n",
       "      <td>21732900</td>\n",
       "    </tr>\n",
       "    <tr>\n",
       "      <th>2023-05-10</th>\n",
       "      <td>74.769997</td>\n",
       "      <td>74.919998</td>\n",
       "      <td>74.529999</td>\n",
       "      <td>74.809998</td>\n",
       "      <td>74.809998</td>\n",
       "      <td>35392700</td>\n",
       "    </tr>\n",
       "  </tbody>\n",
       "</table>\n",
       "<p>4050 rows × 6 columns</p>\n",
       "</div>"
      ],
      "text/plain": [
       "                  Open        High         Low       Close  Adj Close  \\\n",
       "Date                                                                    \n",
       "2007-04-11  104.349998  104.389999  104.349998  104.349998  38.046440   \n",
       "2007-04-12  104.419998  104.419998  104.349998  104.419998  38.071983   \n",
       "2007-04-13  104.389999  104.489998  104.230003  104.230003  38.002689   \n",
       "2007-04-16  104.269997  104.269997  104.150002  104.190002  37.988136   \n",
       "2007-04-17  104.150002  104.400002  104.139999  104.139999  37.969894   \n",
       "...                ...         ...         ...         ...        ...   \n",
       "2023-05-04   74.379997   74.410004   74.089996   74.360001  74.360001   \n",
       "2023-05-05   74.580002   74.860001   74.480003   74.760002  74.760002   \n",
       "2023-05-08   74.699997   74.699997   74.379997   74.550003  74.550003   \n",
       "2023-05-09   74.349998   74.480003   74.269997   74.360001  74.360001   \n",
       "2023-05-10   74.769997   74.919998   74.529999   74.809998  74.809998   \n",
       "\n",
       "              Volume  \n",
       "Date                  \n",
       "2007-04-11      1900  \n",
       "2007-04-12      6100  \n",
       "2007-04-13      3400  \n",
       "2007-04-16      7600  \n",
       "2007-04-17     28100  \n",
       "...              ...  \n",
       "2023-05-04  45207600  \n",
       "2023-05-05  31591500  \n",
       "2023-05-08  18367400  \n",
       "2023-05-09  21732900  \n",
       "2023-05-10  35392700  \n",
       "\n",
       "[4050 rows x 6 columns]"
      ]
     },
     "execution_count": 125,
     "metadata": {},
     "output_type": "execute_result"
    }
   ],
   "source": [
    "ohlc"
   ]
  },
  {
   "cell_type": "code",
   "execution_count": null,
   "id": "63d8b0f3",
   "metadata": {},
   "outputs": [],
   "source": []
  },
  {
   "cell_type": "code",
   "execution_count": 84,
   "id": "467928fe",
   "metadata": {},
   "outputs": [
    {
     "data": {
      "text/plain": [
       "0.055143996974932455"
      ]
     },
     "execution_count": 84,
     "metadata": {},
     "output_type": "execute_result"
    }
   ],
   "source": [
    "(dvd / ohlc.loc[dvd.index, 'Close']).tail(12).sum()"
   ]
  },
  {
   "cell_type": "code",
   "execution_count": 96,
   "id": "b4d28982",
   "metadata": {},
   "outputs": [
    {
     "data": {
      "text/plain": [
       "0.055078367913159426"
      ]
     },
     "execution_count": 96,
     "metadata": {},
     "output_type": "execute_result"
    }
   ],
   "source": [
    "(outer_dvd.dvd.head(12).values / ohlc.shift(1).loc[dvd.index, 'Close'].sort_index(ascending=False).head(12).T.values).sum()"
   ]
  },
  {
   "cell_type": "code",
   "execution_count": 91,
   "metadata": {},
   "outputs": [
    {
     "data": {
      "text/plain": [
       "array([74.69000244, 75.15000153, 73.87000275, 76.76000214, 75.        ,\n",
       "       75.62000275, 73.58999634, 71.97000122, 74.36000061, 77.91000366,\n",
       "       73.98000336, 78.90000153])"
      ]
     },
     "execution_count": 91,
     "metadata": {},
     "output_type": "execute_result"
    }
   ],
   "source": [
    "ohlc.loc[dvd.index, 'Close'].sort_index(ascending=False).head(12).T.values"
   ]
  },
  {
   "cell_type": "code",
   "execution_count": 35,
   "id": "6fadc3b2",
   "metadata": {},
   "outputs": [],
   "source": [
    "outer_dvd = pd.read_csv('hyg_dvd.csv')"
   ]
  },
  {
   "cell_type": "code",
   "execution_count": 101,
   "id": "cad29e09",
   "metadata": {},
   "outputs": [
    {
     "data": {
      "text/plain": [
       "Date\n",
       "2022-06-01    0.307\n",
       "2022-07-01    0.329\n",
       "2022-08-01    0.304\n",
       "2022-09-01    0.366\n",
       "2022-10-03    0.351\n",
       "2022-11-01    0.280\n",
       "2022-12-01    0.319\n",
       "2022-12-15    0.396\n",
       "2023-02-01    0.368\n",
       "2023-03-01    0.450\n",
       "2023-04-03    0.342\n",
       "2023-05-01    0.326\n",
       "Name: Dividends, dtype: float64"
      ]
     },
     "execution_count": 101,
     "metadata": {},
     "output_type": "execute_result"
    }
   ],
   "source": [
    "dvd.tail(12)"
   ]
  },
  {
   "cell_type": "code",
   "execution_count": 98,
   "id": "1bad8c91",
   "metadata": {},
   "outputs": [
    {
     "data": {
      "text/html": [
       "<div>\n",
       "<style scoped>\n",
       "    .dataframe tbody tr th:only-of-type {\n",
       "        vertical-align: middle;\n",
       "    }\n",
       "\n",
       "    .dataframe tbody tr th {\n",
       "        vertical-align: top;\n",
       "    }\n",
       "\n",
       "    .dataframe thead th {\n",
       "        text-align: right;\n",
       "    }\n",
       "</style>\n",
       "<table border=\"1\" class=\"dataframe\">\n",
       "  <thead>\n",
       "    <tr style=\"text-align: right;\">\n",
       "      <th></th>\n",
       "      <th>dvd</th>\n",
       "    </tr>\n",
       "    <tr>\n",
       "      <th>date</th>\n",
       "      <th></th>\n",
       "    </tr>\n",
       "  </thead>\n",
       "  <tbody>\n",
       "    <tr>\n",
       "      <th>May 1, 2023</th>\n",
       "      <td>0.33000</td>\n",
       "    </tr>\n",
       "    <tr>\n",
       "      <th>Apr 3, 2023</th>\n",
       "      <td>0.67172</td>\n",
       "    </tr>\n",
       "    <tr>\n",
       "      <th>Mar 1, 2023</th>\n",
       "      <td>1.12135</td>\n",
       "    </tr>\n",
       "    <tr>\n",
       "      <th>Feb 1, 2023</th>\n",
       "      <td>1.48984</td>\n",
       "    </tr>\n",
       "    <tr>\n",
       "      <th>Dec 15, 2022</th>\n",
       "      <td>1.88617</td>\n",
       "    </tr>\n",
       "    <tr>\n",
       "      <th>Dec 1, 2022</th>\n",
       "      <td>2.20540</td>\n",
       "    </tr>\n",
       "    <tr>\n",
       "      <th>Nov 1, 2022</th>\n",
       "      <td>2.48539</td>\n",
       "    </tr>\n",
       "    <tr>\n",
       "      <th>Oct 3, 2022</th>\n",
       "      <td>2.83642</td>\n",
       "    </tr>\n",
       "    <tr>\n",
       "      <th>Sep 1, 2022</th>\n",
       "      <td>3.20245</td>\n",
       "    </tr>\n",
       "    <tr>\n",
       "      <th>Aug 1, 2022</th>\n",
       "      <td>3.50628</td>\n",
       "    </tr>\n",
       "    <tr>\n",
       "      <th>Jul 1, 2022</th>\n",
       "      <td>3.83546</td>\n",
       "    </tr>\n",
       "    <tr>\n",
       "      <th>Jun 1, 2022</th>\n",
       "      <td>4.14238</td>\n",
       "    </tr>\n",
       "    <tr>\n",
       "      <th>May 2, 2022</th>\n",
       "      <td>4.44741</td>\n",
       "    </tr>\n",
       "    <tr>\n",
       "      <th>Apr 1, 2022</th>\n",
       "      <td>4.78097</td>\n",
       "    </tr>\n",
       "    <tr>\n",
       "      <th>Mar 1, 2022</th>\n",
       "      <td>5.08844</td>\n",
       "    </tr>\n",
       "    <tr>\n",
       "      <th>Feb 1, 2022</th>\n",
       "      <td>5.39382</td>\n",
       "    </tr>\n",
       "    <tr>\n",
       "      <th>Dec 16, 2021</th>\n",
       "      <td>5.69005</td>\n",
       "    </tr>\n",
       "    <tr>\n",
       "      <th>Dec 1, 2021</th>\n",
       "      <td>5.97156</td>\n",
       "    </tr>\n",
       "    <tr>\n",
       "      <th>Nov 1, 2021</th>\n",
       "      <td>6.24866</td>\n",
       "    </tr>\n",
       "    <tr>\n",
       "      <th>Oct 1, 2021</th>\n",
       "      <td>6.53811</td>\n",
       "    </tr>\n",
       "  </tbody>\n",
       "</table>\n",
       "</div>"
      ],
      "text/plain": [
       "                  dvd\n",
       "date                 \n",
       "May 1, 2023   0.33000\n",
       "Apr 3, 2023   0.67172\n",
       "Mar 1, 2023   1.12135\n",
       "Feb 1, 2023   1.48984\n",
       "Dec 15, 2022  1.88617\n",
       "Dec 1, 2022   2.20540\n",
       "Nov 1, 2022   2.48539\n",
       "Oct 3, 2022   2.83642\n",
       "Sep 1, 2022   3.20245\n",
       "Aug 1, 2022   3.50628\n",
       "Jul 1, 2022   3.83546\n",
       "Jun 1, 2022   4.14238\n",
       "May 2, 2022   4.44741\n",
       "Apr 1, 2022   4.78097\n",
       "Mar 1, 2022   5.08844\n",
       "Feb 1, 2022   5.39382\n",
       "Dec 16, 2021  5.69005\n",
       "Dec 1, 2021   5.97156\n",
       "Nov 1, 2021   6.24866\n",
       "Oct 1, 2021   6.53811"
      ]
     },
     "execution_count": 98,
     "metadata": {},
     "output_type": "execute_result"
    }
   ],
   "source": [
    "outer_dvd.cumsum().head(20)"
   ]
  },
  {
   "cell_type": "code",
   "execution_count": 36,
   "id": "e2a676a4",
   "metadata": {},
   "outputs": [],
   "source": [
    "outer_dvd = outer_dvd.iloc[:, 1:3]\n",
    "outer_dvd.columns = ['date', 'dvd']\n",
    "outer_dvd['dvd'] = outer_dvd['dvd'].apply(lambda x: float(x[1:]))"
   ]
  },
  {
   "cell_type": "code",
   "execution_count": 39,
   "id": "d0695f9f",
   "metadata": {},
   "outputs": [],
   "source": [
    "outer_dvd.set_index('date', inplace=True)"
   ]
  },
  {
   "cell_type": "code",
   "execution_count": 40,
   "id": "258b7e7a",
   "metadata": {},
   "outputs": [
    {
     "data": {
      "text/html": [
       "<div>\n",
       "<style scoped>\n",
       "    .dataframe tbody tr th:only-of-type {\n",
       "        vertical-align: middle;\n",
       "    }\n",
       "\n",
       "    .dataframe tbody tr th {\n",
       "        vertical-align: top;\n",
       "    }\n",
       "\n",
       "    .dataframe thead th {\n",
       "        text-align: right;\n",
       "    }\n",
       "</style>\n",
       "<table border=\"1\" class=\"dataframe\">\n",
       "  <thead>\n",
       "    <tr style=\"text-align: right;\">\n",
       "      <th></th>\n",
       "      <th>dvd</th>\n",
       "    </tr>\n",
       "    <tr>\n",
       "      <th>date</th>\n",
       "      <th></th>\n",
       "    </tr>\n",
       "  </thead>\n",
       "  <tbody>\n",
       "    <tr>\n",
       "      <th>May 1, 2023</th>\n",
       "      <td>0.33000</td>\n",
       "    </tr>\n",
       "    <tr>\n",
       "      <th>Apr 3, 2023</th>\n",
       "      <td>0.67172</td>\n",
       "    </tr>\n",
       "    <tr>\n",
       "      <th>Mar 1, 2023</th>\n",
       "      <td>1.12135</td>\n",
       "    </tr>\n",
       "    <tr>\n",
       "      <th>Feb 1, 2023</th>\n",
       "      <td>1.48984</td>\n",
       "    </tr>\n",
       "    <tr>\n",
       "      <th>Dec 15, 2022</th>\n",
       "      <td>1.88617</td>\n",
       "    </tr>\n",
       "    <tr>\n",
       "      <th>Dec 1, 2022</th>\n",
       "      <td>2.20540</td>\n",
       "    </tr>\n",
       "    <tr>\n",
       "      <th>Nov 1, 2022</th>\n",
       "      <td>2.48539</td>\n",
       "    </tr>\n",
       "    <tr>\n",
       "      <th>Oct 3, 2022</th>\n",
       "      <td>2.83642</td>\n",
       "    </tr>\n",
       "    <tr>\n",
       "      <th>Sep 1, 2022</th>\n",
       "      <td>3.20245</td>\n",
       "    </tr>\n",
       "    <tr>\n",
       "      <th>Aug 1, 2022</th>\n",
       "      <td>3.50628</td>\n",
       "    </tr>\n",
       "    <tr>\n",
       "      <th>Jul 1, 2022</th>\n",
       "      <td>3.83546</td>\n",
       "    </tr>\n",
       "    <tr>\n",
       "      <th>Jun 1, 2022</th>\n",
       "      <td>4.14238</td>\n",
       "    </tr>\n",
       "    <tr>\n",
       "      <th>May 2, 2022</th>\n",
       "      <td>4.44741</td>\n",
       "    </tr>\n",
       "    <tr>\n",
       "      <th>Apr 1, 2022</th>\n",
       "      <td>4.78097</td>\n",
       "    </tr>\n",
       "    <tr>\n",
       "      <th>Mar 1, 2022</th>\n",
       "      <td>5.08844</td>\n",
       "    </tr>\n",
       "    <tr>\n",
       "      <th>Feb 1, 2022</th>\n",
       "      <td>5.39382</td>\n",
       "    </tr>\n",
       "    <tr>\n",
       "      <th>Dec 16, 2021</th>\n",
       "      <td>5.69005</td>\n",
       "    </tr>\n",
       "    <tr>\n",
       "      <th>Dec 1, 2021</th>\n",
       "      <td>5.97156</td>\n",
       "    </tr>\n",
       "    <tr>\n",
       "      <th>Nov 1, 2021</th>\n",
       "      <td>6.24866</td>\n",
       "    </tr>\n",
       "    <tr>\n",
       "      <th>Oct 1, 2021</th>\n",
       "      <td>6.53811</td>\n",
       "    </tr>\n",
       "    <tr>\n",
       "      <th>Sep 1, 2021</th>\n",
       "      <td>6.81319</td>\n",
       "    </tr>\n",
       "    <tr>\n",
       "      <th>Aug 2, 2021</th>\n",
       "      <td>7.09607</td>\n",
       "    </tr>\n",
       "    <tr>\n",
       "      <th>Jul 1, 2021</th>\n",
       "      <td>7.38759</td>\n",
       "    </tr>\n",
       "    <tr>\n",
       "      <th>Jun 1, 2021</th>\n",
       "      <td>7.67852</td>\n",
       "    </tr>\n",
       "    <tr>\n",
       "      <th>May 3, 2021</th>\n",
       "      <td>7.97246</td>\n",
       "    </tr>\n",
       "    <tr>\n",
       "      <th>Apr 1, 2021</th>\n",
       "      <td>8.26601</td>\n",
       "    </tr>\n",
       "    <tr>\n",
       "      <th>Mar 1, 2021</th>\n",
       "      <td>8.57285</td>\n",
       "    </tr>\n",
       "    <tr>\n",
       "      <th>Feb 1, 2021</th>\n",
       "      <td>8.89109</td>\n",
       "    </tr>\n",
       "    <tr>\n",
       "      <th>Dec 17, 2020</th>\n",
       "      <td>9.25024</td>\n",
       "    </tr>\n",
       "    <tr>\n",
       "      <th>Dec 1, 2020</th>\n",
       "      <td>9.59165</td>\n",
       "    </tr>\n",
       "    <tr>\n",
       "      <th>Nov 2, 2020</th>\n",
       "      <td>9.95067</td>\n",
       "    </tr>\n",
       "    <tr>\n",
       "      <th>Oct 1, 2020</th>\n",
       "      <td>10.30807</td>\n",
       "    </tr>\n",
       "    <tr>\n",
       "      <th>Sep 1, 2020</th>\n",
       "      <td>10.64876</td>\n",
       "    </tr>\n",
       "    <tr>\n",
       "      <th>Aug 3, 2020</th>\n",
       "      <td>10.98930</td>\n",
       "    </tr>\n",
       "    <tr>\n",
       "      <th>Jul 1, 2020</th>\n",
       "      <td>11.33273</td>\n",
       "    </tr>\n",
       "    <tr>\n",
       "      <th>Jun 1, 2020</th>\n",
       "      <td>11.65330</td>\n",
       "    </tr>\n",
       "    <tr>\n",
       "      <th>May 1, 2020</th>\n",
       "      <td>12.02214</td>\n",
       "    </tr>\n",
       "    <tr>\n",
       "      <th>Apr 1, 2020</th>\n",
       "      <td>12.40751</td>\n",
       "    </tr>\n",
       "    <tr>\n",
       "      <th>Mar 2, 2020</th>\n",
       "      <td>12.78749</td>\n",
       "    </tr>\n",
       "    <tr>\n",
       "      <th>Feb 3, 2020</th>\n",
       "      <td>13.15332</td>\n",
       "    </tr>\n",
       "    <tr>\n",
       "      <th>Dec 19, 2019</th>\n",
       "      <td>13.46754</td>\n",
       "    </tr>\n",
       "    <tr>\n",
       "      <th>Dec 2, 2019</th>\n",
       "      <td>13.80831</td>\n",
       "    </tr>\n",
       "    <tr>\n",
       "      <th>Nov 1, 2019</th>\n",
       "      <td>14.16949</td>\n",
       "    </tr>\n",
       "    <tr>\n",
       "      <th>Oct 1, 2019</th>\n",
       "      <td>14.51951</td>\n",
       "    </tr>\n",
       "    <tr>\n",
       "      <th>Sep 3, 2019</th>\n",
       "      <td>14.89050</td>\n",
       "    </tr>\n",
       "    <tr>\n",
       "      <th>Aug 1, 2019</th>\n",
       "      <td>15.25769</td>\n",
       "    </tr>\n",
       "    <tr>\n",
       "      <th>Jul 1, 2019</th>\n",
       "      <td>15.64352</td>\n",
       "    </tr>\n",
       "    <tr>\n",
       "      <th>Jun 3, 2019</th>\n",
       "      <td>16.02944</td>\n",
       "    </tr>\n",
       "    <tr>\n",
       "      <th>May 1, 2019</th>\n",
       "      <td>16.39582</td>\n",
       "    </tr>\n",
       "    <tr>\n",
       "      <th>Apr 1, 2019</th>\n",
       "      <td>16.77453</td>\n",
       "    </tr>\n",
       "  </tbody>\n",
       "</table>\n",
       "</div>"
      ],
      "text/plain": [
       "                   dvd\n",
       "date                  \n",
       "May 1, 2023    0.33000\n",
       "Apr 3, 2023    0.67172\n",
       "Mar 1, 2023    1.12135\n",
       "Feb 1, 2023    1.48984\n",
       "Dec 15, 2022   1.88617\n",
       "Dec 1, 2022    2.20540\n",
       "Nov 1, 2022    2.48539\n",
       "Oct 3, 2022    2.83642\n",
       "Sep 1, 2022    3.20245\n",
       "Aug 1, 2022    3.50628\n",
       "Jul 1, 2022    3.83546\n",
       "Jun 1, 2022    4.14238\n",
       "May 2, 2022    4.44741\n",
       "Apr 1, 2022    4.78097\n",
       "Mar 1, 2022    5.08844\n",
       "Feb 1, 2022    5.39382\n",
       "Dec 16, 2021   5.69005\n",
       "Dec 1, 2021    5.97156\n",
       "Nov 1, 2021    6.24866\n",
       "Oct 1, 2021    6.53811\n",
       "Sep 1, 2021    6.81319\n",
       "Aug 2, 2021    7.09607\n",
       "Jul 1, 2021    7.38759\n",
       "Jun 1, 2021    7.67852\n",
       "May 3, 2021    7.97246\n",
       "Apr 1, 2021    8.26601\n",
       "Mar 1, 2021    8.57285\n",
       "Feb 1, 2021    8.89109\n",
       "Dec 17, 2020   9.25024\n",
       "Dec 1, 2020    9.59165\n",
       "Nov 2, 2020    9.95067\n",
       "Oct 1, 2020   10.30807\n",
       "Sep 1, 2020   10.64876\n",
       "Aug 3, 2020   10.98930\n",
       "Jul 1, 2020   11.33273\n",
       "Jun 1, 2020   11.65330\n",
       "May 1, 2020   12.02214\n",
       "Apr 1, 2020   12.40751\n",
       "Mar 2, 2020   12.78749\n",
       "Feb 3, 2020   13.15332\n",
       "Dec 19, 2019  13.46754\n",
       "Dec 2, 2019   13.80831\n",
       "Nov 1, 2019   14.16949\n",
       "Oct 1, 2019   14.51951\n",
       "Sep 3, 2019   14.89050\n",
       "Aug 1, 2019   15.25769\n",
       "Jul 1, 2019   15.64352\n",
       "Jun 3, 2019   16.02944\n",
       "May 1, 2019   16.39582\n",
       "Apr 1, 2019   16.77453"
      ]
     },
     "execution_count": 40,
     "metadata": {},
     "output_type": "execute_result"
    }
   ],
   "source": [
    "outer_dvd.cumsum().head(50)"
   ]
  },
  {
   "cell_type": "code",
   "execution_count": 45,
   "id": "b455eb58",
   "metadata": {},
   "outputs": [
    {
     "data": {
      "text/html": [
       "<div>\n",
       "<style scoped>\n",
       "    .dataframe tbody tr th:only-of-type {\n",
       "        vertical-align: middle;\n",
       "    }\n",
       "\n",
       "    .dataframe tbody tr th {\n",
       "        vertical-align: top;\n",
       "    }\n",
       "\n",
       "    .dataframe thead th {\n",
       "        text-align: right;\n",
       "    }\n",
       "</style>\n",
       "<table border=\"1\" class=\"dataframe\">\n",
       "  <thead>\n",
       "    <tr style=\"text-align: right;\">\n",
       "      <th></th>\n",
       "      <th>Open</th>\n",
       "      <th>High</th>\n",
       "      <th>Low</th>\n",
       "      <th>Close</th>\n",
       "      <th>Adj Close</th>\n",
       "      <th>Volume</th>\n",
       "    </tr>\n",
       "    <tr>\n",
       "      <th>Date</th>\n",
       "      <th></th>\n",
       "      <th></th>\n",
       "      <th></th>\n",
       "      <th></th>\n",
       "      <th></th>\n",
       "      <th></th>\n",
       "    </tr>\n",
       "  </thead>\n",
       "  <tbody>\n",
       "    <tr>\n",
       "      <th>2022-06-01</th>\n",
       "      <td>79.230003</td>\n",
       "      <td>79.449997</td>\n",
       "      <td>78.750000</td>\n",
       "      <td>78.900002</td>\n",
       "      <td>74.955986</td>\n",
       "      <td>87646100</td>\n",
       "    </tr>\n",
       "    <tr>\n",
       "      <th>2022-06-02</th>\n",
       "      <td>78.919998</td>\n",
       "      <td>79.239998</td>\n",
       "      <td>78.690002</td>\n",
       "      <td>79.230003</td>\n",
       "      <td>75.269508</td>\n",
       "      <td>34752500</td>\n",
       "    </tr>\n",
       "    <tr>\n",
       "      <th>2022-06-03</th>\n",
       "      <td>78.870003</td>\n",
       "      <td>78.870003</td>\n",
       "      <td>78.519997</td>\n",
       "      <td>78.639999</td>\n",
       "      <td>74.708992</td>\n",
       "      <td>36008000</td>\n",
       "    </tr>\n",
       "    <tr>\n",
       "      <th>2022-06-06</th>\n",
       "      <td>78.779999</td>\n",
       "      <td>78.800003</td>\n",
       "      <td>77.959999</td>\n",
       "      <td>78.050003</td>\n",
       "      <td>74.148491</td>\n",
       "      <td>35756100</td>\n",
       "    </tr>\n",
       "    <tr>\n",
       "      <th>2022-06-07</th>\n",
       "      <td>77.790001</td>\n",
       "      <td>78.320000</td>\n",
       "      <td>77.730003</td>\n",
       "      <td>78.230003</td>\n",
       "      <td>74.319496</td>\n",
       "      <td>31499900</td>\n",
       "    </tr>\n",
       "    <tr>\n",
       "      <th>...</th>\n",
       "      <td>...</td>\n",
       "      <td>...</td>\n",
       "      <td>...</td>\n",
       "      <td>...</td>\n",
       "      <td>...</td>\n",
       "      <td>...</td>\n",
       "    </tr>\n",
       "    <tr>\n",
       "      <th>2023-05-04</th>\n",
       "      <td>74.379997</td>\n",
       "      <td>74.410004</td>\n",
       "      <td>74.089996</td>\n",
       "      <td>74.360001</td>\n",
       "      <td>74.360001</td>\n",
       "      <td>45207600</td>\n",
       "    </tr>\n",
       "    <tr>\n",
       "      <th>2023-05-05</th>\n",
       "      <td>74.580002</td>\n",
       "      <td>74.860001</td>\n",
       "      <td>74.480003</td>\n",
       "      <td>74.760002</td>\n",
       "      <td>74.760002</td>\n",
       "      <td>31591500</td>\n",
       "    </tr>\n",
       "    <tr>\n",
       "      <th>2023-05-08</th>\n",
       "      <td>74.699997</td>\n",
       "      <td>74.699997</td>\n",
       "      <td>74.379997</td>\n",
       "      <td>74.550003</td>\n",
       "      <td>74.550003</td>\n",
       "      <td>18367400</td>\n",
       "    </tr>\n",
       "    <tr>\n",
       "      <th>2023-05-09</th>\n",
       "      <td>74.349998</td>\n",
       "      <td>74.480003</td>\n",
       "      <td>74.269997</td>\n",
       "      <td>74.360001</td>\n",
       "      <td>74.360001</td>\n",
       "      <td>21732900</td>\n",
       "    </tr>\n",
       "    <tr>\n",
       "      <th>2023-05-10</th>\n",
       "      <td>74.769997</td>\n",
       "      <td>74.919998</td>\n",
       "      <td>74.529999</td>\n",
       "      <td>74.809998</td>\n",
       "      <td>74.809998</td>\n",
       "      <td>35392700</td>\n",
       "    </tr>\n",
       "  </tbody>\n",
       "</table>\n",
       "<p>237 rows × 6 columns</p>\n",
       "</div>"
      ],
      "text/plain": [
       "                 Open       High        Low      Close  Adj Close    Volume\n",
       "Date                                                                       \n",
       "2022-06-01  79.230003  79.449997  78.750000  78.900002  74.955986  87646100\n",
       "2022-06-02  78.919998  79.239998  78.690002  79.230003  75.269508  34752500\n",
       "2022-06-03  78.870003  78.870003  78.519997  78.639999  74.708992  36008000\n",
       "2022-06-06  78.779999  78.800003  77.959999  78.050003  74.148491  35756100\n",
       "2022-06-07  77.790001  78.320000  77.730003  78.230003  74.319496  31499900\n",
       "...               ...        ...        ...        ...        ...       ...\n",
       "2023-05-04  74.379997  74.410004  74.089996  74.360001  74.360001  45207600\n",
       "2023-05-05  74.580002  74.860001  74.480003  74.760002  74.760002  31591500\n",
       "2023-05-08  74.699997  74.699997  74.379997  74.550003  74.550003  18367400\n",
       "2023-05-09  74.349998  74.480003  74.269997  74.360001  74.360001  21732900\n",
       "2023-05-10  74.769997  74.919998  74.529999  74.809998  74.809998  35392700\n",
       "\n",
       "[237 rows x 6 columns]"
      ]
     },
     "execution_count": 45,
     "metadata": {},
     "output_type": "execute_result"
    }
   ],
   "source": [
    "ohlc.loc[idx[pd.Timestamp('2022-06-01'):]]"
   ]
  },
  {
   "cell_type": "code",
   "execution_count": 34,
   "id": "9d263eed",
   "metadata": {},
   "outputs": [
    {
     "data": {
      "text/html": [
       "<div>\n",
       "<style scoped>\n",
       "    .dataframe tbody tr th:only-of-type {\n",
       "        vertical-align: middle;\n",
       "    }\n",
       "\n",
       "    .dataframe tbody tr th {\n",
       "        vertical-align: top;\n",
       "    }\n",
       "\n",
       "    .dataframe thead th {\n",
       "        text-align: right;\n",
       "    }\n",
       "</style>\n",
       "<table border=\"1\" class=\"dataframe\">\n",
       "  <thead>\n",
       "    <tr style=\"text-align: right;\">\n",
       "      <th></th>\n",
       "      <th>dvd</th>\n",
       "    </tr>\n",
       "    <tr>\n",
       "      <th>date</th>\n",
       "      <th></th>\n",
       "    </tr>\n",
       "  </thead>\n",
       "  <tbody>\n",
       "    <tr>\n",
       "      <th>Sep 3, 2013</th>\n",
       "      <td>0.47999</td>\n",
       "    </tr>\n",
       "    <tr>\n",
       "      <th>Dec 26, 2013</th>\n",
       "      <td>0.46727</td>\n",
       "    </tr>\n",
       "    <tr>\n",
       "      <th>Mar 3, 2014</th>\n",
       "      <td>0.46328</td>\n",
       "    </tr>\n",
       "    <tr>\n",
       "      <th>Feb 3, 2014</th>\n",
       "      <td>0.46152</td>\n",
       "    </tr>\n",
       "    <tr>\n",
       "      <th>Aug 1, 2013</th>\n",
       "      <td>0.45307</td>\n",
       "    </tr>\n",
       "    <tr>\n",
       "      <th>...</th>\n",
       "      <td>...</td>\n",
       "    </tr>\n",
       "    <tr>\n",
       "      <th>Aug 2, 2021</th>\n",
       "      <td>0.28288</td>\n",
       "    </tr>\n",
       "    <tr>\n",
       "      <th>Dec 1, 2021</th>\n",
       "      <td>0.28151</td>\n",
       "    </tr>\n",
       "    <tr>\n",
       "      <th>Nov 1, 2022</th>\n",
       "      <td>0.27999</td>\n",
       "    </tr>\n",
       "    <tr>\n",
       "      <th>Nov 1, 2021</th>\n",
       "      <td>0.27710</td>\n",
       "    </tr>\n",
       "    <tr>\n",
       "      <th>Sep 1, 2021</th>\n",
       "      <td>0.27508</td>\n",
       "    </tr>\n",
       "  </tbody>\n",
       "</table>\n",
       "<p>118 rows × 1 columns</p>\n",
       "</div>"
      ],
      "text/plain": [
       "                  dvd\n",
       "date                 \n",
       "Sep 3, 2013   0.47999\n",
       "Dec 26, 2013  0.46727\n",
       "Mar 3, 2014   0.46328\n",
       "Feb 3, 2014   0.46152\n",
       "Aug 1, 2013   0.45307\n",
       "...               ...\n",
       "Aug 2, 2021   0.28288\n",
       "Dec 1, 2021   0.28151\n",
       "Nov 1, 2022   0.27999\n",
       "Nov 1, 2021   0.27710\n",
       "Sep 1, 2021   0.27508\n",
       "\n",
       "[118 rows x 1 columns]"
      ]
     },
     "execution_count": 34,
     "metadata": {},
     "output_type": "execute_result"
    }
   ],
   "source": [
    "outer_dvd.sort_values('dvd', ascending=False)"
   ]
  },
  {
   "cell_type": "code",
   "execution_count": null,
   "id": "7cdd49e6",
   "metadata": {},
   "outputs": [],
   "source": []
  },
  {
   "cell_type": "code",
   "execution_count": 22,
   "id": "0d2c4d61",
   "metadata": {},
   "outputs": [
    {
     "name": "stderr",
     "output_type": "stream",
     "text": [
      "/var/folders/df/58mn713n66n7_8qfjg_nl_qw0000gn/T/ipykernel_34364/1992152525.py:1: FutureWarning: Indexing a timezone-naive DatetimeIndex with a timezone-aware datetime is deprecated and will raise KeyError in a future version.  Use a timezone-naive object instead.\n",
      "  ohlc.loc[dvd.index[0]]\n"
     ]
    },
    {
     "ename": "KeyError",
     "evalue": "Timestamp('2007-05-01 00:00:00-0400', tz='America/New_York')",
     "output_type": "error",
     "traceback": [
      "\u001b[0;31m---------------------------------------------------------------------------\u001b[0m",
      "\u001b[0;31mKeyError\u001b[0m                                  Traceback (most recent call last)",
      "\u001b[0;32m~/miniforge3/envs/kaggle_env/lib/python3.8/site-packages/pandas/_libs/index.pyx\u001b[0m in \u001b[0;36mpandas._libs.index.DatetimeEngine.get_loc\u001b[0;34m()\u001b[0m\n",
      "\u001b[0;32mpandas/_libs/hashtable_class_helper.pxi\u001b[0m in \u001b[0;36mpandas._libs.hashtable.Int64HashTable.get_item\u001b[0;34m()\u001b[0m\n",
      "\u001b[0;32mpandas/_libs/hashtable_class_helper.pxi\u001b[0m in \u001b[0;36mpandas._libs.hashtable.Int64HashTable.get_item\u001b[0;34m()\u001b[0m\n",
      "\u001b[0;31mKeyError\u001b[0m: 1177992000000000000",
      "\nDuring handling of the above exception, another exception occurred:\n",
      "\u001b[0;31mKeyError\u001b[0m                                  Traceback (most recent call last)",
      "\u001b[0;32m~/miniforge3/envs/kaggle_env/lib/python3.8/site-packages/pandas/core/indexes/base.py\u001b[0m in \u001b[0;36mget_loc\u001b[0;34m(self, key, method, tolerance)\u001b[0m\n\u001b[1;32m   3802\u001b[0m             \u001b[0;32mtry\u001b[0m\u001b[0;34m:\u001b[0m\u001b[0;34m\u001b[0m\u001b[0;34m\u001b[0m\u001b[0m\n\u001b[0;32m-> 3803\u001b[0;31m                 \u001b[0;32mreturn\u001b[0m \u001b[0mself\u001b[0m\u001b[0;34m.\u001b[0m\u001b[0m_engine\u001b[0m\u001b[0;34m.\u001b[0m\u001b[0mget_loc\u001b[0m\u001b[0;34m(\u001b[0m\u001b[0mcasted_key\u001b[0m\u001b[0;34m)\u001b[0m\u001b[0;34m\u001b[0m\u001b[0;34m\u001b[0m\u001b[0m\n\u001b[0m\u001b[1;32m   3804\u001b[0m             \u001b[0;32mexcept\u001b[0m \u001b[0mKeyError\u001b[0m \u001b[0;32mas\u001b[0m \u001b[0merr\u001b[0m\u001b[0;34m:\u001b[0m\u001b[0;34m\u001b[0m\u001b[0;34m\u001b[0m\u001b[0m\n",
      "\u001b[0;32m~/miniforge3/envs/kaggle_env/lib/python3.8/site-packages/pandas/_libs/index.pyx\u001b[0m in \u001b[0;36mpandas._libs.index.DatetimeEngine.get_loc\u001b[0;34m()\u001b[0m\n",
      "\u001b[0;32m~/miniforge3/envs/kaggle_env/lib/python3.8/site-packages/pandas/_libs/index.pyx\u001b[0m in \u001b[0;36mpandas._libs.index.DatetimeEngine.get_loc\u001b[0;34m()\u001b[0m\n",
      "\u001b[0;31mKeyError\u001b[0m: Timestamp('2007-05-01 04:00:00')",
      "\nThe above exception was the direct cause of the following exception:\n",
      "\u001b[0;31mKeyError\u001b[0m                                  Traceback (most recent call last)",
      "\u001b[0;32m~/miniforge3/envs/kaggle_env/lib/python3.8/site-packages/pandas/core/indexes/datetimes.py\u001b[0m in \u001b[0;36mget_loc\u001b[0;34m(self, key, method, tolerance)\u001b[0m\n\u001b[1;32m    735\u001b[0m         \u001b[0;32mtry\u001b[0m\u001b[0;34m:\u001b[0m\u001b[0;34m\u001b[0m\u001b[0;34m\u001b[0m\u001b[0m\n\u001b[0;32m--> 736\u001b[0;31m             \u001b[0;32mreturn\u001b[0m \u001b[0mIndex\u001b[0m\u001b[0;34m.\u001b[0m\u001b[0mget_loc\u001b[0m\u001b[0;34m(\u001b[0m\u001b[0mself\u001b[0m\u001b[0;34m,\u001b[0m \u001b[0mkey\u001b[0m\u001b[0;34m,\u001b[0m \u001b[0mmethod\u001b[0m\u001b[0;34m,\u001b[0m \u001b[0mtolerance\u001b[0m\u001b[0;34m)\u001b[0m\u001b[0;34m\u001b[0m\u001b[0;34m\u001b[0m\u001b[0m\n\u001b[0m\u001b[1;32m    737\u001b[0m         \u001b[0;32mexcept\u001b[0m \u001b[0mKeyError\u001b[0m \u001b[0;32mas\u001b[0m \u001b[0merr\u001b[0m\u001b[0;34m:\u001b[0m\u001b[0;34m\u001b[0m\u001b[0;34m\u001b[0m\u001b[0m\n",
      "\u001b[0;32m~/miniforge3/envs/kaggle_env/lib/python3.8/site-packages/pandas/core/indexes/base.py\u001b[0m in \u001b[0;36mget_loc\u001b[0;34m(self, key, method, tolerance)\u001b[0m\n\u001b[1;32m   3804\u001b[0m             \u001b[0;32mexcept\u001b[0m \u001b[0mKeyError\u001b[0m \u001b[0;32mas\u001b[0m \u001b[0merr\u001b[0m\u001b[0;34m:\u001b[0m\u001b[0;34m\u001b[0m\u001b[0;34m\u001b[0m\u001b[0m\n\u001b[0;32m-> 3805\u001b[0;31m                 \u001b[0;32mraise\u001b[0m \u001b[0mKeyError\u001b[0m\u001b[0;34m(\u001b[0m\u001b[0mkey\u001b[0m\u001b[0;34m)\u001b[0m \u001b[0;32mfrom\u001b[0m \u001b[0merr\u001b[0m\u001b[0;34m\u001b[0m\u001b[0;34m\u001b[0m\u001b[0m\n\u001b[0m\u001b[1;32m   3806\u001b[0m             \u001b[0;32mexcept\u001b[0m \u001b[0mTypeError\u001b[0m\u001b[0;34m:\u001b[0m\u001b[0;34m\u001b[0m\u001b[0;34m\u001b[0m\u001b[0m\n",
      "\u001b[0;31mKeyError\u001b[0m: Timestamp('2007-05-01 04:00:00')",
      "\nThe above exception was the direct cause of the following exception:\n",
      "\u001b[0;31mKeyError\u001b[0m                                  Traceback (most recent call last)",
      "\u001b[0;32m/var/folders/df/58mn713n66n7_8qfjg_nl_qw0000gn/T/ipykernel_34364/1992152525.py\u001b[0m in \u001b[0;36m<module>\u001b[0;34m\u001b[0m\n\u001b[0;32m----> 1\u001b[0;31m \u001b[0mohlc\u001b[0m\u001b[0;34m.\u001b[0m\u001b[0mloc\u001b[0m\u001b[0;34m[\u001b[0m\u001b[0mdvd\u001b[0m\u001b[0;34m.\u001b[0m\u001b[0mindex\u001b[0m\u001b[0;34m[\u001b[0m\u001b[0;36m0\u001b[0m\u001b[0;34m]\u001b[0m\u001b[0;34m]\u001b[0m\u001b[0;34m\u001b[0m\u001b[0;34m\u001b[0m\u001b[0m\n\u001b[0m",
      "\u001b[0;32m~/miniforge3/envs/kaggle_env/lib/python3.8/site-packages/pandas/core/indexing.py\u001b[0m in \u001b[0;36m__getitem__\u001b[0;34m(self, key)\u001b[0m\n\u001b[1;32m   1071\u001b[0m \u001b[0;34m\u001b[0m\u001b[0m\n\u001b[1;32m   1072\u001b[0m             \u001b[0mmaybe_callable\u001b[0m \u001b[0;34m=\u001b[0m \u001b[0mcom\u001b[0m\u001b[0;34m.\u001b[0m\u001b[0mapply_if_callable\u001b[0m\u001b[0;34m(\u001b[0m\u001b[0mkey\u001b[0m\u001b[0;34m,\u001b[0m \u001b[0mself\u001b[0m\u001b[0;34m.\u001b[0m\u001b[0mobj\u001b[0m\u001b[0;34m)\u001b[0m\u001b[0;34m\u001b[0m\u001b[0;34m\u001b[0m\u001b[0m\n\u001b[0;32m-> 1073\u001b[0;31m             \u001b[0;32mreturn\u001b[0m \u001b[0mself\u001b[0m\u001b[0;34m.\u001b[0m\u001b[0m_getitem_axis\u001b[0m\u001b[0;34m(\u001b[0m\u001b[0mmaybe_callable\u001b[0m\u001b[0;34m,\u001b[0m \u001b[0maxis\u001b[0m\u001b[0;34m=\u001b[0m\u001b[0maxis\u001b[0m\u001b[0;34m)\u001b[0m\u001b[0;34m\u001b[0m\u001b[0;34m\u001b[0m\u001b[0m\n\u001b[0m\u001b[1;32m   1074\u001b[0m \u001b[0;34m\u001b[0m\u001b[0m\n\u001b[1;32m   1075\u001b[0m     \u001b[0;32mdef\u001b[0m \u001b[0m_is_scalar_access\u001b[0m\u001b[0;34m(\u001b[0m\u001b[0mself\u001b[0m\u001b[0;34m,\u001b[0m \u001b[0mkey\u001b[0m\u001b[0;34m:\u001b[0m \u001b[0mtuple\u001b[0m\u001b[0;34m)\u001b[0m\u001b[0;34m:\u001b[0m\u001b[0;34m\u001b[0m\u001b[0;34m\u001b[0m\u001b[0m\n",
      "\u001b[0;32m~/miniforge3/envs/kaggle_env/lib/python3.8/site-packages/pandas/core/indexing.py\u001b[0m in \u001b[0;36m_getitem_axis\u001b[0;34m(self, key, axis)\u001b[0m\n\u001b[1;32m   1310\u001b[0m         \u001b[0;31m# fall thru to straight lookup\u001b[0m\u001b[0;34m\u001b[0m\u001b[0;34m\u001b[0m\u001b[0;34m\u001b[0m\u001b[0m\n\u001b[1;32m   1311\u001b[0m         \u001b[0mself\u001b[0m\u001b[0;34m.\u001b[0m\u001b[0m_validate_key\u001b[0m\u001b[0;34m(\u001b[0m\u001b[0mkey\u001b[0m\u001b[0;34m,\u001b[0m \u001b[0maxis\u001b[0m\u001b[0;34m)\u001b[0m\u001b[0;34m\u001b[0m\u001b[0;34m\u001b[0m\u001b[0m\n\u001b[0;32m-> 1312\u001b[0;31m         \u001b[0;32mreturn\u001b[0m \u001b[0mself\u001b[0m\u001b[0;34m.\u001b[0m\u001b[0m_get_label\u001b[0m\u001b[0;34m(\u001b[0m\u001b[0mkey\u001b[0m\u001b[0;34m,\u001b[0m \u001b[0maxis\u001b[0m\u001b[0;34m=\u001b[0m\u001b[0maxis\u001b[0m\u001b[0;34m)\u001b[0m\u001b[0;34m\u001b[0m\u001b[0;34m\u001b[0m\u001b[0m\n\u001b[0m\u001b[1;32m   1313\u001b[0m \u001b[0;34m\u001b[0m\u001b[0m\n\u001b[1;32m   1314\u001b[0m     \u001b[0;32mdef\u001b[0m \u001b[0m_get_slice_axis\u001b[0m\u001b[0;34m(\u001b[0m\u001b[0mself\u001b[0m\u001b[0;34m,\u001b[0m \u001b[0mslice_obj\u001b[0m\u001b[0;34m:\u001b[0m \u001b[0mslice\u001b[0m\u001b[0;34m,\u001b[0m \u001b[0maxis\u001b[0m\u001b[0;34m:\u001b[0m \u001b[0mint\u001b[0m\u001b[0;34m)\u001b[0m\u001b[0;34m:\u001b[0m\u001b[0;34m\u001b[0m\u001b[0;34m\u001b[0m\u001b[0m\n",
      "\u001b[0;32m~/miniforge3/envs/kaggle_env/lib/python3.8/site-packages/pandas/core/indexing.py\u001b[0m in \u001b[0;36m_get_label\u001b[0;34m(self, label, axis)\u001b[0m\n\u001b[1;32m   1258\u001b[0m     \u001b[0;32mdef\u001b[0m \u001b[0m_get_label\u001b[0m\u001b[0;34m(\u001b[0m\u001b[0mself\u001b[0m\u001b[0;34m,\u001b[0m \u001b[0mlabel\u001b[0m\u001b[0;34m,\u001b[0m \u001b[0maxis\u001b[0m\u001b[0;34m:\u001b[0m \u001b[0mint\u001b[0m\u001b[0;34m)\u001b[0m\u001b[0;34m:\u001b[0m\u001b[0;34m\u001b[0m\u001b[0;34m\u001b[0m\u001b[0m\n\u001b[1;32m   1259\u001b[0m         \u001b[0;31m# GH#5567 this will fail if the label is not present in the axis.\u001b[0m\u001b[0;34m\u001b[0m\u001b[0;34m\u001b[0m\u001b[0;34m\u001b[0m\u001b[0m\n\u001b[0;32m-> 1260\u001b[0;31m         \u001b[0;32mreturn\u001b[0m \u001b[0mself\u001b[0m\u001b[0;34m.\u001b[0m\u001b[0mobj\u001b[0m\u001b[0;34m.\u001b[0m\u001b[0mxs\u001b[0m\u001b[0;34m(\u001b[0m\u001b[0mlabel\u001b[0m\u001b[0;34m,\u001b[0m \u001b[0maxis\u001b[0m\u001b[0;34m=\u001b[0m\u001b[0maxis\u001b[0m\u001b[0;34m)\u001b[0m\u001b[0;34m\u001b[0m\u001b[0;34m\u001b[0m\u001b[0m\n\u001b[0m\u001b[1;32m   1261\u001b[0m \u001b[0;34m\u001b[0m\u001b[0m\n\u001b[1;32m   1262\u001b[0m     \u001b[0;32mdef\u001b[0m \u001b[0m_handle_lowerdim_multi_index_axis0\u001b[0m\u001b[0;34m(\u001b[0m\u001b[0mself\u001b[0m\u001b[0;34m,\u001b[0m \u001b[0mtup\u001b[0m\u001b[0;34m:\u001b[0m \u001b[0mtuple\u001b[0m\u001b[0;34m)\u001b[0m\u001b[0;34m:\u001b[0m\u001b[0;34m\u001b[0m\u001b[0;34m\u001b[0m\u001b[0m\n",
      "\u001b[0;32m~/miniforge3/envs/kaggle_env/lib/python3.8/site-packages/pandas/core/generic.py\u001b[0m in \u001b[0;36mxs\u001b[0;34m(self, key, axis, level, drop_level)\u001b[0m\n\u001b[1;32m   4054\u001b[0m                     \u001b[0mnew_index\u001b[0m \u001b[0;34m=\u001b[0m \u001b[0mindex\u001b[0m\u001b[0;34m[\u001b[0m\u001b[0mloc\u001b[0m\u001b[0;34m]\u001b[0m\u001b[0;34m\u001b[0m\u001b[0;34m\u001b[0m\u001b[0m\n\u001b[1;32m   4055\u001b[0m         \u001b[0;32melse\u001b[0m\u001b[0;34m:\u001b[0m\u001b[0;34m\u001b[0m\u001b[0;34m\u001b[0m\u001b[0m\n\u001b[0;32m-> 4056\u001b[0;31m             \u001b[0mloc\u001b[0m \u001b[0;34m=\u001b[0m \u001b[0mindex\u001b[0m\u001b[0;34m.\u001b[0m\u001b[0mget_loc\u001b[0m\u001b[0;34m(\u001b[0m\u001b[0mkey\u001b[0m\u001b[0;34m)\u001b[0m\u001b[0;34m\u001b[0m\u001b[0;34m\u001b[0m\u001b[0m\n\u001b[0m\u001b[1;32m   4057\u001b[0m \u001b[0;34m\u001b[0m\u001b[0m\n\u001b[1;32m   4058\u001b[0m             \u001b[0;32mif\u001b[0m \u001b[0misinstance\u001b[0m\u001b[0;34m(\u001b[0m\u001b[0mloc\u001b[0m\u001b[0;34m,\u001b[0m \u001b[0mnp\u001b[0m\u001b[0;34m.\u001b[0m\u001b[0mndarray\u001b[0m\u001b[0;34m)\u001b[0m\u001b[0;34m:\u001b[0m\u001b[0;34m\u001b[0m\u001b[0;34m\u001b[0m\u001b[0m\n",
      "\u001b[0;32m~/miniforge3/envs/kaggle_env/lib/python3.8/site-packages/pandas/core/indexes/datetimes.py\u001b[0m in \u001b[0;36mget_loc\u001b[0;34m(self, key, method, tolerance)\u001b[0m\n\u001b[1;32m    736\u001b[0m             \u001b[0;32mreturn\u001b[0m \u001b[0mIndex\u001b[0m\u001b[0;34m.\u001b[0m\u001b[0mget_loc\u001b[0m\u001b[0;34m(\u001b[0m\u001b[0mself\u001b[0m\u001b[0;34m,\u001b[0m \u001b[0mkey\u001b[0m\u001b[0;34m,\u001b[0m \u001b[0mmethod\u001b[0m\u001b[0;34m,\u001b[0m \u001b[0mtolerance\u001b[0m\u001b[0;34m)\u001b[0m\u001b[0;34m\u001b[0m\u001b[0;34m\u001b[0m\u001b[0m\n\u001b[1;32m    737\u001b[0m         \u001b[0;32mexcept\u001b[0m \u001b[0mKeyError\u001b[0m \u001b[0;32mas\u001b[0m \u001b[0merr\u001b[0m\u001b[0;34m:\u001b[0m\u001b[0;34m\u001b[0m\u001b[0;34m\u001b[0m\u001b[0m\n\u001b[0;32m--> 738\u001b[0;31m             \u001b[0;32mraise\u001b[0m \u001b[0mKeyError\u001b[0m\u001b[0;34m(\u001b[0m\u001b[0morig_key\u001b[0m\u001b[0;34m)\u001b[0m \u001b[0;32mfrom\u001b[0m \u001b[0merr\u001b[0m\u001b[0;34m\u001b[0m\u001b[0;34m\u001b[0m\u001b[0m\n\u001b[0m\u001b[1;32m    739\u001b[0m \u001b[0;34m\u001b[0m\u001b[0m\n\u001b[1;32m    740\u001b[0m     \u001b[0;32mdef\u001b[0m \u001b[0m_maybe_cast_for_get_loc\u001b[0m\u001b[0;34m(\u001b[0m\u001b[0mself\u001b[0m\u001b[0;34m,\u001b[0m \u001b[0mkey\u001b[0m\u001b[0;34m)\u001b[0m \u001b[0;34m->\u001b[0m \u001b[0mTimestamp\u001b[0m\u001b[0;34m:\u001b[0m\u001b[0;34m\u001b[0m\u001b[0;34m\u001b[0m\u001b[0m\n",
      "\u001b[0;31mKeyError\u001b[0m: Timestamp('2007-05-01 00:00:00-0400', tz='America/New_York')"
     ]
    }
   ],
   "source": [
    "ohlc.loc[dvd.index[0]]"
   ]
  },
  {
   "cell_type": "code",
   "execution_count": 14,
   "id": "5fd06e14",
   "metadata": {},
   "outputs": [
    {
     "data": {
      "text/plain": [
       "0.044877543350785816"
      ]
     },
     "execution_count": 14,
     "metadata": {},
     "output_type": "execute_result"
    }
   ],
   "source": [
    "3.903 / 86.97000122070312"
   ]
  },
  {
   "cell_type": "code",
   "execution_count": 4,
   "id": "d827f0cb-d767-4b10-a171-5c2ab6f4f809",
   "metadata": {},
   "outputs": [],
   "source": [
    "idx = pd.IndexSlice"
   ]
  },
  {
   "cell_type": "code",
   "execution_count": 7,
   "id": "9b8645c5",
   "metadata": {},
   "outputs": [
    {
     "data": {
      "text/plain": [
       "Date\n",
       "2023-05-01 00:00:00-04:00    0.326\n",
       "2023-04-03 00:00:00-04:00    0.342\n",
       "2023-03-01 00:00:00-05:00    0.450\n",
       "2023-02-01 00:00:00-05:00    0.368\n",
       "2022-12-15 00:00:00-05:00    0.396\n",
       "2022-12-01 00:00:00-05:00    0.319\n",
       "2022-11-01 00:00:00-04:00    0.280\n",
       "2022-10-03 00:00:00-04:00    0.351\n",
       "2022-09-01 00:00:00-04:00    0.366\n",
       "2022-08-01 00:00:00-04:00    0.304\n",
       "2022-07-01 00:00:00-04:00    0.329\n",
       "2022-06-01 00:00:00-04:00    0.307\n",
       "2022-05-02 00:00:00-04:00    0.305\n",
       "2022-04-01 00:00:00-04:00    0.334\n",
       "2022-03-01 00:00:00-05:00    0.307\n",
       "2022-02-01 00:00:00-05:00    0.305\n",
       "2021-12-16 00:00:00-05:00    0.296\n",
       "2021-12-01 00:00:00-05:00    0.282\n",
       "2021-11-01 00:00:00-04:00    0.277\n",
       "2021-10-01 00:00:00-04:00    0.289\n",
       "Name: Dividends, dtype: float64"
      ]
     },
     "execution_count": 7,
     "metadata": {},
     "output_type": "execute_result"
    }
   ],
   "source": [
    "hyg.dividends.sort_index(ascending=False).head(20)"
   ]
  },
  {
   "cell_type": "code",
   "execution_count": 5,
   "id": "76af83b0-292e-440b-abd3-aeb16ff01b89",
   "metadata": {},
   "outputs": [
    {
     "data": {
      "text/plain": [
       "Date\n",
       "2007-12-31 00:00:00-05:00    5.267\n",
       "2008-12-31 00:00:00-05:00    7.660\n",
       "2009-12-31 00:00:00-05:00    8.331\n",
       "2010-12-31 00:00:00-05:00    7.450\n",
       "2011-12-31 00:00:00-05:00    6.721\n",
       "2012-12-31 00:00:00-05:00    5.650\n",
       "2013-12-31 00:00:00-05:00    5.665\n",
       "2014-12-31 00:00:00-05:00    5.096\n",
       "2015-12-31 00:00:00-05:00    4.756\n",
       "2016-12-31 00:00:00-05:00    4.563\n",
       "2017-12-31 00:00:00-05:00    4.470\n",
       "2018-12-31 00:00:00-05:00    4.493\n",
       "2019-12-31 00:00:00-05:00    4.392\n",
       "2020-12-31 00:00:00-05:00    4.262\n",
       "2021-12-31 00:00:00-05:00    3.498\n",
       "2022-12-31 00:00:00-05:00    3.903\n",
       "2023-12-31 00:00:00-05:00    1.486\n",
       "Freq: A-DEC, Name: Dividends, dtype: float64"
      ]
     },
     "execution_count": 5,
     "metadata": {},
     "output_type": "execute_result"
    }
   ],
   "source": [
    "hyg.dividends.groupby(pd.Grouper(freq='Y')).sum()"
   ]
  }
 ],
 "metadata": {
  "kernelspec": {
   "display_name": "Python 3 (ipykernel)",
   "language": "python",
   "name": "python3"
  },
  "language_info": {
   "codemirror_mode": {
    "name": "ipython",
    "version": 3
   },
   "file_extension": ".py",
   "mimetype": "text/x-python",
   "name": "python",
   "nbconvert_exporter": "python",
   "pygments_lexer": "ipython3",
   "version": "3.8.12"
  }
 },
 "nbformat": 4,
 "nbformat_minor": 5
}
